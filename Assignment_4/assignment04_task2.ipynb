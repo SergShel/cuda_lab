{
 "cells": [
  {
   "cell_type": "code",
   "execution_count": 1,
   "metadata": {},
   "outputs": [],
   "source": [
    "import pandas as pd\n",
    "import numpy as np\n",
    "from PIL import Image\n",
    "import os\n",
    "import torch\n",
    "import torch.nn as nn\n",
    "from torch.utils.data import Dataset\n",
    "import torchvision.transforms as transforms\n",
    "from tqdm import tqdm\n",
    "import matplotlib.pyplot as plt\n",
    "plt.style.use('seaborn')"
   ]
  },
  {
   "cell_type": "code",
   "execution_count": null,
   "metadata": {},
   "outputs": [],
   "source": [
    "# check if CUDA is available\n",
    "use_cuda = torch.cuda.is_available()\n",
    "print(use_cuda)\n",
    "device = torch.device(\"cuda\" if torch.cuda.is_available() else \"cpu\")\n",
    "print(device)"
   ]
  },
  {
   "attachments": {},
   "cell_type": "markdown",
   "metadata": {},
   "source": [
    "#### Implement a model with convolution encoder, recurrent module and a classifier:"
   ]
  },
  {
   "cell_type": "code",
   "execution_count": 24,
   "metadata": {},
   "outputs": [],
   "source": [
    "class ConvBlock(nn.Module):\n",
    "    \"\"\"\n",
    "    Encapuslation of a convolutional block (conv + normalization + activation + pooling)\n",
    "    \"\"\"\n",
    "    def __init__(self, in_ch, out_ch, k_size, pool=False, norm=True):\n",
    "        super().__init__()\n",
    "        self.module = nn.Sequential()\n",
    "        self.module.add_module(\"Conv\", nn.Conv2d(in_ch, out_ch, k_size))\n",
    "        if norm:\n",
    "            self.module.add_module(\"Norm\", nn.BatchNorm2d(out_ch))\n",
    "        self.module.add_module(\"Act\", nn.ReLU())\n",
    "        if pool:\n",
    "            self.module.add_module(\"Pool\", nn.MaxPool2d(kernel_size=2))\n",
    "    \n",
    "    def forward(self, x):\n",
    "        y = self.module(x)\n",
    "        return y"
   ]
  },
  {
   "cell_type": "code",
   "execution_count": 28,
   "metadata": {},
   "outputs": [],
   "source": [
    "class ConvolutionalEncoder(nn.Module):\n",
    "    def __init__(self, in_ch, out_ch, k_size):\n",
    "        super().__init__()\n",
    "\n",
    "        self.model = nn.Sequential(\n",
    "            ConvBlock(in_ch, 16, k_size, pool=True),\n",
    "            ConvBlock(16, 32, k_size, pool=True),\n",
    "            ConvBlock(32, 64, k_size, pool=True),\n",
    "            ConvBlock(64, out_ch, k_size, pool=True),\n",
    "        )\n",
    "\n",
    "    def forward(self, x):\n",
    "        return self.model(x)"
   ]
  },
  {
   "cell_type": "code",
   "execution_count": 26,
   "metadata": {},
   "outputs": [],
   "source": [
    "class RecurrentModule(nn.Module):\n",
    "    def __init__(self, recurrent_cell, input_dim, hidden_dim, num_layers):\n",
    "        super().__init__()\n",
    "        self.hidden_size = hidden_dim\n",
    "        self.input_size = input_dim\n",
    "        rcells = []\n",
    "        for i in range(num_layers):\n",
    "            in_size = input_dim if i == 0 else hidden_dim\n",
    "            rcells.append(recurrent_cell(in_size, hidden_dim))\n",
    "        \n",
    "        self.num_layers = num_layers\n",
    "        self.cells = nn.ModuleList(rcells)\n",
    "    \n",
    "    def forward(self, x):\n",
    "        pass"
   ]
  },
  {
   "cell_type": "code",
   "execution_count": 6,
   "metadata": {},
   "outputs": [],
   "source": [
    "Conv_ENC_OUT = 128 * 2 * 2"
   ]
  },
  {
   "cell_type": "code",
   "execution_count": 7,
   "metadata": {},
   "outputs": [],
   "source": [
    "class ActionRecognition(nn.Module):\n",
    "    def __init__(self, recurrent_module, n_actions=6):\n",
    "        super().__init__()\n",
    "        self.encoder = ConvolutionalEncoder(3, 128, 3)\n",
    "        self.recurrent_module = recurrent_module\n",
    "        self.classifier = nn.Linear(self.recurrent_module.hidden_size, n_actions)\n",
    "    \n",
    "    def forward(self, x):\n",
    "        x = x.permute((1, 0, 2, 3, 4)).contiguous()\n",
    "        seq_len, b_size, n_channels, n_rows, n_cols = x.shape\n",
    "        h, c = self.init_state(mode=\"zeros\", b_size=b_size, device=x.device)\n",
    "\n",
    "        # iterating over sequence length\n",
    "        r_out = []\n",
    "\n",
    "        for i in range(seq_len):\n",
    "            r_input = self.encoder(x[i]).view(b_size, Conv_ENC_OUT)\n",
    "            # print(\"lstm input\", r_input.shape)\n",
    "            for j, cell in enumerate(self.recurrent_module.cells):\n",
    "                h[j], c[j] = cell(r_input, (h[j], c[j]))\n",
    "                r_input = h[j]\n",
    "            r_out.append(r_input)\n",
    "        \n",
    "        r_out = torch.stack(r_out, dim=1)\n",
    "\n",
    "        y = self.classifier(r_out[:, -1, :])\n",
    "\n",
    "        return y\n",
    "\n",
    "\n",
    "    \n",
    "    def init_state(self, mode, b_size, device):\n",
    "        \"\"\" Initializing hidden and cell state \"\"\"\n",
    "        if(mode == \"zeros\"):\n",
    "            h = [torch.zeros(b_size, self.recurrent_module.hidden_size).to(device) for _ in range(self.recurrent_module.num_layers)]\n",
    "            c = [torch.zeros(b_size, self.recurrent_module.hidden_size).to(device) for _ in range(self.recurrent_module.num_layers)]\n",
    "        elif(mode == \"random\"):\n",
    "            h = [torch.zeros(b_size, self.recurrent_module.hidden_size).to(device) for _ in range(self.recurrent_module.num_layers)]\n",
    "            c = [torch.zeros(b_size, self.recurrent_module.hidden_size).to(device) for _ in range(self.recurrent_module.num_layers)]\n",
    "        return h, c"
   ]
  },
  {
   "attachments": {},
   "cell_type": "markdown",
   "metadata": {},
   "source": [
    "#### Data Preparation and Exploration"
   ]
  },
  {
   "cell_type": "code",
   "execution_count": 2,
   "metadata": {},
   "outputs": [
    {
     "name": "stdout",
     "output_type": "stream",
     "text": [
      "--2022-12-29 10:56:47--  https://www.dropbox.com/s/07h7wtvau0ilr10/KTH_64.zip?dl=0\n",
      "Connecting to 10.7.5.1:3128... connected.\n",
      "Proxy request sent, awaiting response... 302 Found\n",
      "Location: /s/raw/07h7wtvau0ilr10/KTH_64.zip [following]\n",
      "--2022-12-29 10:56:47--  https://www.dropbox.com/s/raw/07h7wtvau0ilr10/KTH_64.zip\n",
      "Reusing existing connection to www.dropbox.com:443.\n",
      "Proxy request sent, awaiting response... 302 Found\n",
      "Location: https://uca7c0479b145aa4883ce1b61f24.dl.dropboxusercontent.com/cd/0/inline/Bzhowi9hNb7TYFj7oEyGbBVYts1Hr5w11EHZfzFTZVKGcVgBSVawxdTRhqyTPo57aNUmOvFhpmgrZrCT5eeIcl7GNms_wNLULMnJ17ofsArj-zAHFtdz0-RRSTRuO6jXH12-Yq3tLNZTQuaFGWTpILeKB0CQnBQnjhTnGJPcWQO6TQ/file# [following]\n",
      "--2022-12-29 10:56:48--  https://uca7c0479b145aa4883ce1b61f24.dl.dropboxusercontent.com/cd/0/inline/Bzhowi9hNb7TYFj7oEyGbBVYts1Hr5w11EHZfzFTZVKGcVgBSVawxdTRhqyTPo57aNUmOvFhpmgrZrCT5eeIcl7GNms_wNLULMnJ17ofsArj-zAHFtdz0-RRSTRuO6jXH12-Yq3tLNZTQuaFGWTpILeKB0CQnBQnjhTnGJPcWQO6TQ/file\n",
      "Connecting to 10.7.5.1:3128... connected.\n",
      "Proxy request sent, awaiting response... 302 Found\n",
      "Location: /cd/0/inline2/BzgFzwBBC5JJfX2pyO4K3tTtnE2dAykMO7qKPzgRbFCq4OcbwfHOdno-NUs4h7gXCcknkS2wEJjWeb6caBU7ws70lx_vBp9Ja8ib7-DjNchS33wa9KSNsTQSzspcEhPMYHkDv-iF913J2SO5vXRVcf48A7bmtw-DQn2kq9p6-cx-cf_zZs_ENWYB0b6KuAK8ZqGogzmG6OfI_ZnaS9g_N21_s80Ljdk9QnBO9xIJTaPaQAQ3cO3vulBWq9Hh5vy6QlHu5EXv9Ns5UiMJagkYDK9a1B0-pkqLqIgtWQPZAVdyh308sGYxiH9MTMcK0SPD2PHLirCPo0j8oms-EJMCZC6b2EjRYJXK0zBoUgL9tMZsuED7m6SJAjGZqzShrm4qLXka4TbrQ-qAgGOKvO-_EqQuPZEebvN1pqNqib8LZmH7vQ/file [following]\n",
      "--2022-12-29 10:56:49--  https://uca7c0479b145aa4883ce1b61f24.dl.dropboxusercontent.com/cd/0/inline2/BzgFzwBBC5JJfX2pyO4K3tTtnE2dAykMO7qKPzgRbFCq4OcbwfHOdno-NUs4h7gXCcknkS2wEJjWeb6caBU7ws70lx_vBp9Ja8ib7-DjNchS33wa9KSNsTQSzspcEhPMYHkDv-iF913J2SO5vXRVcf48A7bmtw-DQn2kq9p6-cx-cf_zZs_ENWYB0b6KuAK8ZqGogzmG6OfI_ZnaS9g_N21_s80Ljdk9QnBO9xIJTaPaQAQ3cO3vulBWq9Hh5vy6QlHu5EXv9Ns5UiMJagkYDK9a1B0-pkqLqIgtWQPZAVdyh308sGYxiH9MTMcK0SPD2PHLirCPo0j8oms-EJMCZC6b2EjRYJXK0zBoUgL9tMZsuED7m6SJAjGZqzShrm4qLXka4TbrQ-qAgGOKvO-_EqQuPZEebvN1pqNqib8LZmH7vQ/file\n",
      "Reusing existing connection to uca7c0479b145aa4883ce1b61f24.dl.dropboxusercontent.com:443.\n",
      "Proxy request sent, awaiting response... 200 OK\n",
      "Length: 2323275796 (2.2G) [application/zip]\n",
      "Saving to: ‘KTH_64.zip?dl=0’\n",
      "\n",
      "KTH_64.zip?dl=0     100%[===================>]   2.16G  20.3MB/s    in 1m 53s  \n",
      "\n",
      "2022-12-29 10:58:42 (19.6 MB/s) - ‘KTH_64.zip?dl=0’ saved [2323275796/2323275796]\n",
      "\n"
     ]
    }
   ],
   "source": [
    "!wget https://www.dropbox.com/s/07h7wtvau0ilr10/KTH_64.zip?dl=0"
   ]
  },
  {
   "cell_type": "code",
   "execution_count": 3,
   "metadata": {},
   "outputs": [],
   "source": [
    "%%capture\n",
    "!unzip KTH_64.zip\\?dl\\=0"
   ]
  },
  {
   "cell_type": "code",
   "execution_count": 10,
   "metadata": {},
   "outputs": [],
   "source": [
    "def get_sequences_df(filepath):\n",
    "\n",
    "    \"\"\"\n",
    "    Reads the sequences information from the txt file\n",
    "    and return a dataframe\n",
    "    \"\"\"\n",
    "\n",
    "    persons_dict = {\n",
    "        \"person\": [],\n",
    "        \"frame\": [],\n",
    "        \"label\": [],\n",
    "        \"path\": [],\n",
    "    }\n",
    "\n",
    "    with open(filepath) as f:\n",
    "        lines = f.readlines()\n",
    "    # sequences start after line 21 in the txt file\n",
    "    lines = lines[21:]\n",
    "    lines = [line.strip() for line in lines if line.strip()]\n",
    "\n",
    "    for line in lines:\n",
    "        line_split_list = line.split(\"\\t\")\n",
    "        person = line_split_list[0].split(\"_\")[0]\n",
    "        label = line_split_list[0].split(\"_\")[1]\n",
    "        frames = line_split_list[-1].split(\",\")\n",
    "        path = label + \"/\" + line_split_list[0]\n",
    "\n",
    "        for frame in frames:\n",
    "            persons_dict[\"person\"].append(person.strip())\n",
    "            persons_dict[\"frame\"].append(frame.strip())\n",
    "            persons_dict[\"label\"].append(label.strip())\n",
    "            persons_dict[\"path\"].append(path.strip())\n",
    "    \n",
    "    return pd.DataFrame.from_dict(persons_dict)\n"
   ]
  },
  {
   "cell_type": "code",
   "execution_count": 11,
   "metadata": {},
   "outputs": [],
   "source": [
    "dataframe = get_sequences_df(\"sequences.txt\")"
   ]
  },
  {
   "cell_type": "code",
   "execution_count": 12,
   "metadata": {},
   "outputs": [
    {
     "data": {
      "text/html": [
       "<div>\n",
       "<style scoped>\n",
       "    .dataframe tbody tr th:only-of-type {\n",
       "        vertical-align: middle;\n",
       "    }\n",
       "\n",
       "    .dataframe tbody tr th {\n",
       "        vertical-align: top;\n",
       "    }\n",
       "\n",
       "    .dataframe thead th {\n",
       "        text-align: right;\n",
       "    }\n",
       "</style>\n",
       "<table border=\"1\" class=\"dataframe\">\n",
       "  <thead>\n",
       "    <tr style=\"text-align: right;\">\n",
       "      <th></th>\n",
       "      <th>person</th>\n",
       "      <th>frame</th>\n",
       "      <th>label</th>\n",
       "      <th>path</th>\n",
       "    </tr>\n",
       "  </thead>\n",
       "  <tbody>\n",
       "    <tr>\n",
       "      <th>0</th>\n",
       "      <td>person01</td>\n",
       "      <td>1-95</td>\n",
       "      <td>boxing</td>\n",
       "      <td>boxing/person01_boxing_d1</td>\n",
       "    </tr>\n",
       "    <tr>\n",
       "      <th>1</th>\n",
       "      <td>person01</td>\n",
       "      <td>96-185</td>\n",
       "      <td>boxing</td>\n",
       "      <td>boxing/person01_boxing_d1</td>\n",
       "    </tr>\n",
       "    <tr>\n",
       "      <th>2</th>\n",
       "      <td>person01</td>\n",
       "      <td>186-245</td>\n",
       "      <td>boxing</td>\n",
       "      <td>boxing/person01_boxing_d1</td>\n",
       "    </tr>\n",
       "    <tr>\n",
       "      <th>3</th>\n",
       "      <td>person01</td>\n",
       "      <td>246-360</td>\n",
       "      <td>boxing</td>\n",
       "      <td>boxing/person01_boxing_d1</td>\n",
       "    </tr>\n",
       "    <tr>\n",
       "      <th>4</th>\n",
       "      <td>person01</td>\n",
       "      <td>1-106</td>\n",
       "      <td>boxing</td>\n",
       "      <td>boxing/person01_boxing_d2</td>\n",
       "    </tr>\n",
       "  </tbody>\n",
       "</table>\n",
       "</div>"
      ],
      "text/plain": [
       "     person    frame   label                       path\n",
       "0  person01     1-95  boxing  boxing/person01_boxing_d1\n",
       "1  person01   96-185  boxing  boxing/person01_boxing_d1\n",
       "2  person01  186-245  boxing  boxing/person01_boxing_d1\n",
       "3  person01  246-360  boxing  boxing/person01_boxing_d1\n",
       "4  person01    1-106  boxing  boxing/person01_boxing_d2"
      ]
     },
     "execution_count": 12,
     "metadata": {},
     "output_type": "execute_result"
    }
   ],
   "source": [
    "dataframe.head()"
   ]
  },
  {
   "cell_type": "code",
   "execution_count": 13,
   "metadata": {},
   "outputs": [
    {
     "data": {
      "text/plain": [
       "jogging         400\n",
       "running         400\n",
       "walking         400\n",
       "handwaving      398\n",
       "boxing          397\n",
       "handclapping    397\n",
       "Name: label, dtype: int64"
      ]
     },
     "execution_count": 13,
     "metadata": {},
     "output_type": "execute_result"
    }
   ],
   "source": [
    "# check the labels distribution\n",
    "dataframe[\"label\"].value_counts()"
   ]
  },
  {
   "cell_type": "code",
   "execution_count": 14,
   "metadata": {},
   "outputs": [
    {
     "data": {
      "text/html": [
       "<div>\n",
       "<style scoped>\n",
       "    .dataframe tbody tr th:only-of-type {\n",
       "        vertical-align: middle;\n",
       "    }\n",
       "\n",
       "    .dataframe tbody tr th {\n",
       "        vertical-align: top;\n",
       "    }\n",
       "\n",
       "    .dataframe thead th {\n",
       "        text-align: right;\n",
       "    }\n",
       "</style>\n",
       "<table border=\"1\" class=\"dataframe\">\n",
       "  <thead>\n",
       "    <tr style=\"text-align: right;\">\n",
       "      <th></th>\n",
       "      <th>person</th>\n",
       "      <th>frame</th>\n",
       "      <th>label</th>\n",
       "      <th>path</th>\n",
       "    </tr>\n",
       "  </thead>\n",
       "  <tbody>\n",
       "    <tr>\n",
       "      <th>1175</th>\n",
       "      <td>person13</td>\n",
       "      <td>*missing*</td>\n",
       "      <td>handclapping</td>\n",
       "      <td>handclapping/person13_handclapping_d3</td>\n",
       "    </tr>\n",
       "  </tbody>\n",
       "</table>\n",
       "</div>"
      ],
      "text/plain": [
       "        person      frame         label                                   path\n",
       "1175  person13  *missing*  handclapping  handclapping/person13_handclapping_d3"
      ]
     },
     "execution_count": 14,
     "metadata": {},
     "output_type": "execute_result"
    }
   ],
   "source": [
    "# There is one outlier sequence\n",
    "dataframe.loc[dataframe[\"frame\"] == \"*missing*\"]"
   ]
  },
  {
   "cell_type": "code",
   "execution_count": 15,
   "metadata": {},
   "outputs": [],
   "source": [
    "# dropping it \n",
    "dataframe = dataframe.drop(dataframe.loc[dataframe[\"frame\"] == \"*missing*\"].index).reset_index(drop=True)"
   ]
  },
  {
   "cell_type": "code",
   "execution_count": 16,
   "metadata": {},
   "outputs": [],
   "source": [
    "# helper functions for reading images\n",
    "def read_image(path):\n",
    "    im = Image.open(path)\n",
    "    # return np.swapaxes(np.array(im),0,2)    # Channel first\n",
    "    return np.array(im)\n",
    "\n",
    "\n",
    "def seq_to_np(seq, base_path, path, max_seq_length, image_tansforms=None):\n",
    "    frames_list = []\n",
    "    start = int(seq.split(\"-\")[0]) - 1\n",
    "    end = int(seq.split(\"-\")[1])\n",
    "\n",
    "    if end > start + max_seq_length:\n",
    "        end = start + max_seq_length\n",
    "\n",
    "    all_frames = sorted(os.listdir(os.path.join(base_path, path)))\n",
    "    seq_frames = all_frames[start:end]\n",
    "\n",
    "    for frame_path in seq_frames:\n",
    "        array = read_image(os.path.join(base_path, path, frame_path))\n",
    "        if image_tansforms:\n",
    "            array = image_tansforms(array)\n",
    "        array = np.expand_dims(array, 0)\n",
    "        frames_list.append(array)\n",
    "    \n",
    "    return np.concatenate(frames_list, 0)"
   ]
  },
  {
   "cell_type": "code",
   "execution_count": 17,
   "metadata": {},
   "outputs": [],
   "source": [
    "def get_min_length(dataframe):\n",
    "    frames = dataframe[\"frame\"].tolist()\n",
    "    seq_lengths = []\n",
    "    for frame in frames:\n",
    "        frame_split = frame.split(\"-\")\n",
    "        # print(frame_split)\n",
    "        start = int(frame_split[0])\n",
    "        end = int(frame_split[1])\n",
    "        seq_lengths.append(end - start)\n",
    "    \n",
    "    return min(seq_lengths)\n",
    "\n",
    "\n",
    "# Pytorch dataset class\n",
    "class KTH(Dataset):\n",
    "    def __init__(self, dataframe, base_path, max_seq_length=32, image_tansforms=None, mode=\"train\"):\n",
    "        if mode == \"train\":\n",
    "            persons = \"12, 13, 14, 15, 16, 17, 18\"\n",
    "        elif mode == \"valid\":\n",
    "            persons = \"20, 21, 23, 24, 25, 01, 04\"\n",
    "        elif mode == \"test\":\n",
    "            persons = \"02, 03, 05, 06, 07, 08, 09, 10\"\n",
    "        \n",
    "        persons = [\"person\"+p.strip() for p in persons.split(\",\")]\n",
    "\n",
    "        labels_map = {\n",
    "            \"boxing\": 0,\n",
    "            \"handclapping\": 1,\n",
    "            \"handwaving\": 2,\n",
    "            \"jogging\": 3,\n",
    "            \"running\": 4,\n",
    "            \"walking\": 5,\n",
    "        }\n",
    "\n",
    "        self.dataframe = dataframe.loc[dataframe[\"person\"].isin(persons)].reset_index(drop=True)\n",
    "        self.dataframe[\"label\"] = self.dataframe[\"label\"].map(labels_map)\n",
    "        self.base_path = base_path\n",
    "        self.image_tansforms = image_tansforms\n",
    "        self.max_seq_length = max_seq_length\n",
    "    \n",
    "    def __len__(self):\n",
    "        return len(self.dataframe)\n",
    "    \n",
    "    def __getitem__(self, idx):\n",
    "        seq = self.dataframe.iloc[idx, 1]\n",
    "        label = self.dataframe.iloc[idx, 2]\n",
    "        path = self.dataframe.iloc[idx, 3]\n",
    "\n",
    "        frames = seq_to_np(seq, self.base_path, path, self.max_seq_length, self.image_tansforms)\n",
    "\n",
    "        # return {\n",
    "        #     \"input\": frames,\n",
    "        #     \"target\": label\n",
    "        # }\n",
    "        return frames, label"
   ]
  },
  {
   "cell_type": "code",
   "execution_count": 18,
   "metadata": {},
   "outputs": [
    {
     "data": {
      "text/plain": [
       "23"
      ]
     },
     "execution_count": 18,
     "metadata": {},
     "output_type": "execute_result"
    }
   ],
   "source": [
    "# minimum numbers of frames in a sequence\n",
    "get_min_length(dataframe)"
   ]
  },
  {
   "cell_type": "code",
   "execution_count": 19,
   "metadata": {},
   "outputs": [],
   "source": [
    "# Create Datasets\n",
    "SEQ_MAX_LEN = 20\n",
    "base_path = \"KTH_64/processed\"\n",
    "image_transforms = transforms.Compose([\n",
    "            transforms.ToTensor(),\n",
    "            # transforms.Resize((64, 64)), # already resized\n",
    "            # transforms.Normalize(mean=[0.485, 0.456, 0.406], \n",
    "            #                     std=[0.229, 0.224, 0.225])                                  \n",
    "        ])\n",
    "\n",
    "train_dataset = KTH(dataframe, base_path, SEQ_MAX_LEN, image_transforms, mode=\"train\")\n",
    "valid_dataset = KTH(dataframe, base_path, SEQ_MAX_LEN, image_transforms, mode=\"valid\")\n",
    "test_dataset = KTH(dataframe, base_path, SEQ_MAX_LEN, image_transforms, mode=\"test\")"
   ]
  },
  {
   "cell_type": "code",
   "execution_count": 20,
   "metadata": {},
   "outputs": [],
   "source": [
    "batch_size = 32\n",
    "\n",
    "train_loader = torch.utils.data.DataLoader(dataset=train_dataset, \n",
    "                                           batch_size=batch_size, \n",
    "                                           shuffle=True) \n",
    "valid_loader = torch.utils.data.DataLoader(dataset=valid_dataset, \n",
    "                                           batch_size=batch_size, \n",
    "                                           shuffle=False) \n",
    "\n",
    "test_loader = torch.utils.data.DataLoader(dataset=test_dataset, \n",
    "                                          batch_size=batch_size,\n",
    "                                          shuffle=False)"
   ]
  },
  {
   "attachments": {},
   "cell_type": "markdown",
   "metadata": {},
   "source": [
    "#### Training and Evaluation"
   ]
  },
  {
   "cell_type": "code",
   "execution_count": 21,
   "metadata": {},
   "outputs": [],
   "source": [
    "def train_epoch(model, train_loader, optimizer, criterion, epoch, device):\n",
    "    \"\"\" Training a model for one epoch \"\"\"\n",
    "    \n",
    "    loss_list = []\n",
    "    progress_bar = tqdm(enumerate(train_loader), total=len(train_loader))\n",
    "    for i, (images, labels) in progress_bar:\n",
    "       \n",
    "        images = images.to(device)\n",
    "        labels = labels.to(device)\n",
    "        \n",
    "        # Clear gradients w.r.t. parameters\n",
    "        optimizer.zero_grad()\n",
    "        # Forward pass only to get logits/output\n",
    "        outputs = model(images)\n",
    "        outputs = outputs.to(device)\n",
    "         \n",
    "        # Calculate Loss: softmax --> cross entropy loss\n",
    "        loss = criterion(outputs, labels)\n",
    "        loss_list.append(loss.item())\n",
    "         \n",
    "        # Getting gradients w.r.t. parameters\n",
    "        loss.backward()\n",
    "         \n",
    "        # Updating parameters\n",
    "        optimizer.step()\n",
    "        \n",
    "        progress_bar.set_description(f\"Epoch {epoch+1} Iter {i+1}: loss {loss.item():.5f}. \")\n",
    "        \n",
    "    mean_loss = np.mean(loss_list)\n",
    "    return mean_loss, loss_list\n",
    "\n",
    "\n",
    "@torch.no_grad()\n",
    "def eval_model(model, eval_loader, criterion, device):\n",
    "    \"\"\" Evaluating the model for either validation or test \"\"\"\n",
    "    correct = 0\n",
    "    total = 0\n",
    "    loss_list = []\n",
    "    \n",
    "    for images, labels in eval_loader:\n",
    "\n",
    "        images = images.to(device)\n",
    "        labels = labels.to(device)\n",
    "        \n",
    "        \n",
    "        # Forward pass only to get logits/output\n",
    "        outputs = model(images)\n",
    "                 \n",
    "        loss = criterion(outputs, labels)\n",
    "        loss_list.append(loss.item())\n",
    "            \n",
    "        # Get predictions from the maximum value\n",
    "        preds = torch.argmax(outputs, dim=1)\n",
    "        correct += len( torch.where(preds==labels)[0] )\n",
    "        total += len(labels)\n",
    "                 \n",
    "    # Total correct predictions and loss\n",
    "    accuracy = correct / total * 100\n",
    "    loss = np.mean(loss_list)\n",
    "    \n",
    "    return accuracy, loss\n",
    "\n",
    "\n",
    "def train_model(model, optimizer, scheduler, criterion, train_loader, valid_loader, num_epochs):\n",
    "    \"\"\" Training a model for a given number of epochs\"\"\"\n",
    "    \n",
    "    train_loss = []\n",
    "    val_loss =  []\n",
    "    loss_iters = []\n",
    "    valid_acc = []\n",
    "    epochs = []\n",
    "    \n",
    "    for epoch in range(num_epochs):\n",
    "           \n",
    "        # validation epoch\n",
    "        model.eval()  # important for dropout and batch norms\n",
    "        accuracy, loss = eval_model(\n",
    "                    model=model, eval_loader=valid_loader,\n",
    "                    criterion=criterion, device=device\n",
    "            )\n",
    "        valid_acc.append(accuracy)\n",
    "        val_loss.append(loss)\n",
    "        epochs.append(epoch+1)\n",
    "        \n",
    "        # training epoch\n",
    "        model.train()  # important for dropout and batch norms\n",
    "        mean_loss, cur_loss_iters = train_epoch(\n",
    "                model=model, train_loader=train_loader, optimizer=optimizer,\n",
    "                criterion=criterion, epoch=epoch, device=device\n",
    "            )\n",
    "        scheduler.step()\n",
    "        train_loss.append(mean_loss)\n",
    "        loss_iters = loss_iters + cur_loss_iters\n",
    "        \n",
    "        print(f\"Epoch {epoch+1}/{num_epochs}\")\n",
    "        print(f\"    Train loss: {round(mean_loss, 5)}\")\n",
    "        print(f\"    Valid loss: {round(loss, 5)}\")\n",
    "        print(f\"    Accuracy: {accuracy}%\")\n",
    "        print(\"\\n\")\n",
    "    \n",
    "    print(f\"Training completed\")\n",
    "    return train_loss, val_loss, loss_iters, valid_acc, epochs\n",
    "\n",
    "\n",
    "def smooth(f, K=5):\n",
    "    \"\"\" Smoothing a function using a low-pass filter (mean) of size K \"\"\"\n",
    "    kernel = np.ones(K) / K\n",
    "    f = np.concatenate([f[:int(K//2)], f, f[int(-K//2):]])  # to account for boundaries\n",
    "    smooth_f = np.convolve(f, kernel, mode=\"same\")\n",
    "    smooth_f = smooth_f[K//2: -K//2]  # removing boundary-fixes\n",
    "    return smooth_f\n",
    "\n",
    "def count_model_params(model):\n",
    "    \"\"\" Counting the number of learnable parameters in a nn.Module \"\"\"\n",
    "    num_params = sum(p.numel() for p in model.parameters() if p.requires_grad)\n",
    "    return num_params"
   ]
  },
  {
   "cell_type": "code",
   "execution_count": 22,
   "metadata": {},
   "outputs": [],
   "source": [
    "def get_plots(train_loss, val_loss, loss_iters, valid_acc, epochs):\n",
    "    fig, ax = plt.subplots(1,3)\n",
    "    fig.set_size_inches(24,5)\n",
    "\n",
    "    smooth_loss = smooth(loss_iters, 31)\n",
    "    ax[0].plot(loss_iters, c=\"blue\", label=\"Loss\", linewidth=3, alpha=0.5)\n",
    "    ax[0].plot(smooth_loss, c=\"red\", label=\"Smoothed Loss\", linewidth=3, alpha=1)\n",
    "    ax[0].legend(loc=\"best\")\n",
    "    ax[0].set_xlabel(\"Iteration\")\n",
    "    ax[0].set_ylabel(\"CE Loss\")\n",
    "    ax[0].set_title(\"Training Progress\")\n",
    "\n",
    "    epochs = np.arange(len(train_loss)) + 1\n",
    "    ax[1].plot(epochs[1:], train_loss[1:], c=\"red\", label=\"Train Loss\", linewidth=3)\n",
    "    ax[1].plot(epochs[1:], val_loss[1:], c=\"blue\", label=\"Valid Loss\", linewidth=3)\n",
    "    ax[1].legend(loc=\"best\")\n",
    "    ax[1].set_xlabel(\"Epochs\")\n",
    "    ax[1].set_ylabel(\"CE Loss\")\n",
    "    ax[1].set_title(\"Loss Curves\")\n",
    "\n",
    "    epochs = np.arange(len(val_loss)) + 1\n",
    "    ax[2].plot(epochs[1:], valid_acc[1:], c=\"red\", label=\"Valid accuracy\", linewidth=3)\n",
    "    ax[2].legend(loc=\"best\")\n",
    "    ax[2].set_xlabel(\"Epochs\")\n",
    "    ax[2].set_ylabel(\"Accuracy (%)\")\n",
    "    ax[2].set_title(f\"Valdiation Accuracy (max={round(np.max(valid_acc),2)}% @ epoch {np.argmax(valid_acc)+1})\")\n",
    "\n",
    "    plt.show()"
   ]
  },
  {
   "attachments": {},
   "cell_type": "markdown",
   "metadata": {},
   "source": [
    "#### PyTorch LSTM model (using nn.LSTMCell):"
   ]
  },
  {
   "cell_type": "code",
   "execution_count": 60,
   "metadata": {},
   "outputs": [
    {
     "name": "stderr",
     "output_type": "stream",
     "text": [
      "Epoch 1 Iter 21: loss 1.24213. : 100%|██████████| 21/21 [00:09<00:00,  2.30it/s]\n"
     ]
    },
    {
     "name": "stdout",
     "output_type": "stream",
     "text": [
      "Epoch 1/20\n",
      "    Train loss: 1.48387\n",
      "    Valid loss: 1.79311\n",
      "    Accuracy: 16.666666666666664%\n",
      "\n",
      "\n"
     ]
    },
    {
     "name": "stderr",
     "output_type": "stream",
     "text": [
      "Epoch 2 Iter 21: loss 1.20093. : 100%|██████████| 21/21 [00:09<00:00,  2.27it/s]\n"
     ]
    },
    {
     "name": "stdout",
     "output_type": "stream",
     "text": [
      "Epoch 2/20\n",
      "    Train loss: 1.07544\n",
      "    Valid loss: 1.34415\n",
      "    Accuracy: 43.601190476190474%\n",
      "\n",
      "\n"
     ]
    },
    {
     "name": "stderr",
     "output_type": "stream",
     "text": [
      "Epoch 3 Iter 21: loss 0.92170. : 100%|██████████| 21/21 [00:09<00:00,  2.30it/s]\n"
     ]
    },
    {
     "name": "stdout",
     "output_type": "stream",
     "text": [
      "Epoch 3/20\n",
      "    Train loss: 0.8759\n",
      "    Valid loss: 1.14218\n",
      "    Accuracy: 50.0%\n",
      "\n",
      "\n"
     ]
    },
    {
     "name": "stderr",
     "output_type": "stream",
     "text": [
      "Epoch 4 Iter 21: loss 0.70515. : 100%|██████████| 21/21 [00:09<00:00,  2.23it/s]\n"
     ]
    },
    {
     "name": "stdout",
     "output_type": "stream",
     "text": [
      "Epoch 4/20\n",
      "    Train loss: 0.75958\n",
      "    Valid loss: 0.98071\n",
      "    Accuracy: 57.44047619047619%\n",
      "\n",
      "\n"
     ]
    },
    {
     "name": "stderr",
     "output_type": "stream",
     "text": [
      "Epoch 5 Iter 21: loss 0.79452. : 100%|██████████| 21/21 [00:09<00:00,  2.25it/s]\n"
     ]
    },
    {
     "name": "stdout",
     "output_type": "stream",
     "text": [
      "Epoch 5/20\n",
      "    Train loss: 0.69442\n",
      "    Valid loss: 0.99687\n",
      "    Accuracy: 53.720238095238095%\n",
      "\n",
      "\n"
     ]
    },
    {
     "name": "stderr",
     "output_type": "stream",
     "text": [
      "Epoch 6 Iter 21: loss 0.61953. : 100%|██████████| 21/21 [00:09<00:00,  2.31it/s]\n"
     ]
    },
    {
     "name": "stdout",
     "output_type": "stream",
     "text": [
      "Epoch 6/20\n",
      "    Train loss: 0.58363\n",
      "    Valid loss: 1.02703\n",
      "    Accuracy: 52.67857142857143%\n",
      "\n",
      "\n"
     ]
    },
    {
     "name": "stderr",
     "output_type": "stream",
     "text": [
      "Epoch 7 Iter 21: loss 0.52322. : 100%|██████████| 21/21 [00:09<00:00,  2.29it/s]\n"
     ]
    },
    {
     "name": "stdout",
     "output_type": "stream",
     "text": [
      "Epoch 7/20\n",
      "    Train loss: 0.52597\n",
      "    Valid loss: 0.87004\n",
      "    Accuracy: 63.69047619047619%\n",
      "\n",
      "\n"
     ]
    },
    {
     "name": "stderr",
     "output_type": "stream",
     "text": [
      "Epoch 8 Iter 21: loss 0.36960. : 100%|██████████| 21/21 [00:09<00:00,  2.29it/s]\n"
     ]
    },
    {
     "name": "stdout",
     "output_type": "stream",
     "text": [
      "Epoch 8/20\n",
      "    Train loss: 0.49475\n",
      "    Valid loss: 0.85115\n",
      "    Accuracy: 63.83928571428571%\n",
      "\n",
      "\n"
     ]
    },
    {
     "name": "stderr",
     "output_type": "stream",
     "text": [
      "Epoch 9 Iter 21: loss 0.32990. : 100%|██████████| 21/21 [00:09<00:00,  2.30it/s]\n"
     ]
    },
    {
     "name": "stdout",
     "output_type": "stream",
     "text": [
      "Epoch 9/20\n",
      "    Train loss: 0.47104\n",
      "    Valid loss: 0.82834\n",
      "    Accuracy: 65.02976190476191%\n",
      "\n",
      "\n"
     ]
    },
    {
     "name": "stderr",
     "output_type": "stream",
     "text": [
      "Epoch 10 Iter 21: loss 0.45652. : 100%|██████████| 21/21 [00:09<00:00,  2.29it/s]\n"
     ]
    },
    {
     "name": "stdout",
     "output_type": "stream",
     "text": [
      "Epoch 10/20\n",
      "    Train loss: 0.45443\n",
      "    Valid loss: 0.82066\n",
      "    Accuracy: 65.32738095238095%\n",
      "\n",
      "\n"
     ]
    },
    {
     "name": "stderr",
     "output_type": "stream",
     "text": [
      "Epoch 11 Iter 21: loss 0.22470. : 100%|██████████| 21/21 [00:09<00:00,  2.29it/s]\n"
     ]
    },
    {
     "name": "stdout",
     "output_type": "stream",
     "text": [
      "Epoch 11/20\n",
      "    Train loss: 0.4275\n",
      "    Valid loss: 0.91323\n",
      "    Accuracy: 62.797619047619044%\n",
      "\n",
      "\n"
     ]
    },
    {
     "name": "stderr",
     "output_type": "stream",
     "text": [
      "Epoch 12 Iter 21: loss 0.55372. : 100%|██████████| 21/21 [00:09<00:00,  2.29it/s]\n"
     ]
    },
    {
     "name": "stdout",
     "output_type": "stream",
     "text": [
      "Epoch 12/20\n",
      "    Train loss: 0.42428\n",
      "    Valid loss: 0.8234\n",
      "    Accuracy: 63.83928571428571%\n",
      "\n",
      "\n"
     ]
    },
    {
     "name": "stderr",
     "output_type": "stream",
     "text": [
      "Epoch 13 Iter 21: loss 0.52367. : 100%|██████████| 21/21 [00:09<00:00,  2.30it/s]\n"
     ]
    },
    {
     "name": "stdout",
     "output_type": "stream",
     "text": [
      "Epoch 13/20\n",
      "    Train loss: 0.41586\n",
      "    Valid loss: 0.9114\n",
      "    Accuracy: 61.75595238095239%\n",
      "\n",
      "\n"
     ]
    },
    {
     "name": "stderr",
     "output_type": "stream",
     "text": [
      "Epoch 14 Iter 21: loss 0.40268. : 100%|██████████| 21/21 [00:09<00:00,  2.25it/s]\n"
     ]
    },
    {
     "name": "stdout",
     "output_type": "stream",
     "text": [
      "Epoch 14/20\n",
      "    Train loss: 0.41052\n",
      "    Valid loss: 0.92787\n",
      "    Accuracy: 59.523809523809526%\n",
      "\n",
      "\n"
     ]
    },
    {
     "name": "stderr",
     "output_type": "stream",
     "text": [
      "Epoch 15 Iter 21: loss 0.41850. : 100%|██████████| 21/21 [00:09<00:00,  2.25it/s]\n"
     ]
    },
    {
     "name": "stdout",
     "output_type": "stream",
     "text": [
      "Epoch 15/20\n",
      "    Train loss: 0.40762\n",
      "    Valid loss: 0.86729\n",
      "    Accuracy: 63.24404761904761%\n",
      "\n",
      "\n"
     ]
    },
    {
     "name": "stderr",
     "output_type": "stream",
     "text": [
      "Epoch 16 Iter 21: loss 0.30387. : 100%|██████████| 21/21 [00:09<00:00,  2.25it/s]\n"
     ]
    },
    {
     "name": "stdout",
     "output_type": "stream",
     "text": [
      "Epoch 16/20\n",
      "    Train loss: 0.40439\n",
      "    Valid loss: 0.89802\n",
      "    Accuracy: 62.5%\n",
      "\n",
      "\n"
     ]
    },
    {
     "name": "stderr",
     "output_type": "stream",
     "text": [
      "Epoch 17 Iter 21: loss 0.36958. : 100%|██████████| 21/21 [00:09<00:00,  2.28it/s]\n"
     ]
    },
    {
     "name": "stdout",
     "output_type": "stream",
     "text": [
      "Epoch 17/20\n",
      "    Train loss: 0.40801\n",
      "    Valid loss: 0.90166\n",
      "    Accuracy: 61.30952380952381%\n",
      "\n",
      "\n"
     ]
    },
    {
     "name": "stderr",
     "output_type": "stream",
     "text": [
      "Epoch 18 Iter 21: loss 0.52360. : 100%|██████████| 21/21 [00:09<00:00,  2.30it/s]\n"
     ]
    },
    {
     "name": "stdout",
     "output_type": "stream",
     "text": [
      "Epoch 18/20\n",
      "    Train loss: 0.3971\n",
      "    Valid loss: 0.89481\n",
      "    Accuracy: 61.011904761904766%\n",
      "\n",
      "\n"
     ]
    },
    {
     "name": "stderr",
     "output_type": "stream",
     "text": [
      "Epoch 19 Iter 21: loss 0.36813. : 100%|██████████| 21/21 [00:09<00:00,  2.28it/s]\n"
     ]
    },
    {
     "name": "stdout",
     "output_type": "stream",
     "text": [
      "Epoch 19/20\n",
      "    Train loss: 0.40627\n",
      "    Valid loss: 0.87935\n",
      "    Accuracy: 61.904761904761905%\n",
      "\n",
      "\n"
     ]
    },
    {
     "name": "stderr",
     "output_type": "stream",
     "text": [
      "Epoch 20 Iter 21: loss 0.29815. : 100%|██████████| 21/21 [00:09<00:00,  2.27it/s]"
     ]
    },
    {
     "name": "stdout",
     "output_type": "stream",
     "text": [
      "Epoch 20/20\n",
      "    Train loss: 0.39755\n",
      "    Valid loss: 0.86306\n",
      "    Accuracy: 63.988095238095234%\n",
      "\n",
      "\n",
      "Training completed\n"
     ]
    },
    {
     "name": "stderr",
     "output_type": "stream",
     "text": [
      "\n"
     ]
    }
   ],
   "source": [
    "recurrent_cell = nn.LSTMCell\n",
    "recurrent_module = RecurrentModule(recurrent_cell, Conv_ENC_OUT, 128, 1)\n",
    "model_1 = ActionRecognition(recurrent_module)\n",
    "model_1 = model_1.to(device)\n",
    "# classification loss function\n",
    "criterion = nn.CrossEntropyLoss()\n",
    "# Observe that all parameters are being optimized\n",
    "optimizer = torch.optim.Adam(model_1.parameters(), lr=3e-4)\n",
    "# Decay LR by a factor of 0.1 every 5 epochs\n",
    "scheduler = torch.optim.lr_scheduler.StepLR(optimizer, step_size=5, gamma=0.2)\n",
    "\n",
    "train_loss, val_loss, loss_iters, valid_acc, epochs = train_model(\n",
    "        model=model_1, optimizer=optimizer, scheduler=scheduler, criterion=criterion,\n",
    "        train_loader=train_loader, valid_loader=valid_loader, num_epochs=20\n",
    ")\n"
   ]
  },
  {
   "cell_type": "code",
   "execution_count": 65,
   "metadata": {},
   "outputs": [
    {
     "data": {
      "image/png": "[encoded data removed]",
      "text/plain": [
       "<Figure size 1728x360 with 3 Axes>"
      ]
     },
     "metadata": {},
     "output_type": "display_data"
    }
   ],
   "source": [
    "get_plots(train_loss, val_loss, loss_iters, valid_acc, epochs)"
   ]
  },
  {
   "cell_type": "code",
   "execution_count": 62,
   "metadata": {},
   "outputs": [
    {
     "data": {
      "text/plain": [
       "(53.255208333333336, 1.1015109059711297)"
      ]
     },
     "execution_count": 62,
     "metadata": {},
     "output_type": "execute_result"
    }
   ],
   "source": [
    "# Perfomance on the test set\n",
    "eval_model(model_1, test_loader, criterion, device)"
   ]
  },
  {
   "cell_type": "code",
   "execution_count": null,
   "metadata": {},
   "outputs": [],
   "source": []
  },
  {
   "attachments": {},
   "cell_type": "markdown",
   "metadata": {},
   "source": [
    "#### PyTorch GRU model (using nn.GRUCell):"
   ]
  },
  {
   "cell_type": "code",
   "execution_count": 31,
   "metadata": {},
   "outputs": [],
   "source": [
    "class ActionRecognitionGRU(nn.Module):\n",
    "    def __init__(self, recurrent_module, n_actions=6):\n",
    "        super().__init__()\n",
    "        self.encoder = ConvolutionalEncoder(3, 128, 3)\n",
    "        self.recurrent_module = recurrent_module\n",
    "        self.classifier = nn.Linear(self.recurrent_module.hidden_size, n_actions)\n",
    "    \n",
    "    def forward(self, x):\n",
    "        x = x.permute((1, 0, 2, 3, 4)).contiguous()\n",
    "        seq_len, b_size, n_channels, n_rows, n_cols = x.shape\n",
    "        h = self.init_state(mode=\"zeros\", b_size=b_size, device=x.device)\n",
    "\n",
    "        # iterating over sequence length\n",
    "        r_out = []\n",
    "\n",
    "        for i in range(seq_len):\n",
    "            r_input = self.encoder(x[i]).view(b_size, Conv_ENC_OUT)\n",
    "            # print(\"lstm input\", r_input.shape)\n",
    "            for j, cell in enumerate(self.recurrent_module.cells):\n",
    "                h[j] = cell(r_input, h[j])\n",
    "                r_input = h[j]\n",
    "            r_out.append(r_input)\n",
    "        \n",
    "        r_out = torch.stack(r_out, dim=1)\n",
    "\n",
    "        y = self.classifier(r_out[:, -1, :])\n",
    "\n",
    "        return y\n",
    "\n",
    "\n",
    "    \n",
    "    def init_state(self, mode, b_size, device):\n",
    "        \"\"\" Initializing hidden and cell state \"\"\"\n",
    "        if(mode == \"zeros\"):\n",
    "            h = [torch.zeros(b_size, self.recurrent_module.hidden_size).to(device) for _ in range(self.recurrent_module.num_layers)]\n",
    "            # c = [torch.zeros(b_size, self.recurrent_module.hidden_size).to(device) for _ in range(self.recurrent_module.num_layers)]\n",
    "        elif(mode == \"random\"):\n",
    "            h = [torch.zeros(b_size, self.recurrent_module.hidden_size).to(device) for _ in range(self.recurrent_module.num_layers)]\n",
    "            # c = [torch.zeros(b_size, self.recurrent_module.hidden_size).to(device) for _ in range(self.recurrent_module.num_layers)]\n",
    "        return h"
   ]
  },
  {
   "cell_type": "code",
   "execution_count": 36,
   "metadata": {},
   "outputs": [
    {
     "name": "stderr",
     "output_type": "stream",
     "text": [
      "Epoch 1 Iter 21: loss 1.21872. : 100%|██████████| 21/21 [00:09<00:00,  2.29it/s]\n"
     ]
    },
    {
     "name": "stdout",
     "output_type": "stream",
     "text": [
      "Epoch 1/20\n",
      "    Train loss: 1.35065\n",
      "    Valid loss: 1.79441\n",
      "    Accuracy: 16.666666666666664%\n",
      "\n",
      "\n"
     ]
    },
    {
     "name": "stderr",
     "output_type": "stream",
     "text": [
      "Epoch 2 Iter 21: loss 1.03839. : 100%|██████████| 21/21 [00:09<00:00,  2.33it/s]\n"
     ]
    },
    {
     "name": "stdout",
     "output_type": "stream",
     "text": [
      "Epoch 2/20\n",
      "    Train loss: 0.97802\n",
      "    Valid loss: 1.27076\n",
      "    Accuracy: 48.660714285714285%\n",
      "\n",
      "\n"
     ]
    },
    {
     "name": "stderr",
     "output_type": "stream",
     "text": [
      "Epoch 3 Iter 21: loss 0.82966. : 100%|██████████| 21/21 [00:09<00:00,  2.32it/s]\n"
     ]
    },
    {
     "name": "stdout",
     "output_type": "stream",
     "text": [
      "Epoch 3/20\n",
      "    Train loss: 0.83555\n",
      "    Valid loss: 1.13414\n",
      "    Accuracy: 54.31547619047619%\n",
      "\n",
      "\n"
     ]
    },
    {
     "name": "stderr",
     "output_type": "stream",
     "text": [
      "Epoch 4 Iter 21: loss 0.70356. : 100%|██████████| 21/21 [00:09<00:00,  2.31it/s]\n"
     ]
    },
    {
     "name": "stdout",
     "output_type": "stream",
     "text": [
      "Epoch 4/20\n",
      "    Train loss: 0.69682\n",
      "    Valid loss: 1.02896\n",
      "    Accuracy: 57.291666666666664%\n",
      "\n",
      "\n"
     ]
    },
    {
     "name": "stderr",
     "output_type": "stream",
     "text": [
      "Epoch 5 Iter 21: loss 0.63340. : 100%|██████████| 21/21 [00:09<00:00,  2.26it/s]\n"
     ]
    },
    {
     "name": "stdout",
     "output_type": "stream",
     "text": [
      "Epoch 5/20\n",
      "    Train loss: 0.59625\n",
      "    Valid loss: 1.07944\n",
      "    Accuracy: 56.101190476190474%\n",
      "\n",
      "\n"
     ]
    },
    {
     "name": "stderr",
     "output_type": "stream",
     "text": [
      "Epoch 6 Iter 21: loss 0.56852. : 100%|██████████| 21/21 [00:09<00:00,  2.30it/s]\n"
     ]
    },
    {
     "name": "stdout",
     "output_type": "stream",
     "text": [
      "Epoch 6/20\n",
      "    Train loss: 0.49895\n",
      "    Valid loss: 1.02015\n",
      "    Accuracy: 55.50595238095239%\n",
      "\n",
      "\n"
     ]
    },
    {
     "name": "stderr",
     "output_type": "stream",
     "text": [
      "Epoch 7 Iter 21: loss 0.36635. : 100%|██████████| 21/21 [00:09<00:00,  2.30it/s]\n"
     ]
    },
    {
     "name": "stdout",
     "output_type": "stream",
     "text": [
      "Epoch 7/20\n",
      "    Train loss: 0.4689\n",
      "    Valid loss: 0.91137\n",
      "    Accuracy: 59.375%\n",
      "\n",
      "\n"
     ]
    },
    {
     "name": "stderr",
     "output_type": "stream",
     "text": [
      "Epoch 8 Iter 21: loss 0.36870. : 100%|██████████| 21/21 [00:09<00:00,  2.27it/s]\n"
     ]
    },
    {
     "name": "stdout",
     "output_type": "stream",
     "text": [
      "Epoch 8/20\n",
      "    Train loss: 0.45079\n",
      "    Valid loss: 0.98172\n",
      "    Accuracy: 59.077380952380956%\n",
      "\n",
      "\n"
     ]
    },
    {
     "name": "stderr",
     "output_type": "stream",
     "text": [
      "Epoch 9 Iter 21: loss 0.39082. : 100%|██████████| 21/21 [00:09<00:00,  2.31it/s]\n"
     ]
    },
    {
     "name": "stdout",
     "output_type": "stream",
     "text": [
      "Epoch 9/20\n",
      "    Train loss: 0.43831\n",
      "    Valid loss: 0.91763\n",
      "    Accuracy: 58.63095238095239%\n",
      "\n",
      "\n"
     ]
    },
    {
     "name": "stderr",
     "output_type": "stream",
     "text": [
      "Epoch 10 Iter 21: loss 0.37148. : 100%|██████████| 21/21 [00:09<00:00,  2.31it/s]\n"
     ]
    },
    {
     "name": "stdout",
     "output_type": "stream",
     "text": [
      "Epoch 10/20\n",
      "    Train loss: 0.42067\n",
      "    Valid loss: 0.97487\n",
      "    Accuracy: 59.077380952380956%\n",
      "\n",
      "\n"
     ]
    },
    {
     "name": "stderr",
     "output_type": "stream",
     "text": [
      "Epoch 11 Iter 21: loss 0.52667. : 100%|██████████| 21/21 [00:09<00:00,  2.29it/s]\n"
     ]
    },
    {
     "name": "stdout",
     "output_type": "stream",
     "text": [
      "Epoch 11/20\n",
      "    Train loss: 0.40714\n",
      "    Valid loss: 0.91919\n",
      "    Accuracy: 58.779761904761905%\n",
      "\n",
      "\n"
     ]
    },
    {
     "name": "stderr",
     "output_type": "stream",
     "text": [
      "Epoch 12 Iter 21: loss 0.42286. : 100%|██████████| 21/21 [00:09<00:00,  2.32it/s]\n"
     ]
    },
    {
     "name": "stdout",
     "output_type": "stream",
     "text": [
      "Epoch 12/20\n",
      "    Train loss: 0.39524\n",
      "    Valid loss: 0.94556\n",
      "    Accuracy: 57.291666666666664%\n",
      "\n",
      "\n"
     ]
    },
    {
     "name": "stderr",
     "output_type": "stream",
     "text": [
      "Epoch 13 Iter 21: loss 0.37136. : 100%|██████████| 21/21 [00:09<00:00,  2.28it/s]\n"
     ]
    },
    {
     "name": "stdout",
     "output_type": "stream",
     "text": [
      "Epoch 13/20\n",
      "    Train loss: 0.40163\n",
      "    Valid loss: 0.9532\n",
      "    Accuracy: 57.58928571428571%\n",
      "\n",
      "\n"
     ]
    },
    {
     "name": "stderr",
     "output_type": "stream",
     "text": [
      "Epoch 14 Iter 21: loss 0.42447. : 100%|██████████| 21/21 [00:09<00:00,  2.31it/s]\n"
     ]
    },
    {
     "name": "stdout",
     "output_type": "stream",
     "text": [
      "Epoch 14/20\n",
      "    Train loss: 0.39483\n",
      "    Valid loss: 0.91969\n",
      "    Accuracy: 59.523809523809526%\n",
      "\n",
      "\n"
     ]
    },
    {
     "name": "stderr",
     "output_type": "stream",
     "text": [
      "Epoch 15 Iter 21: loss 0.46651. : 100%|██████████| 21/21 [00:09<00:00,  2.33it/s]\n"
     ]
    },
    {
     "name": "stdout",
     "output_type": "stream",
     "text": [
      "Epoch 15/20\n",
      "    Train loss: 0.40069\n",
      "    Valid loss: 0.96217\n",
      "    Accuracy: 56.547619047619044%\n",
      "\n",
      "\n"
     ]
    },
    {
     "name": "stderr",
     "output_type": "stream",
     "text": [
      "Epoch 16 Iter 21: loss 0.49001. : 100%|██████████| 21/21 [00:09<00:00,  2.25it/s]\n"
     ]
    },
    {
     "name": "stdout",
     "output_type": "stream",
     "text": [
      "Epoch 16/20\n",
      "    Train loss: 0.38649\n",
      "    Valid loss: 0.95001\n",
      "    Accuracy: 58.779761904761905%\n",
      "\n",
      "\n"
     ]
    },
    {
     "name": "stderr",
     "output_type": "stream",
     "text": [
      "Epoch 17 Iter 21: loss 0.34558. : 100%|██████████| 21/21 [00:09<00:00,  2.32it/s]\n"
     ]
    },
    {
     "name": "stdout",
     "output_type": "stream",
     "text": [
      "Epoch 17/20\n",
      "    Train loss: 0.38168\n",
      "    Valid loss: 0.93095\n",
      "    Accuracy: 58.779761904761905%\n",
      "\n",
      "\n"
     ]
    },
    {
     "name": "stderr",
     "output_type": "stream",
     "text": [
      "Epoch 18 Iter 21: loss 0.33546. : 100%|██████████| 21/21 [00:09<00:00,  2.32it/s]\n"
     ]
    },
    {
     "name": "stdout",
     "output_type": "stream",
     "text": [
      "Epoch 18/20\n",
      "    Train loss: 0.3791\n",
      "    Valid loss: 0.93895\n",
      "    Accuracy: 58.18452380952381%\n",
      "\n",
      "\n"
     ]
    },
    {
     "name": "stderr",
     "output_type": "stream",
     "text": [
      "Epoch 19 Iter 21: loss 0.32480. : 100%|██████████| 21/21 [00:09<00:00,  2.31it/s]\n"
     ]
    },
    {
     "name": "stdout",
     "output_type": "stream",
     "text": [
      "Epoch 19/20\n",
      "    Train loss: 0.37897\n",
      "    Valid loss: 0.95716\n",
      "    Accuracy: 56.845238095238095%\n",
      "\n",
      "\n"
     ]
    },
    {
     "name": "stderr",
     "output_type": "stream",
     "text": [
      "Epoch 20 Iter 21: loss 0.41568. : 100%|██████████| 21/21 [00:09<00:00,  2.32it/s]"
     ]
    },
    {
     "name": "stdout",
     "output_type": "stream",
     "text": [
      "Epoch 20/20\n",
      "    Train loss: 0.38541\n",
      "    Valid loss: 0.91693\n",
      "    Accuracy: 59.226190476190474%\n",
      "\n",
      "\n",
      "Training completed\n"
     ]
    },
    {
     "name": "stderr",
     "output_type": "stream",
     "text": [
      "\n"
     ]
    }
   ],
   "source": [
    "recurrent_cell = nn.GRUCell\n",
    "recurrent_module = RecurrentModule(recurrent_cell, Conv_ENC_OUT, 128, 1)\n",
    "model_2 = ActionRecognitionGRU(recurrent_module)\n",
    "model_2 = model_2.to(device)\n",
    "criterion = nn.CrossEntropyLoss()\n",
    "# Observe that all parameters are being optimized\n",
    "optimizer = torch.optim.Adam(model_2.parameters(), lr=3e-4)\n",
    "# Decay LR by a factor of 0.1 every 5 epochs\n",
    "scheduler = torch.optim.lr_scheduler.StepLR(optimizer, step_size=5, gamma=0.2)\n",
    "\n",
    "train_loss_2, val_loss_2, loss_iters_2, valid_acc_2, epochs_2 = train_model(\n",
    "        model=model_2, optimizer=optimizer, scheduler=scheduler, criterion=criterion,\n",
    "        train_loader=train_loader, valid_loader=valid_loader, num_epochs=20\n",
    ")"
   ]
  },
  {
   "cell_type": "code",
   "execution_count": 37,
   "metadata": {},
   "outputs": [
    {
     "data": {
      "image/png": "[encoded data removed]",
      "text/plain": [
       "<Figure size 1728x360 with 3 Axes>"
      ]
     },
     "metadata": {},
     "output_type": "display_data"
    }
   ],
   "source": [
    "get_plots(train_loss_2, val_loss_2, loss_iters_2, valid_acc_2, epochs_2)"
   ]
  },
  {
   "cell_type": "code",
   "execution_count": null,
   "metadata": {},
   "outputs": [],
   "source": []
  }
 ],
 "metadata": {
  "kernelspec": {
   "display_name": "CudaLab",
   "language": "python",
   "name": "python3"
  },
  "language_info": {
   "codemirror_mode": {
    "name": "ipython",
    "version": 3
   },
   "file_extension": ".py",
   "mimetype": "text/x-python",
   "name": "python",
   "nbconvert_exporter": "python",
   "pygments_lexer": "ipython3",
   "version": "3.8.8"
  },
  "orig_nbformat": 4,
  "vscode": {
   "interpreter": {
    "hash": "385c13088ed99ad8e3b12d76a9483f55f3954ec0bf6653e756cd2bbb35911f22"
   }
  }
 },
 "nbformat": 4,
 "nbformat_minor": 2
}
