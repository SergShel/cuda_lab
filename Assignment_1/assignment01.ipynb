{
 "cells": [
  {
   "cell_type": "code",
   "execution_count": 2,
   "metadata": {},
   "outputs": [],
   "source": [
    "import numpy as np\n",
    "import torch\n",
    "import torch.nn as nn\n",
    "import torchvision.transforms as transforms\n",
    "import torchvision.datasets as datasets\n",
    "import matplotlib.pyplot as plt\n",
    "from tqdm import tqdm\n",
    "import torch.nn as nn\n",
    "import torch.optim as optim\n",
    "\n",
    "import optuna\n",
    "from optuna.trial import TrialState\n",
    "\n",
    "import plotly\n",
    "\n"
   ]
  },
  {
   "cell_type": "markdown",
   "metadata": {},
   "source": [
    "## Assignment 1\n",
    "\n",
    "* Train and Evaluate an MLP Classifier on the FashionMNIST dataset using PyTorch\n"
   ]
  },
  {
   "cell_type": "markdown",
   "metadata": {},
   "source": [
    "We start with downloading of FashionMNIST training and testing"
   ]
  },
  {
   "cell_type": "code",
   "execution_count": 3,
   "metadata": {},
   "outputs": [],
   "source": [
    "train_dataset = datasets.FashionMNIST(root='./data', train=True, transform=transforms.ToTensor(), download=True)\n",
    "test_dataset = datasets.FashionMNIST(root='./data', train=False, transform=transforms.ToTensor(), download=True)"
   ]
  },
  {
   "cell_type": "markdown",
   "metadata": {},
   "source": [
    "Lets check the size of datasets"
   ]
  },
  {
   "cell_type": "code",
   "execution_count": 4,
   "metadata": {},
   "outputs": [
    {
     "name": "stdout",
     "output_type": "stream",
     "text": [
      "# Images Train: 60000\n",
      "# Images Test:  10000\n"
     ]
    }
   ],
   "source": [
    "N_TRAIN_EXAMPLES = len(train_dataset)\n",
    "N_VALID_EXAMPLES = len(test_dataset)\n",
    "print(f\"# Images Train: {N_TRAIN_EXAMPLES}\")\n",
    "print(f\"# Images Test:  {N_VALID_EXAMPLES}\")"
   ]
  },
  {
   "cell_type": "markdown",
   "metadata": {},
   "source": [
    "Lets check the shape of tensors and format of labels"
   ]
  },
  {
   "cell_type": "code",
   "execution_count": 5,
   "metadata": {},
   "outputs": [
    {
     "name": "stdout",
     "output_type": "stream",
     "text": [
      "Image shape: torch.Size([1, 28, 28])\n",
      "Label: 9\n"
     ]
    }
   ],
   "source": [
    "img_shape = train_dataset[0][0].shape\n",
    "label = train_dataset[0][1]\n",
    "\n",
    "print(f\"Image shape: {img_shape}\")\n",
    "print(f\"Label: {label}\")"
   ]
  },
  {
   "cell_type": "markdown",
   "metadata": {},
   "source": [
    "Lets look at some random samples"
   ]
  },
  {
   "cell_type": "code",
   "execution_count": 6,
   "metadata": {},
   "outputs": [
    {
     "data": {
      "image/png": "[encoded data removed]",
      "text/plain": [
       "<Figure size 1728x216 with 8 Axes>"
      ]
     },
     "metadata": {
      "needs_background": "light"
     },
     "output_type": "display_data"
    }
   ],
   "source": [
    "N_IMGS = 8\n",
    "fig, ax = plt.subplots(1,N_IMGS)\n",
    "fig.set_size_inches(3 * N_IMGS, 3)\n",
    "\n",
    "ids = np.random.randint(low=0, high=len(train_dataset), size=N_IMGS)\n",
    "\n",
    "for i, n in enumerate(ids):\n",
    "    img = train_dataset[n][0].numpy().reshape(28,28)\n",
    "    ax[i].imshow(img, cmap='gray')\n",
    "    ax[i].set_title(f\"Img #{n}  Label: {train_dataset[n][1]}\")\n",
    "    ax[i].axis(\"off\")\n",
    "plt.show()"
   ]
  },
  {
   "cell_type": "markdown",
   "metadata": {},
   "source": [
    "Setting up Dataloaders"
   ]
  },
  {
   "cell_type": "code",
   "execution_count": 7,
   "metadata": {},
   "outputs": [],
   "source": [
    "BATCH_SIZE = 1024\n",
    "SHUFFLE_TRAIN = True"
   ]
  },
  {
   "cell_type": "code",
   "execution_count": 8,
   "metadata": {},
   "outputs": [],
   "source": [
    "def get_mnist():\n",
    "    train_loader =  torch.utils.data.DataLoader(\n",
    "        dataset=train_dataset,\n",
    "        batch_size=BATCH_SIZE,\n",
    "        shuffle=SHUFFLE_TRAIN\n",
    "    )\n",
    "\n",
    "    eval_loader =  torch.utils.data.DataLoader(\n",
    "        dataset=test_dataset,\n",
    "        batch_size=BATCH_SIZE,\n",
    "        shuffle=False\n",
    "    )\n",
    "    return train_loader, eval_loader"
   ]
  },
  {
   "cell_type": "code",
   "execution_count": 9,
   "metadata": {},
   "outputs": [],
   "source": [
    "train_loader, eval_loader = get_mnist()"
   ]
  },
  {
   "cell_type": "markdown",
   "metadata": {},
   "source": [
    "Lets check the shapes of the batches"
   ]
  },
  {
   "cell_type": "code",
   "execution_count": 10,
   "metadata": {},
   "outputs": [
    {
     "name": "stdout",
     "output_type": "stream",
     "text": [
      "imgs.shape = torch.Size([1024, 1, 28, 28])\n",
      "labels.shape = torch.Size([1024])\n"
     ]
    }
   ],
   "source": [
    "imgs, labels = next(iter(eval_loader))\n",
    "print(f\"{imgs.shape = }\")\n",
    "print(f\"{labels.shape = }\")"
   ]
  },
  {
   "cell_type": "markdown",
   "metadata": {},
   "source": [
    "## Create a model"
   ]
  },
  {
   "cell_type": "code",
   "execution_count": 12,
   "metadata": {},
   "outputs": [],
   "source": [
    "class Model(nn.Module):\n",
    "    \"\"\"\n",
    "    MLP \n",
    "    \"\"\"\n",
    "    def __init__(self, input_dim=784, hidden_layers_dims=[128, 64], output_dim=10, activation=nn.ReLU):\n",
    "        \"\"\" Model initalizer \"\"\"\n",
    "        super().__init__()\n",
    "\n",
    "        self.layers = nn.Sequential()\n",
    "        num_neurons = [input_dim] + hidden_layers_dims + [output_dim]\n",
    "        for i, in_dims in enumerate(num_neurons[:-2]):\n",
    "            out_dims = num_neurons[i+1]\n",
    "            self.layers.add_module(f\"{i*2} | Linear_{i:<5}\", nn.Linear(in_features=in_dims, out_features=out_dims, bias=True))\n",
    "            self.layers.add_module(f\"{i*2+1} | Activation_{i}\", activation())\n",
    "        self.layers.add_module(f\"{len(num_neurons)} | Linear_{len(num_neurons)-2:<5}\", nn.Linear(in_features=num_neurons[-2], out_features=output_dim, bias=True))\n",
    "\n",
    "        \n",
    "    def forward(self, x):\n",
    "        \"\"\" Forward pass through the model\"\"\"\n",
    "        assert len(x.shape) == 2, f\"ERROR! Shape of input must be 2D (b_size, dim)\"\n",
    "        pred = self.layers(x)\n",
    "        return pred\n",
    "\n",
    "def count_model_params(model):\n",
    "    \"\"\" Counting the number of learnable parameters in a nn.Module \"\"\"\n",
    "    num_params = sum(p.numel() for p in model.parameters() if p.requires_grad)\n",
    "    return num_params"
   ]
  },
  {
   "cell_type": "markdown",
   "metadata": {},
   "source": [
    "Lets check the structure of the model"
   ]
  },
  {
   "cell_type": "code",
   "execution_count": 13,
   "metadata": {},
   "outputs": [
    {
     "name": "stdout",
     "output_type": "stream",
     "text": [
      "Model(\n",
      "  (layers): Sequential(\n",
      "    (0 | Linear_0    ): Linear(in_features=784, out_features=128, bias=True)\n",
      "    (1 | Activation_0): ReLU()\n",
      "    (2 | Linear_1    ): Linear(in_features=128, out_features=64, bias=True)\n",
      "    (3 | Activation_1): ReLU()\n",
      "    (4 | Linear_2    ): Linear(in_features=64, out_features=10, bias=True)\n",
      "  )\n",
      ")\n"
     ]
    }
   ],
   "source": [
    "model = Model()\n",
    "print(model)"
   ]
  },
  {
   "cell_type": "code",
   "execution_count": 14,
   "metadata": {},
   "outputs": [
    {
     "name": "stdout",
     "output_type": "stream",
     "text": [
      "# Number of model parameters: 109386\n"
     ]
    }
   ],
   "source": [
    "print(f\"# Number of model parameters: {count_model_params(model)}\")"
   ]
  },
  {
   "cell_type": "markdown",
   "metadata": {},
   "source": [
    "## Training the Model"
   ]
  },
  {
   "cell_type": "code",
   "execution_count": 13,
   "metadata": {},
   "outputs": [],
   "source": [
    "NUM_EPOCHS = 10\n",
    "LR = 3e-4"
   ]
  },
  {
   "cell_type": "code",
   "execution_count": 14,
   "metadata": {},
   "outputs": [
    {
     "name": "stdout",
     "output_type": "stream",
     "text": [
      "NVIDIA GeForce GTX 1060 6GB\n",
      "NVIDIA GeForce GTX 1060 3GB\n",
      "NVIDIA GeForce GTX 1060 3GB\n"
     ]
    }
   ],
   "source": [
    "for i in range(torch.cuda.device_count()):\n",
    "    print(torch.cuda.get_device_name(i))  "
   ]
  },
  {
   "cell_type": "code",
   "execution_count": 15,
   "metadata": {},
   "outputs": [],
   "source": [
    "device = torch.device(\"cuda\" if torch.cuda.is_available() else \"cpu\")\n",
    "model = Model(input_dim=784, hidden_layers_dims=[128], output_dim=10, activation=nn.ReLU)\n",
    "model = model.to(device)"
   ]
  },
  {
   "cell_type": "code",
   "execution_count": 16,
   "metadata": {},
   "outputs": [],
   "source": [
    "criterion = nn.CrossEntropyLoss()  # already includes a Softmax!\n",
    "optimizer = torch.optim.Adam(model.parameters(), lr=LR)"
   ]
  },
  {
   "cell_type": "code",
   "execution_count": 20,
   "metadata": {},
   "outputs": [
    {
     "name": "stderr",
     "output_type": "stream",
     "text": [
      "Epoch 1 Iter 59: loss 1.00955. : 100%|██████████| 59/59 [00:10<00:00,  5.85it/s]\n",
      "Epoch 2 Iter 59: loss 0.74558. : 100%|██████████| 59/59 [00:07<00:00,  7.94it/s]\n",
      "Epoch 3 Iter 59: loss 0.60384. : 100%|██████████| 59/59 [00:07<00:00,  7.94it/s]\n",
      "Epoch 4 Iter 59: loss 0.56621. : 100%|██████████| 59/59 [00:07<00:00,  8.01it/s]\n",
      "Epoch 5 Iter 59: loss 0.50683. : 100%|██████████| 59/59 [00:07<00:00,  7.91it/s]\n",
      "Epoch 6 Iter 59: loss 0.49854. : 100%|██████████| 59/59 [00:07<00:00,  7.90it/s]\n",
      "Epoch 7 Iter 59: loss 0.47622. : 100%|██████████| 59/59 [00:07<00:00,  7.92it/s]\n",
      "Epoch 8 Iter 59: loss 0.50216. : 100%|██████████| 59/59 [00:07<00:00,  7.91it/s]\n",
      "Epoch 9 Iter 59: loss 0.39647. : 100%|██████████| 59/59 [00:07<00:00,  8.07it/s]\n",
      "Epoch 10 Iter 59: loss 0.36506. : 100%|██████████| 59/59 [00:07<00:00,  7.69it/s]\n"
     ]
    }
   ],
   "source": [
    "loss_list = []\n",
    "acc_list = []\n",
    "\n",
    "for epoch in range(NUM_EPOCHS):\n",
    "    progress_bar = tqdm(train_loader, total=len(train_loader))\n",
    "    for i, (imgs, labels) in enumerate(progress_bar):\n",
    "        # using GPU\n",
    "        imgs, labels = imgs.to(device), labels.to(device)\n",
    "    \n",
    "        # forward pass\n",
    "        flattened_imgs = imgs.flatten(start_dim=1)\n",
    "        preds = model(flattened_imgs)\n",
    "    \n",
    "        # computing error\n",
    "        loss = criterion(preds, labels)\n",
    "        loss_list.append(loss.item())\n",
    "\n",
    "        # computing accuracy\n",
    "        train_acc = (preds.argmax(dim=1) == labels).float().mean()\n",
    "        acc_list.append(train_acc.item())\n",
    "\n",
    "        # removing accumulated gradients\n",
    "        optimizer.zero_grad()\n",
    "    \n",
    "        # backprogating error to compute gradients\n",
    "        loss.backward()\n",
    "    \n",
    "        # updating arameters\n",
    "        optimizer.step()\n",
    "    \n",
    "        if(i % 100 == 0 or i == len(train_loader) - 1):\n",
    "            progress_bar.set_description(f\"Epoch {epoch + 1} Iter {i + 1}: loss {loss.item():.5f}. \")"
   ]
  },
  {
   "cell_type": "code",
   "execution_count": 22,
   "metadata": {},
   "outputs": [],
   "source": [
    "def smooth(f, K=5):\n",
    "    \"\"\" Smoothing a function using a low-pass filter (mean) of size K \"\"\"\n",
    "    kernel = np.ones(K) / K\n",
    "    f = np.concatenate([f[:int(K//2)], f, f[int(-K//2):]])  # to account for boundaries\n",
    "    smooth_f = np.convolve(f, kernel, mode=\"same\")\n",
    "    smooth_f = smooth_f[K//2: -K//2]  # removing boundary-fixes\n",
    "    return smooth_f"
   ]
  },
  {
   "cell_type": "code",
   "execution_count": 23,
   "metadata": {},
   "outputs": [
    {
     "data": {
      "image/png": "[encoded data removed]",
      "text/plain": [
       "<Figure size 1296x360 with 2 Axes>"
      ]
     },
     "metadata": {},
     "output_type": "display_data"
    }
   ],
   "source": [
    "plt.style.use('seaborn')\n",
    "fig, ax = plt.subplots(1,2)\n",
    "fig.set_size_inches(18,5)\n",
    "\n",
    "smooth_loss = smooth(loss_list, 31)\n",
    "ax[0].plot(loss_list, c=\"blue\", label=\"Training Loss\", linewidth=3, alpha=0.5)\n",
    "ax[0].plot(smooth_loss, c=\"red\", label=\"Smoothed Loss\", linewidth=3)\n",
    "ax[0].legend(loc=\"best\")\n",
    "ax[0].set_xlabel(\"Iteration\")\n",
    "ax[0].set_ylabel(\"CE Loss\")\n",
    "ax[0].set_title(\"Training Progress (linearscale)\")\n",
    "\n",
    "ax[1].plot(loss_list, c=\"blue\", label=\"Training Loss\", linewidth=3, alpha=0.5)\n",
    "ax[1].plot(smooth_loss, c=\"red\", label=\"Smoothed Loss\", linewidth=3)\n",
    "ax[1].legend(loc=\"best\")\n",
    "ax[1].set_xlabel(\"Iteration\")\n",
    "ax[1].set_ylabel(\"CE Loss\")\n",
    "ax[1].set_yscale(\"log\")\n",
    "ax[1].set_title(\"Training Progress (logscale)\")\n",
    "\n",
    "plt.show()"
   ]
  },
  {
   "cell_type": "code",
   "execution_count": 24,
   "metadata": {},
   "outputs": [
    {
     "data": {
      "image/png": "[encoded data removed]",
      "text/plain": [
       "<Figure size 1296x360 with 2 Axes>"
      ]
     },
     "metadata": {},
     "output_type": "display_data"
    }
   ],
   "source": [
    "plt.style.use('seaborn')\n",
    "fig, ax = plt.subplots(1,2)\n",
    "fig.set_size_inches(18,5)\n",
    "\n",
    "smooth_acc = smooth(acc_list, 31)\n",
    "ax[0].plot(acc_list, c=\"blue\", label=\"Training Accuracy\", linewidth=3, alpha=0.5)\n",
    "ax[0].plot(smooth_acc, c=\"red\", label=\"Smoothed Accuracy\", linewidth=3)\n",
    "ax[0].legend(loc=\"best\")\n",
    "ax[0].set_xlabel(\"Iteration\")\n",
    "ax[0].set_ylabel(\"Accuracy\")\n",
    "ax[0].set_title(\"Training Progress (linearscale)\")\n",
    "\n",
    "ax[1].plot(acc_list, c=\"blue\", label=\"Training Accuracy\", linewidth=3, alpha=0.5)\n",
    "ax[1].plot(smooth_acc, c=\"red\", label=\"Smoothed Accuracy\", linewidth=3)\n",
    "ax[1].legend(loc=\"best\")\n",
    "ax[1].set_xlabel(\"Iteration\")\n",
    "ax[1].set_ylabel(\"Accuracy\")\n",
    "ax[1].set_yscale(\"log\")\n",
    "ax[1].set_title(\"Training Progress (logscale)\")\n",
    "\n",
    "plt.show()"
   ]
  },
  {
   "cell_type": "markdown",
   "metadata": {},
   "source": [
    "## Evaluating Trained Model"
   ]
  },
  {
   "cell_type": "code",
   "execution_count": 53,
   "metadata": {},
   "outputs": [
    {
     "name": "stderr",
     "output_type": "stream",
     "text": [
      "100%|██████████| 10/10 [00:01<00:00,  7.46it/s]"
     ]
    },
    {
     "name": "stdout",
     "output_type": "stream",
     "text": [
      "Test accuracy: 83.64%\n"
     ]
    },
    {
     "name": "stderr",
     "output_type": "stream",
     "text": [
      "\n"
     ]
    }
   ],
   "source": [
    "n_correct = 0\n",
    "\n",
    "y_pred = [] # list of predictionsof the model\n",
    "y_true = [] # list of true labels\n",
    "\n",
    "eval_loss_list = []\n",
    "\n",
    "with torch.no_grad():\n",
    "    progress_bar = tqdm(enumerate(eval_loader), total=len(eval_loader))\n",
    "    for i, (imgs, labels) in progress_bar: \n",
    "        #everything needs to be on the same device\n",
    "        imgs = imgs.to(device)\n",
    "        labels = labels.to(device)\n",
    "        y_true.extend(labels.cpu().numpy()) # Save Truth\n",
    "        \n",
    "        # forward pass\n",
    "        flattened_imgs = imgs.flatten(start_dim=1)\n",
    "        preds = model(flattened_imgs)\n",
    "\n",
    "        \n",
    "        \n",
    "        \n",
    "        pred_labels = torch.argmax(preds, dim=-1)\n",
    "        loss = criterion(preds, labels)\n",
    "        eval_loss_list.append(loss.item())\n",
    "\n",
    "        y_pred.extend(pred_labels.cpu().numpy()) # Save Prediction\n",
    "        cur_correct = len(torch.where(pred_labels == labels)[0])\n",
    "        n_correct = n_correct + cur_correct\n",
    "\n",
    "accuracy = n_correct / len(test_dataset) * 100\n",
    "print(f\"Test accuracy: {round(accuracy,2)}%\")"
   ]
  },
  {
   "cell_type": "code",
   "execution_count": 26,
   "metadata": {},
   "outputs": [
    {
     "name": "stdout",
     "output_type": "stream",
     "text": [
      "Test loss: 0.47\n"
     ]
    }
   ],
   "source": [
    "eval_loss = np.mean(eval_loss_list)\n",
    "print(f\"Test loss: {round(eval_loss,2)}\")"
   ]
  },
  {
   "cell_type": "markdown",
   "metadata": {},
   "source": [
    "### Confusion matrix"
   ]
  },
  {
   "cell_type": "code",
   "execution_count": 54,
   "metadata": {},
   "outputs": [
    {
     "data": {
      "text/plain": [
       "<AxesSubplot:>"
      ]
     },
     "execution_count": 54,
     "metadata": {},
     "output_type": "execute_result"
    },
    {
     "data": {
      "image/png": "[encoded data removed]",
      "text/plain": [
       "<Figure size 864x504 with 2 Axes>"
      ]
     },
     "metadata": {},
     "output_type": "display_data"
    }
   ],
   "source": [
    "from sklearn.metrics import confusion_matrix\n",
    "import seaborn as sn\n",
    "import pandas as pd\n",
    "\n",
    "# constant for classes\n",
    "classes = ('T-shirt/top', 'Trouser', 'Pullover', 'Dress', 'Coat',\n",
    "        'Sandal', 'Shirt', 'Sneaker', 'Bag', 'Ankle Boot')\n",
    "\n",
    "# Build confusion matrix\n",
    "# print(y_pred)\n",
    "cf_matrix = confusion_matrix(y_true, y_pred)\n",
    "df_cm = pd.DataFrame(cf_matrix/np.sum(cf_matrix) *10, index = [i for i in classes],\n",
    "                     columns = [i for i in classes])\n",
    "plt.figure(figsize = (12,7))\n",
    "sn.heatmap(df_cm, annot=True)\n",
    "# plt.savefig('output.png')"
   ]
  },
  {
   "cell_type": "markdown",
   "metadata": {},
   "source": [
    "The diagonal of confusion matrix represents the portion of true classified elements. \n",
    "\n",
    "The upper rectangle shows the false-negative classificatons, and the lower triangle represents false-positive classifications\n",
    "\n",
    "We can see that our model has problems with the right classification of \"Shirt\"-class. The most part of false-positive classified (as \"Shirt\") elements are from \n",
    "\"T-shirt/top\", \"Pullover\" and \"Coat\". Elements of the \"Shirt\"-class are also false-negative classified as one of these 3 classes (in general about 1.5 times more rear than false-positive results)\n",
    "\n",
    "The best results our model has in prediction of 'Trouser', 'Bag' and 'Ankle Boot' classes.\n"
   ]
  },
  {
   "cell_type": "markdown",
   "metadata": {},
   "source": [
    "## Optimization"
   ]
  },
  {
   "cell_type": "code",
   "execution_count": 34,
   "metadata": {},
   "outputs": [],
   "source": [
    "CLASSES = 10\n",
    "\n",
    "def define_model(trial):\n",
    "    # We optimize the number of layers, hidden units in each layer and activation function.\n",
    "    n_layers = trial.suggest_int(\"n_layers\", 1, 3)\n",
    "    hidden_layers_dims = []\n",
    "    for i in range(n_layers):\n",
    "        max_out_features = 324 // (2 ** i)\n",
    "        min_out_features = 16 // (2 ** i)\n",
    "        out_features = trial.suggest_int(\"n_units_l{}\".format(i), min_out_features, max_out_features)\n",
    "        hidden_layers_dims.append(out_features)\n",
    "    activation_name = trial.suggest_categorical(\"activation\", [\"ReLU\", \"LeakyReLU\"])\n",
    "    activation = getattr(nn, activation_name)\n",
    "\n",
    "    model = Model(hidden_layers_dims=hidden_layers_dims, activation=activation)\n",
    "\n",
    "    return model\n"
   ]
  },
  {
   "cell_type": "code",
   "execution_count": 35,
   "metadata": {},
   "outputs": [],
   "source": [
    "def objective(trial):\n",
    "\n",
    "    # Generate the model.\n",
    "    model = define_model(trial).to(device)\n",
    "    criterion = nn.CrossEntropyLoss() \n",
    "\n",
    "    # Generate the optimizers.\n",
    "    optimizer_name = trial.suggest_categorical(\"optimizer\", [\"Adam\", \"RMSprop\"])\n",
    "    lr = trial.suggest_float(\"lr\", 1e-4, 1e-1, log=True)\n",
    "    optimizer = getattr(optim, optimizer_name)(model.parameters(), lr=lr)\n",
    "\n",
    "    # Get the FashionMNIST dataset.\n",
    "    train_loader, eval_loader = get_mnist()\n",
    "\n",
    "    for epoch in range(NUM_EPOCHS):\n",
    "        model.train()\n",
    "        for batch_idx, (data, target) in enumerate(train_loader):\n",
    "            # Limiting training data for faster epochs.\n",
    "            if batch_idx * BATCH_SIZE >= N_TRAIN_EXAMPLES:\n",
    "                break\n",
    "\n",
    "            data, target = data.view(data.size(0), -1).to(device), target.to(device)\n",
    "\n",
    "            optimizer.zero_grad()\n",
    "            output = model(data)\n",
    "            loss = criterion(output, target)\n",
    "            loss.backward()\n",
    "            optimizer.step()\n",
    "        # Validation of the model.\n",
    "        model.eval()\n",
    "        correct = 0\n",
    "        with torch.no_grad():\n",
    "            for batch_idx, (data, target) in enumerate(eval_loader):\n",
    "                # Limiting validation data.\n",
    "                if batch_idx * BATCH_SIZE >= N_VALID_EXAMPLES:\n",
    "                    break\n",
    "                data, target = data.view(data.size(0), -1).to(device), target.to(device)\n",
    "                output = model(data)\n",
    "                # Get the index of the max log-probability.\n",
    "                pred = output.argmax(dim=1, keepdim=True)\n",
    "                correct += pred.eq(target.view_as(pred)).sum().item()\n",
    "\n",
    "        accuracy = correct / min(len(eval_loader.dataset), N_VALID_EXAMPLES)\n",
    "\n",
    "        trial.report(accuracy, epoch)\n",
    "\n",
    "        # Handle pruning based on the intermediate value.\n",
    "        if trial.should_prune():\n",
    "            raise optuna.exceptions.TrialPruned()\n",
    "\n",
    "    return accuracy\n"
   ]
  },
  {
   "cell_type": "markdown",
   "metadata": {},
   "source": [
    "A single study utilizes only 4-6% of GPU Cuda kernels, and takes a lot of time. We can boost the optimization with Parallelization. <br>\n",
    "https://hvy-optuna.readthedocs.io/en/latest/tutorial/10_key_features/004_distributed.html\n",
    "\n",
    "Steps:<br>\n",
    "(1) start an RDB server (this example uses MySQL) <br>\n",
    "(2) create a study with –storage argument<br>\n",
    "(3) share the study among multiple nodes and processes<br>\n",
    "\n",
    "I have created file optim_parallel.py with the same model and so on, which creates 8 parallel study-processes. \n",
    "Only 8 processes, because I don't have enough RAM ;(\n"
   ]
  },
  {
   "cell_type": "code",
   "execution_count": 37,
   "metadata": {},
   "outputs": [],
   "source": [
    "try:\n",
    "    optuna.delete_study(study_name=\"opt_MLP\", storage=\"mysql://root@localhost/opt_MLP\")\n",
    "except:\n",
    "    pass"
   ]
  },
  {
   "cell_type": "code",
   "execution_count": 38,
   "metadata": {},
   "outputs": [
    {
     "name": "stderr",
     "output_type": "stream",
     "text": [
      "\u001b[32m[I 2022-11-15 22:08:22,602]\u001b[0m A new study created in RDB with name: opt_MLP\u001b[0m\n",
      "\u001b[32m[I 2022-11-15 22:10:02,264]\u001b[0m Trial 0 finished with value: 0.8698 and parameters: {'n_layers': 1, 'n_units_l0': 244, 'activation': 'LeakyReLU', 'optimizer': 'Adam', 'lr': 0.002029102197231178}. Best is trial 0 with value: 0.8698.\u001b[0m\n",
      "\u001b[32m[I 2022-11-15 22:11:56,340]\u001b[0m Trial 18 finished with value: 0.8681 and parameters: {'n_layers': 1, 'n_units_l0': 205, 'activation': 'LeakyReLU', 'optimizer': 'Adam', 'lr': 0.02641953490757494}. Best is trial 0 with value: 0.8698.\u001b[0m\n",
      "\u001b[32m[I 2022-11-15 22:13:51,353]\u001b[0m Trial 29 finished with value: 0.8765 and parameters: {'n_layers': 2, 'n_units_l0': 135, 'n_units_l1': 22, 'activation': 'LeakyReLU', 'optimizer': 'Adam', 'lr': 0.005111216837452078}. Best is trial 29 with value: 0.8765.\u001b[0m\n",
      "\u001b[32m[I 2022-11-15 22:15:46,078]\u001b[0m Trial 40 finished with value: 0.8781 and parameters: {'n_layers': 2, 'n_units_l0': 147, 'n_units_l1': 30, 'activation': 'LeakyReLU', 'optimizer': 'Adam', 'lr': 0.008534797952559592}. Best is trial 38 with value: 0.8819.\u001b[0m\n",
      "\u001b[32m[I 2022-11-15 22:17:17,662]\u001b[0m Trial 50 pruned. \u001b[0m\n",
      "\u001b[32m[I 2022-11-15 22:17:29,090]\u001b[0m Trial 83 pruned. \u001b[0m\n",
      "\u001b[32m[I 2022-11-15 22:19:23,293]\u001b[0m Trial 89 finished with value: 0.8728 and parameters: {'n_layers': 2, 'n_units_l0': 145, 'n_units_l1': 50, 'activation': 'LeakyReLU', 'optimizer': 'Adam', 'lr': 0.010593912232359115}. Best is trial 38 with value: 0.8819.\u001b[0m\n",
      "\u001b[32m[I 2022-11-15 22:21:17,291]\u001b[0m Trial 109 finished with value: 0.87 and parameters: {'n_layers': 2, 'n_units_l0': 131, 'n_units_l1': 98, 'activation': 'LeakyReLU', 'optimizer': 'Adam', 'lr': 0.012134366954537306}. Best is trial 38 with value: 0.8819.\u001b[0m\n",
      "\u001b[32m[I 2022-11-15 22:21:28,886]\u001b[0m Trial 128 pruned. \u001b[0m\n",
      "\u001b[32m[I 2022-11-15 22:21:40,344]\u001b[0m Trial 133 pruned. \u001b[0m\n",
      "\u001b[32m[I 2022-11-15 22:23:35,028]\u001b[0m Trial 137 finished with value: 0.8785 and parameters: {'n_layers': 2, 'n_units_l0': 139, 'n_units_l1': 109, 'activation': 'LeakyReLU', 'optimizer': 'Adam', 'lr': 0.007300630044708924}. Best is trial 38 with value: 0.8819.\u001b[0m\n",
      "\u001b[32m[I 2022-11-15 22:23:46,961]\u001b[0m Trial 173 pruned. \u001b[0m\n",
      "\u001b[32m[I 2022-11-15 22:24:32,697]\u001b[0m Trial 178 pruned. \u001b[0m\n",
      "\u001b[32m[I 2022-11-15 22:25:07,249]\u001b[0m Trial 185 pruned. \u001b[0m\n",
      "\u001b[32m[I 2022-11-15 22:25:30,561]\u001b[0m Trial 194 pruned. \u001b[0m\n",
      "\u001b[32m[I 2022-11-15 22:27:11,947]\u001b[0m Trial 200 finished with value: 0.8785 and parameters: {'n_layers': 2, 'n_units_l0': 195, 'n_units_l1': 129, 'activation': 'LeakyReLU', 'optimizer': 'Adam', 'lr': 0.0077463265016339015}. Best is trial 38 with value: 0.8819.\u001b[0m\n",
      "\u001b[32m[I 2022-11-15 22:27:21,084]\u001b[0m Trial 220 pruned. \u001b[0m\n",
      "\u001b[32m[I 2022-11-15 22:27:30,042]\u001b[0m Trial 221 pruned. \u001b[0m\n",
      "\u001b[32m[I 2022-11-15 22:27:39,084]\u001b[0m Trial 222 pruned. \u001b[0m\n",
      "\u001b[32m[I 2022-11-15 22:27:48,117]\u001b[0m Trial 223 pruned. \u001b[0m\n",
      "\u001b[32m[I 2022-11-15 22:27:56,879]\u001b[0m Trial 224 pruned. \u001b[0m\n",
      "\u001b[32m[I 2022-11-15 22:29:23,083]\u001b[0m Trial 225 finished with value: 0.8801 and parameters: {'n_layers': 2, 'n_units_l0': 309, 'n_units_l1': 154, 'activation': 'LeakyReLU', 'optimizer': 'Adam', 'lr': 0.009006451536771114}. Best is trial 38 with value: 0.8819.\u001b[0m\n"
     ]
    },
    {
     "name": "stdout",
     "output_type": "stream",
     "text": [
      "Study statistics: \n",
      "  Number of finished trials:  226\n",
      "  Number of pruned trials:  164\n",
      "  Number of complete trials:  53\n",
      "Best trial:\n",
      "  Value:  0.8819\n",
      "  Params: \n",
      "    activation: LeakyReLU\n",
      "    lr: 0.015372986857453516\n",
      "    n_layers: 1\n",
      "    n_units_l0: 210\n",
      "    optimizer: Adam\n"
     ]
    }
   ],
   "source": [
    "study = optuna.create_study(direction=\"maximize\", study_name=\"opt_MLP\", storage=\"mysql://root@localhost/opt_MLP\", load_if_exists=True)\n",
    "study.optimize(objective, n_trials=200, timeout=1200)\n",
    "\n",
    "pruned_trials = study.get_trials(deepcopy=False, states=[TrialState.PRUNED])\n",
    "complete_trials = study.get_trials(deepcopy=False, states=[TrialState.COMPLETE])\n",
    "\n",
    "print(\"Study statistics: \")\n",
    "print(\"  Number of finished trials: \", len(study.trials))\n",
    "print(\"  Number of pruned trials: \", len(pruned_trials))\n",
    "print(\"  Number of complete trials: \", len(complete_trials))\n",
    "\n",
    "print(\"Best trial:\")\n",
    "trial = study.best_trial\n",
    "\n",
    "print(\"  Value: \", trial.value)\n",
    "\n",
    "print(\"  Params: \")\n",
    "for key, value in trial.params.items():\n",
    "    print(\"    {}: {}\".format(key, value))\n"
   ]
  },
  {
   "cell_type": "code",
   "execution_count": 39,
   "metadata": {},
   "outputs": [
    {
     "data": {
      "application/vnd.plotly.v1+json": {
       "config": {
        "plotlyServerURL": "https://plot.ly"
       },
       "data": [
        {
         "marker": {
          "color": [
           0,
           10,
           11,
           13,
           14,
           15,
           18,
           22,
           24,
           28,
           29,
           31,
           32,
           34,
           35,
           36,
           37,
           38,
           39,
           40,
           41,
           42,
           43,
           44,
           46,
           48,
           75,
           76,
           77,
           84,
           89,
           99,
           100,
           101,
           103,
           104,
           106,
           107,
           108,
           109,
           112,
           129,
           130,
           136,
           137,
           170,
           171,
           175,
           195,
           200,
           216,
           217,
           225
          ],
          "colorbar": {
           "title": {
            "text": "Trial"
           },
           "x": 1,
           "xpad": 40
          },
          "colorscale": [
           [
            0,
            "rgb(247,251,255)"
           ],
           [
            0.125,
            "rgb(222,235,247)"
           ],
           [
            0.25,
            "rgb(198,219,239)"
           ],
           [
            0.375,
            "rgb(158,202,225)"
           ],
           [
            0.5,
            "rgb(107,174,214)"
           ],
           [
            0.625,
            "rgb(66,146,198)"
           ],
           [
            0.75,
            "rgb(33,113,181)"
           ],
           [
            0.875,
            "rgb(8,81,156)"
           ],
           [
            1,
            "rgb(8,48,107)"
           ]
          ],
          "line": {
           "color": "Grey",
           "width": 0.5
          },
          "showscale": true
         },
         "mode": "markers",
         "showlegend": false,
         "type": "scatter",
         "x": [
          "LeakyReLU",
          "LeakyReLU",
          "LeakyReLU",
          "LeakyReLU",
          "LeakyReLU",
          "LeakyReLU",
          "LeakyReLU",
          "ReLU",
          "LeakyReLU",
          "LeakyReLU",
          "LeakyReLU",
          "LeakyReLU",
          "LeakyReLU",
          "LeakyReLU",
          "LeakyReLU",
          "LeakyReLU",
          "LeakyReLU",
          "LeakyReLU",
          "LeakyReLU",
          "LeakyReLU",
          "LeakyReLU",
          "LeakyReLU",
          "LeakyReLU",
          "LeakyReLU",
          "LeakyReLU",
          "LeakyReLU",
          "LeakyReLU",
          "LeakyReLU",
          "LeakyReLU",
          "LeakyReLU",
          "LeakyReLU",
          "LeakyReLU",
          "LeakyReLU",
          "LeakyReLU",
          "LeakyReLU",
          "LeakyReLU",
          "LeakyReLU",
          "LeakyReLU",
          "LeakyReLU",
          "LeakyReLU",
          "LeakyReLU",
          "LeakyReLU",
          "LeakyReLU",
          "LeakyReLU",
          "LeakyReLU",
          "LeakyReLU",
          "LeakyReLU",
          "LeakyReLU",
          "LeakyReLU",
          "LeakyReLU",
          "LeakyReLU",
          "LeakyReLU",
          "LeakyReLU"
         ],
         "xaxis": "x",
         "y": [
          0.8698,
          0.8095,
          0.8551,
          0.846,
          0.8654,
          0.869,
          0.8681,
          0.8619,
          0.8681,
          0.8638,
          0.8765,
          0.8746,
          0.8759,
          0.8752,
          0.8808,
          0.8659,
          0.8733,
          0.8819,
          0.8755,
          0.8781,
          0.8811,
          0.8778,
          0.8758,
          0.873,
          0.8641,
          0.8724,
          0.8758,
          0.8698,
          0.8815,
          0.8805,
          0.8728,
          0.875,
          0.8737,
          0.8745,
          0.8744,
          0.8799,
          0.8779,
          0.8772,
          0.8786,
          0.87,
          0.8741,
          0.8788,
          0.873,
          0.8817,
          0.8785,
          0.8803,
          0.8793,
          0.8793,
          0.8785,
          0.8785,
          0.8792,
          0.8783,
          0.8801
         ],
         "yaxis": "y"
        },
        {
         "marker": {
          "color": [
           0,
           10,
           11,
           13,
           14,
           15,
           18,
           22,
           24,
           28,
           29,
           31,
           32,
           34,
           35,
           36,
           37,
           38,
           39,
           40,
           41,
           42,
           43,
           44,
           46,
           48,
           75,
           76,
           77,
           84,
           89,
           99,
           100,
           101,
           103,
           104,
           106,
           107,
           108,
           109,
           112,
           129,
           130,
           136,
           137,
           170,
           171,
           175,
           195,
           200,
           216,
           217,
           225
          ],
          "colorbar": {
           "title": {
            "text": "Trial"
           },
           "x": 1,
           "xpad": 40
          },
          "colorscale": [
           [
            0,
            "rgb(247,251,255)"
           ],
           [
            0.125,
            "rgb(222,235,247)"
           ],
           [
            0.25,
            "rgb(198,219,239)"
           ],
           [
            0.375,
            "rgb(158,202,225)"
           ],
           [
            0.5,
            "rgb(107,174,214)"
           ],
           [
            0.625,
            "rgb(66,146,198)"
           ],
           [
            0.75,
            "rgb(33,113,181)"
           ],
           [
            0.875,
            "rgb(8,81,156)"
           ],
           [
            1,
            "rgb(8,48,107)"
           ]
          ],
          "line": {
           "color": "Grey",
           "width": 0.5
          },
          "showscale": false
         },
         "mode": "markers",
         "showlegend": false,
         "type": "scatter",
         "x": [
          0.002029102197231178,
          0.00010304276838080714,
          0.0007318474839444056,
          0.005113767556783974,
          0.0008035247960214514,
          0.0008851099503370642,
          0.02641953490757494,
          0.03890348451146671,
          0.0007335202102024708,
          0.005356488570376725,
          0.005111216837452078,
          0.00799729648496317,
          0.005283968285379495,
          0.009662025288483504,
          0.008469731806373013,
          0.009204642568755533,
          0.011536014212655226,
          0.015372986857453516,
          0.008557810702823953,
          0.008534797952559592,
          0.012699854107899934,
          0.01323377952238283,
          0.014825217760804905,
          0.014971252242458943,
          0.012368908391012014,
          0.015673918679270937,
          0.0073894661941148725,
          0.0063881601499668145,
          0.01039400755371694,
          0.010014857826559235,
          0.010593912232359115,
          0.005581704012076503,
          0.012808894182187213,
          0.008082851768479863,
          0.012397719194273307,
          0.005956133364604813,
          0.011666611834733347,
          0.012313188504684307,
          0.012763495827976118,
          0.012134366954537306,
          0.011589412713603905,
          0.009289913441378833,
          0.00947473091173592,
          0.0077044536807523815,
          0.007300630044708924,
          0.010385424372005988,
          0.008315749501463222,
          0.008220383972921816,
          0.007382675520322863,
          0.0077463265016339015,
          0.008824948586059728,
          0.008469115913671214,
          0.009006451536771114
         ],
         "xaxis": "x2",
         "y": [
          0.8698,
          0.8095,
          0.8551,
          0.846,
          0.8654,
          0.869,
          0.8681,
          0.8619,
          0.8681,
          0.8638,
          0.8765,
          0.8746,
          0.8759,
          0.8752,
          0.8808,
          0.8659,
          0.8733,
          0.8819,
          0.8755,
          0.8781,
          0.8811,
          0.8778,
          0.8758,
          0.873,
          0.8641,
          0.8724,
          0.8758,
          0.8698,
          0.8815,
          0.8805,
          0.8728,
          0.875,
          0.8737,
          0.8745,
          0.8744,
          0.8799,
          0.8779,
          0.8772,
          0.8786,
          0.87,
          0.8741,
          0.8788,
          0.873,
          0.8817,
          0.8785,
          0.8803,
          0.8793,
          0.8793,
          0.8785,
          0.8785,
          0.8792,
          0.8783,
          0.8801
         ],
         "yaxis": "y2"
        },
        {
         "marker": {
          "color": [
           0,
           10,
           11,
           13,
           14,
           15,
           18,
           22,
           24,
           28,
           29,
           31,
           32,
           34,
           35,
           36,
           37,
           38,
           39,
           40,
           41,
           42,
           43,
           44,
           46,
           48,
           75,
           76,
           77,
           84,
           89,
           99,
           100,
           101,
           103,
           104,
           106,
           107,
           108,
           109,
           112,
           129,
           130,
           136,
           137,
           170,
           171,
           175,
           195,
           200,
           216,
           217,
           225
          ],
          "colorbar": {
           "title": {
            "text": "Trial"
           },
           "x": 1,
           "xpad": 40
          },
          "colorscale": [
           [
            0,
            "rgb(247,251,255)"
           ],
           [
            0.125,
            "rgb(222,235,247)"
           ],
           [
            0.25,
            "rgb(198,219,239)"
           ],
           [
            0.375,
            "rgb(158,202,225)"
           ],
           [
            0.5,
            "rgb(107,174,214)"
           ],
           [
            0.625,
            "rgb(66,146,198)"
           ],
           [
            0.75,
            "rgb(33,113,181)"
           ],
           [
            0.875,
            "rgb(8,81,156)"
           ],
           [
            1,
            "rgb(8,48,107)"
           ]
          ],
          "line": {
           "color": "Grey",
           "width": 0.5
          },
          "showscale": false
         },
         "mode": "markers",
         "showlegend": false,
         "type": "scatter",
         "x": [
          1,
          3,
          3,
          3,
          1,
          2,
          1,
          1,
          2,
          2,
          2,
          2,
          2,
          1,
          1,
          2,
          2,
          1,
          1,
          2,
          2,
          2,
          2,
          2,
          1,
          1,
          2,
          2,
          2,
          2,
          2,
          1,
          1,
          1,
          2,
          2,
          2,
          2,
          2,
          2,
          2,
          2,
          2,
          2,
          2,
          2,
          2,
          2,
          2,
          2,
          2,
          2,
          2
         ],
         "xaxis": "x3",
         "y": [
          0.8698,
          0.8095,
          0.8551,
          0.846,
          0.8654,
          0.869,
          0.8681,
          0.8619,
          0.8681,
          0.8638,
          0.8765,
          0.8746,
          0.8759,
          0.8752,
          0.8808,
          0.8659,
          0.8733,
          0.8819,
          0.8755,
          0.8781,
          0.8811,
          0.8778,
          0.8758,
          0.873,
          0.8641,
          0.8724,
          0.8758,
          0.8698,
          0.8815,
          0.8805,
          0.8728,
          0.875,
          0.8737,
          0.8745,
          0.8744,
          0.8799,
          0.8779,
          0.8772,
          0.8786,
          0.87,
          0.8741,
          0.8788,
          0.873,
          0.8817,
          0.8785,
          0.8803,
          0.8793,
          0.8793,
          0.8785,
          0.8785,
          0.8792,
          0.8783,
          0.8801
         ],
         "yaxis": "y3"
        },
        {
         "marker": {
          "color": [
           0,
           10,
           11,
           13,
           14,
           15,
           18,
           22,
           24,
           28,
           29,
           31,
           32,
           34,
           35,
           36,
           37,
           38,
           39,
           40,
           41,
           42,
           43,
           44,
           46,
           48,
           75,
           76,
           77,
           84,
           89,
           99,
           100,
           101,
           103,
           104,
           106,
           107,
           108,
           109,
           112,
           129,
           130,
           136,
           137,
           170,
           171,
           175,
           195,
           200,
           216,
           217,
           225
          ],
          "colorbar": {
           "title": {
            "text": "Trial"
           },
           "x": 1,
           "xpad": 40
          },
          "colorscale": [
           [
            0,
            "rgb(247,251,255)"
           ],
           [
            0.125,
            "rgb(222,235,247)"
           ],
           [
            0.25,
            "rgb(198,219,239)"
           ],
           [
            0.375,
            "rgb(158,202,225)"
           ],
           [
            0.5,
            "rgb(107,174,214)"
           ],
           [
            0.625,
            "rgb(66,146,198)"
           ],
           [
            0.75,
            "rgb(33,113,181)"
           ],
           [
            0.875,
            "rgb(8,81,156)"
           ],
           [
            1,
            "rgb(8,48,107)"
           ]
          ],
          "line": {
           "color": "Grey",
           "width": 0.5
          },
          "showscale": false
         },
         "mode": "markers",
         "showlegend": false,
         "type": "scatter",
         "x": [
          244,
          233,
          174,
          191,
          298,
          231,
          205,
          256,
          305,
          228,
          135,
          321,
          152,
          150,
          156,
          161,
          159,
          210,
          202,
          147,
          149,
          144,
          145,
          95,
          123,
          135,
          166,
          166,
          163,
          107,
          145,
          201,
          156,
          207,
          151,
          157,
          153,
          185,
          130,
          131,
          93,
          161,
          159,
          174,
          139,
          210,
          167,
          210,
          134,
          195,
          236,
          303,
          309
         ],
         "xaxis": "x4",
         "y": [
          0.8698,
          0.8095,
          0.8551,
          0.846,
          0.8654,
          0.869,
          0.8681,
          0.8619,
          0.8681,
          0.8638,
          0.8765,
          0.8746,
          0.8759,
          0.8752,
          0.8808,
          0.8659,
          0.8733,
          0.8819,
          0.8755,
          0.8781,
          0.8811,
          0.8778,
          0.8758,
          0.873,
          0.8641,
          0.8724,
          0.8758,
          0.8698,
          0.8815,
          0.8805,
          0.8728,
          0.875,
          0.8737,
          0.8745,
          0.8744,
          0.8799,
          0.8779,
          0.8772,
          0.8786,
          0.87,
          0.8741,
          0.8788,
          0.873,
          0.8817,
          0.8785,
          0.8803,
          0.8793,
          0.8793,
          0.8785,
          0.8785,
          0.8792,
          0.8783,
          0.8801
         ],
         "yaxis": "y4"
        },
        {
         "marker": {
          "color": [
           10,
           11,
           13,
           15,
           24,
           28,
           29,
           31,
           32,
           36,
           37,
           40,
           41,
           42,
           43,
           44,
           75,
           76,
           77,
           84,
           89,
           103,
           104,
           106,
           107,
           108,
           109,
           112,
           129,
           130,
           136,
           137,
           170,
           171,
           175,
           195,
           200,
           216,
           217,
           225
          ],
          "colorbar": {
           "title": {
            "text": "Trial"
           },
           "x": 1,
           "xpad": 40
          },
          "colorscale": [
           [
            0,
            "rgb(247,251,255)"
           ],
           [
            0.125,
            "rgb(222,235,247)"
           ],
           [
            0.25,
            "rgb(198,219,239)"
           ],
           [
            0.375,
            "rgb(158,202,225)"
           ],
           [
            0.5,
            "rgb(107,174,214)"
           ],
           [
            0.625,
            "rgb(66,146,198)"
           ],
           [
            0.75,
            "rgb(33,113,181)"
           ],
           [
            0.875,
            "rgb(8,81,156)"
           ],
           [
            1,
            "rgb(8,48,107)"
           ]
          ],
          "line": {
           "color": "Grey",
           "width": 0.5
          },
          "showscale": false
         },
         "mode": "markers",
         "showlegend": false,
         "type": "scatter",
         "x": [
          127,
          92,
          105,
          91,
          84,
          10,
          22,
          52,
          64,
          14,
          16,
          30,
          37,
          28,
          31,
          36,
          45,
          46,
          35,
          85,
          50,
          99,
          113,
          99,
          101,
          79,
          98,
          99,
          108,
          106,
          107,
          109,
          117,
          118,
          117,
          108,
          129,
          63,
          161,
          154
         ],
         "xaxis": "x5",
         "y": [
          0.8095,
          0.8551,
          0.846,
          0.869,
          0.8681,
          0.8638,
          0.8765,
          0.8746,
          0.8759,
          0.8659,
          0.8733,
          0.8781,
          0.8811,
          0.8778,
          0.8758,
          0.873,
          0.8758,
          0.8698,
          0.8815,
          0.8805,
          0.8728,
          0.8744,
          0.8799,
          0.8779,
          0.8772,
          0.8786,
          0.87,
          0.8741,
          0.8788,
          0.873,
          0.8817,
          0.8785,
          0.8803,
          0.8793,
          0.8793,
          0.8785,
          0.8785,
          0.8792,
          0.8783,
          0.8801
         ],
         "yaxis": "y5"
        },
        {
         "marker": {
          "color": [
           10,
           11,
           13
          ],
          "colorbar": {
           "title": {
            "text": "Trial"
           },
           "x": 1,
           "xpad": 40
          },
          "colorscale": [
           [
            0,
            "rgb(247,251,255)"
           ],
           [
            0.125,
            "rgb(222,235,247)"
           ],
           [
            0.25,
            "rgb(198,219,239)"
           ],
           [
            0.375,
            "rgb(158,202,225)"
           ],
           [
            0.5,
            "rgb(107,174,214)"
           ],
           [
            0.625,
            "rgb(66,146,198)"
           ],
           [
            0.75,
            "rgb(33,113,181)"
           ],
           [
            0.875,
            "rgb(8,81,156)"
           ],
           [
            1,
            "rgb(8,48,107)"
           ]
          ],
          "line": {
           "color": "Grey",
           "width": 0.5
          },
          "showscale": false
         },
         "mode": "markers",
         "showlegend": false,
         "type": "scatter",
         "x": [
          44,
          51,
          36
         ],
         "xaxis": "x6",
         "y": [
          0.8095,
          0.8551,
          0.846
         ],
         "yaxis": "y6"
        },
        {
         "marker": {
          "color": [
           0,
           10,
           11,
           13,
           14,
           15,
           18,
           22,
           24,
           28,
           29,
           31,
           32,
           34,
           35,
           36,
           37,
           38,
           39,
           40,
           41,
           42,
           43,
           44,
           46,
           48,
           75,
           76,
           77,
           84,
           89,
           99,
           100,
           101,
           103,
           104,
           106,
           107,
           108,
           109,
           112,
           129,
           130,
           136,
           137,
           170,
           171,
           175,
           195,
           200,
           216,
           217,
           225
          ],
          "colorbar": {
           "title": {
            "text": "Trial"
           },
           "x": 1,
           "xpad": 40
          },
          "colorscale": [
           [
            0,
            "rgb(247,251,255)"
           ],
           [
            0.125,
            "rgb(222,235,247)"
           ],
           [
            0.25,
            "rgb(198,219,239)"
           ],
           [
            0.375,
            "rgb(158,202,225)"
           ],
           [
            0.5,
            "rgb(107,174,214)"
           ],
           [
            0.625,
            "rgb(66,146,198)"
           ],
           [
            0.75,
            "rgb(33,113,181)"
           ],
           [
            0.875,
            "rgb(8,81,156)"
           ],
           [
            1,
            "rgb(8,48,107)"
           ]
          ],
          "line": {
           "color": "Grey",
           "width": 0.5
          },
          "showscale": false
         },
         "mode": "markers",
         "showlegend": false,
         "type": "scatter",
         "x": [
          "Adam",
          "Adam",
          "Adam",
          "RMSprop",
          "Adam",
          "RMSprop",
          "Adam",
          "Adam",
          "Adam",
          "Adam",
          "Adam",
          "Adam",
          "Adam",
          "Adam",
          "Adam",
          "Adam",
          "Adam",
          "Adam",
          "Adam",
          "Adam",
          "Adam",
          "Adam",
          "Adam",
          "Adam",
          "Adam",
          "Adam",
          "Adam",
          "Adam",
          "Adam",
          "Adam",
          "Adam",
          "Adam",
          "Adam",
          "Adam",
          "Adam",
          "Adam",
          "Adam",
          "Adam",
          "Adam",
          "Adam",
          "Adam",
          "Adam",
          "Adam",
          "Adam",
          "Adam",
          "Adam",
          "Adam",
          "Adam",
          "Adam",
          "Adam",
          "Adam",
          "Adam",
          "Adam"
         ],
         "xaxis": "x7",
         "y": [
          0.8698,
          0.8095,
          0.8551,
          0.846,
          0.8654,
          0.869,
          0.8681,
          0.8619,
          0.8681,
          0.8638,
          0.8765,
          0.8746,
          0.8759,
          0.8752,
          0.8808,
          0.8659,
          0.8733,
          0.8819,
          0.8755,
          0.8781,
          0.8811,
          0.8778,
          0.8758,
          0.873,
          0.8641,
          0.8724,
          0.8758,
          0.8698,
          0.8815,
          0.8805,
          0.8728,
          0.875,
          0.8737,
          0.8745,
          0.8744,
          0.8799,
          0.8779,
          0.8772,
          0.8786,
          0.87,
          0.8741,
          0.8788,
          0.873,
          0.8817,
          0.8785,
          0.8803,
          0.8793,
          0.8793,
          0.8785,
          0.8785,
          0.8792,
          0.8783,
          0.8801
         ],
         "yaxis": "y7"
        }
       ],
       "layout": {
        "template": {
         "data": {
          "bar": [
           {
            "error_x": {
             "color": "#2a3f5f"
            },
            "error_y": {
             "color": "#2a3f5f"
            },
            "marker": {
             "line": {
              "color": "#E5ECF6",
              "width": 0.5
             },
             "pattern": {
              "fillmode": "overlay",
              "size": 10,
              "solidity": 0.2
             }
            },
            "type": "bar"
           }
          ],
          "barpolar": [
           {
            "marker": {
             "line": {
              "color": "#E5ECF6",
              "width": 0.5
             },
             "pattern": {
              "fillmode": "overlay",
              "size": 10,
              "solidity": 0.2
             }
            },
            "type": "barpolar"
           }
          ],
          "carpet": [
           {
            "aaxis": {
             "endlinecolor": "#2a3f5f",
             "gridcolor": "white",
             "linecolor": "white",
             "minorgridcolor": "white",
             "startlinecolor": "#2a3f5f"
            },
            "baxis": {
             "endlinecolor": "#2a3f5f",
             "gridcolor": "white",
             "linecolor": "white",
             "minorgridcolor": "white",
             "startlinecolor": "#2a3f5f"
            },
            "type": "carpet"
           }
          ],
          "choropleth": [
           {
            "colorbar": {
             "outlinewidth": 0,
             "ticks": ""
            },
            "type": "choropleth"
           }
          ],
          "contour": [
           {
            "colorbar": {
             "outlinewidth": 0,
             "ticks": ""
            },
            "colorscale": [
             [
              0,
              "#0d0887"
             ],
             [
              0.1111111111111111,
              "#46039f"
             ],
             [
              0.2222222222222222,
              "#7201a8"
             ],
             [
              0.3333333333333333,
              "#9c179e"
             ],
             [
              0.4444444444444444,
              "#bd3786"
             ],
             [
              0.5555555555555556,
              "#d8576b"
             ],
             [
              0.6666666666666666,
              "#ed7953"
             ],
             [
              0.7777777777777778,
              "#fb9f3a"
             ],
             [
              0.8888888888888888,
              "#fdca26"
             ],
             [
              1,
              "#f0f921"
             ]
            ],
            "type": "contour"
           }
          ],
          "contourcarpet": [
           {
            "colorbar": {
             "outlinewidth": 0,
             "ticks": ""
            },
            "type": "contourcarpet"
           }
          ],
          "heatmap": [
           {
            "colorbar": {
             "outlinewidth": 0,
             "ticks": ""
            },
            "colorscale": [
             [
              0,
              "#0d0887"
             ],
             [
              0.1111111111111111,
              "#46039f"
             ],
             [
              0.2222222222222222,
              "#7201a8"
             ],
             [
              0.3333333333333333,
              "#9c179e"
             ],
             [
              0.4444444444444444,
              "#bd3786"
             ],
             [
              0.5555555555555556,
              "#d8576b"
             ],
             [
              0.6666666666666666,
              "#ed7953"
             ],
             [
              0.7777777777777778,
              "#fb9f3a"
             ],
             [
              0.8888888888888888,
              "#fdca26"
             ],
             [
              1,
              "#f0f921"
             ]
            ],
            "type": "heatmap"
           }
          ],
          "heatmapgl": [
           {
            "colorbar": {
             "outlinewidth": 0,
             "ticks": ""
            },
            "colorscale": [
             [
              0,
              "#0d0887"
             ],
             [
              0.1111111111111111,
              "#46039f"
             ],
             [
              0.2222222222222222,
              "#7201a8"
             ],
             [
              0.3333333333333333,
              "#9c179e"
             ],
             [
              0.4444444444444444,
              "#bd3786"
             ],
             [
              0.5555555555555556,
              "#d8576b"
             ],
             [
              0.6666666666666666,
              "#ed7953"
             ],
             [
              0.7777777777777778,
              "#fb9f3a"
             ],
             [
              0.8888888888888888,
              "#fdca26"
             ],
             [
              1,
              "#f0f921"
             ]
            ],
            "type": "heatmapgl"
           }
          ],
          "histogram": [
           {
            "marker": {
             "pattern": {
              "fillmode": "overlay",
              "size": 10,
              "solidity": 0.2
             }
            },
            "type": "histogram"
           }
          ],
          "histogram2d": [
           {
            "colorbar": {
             "outlinewidth": 0,
             "ticks": ""
            },
            "colorscale": [
             [
              0,
              "#0d0887"
             ],
             [
              0.1111111111111111,
              "#46039f"
             ],
             [
              0.2222222222222222,
              "#7201a8"
             ],
             [
              0.3333333333333333,
              "#9c179e"
             ],
             [
              0.4444444444444444,
              "#bd3786"
             ],
             [
              0.5555555555555556,
              "#d8576b"
             ],
             [
              0.6666666666666666,
              "#ed7953"
             ],
             [
              0.7777777777777778,
              "#fb9f3a"
             ],
             [
              0.8888888888888888,
              "#fdca26"
             ],
             [
              1,
              "#f0f921"
             ]
            ],
            "type": "histogram2d"
           }
          ],
          "histogram2dcontour": [
           {
            "colorbar": {
             "outlinewidth": 0,
             "ticks": ""
            },
            "colorscale": [
             [
              0,
              "#0d0887"
             ],
             [
              0.1111111111111111,
              "#46039f"
             ],
             [
              0.2222222222222222,
              "#7201a8"
             ],
             [
              0.3333333333333333,
              "#9c179e"
             ],
             [
              0.4444444444444444,
              "#bd3786"
             ],
             [
              0.5555555555555556,
              "#d8576b"
             ],
             [
              0.6666666666666666,
              "#ed7953"
             ],
             [
              0.7777777777777778,
              "#fb9f3a"
             ],
             [
              0.8888888888888888,
              "#fdca26"
             ],
             [
              1,
              "#f0f921"
             ]
            ],
            "type": "histogram2dcontour"
           }
          ],
          "mesh3d": [
           {
            "colorbar": {
             "outlinewidth": 0,
             "ticks": ""
            },
            "type": "mesh3d"
           }
          ],
          "parcoords": [
           {
            "line": {
             "colorbar": {
              "outlinewidth": 0,
              "ticks": ""
             }
            },
            "type": "parcoords"
           }
          ],
          "pie": [
           {
            "automargin": true,
            "type": "pie"
           }
          ],
          "scatter": [
           {
            "fillpattern": {
             "fillmode": "overlay",
             "size": 10,
             "solidity": 0.2
            },
            "type": "scatter"
           }
          ],
          "scatter3d": [
           {
            "line": {
             "colorbar": {
              "outlinewidth": 0,
              "ticks": ""
             }
            },
            "marker": {
             "colorbar": {
              "outlinewidth": 0,
              "ticks": ""
             }
            },
            "type": "scatter3d"
           }
          ],
          "scattercarpet": [
           {
            "marker": {
             "colorbar": {
              "outlinewidth": 0,
              "ticks": ""
             }
            },
            "type": "scattercarpet"
           }
          ],
          "scattergeo": [
           {
            "marker": {
             "colorbar": {
              "outlinewidth": 0,
              "ticks": ""
             }
            },
            "type": "scattergeo"
           }
          ],
          "scattergl": [
           {
            "marker": {
             "colorbar": {
              "outlinewidth": 0,
              "ticks": ""
             }
            },
            "type": "scattergl"
           }
          ],
          "scattermapbox": [
           {
            "marker": {
             "colorbar": {
              "outlinewidth": 0,
              "ticks": ""
             }
            },
            "type": "scattermapbox"
           }
          ],
          "scatterpolar": [
           {
            "marker": {
             "colorbar": {
              "outlinewidth": 0,
              "ticks": ""
             }
            },
            "type": "scatterpolar"
           }
          ],
          "scatterpolargl": [
           {
            "marker": {
             "colorbar": {
              "outlinewidth": 0,
              "ticks": ""
             }
            },
            "type": "scatterpolargl"
           }
          ],
          "scatterternary": [
           {
            "marker": {
             "colorbar": {
              "outlinewidth": 0,
              "ticks": ""
             }
            },
            "type": "scatterternary"
           }
          ],
          "surface": [
           {
            "colorbar": {
             "outlinewidth": 0,
             "ticks": ""
            },
            "colorscale": [
             [
              0,
              "#0d0887"
             ],
             [
              0.1111111111111111,
              "#46039f"
             ],
             [
              0.2222222222222222,
              "#7201a8"
             ],
             [
              0.3333333333333333,
              "#9c179e"
             ],
             [
              0.4444444444444444,
              "#bd3786"
             ],
             [
              0.5555555555555556,
              "#d8576b"
             ],
             [
              0.6666666666666666,
              "#ed7953"
             ],
             [
              0.7777777777777778,
              "#fb9f3a"
             ],
             [
              0.8888888888888888,
              "#fdca26"
             ],
             [
              1,
              "#f0f921"
             ]
            ],
            "type": "surface"
           }
          ],
          "table": [
           {
            "cells": {
             "fill": {
              "color": "#EBF0F8"
             },
             "line": {
              "color": "white"
             }
            },
            "header": {
             "fill": {
              "color": "#C8D4E3"
             },
             "line": {
              "color": "white"
             }
            },
            "type": "table"
           }
          ]
         },
         "layout": {
          "annotationdefaults": {
           "arrowcolor": "#2a3f5f",
           "arrowhead": 0,
           "arrowwidth": 1
          },
          "autotypenumbers": "strict",
          "coloraxis": {
           "colorbar": {
            "outlinewidth": 0,
            "ticks": ""
           }
          },
          "colorscale": {
           "diverging": [
            [
             0,
             "#8e0152"
            ],
            [
             0.1,
             "#c51b7d"
            ],
            [
             0.2,
             "#de77ae"
            ],
            [
             0.3,
             "#f1b6da"
            ],
            [
             0.4,
             "#fde0ef"
            ],
            [
             0.5,
             "#f7f7f7"
            ],
            [
             0.6,
             "#e6f5d0"
            ],
            [
             0.7,
             "#b8e186"
            ],
            [
             0.8,
             "#7fbc41"
            ],
            [
             0.9,
             "#4d9221"
            ],
            [
             1,
             "#276419"
            ]
           ],
           "sequential": [
            [
             0,
             "#0d0887"
            ],
            [
             0.1111111111111111,
             "#46039f"
            ],
            [
             0.2222222222222222,
             "#7201a8"
            ],
            [
             0.3333333333333333,
             "#9c179e"
            ],
            [
             0.4444444444444444,
             "#bd3786"
            ],
            [
             0.5555555555555556,
             "#d8576b"
            ],
            [
             0.6666666666666666,
             "#ed7953"
            ],
            [
             0.7777777777777778,
             "#fb9f3a"
            ],
            [
             0.8888888888888888,
             "#fdca26"
            ],
            [
             1,
             "#f0f921"
            ]
           ],
           "sequentialminus": [
            [
             0,
             "#0d0887"
            ],
            [
             0.1111111111111111,
             "#46039f"
            ],
            [
             0.2222222222222222,
             "#7201a8"
            ],
            [
             0.3333333333333333,
             "#9c179e"
            ],
            [
             0.4444444444444444,
             "#bd3786"
            ],
            [
             0.5555555555555556,
             "#d8576b"
            ],
            [
             0.6666666666666666,
             "#ed7953"
            ],
            [
             0.7777777777777778,
             "#fb9f3a"
            ],
            [
             0.8888888888888888,
             "#fdca26"
            ],
            [
             1,
             "#f0f921"
            ]
           ]
          },
          "colorway": [
           "#636efa",
           "#EF553B",
           "#00cc96",
           "#ab63fa",
           "#FFA15A",
           "#19d3f3",
           "#FF6692",
           "#B6E880",
           "#FF97FF",
           "#FECB52"
          ],
          "font": {
           "color": "#2a3f5f"
          },
          "geo": {
           "bgcolor": "white",
           "lakecolor": "white",
           "landcolor": "#E5ECF6",
           "showlakes": true,
           "showland": true,
           "subunitcolor": "white"
          },
          "hoverlabel": {
           "align": "left"
          },
          "hovermode": "closest",
          "mapbox": {
           "style": "light"
          },
          "paper_bgcolor": "white",
          "plot_bgcolor": "#E5ECF6",
          "polar": {
           "angularaxis": {
            "gridcolor": "white",
            "linecolor": "white",
            "ticks": ""
           },
           "bgcolor": "#E5ECF6",
           "radialaxis": {
            "gridcolor": "white",
            "linecolor": "white",
            "ticks": ""
           }
          },
          "scene": {
           "xaxis": {
            "backgroundcolor": "#E5ECF6",
            "gridcolor": "white",
            "gridwidth": 2,
            "linecolor": "white",
            "showbackground": true,
            "ticks": "",
            "zerolinecolor": "white"
           },
           "yaxis": {
            "backgroundcolor": "#E5ECF6",
            "gridcolor": "white",
            "gridwidth": 2,
            "linecolor": "white",
            "showbackground": true,
            "ticks": "",
            "zerolinecolor": "white"
           },
           "zaxis": {
            "backgroundcolor": "#E5ECF6",
            "gridcolor": "white",
            "gridwidth": 2,
            "linecolor": "white",
            "showbackground": true,
            "ticks": "",
            "zerolinecolor": "white"
           }
          },
          "shapedefaults": {
           "line": {
            "color": "#2a3f5f"
           }
          },
          "ternary": {
           "aaxis": {
            "gridcolor": "white",
            "linecolor": "white",
            "ticks": ""
           },
           "baxis": {
            "gridcolor": "white",
            "linecolor": "white",
            "ticks": ""
           },
           "bgcolor": "#E5ECF6",
           "caxis": {
            "gridcolor": "white",
            "linecolor": "white",
            "ticks": ""
           }
          },
          "title": {
           "x": 0.05
          },
          "xaxis": {
           "automargin": true,
           "gridcolor": "white",
           "linecolor": "white",
           "ticks": "",
           "title": {
            "standoff": 15
           },
           "zerolinecolor": "white",
           "zerolinewidth": 2
          },
          "yaxis": {
           "automargin": true,
           "gridcolor": "white",
           "linecolor": "white",
           "ticks": "",
           "title": {
            "standoff": 15
           },
           "zerolinecolor": "white",
           "zerolinewidth": 2
          }
         }
        },
        "title": {
         "text": "Slice Plot"
        },
        "width": 2100,
        "xaxis": {
         "anchor": "y",
         "domain": [
          0,
          0.1183673469387755
         ],
         "title": {
          "text": "activation"
         }
        },
        "xaxis2": {
         "anchor": "y2",
         "domain": [
          0.14693877551020407,
          0.26530612244897955
         ],
         "title": {
          "text": "lr"
         },
         "type": "log"
        },
        "xaxis3": {
         "anchor": "y3",
         "domain": [
          0.29387755102040813,
          0.4122448979591836
         ],
         "title": {
          "text": "n_layers"
         }
        },
        "xaxis4": {
         "anchor": "y4",
         "domain": [
          0.4408163265306122,
          0.5591836734693877
         ],
         "title": {
          "text": "n_units_l0"
         }
        },
        "xaxis5": {
         "anchor": "y5",
         "domain": [
          0.5877551020408163,
          0.7061224489795918
         ],
         "title": {
          "text": "n_units_l1"
         }
        },
        "xaxis6": {
         "anchor": "y6",
         "domain": [
          0.7346938775510204,
          0.8530612244897959
         ],
         "title": {
          "text": "n_units_l2"
         }
        },
        "xaxis7": {
         "anchor": "y7",
         "domain": [
          0.8816326530612244,
          0.9999999999999999
         ],
         "title": {
          "text": "optimizer"
         }
        },
        "yaxis": {
         "anchor": "x",
         "domain": [
          0,
          1
         ],
         "title": {
          "text": "Objective Value"
         }
        },
        "yaxis2": {
         "anchor": "x2",
         "domain": [
          0,
          1
         ],
         "matches": "y",
         "showticklabels": false
        },
        "yaxis3": {
         "anchor": "x3",
         "domain": [
          0,
          1
         ],
         "matches": "y",
         "showticklabels": false
        },
        "yaxis4": {
         "anchor": "x4",
         "domain": [
          0,
          1
         ],
         "matches": "y",
         "showticklabels": false
        },
        "yaxis5": {
         "anchor": "x5",
         "domain": [
          0,
          1
         ],
         "matches": "y",
         "showticklabels": false
        },
        "yaxis6": {
         "anchor": "x6",
         "domain": [
          0,
          1
         ],
         "matches": "y",
         "showticklabels": false
        },
        "yaxis7": {
         "anchor": "x7",
         "domain": [
          0,
          1
         ],
         "matches": "y",
         "showticklabels": false
        }
       }
      }
     },
     "metadata": {},
     "output_type": "display_data"
    }
   ],
   "source": [
    "optuna.visualization.plot_slice(study)"
   ]
  },
  {
   "cell_type": "markdown",
   "metadata": {},
   "source": [
    "##### Interpretation of slice plot of study:\n",
    "* Activation function - LeakyReLU gives the best results. All top trials used LeakyReLU\n",
    "* Learning rate - we can observe a cluster of points close to 0.01 with the best results. \n",
    "* Number of Layers -  Models with 1 and 2 hidden layers give the best results. Trials with 2 layers have a bit more dense distribution close to the best result. Trials with 1 hidden layer have a bit wider distribution. The best trial has used 1 hidden layer \n",
    "* Number of neurons in the first hidden layer - we can observe a cluster of points with the best results in range 107-236. The winner used 210 points, 2nd and 3d places used 174 and 136 neurons \n",
    "* Number of neurons in the second layer - results have wide distribution and don't for clear clusters. 2nd and 3d places used 107 and 35 neurons  \n",
    "* Number of neurons in the third layer - we can ignore this result as we 1 and 2 hidden layers give the best performance.\n",
    "* Optimizer - all top 10 results were achieved with Adam optimizer "
   ]
  },
  {
   "cell_type": "code",
   "execution_count": 42,
   "metadata": {},
   "outputs": [
    {
     "data": {
      "application/vnd.plotly.v1+json": {
       "config": {
        "plotlyServerURL": "https://plot.ly"
       },
       "data": [
        {
         "type": "scatter",
         "xaxis": "x",
         "yaxis": "y"
        },
        {
         "colorbar": {
          "title": {
           "text": "Objective Value"
          }
         },
         "colorscale": [
          [
           0,
           "rgb(247,251,255)"
          ],
          [
           0.125,
           "rgb(222,235,247)"
          ],
          [
           0.25,
           "rgb(198,219,239)"
          ],
          [
           0.375,
           "rgb(158,202,225)"
          ],
          [
           0.5,
           "rgb(107,174,214)"
          ],
          [
           0.625,
           "rgb(66,146,198)"
          ],
          [
           0.75,
           "rgb(33,113,181)"
          ],
          [
           0.875,
           "rgb(8,81,156)"
          ],
          [
           1,
           "rgb(8,48,107)"
          ]
         ],
         "connectgaps": true,
         "contours": {
          "coloring": "heatmap"
         },
         "hoverinfo": "none",
         "line": {
          "smoothing": 1.3
         },
         "reversescale": false,
         "showscale": true,
         "type": "contour",
         "x": [
          "LeakyReLU",
          "ReLU"
         ],
         "xaxis": "x6",
         "y": [
          0.0000765894531868334,
          0.00010304276838080714,
          0.0007318474839444056,
          0.0007335202102024708,
          0.0008035247960214514,
          0.0008851099503370642,
          0.002029102197231178,
          0.005111216837452078,
          0.005113767556783974,
          0.005283968285379495,
          0.005356488570376725,
          0.005581704012076503,
          0.005956133364604813,
          0.0063881601499668145,
          0.007300630044708924,
          0.007382675520322863,
          0.0073894661941148725,
          0.0077044536807523815,
          0.0077463265016339015,
          0.00799729648496317,
          0.008082851768479863,
          0.008220383972921816,
          0.008315749501463222,
          0.008469115913671214,
          0.008469731806373013,
          0.008534797952559592,
          0.008557810702823953,
          0.008824948586059728,
          0.009006451536771114,
          0.009204642568755533,
          0.009289913441378833,
          0.00947473091173592,
          0.009662025288483504,
          0.010014857826559235,
          0.010385424372005988,
          0.01039400755371694,
          0.010593912232359115,
          0.011536014212655226,
          0.011589412713603905,
          0.011666611834733347,
          0.012134366954537306,
          0.012313188504684307,
          0.012368908391012014,
          0.012397719194273307,
          0.012699854107899934,
          0.012763495827976118,
          0.012808894182187213,
          0.01323377952238283,
          0.014825217760804905,
          0.014971252242458943,
          0.015372986857453516,
          0.015673918679270937,
          0.02641953490757494,
          0.03890348451146671,
          0.05234040167309258
         ],
         "yaxis": "y6",
         "z": [
          [
           null,
           null
          ],
          [
           0.8095,
           null
          ],
          [
           0.8551,
           null
          ],
          [
           0.8681,
           null
          ],
          [
           0.8654,
           null
          ],
          [
           0.869,
           null
          ],
          [
           0.8698,
           null
          ],
          [
           0.8765,
           null
          ],
          [
           0.846,
           null
          ],
          [
           0.8759,
           null
          ],
          [
           0.8638,
           null
          ],
          [
           0.875,
           null
          ],
          [
           0.8799,
           null
          ],
          [
           0.8698,
           null
          ],
          [
           0.8785,
           null
          ],
          [
           0.8785,
           null
          ],
          [
           0.8758,
           null
          ],
          [
           0.8817,
           null
          ],
          [
           0.8785,
           null
          ],
          [
           0.8746,
           null
          ],
          [
           0.8745,
           null
          ],
          [
           0.8793,
           null
          ],
          [
           0.8793,
           null
          ],
          [
           0.8783,
           null
          ],
          [
           0.8808,
           null
          ],
          [
           0.8781,
           null
          ],
          [
           0.8755,
           null
          ],
          [
           0.8792,
           null
          ],
          [
           0.8801,
           null
          ],
          [
           0.8659,
           null
          ],
          [
           0.8788,
           null
          ],
          [
           0.873,
           null
          ],
          [
           0.8752,
           null
          ],
          [
           0.8805,
           null
          ],
          [
           0.8803,
           null
          ],
          [
           0.8815,
           null
          ],
          [
           0.8728,
           null
          ],
          [
           0.8733,
           null
          ],
          [
           0.8741,
           null
          ],
          [
           0.8779,
           null
          ],
          [
           0.87,
           null
          ],
          [
           0.8772,
           null
          ],
          [
           0.8641,
           null
          ],
          [
           0.8744,
           null
          ],
          [
           0.8811,
           null
          ],
          [
           0.8786,
           null
          ],
          [
           0.8737,
           null
          ],
          [
           0.8778,
           null
          ],
          [
           0.8758,
           null
          ],
          [
           0.873,
           null
          ],
          [
           0.8819,
           null
          ],
          [
           0.8724,
           null
          ],
          [
           0.8681,
           null
          ],
          [
           null,
           0.8619
          ],
          [
           null,
           null
          ]
         ]
        },
        {
         "marker": {
          "color": "black",
          "line": {
           "color": "Grey",
           "width": 2
          }
         },
         "mode": "markers",
         "showlegend": false,
         "type": "scatter",
         "x": [
          "LeakyReLU",
          "LeakyReLU",
          "LeakyReLU",
          "LeakyReLU",
          "LeakyReLU",
          "LeakyReLU",
          "LeakyReLU",
          "ReLU",
          "LeakyReLU",
          "LeakyReLU",
          "LeakyReLU",
          "LeakyReLU",
          "LeakyReLU",
          "LeakyReLU",
          "LeakyReLU",
          "LeakyReLU",
          "LeakyReLU",
          "LeakyReLU",
          "LeakyReLU",
          "LeakyReLU",
          "LeakyReLU",
          "LeakyReLU",
          "LeakyReLU",
          "LeakyReLU",
          "LeakyReLU",
          "LeakyReLU",
          "LeakyReLU",
          "LeakyReLU",
          "LeakyReLU",
          "LeakyReLU",
          "LeakyReLU",
          "LeakyReLU",
          "LeakyReLU",
          "LeakyReLU",
          "LeakyReLU",
          "LeakyReLU",
          "LeakyReLU",
          "LeakyReLU",
          "LeakyReLU",
          "LeakyReLU",
          "LeakyReLU",
          "LeakyReLU",
          "LeakyReLU",
          "LeakyReLU",
          "LeakyReLU",
          "LeakyReLU",
          "LeakyReLU",
          "LeakyReLU",
          "LeakyReLU",
          "LeakyReLU",
          "LeakyReLU",
          "LeakyReLU",
          "LeakyReLU"
         ],
         "xaxis": "x6",
         "y": [
          0.002029102197231178,
          0.00010304276838080714,
          0.0007318474839444056,
          0.005113767556783974,
          0.0008035247960214514,
          0.0008851099503370642,
          0.02641953490757494,
          0.03890348451146671,
          0.0007335202102024708,
          0.005356488570376725,
          0.005111216837452078,
          0.00799729648496317,
          0.005283968285379495,
          0.009662025288483504,
          0.008469731806373013,
          0.009204642568755533,
          0.011536014212655226,
          0.015372986857453516,
          0.008557810702823953,
          0.008534797952559592,
          0.012699854107899934,
          0.01323377952238283,
          0.014825217760804905,
          0.014971252242458943,
          0.012368908391012014,
          0.015673918679270937,
          0.0073894661941148725,
          0.0063881601499668145,
          0.01039400755371694,
          0.010014857826559235,
          0.010593912232359115,
          0.005581704012076503,
          0.012808894182187213,
          0.008082851768479863,
          0.012397719194273307,
          0.005956133364604813,
          0.011666611834733347,
          0.012313188504684307,
          0.012763495827976118,
          0.012134366954537306,
          0.011589412713603905,
          0.009289913441378833,
          0.00947473091173592,
          0.0077044536807523815,
          0.007300630044708924,
          0.010385424372005988,
          0.008315749501463222,
          0.008220383972921816,
          0.007382675520322863,
          0.0077463265016339015,
          0.008824948586059728,
          0.008469115913671214,
          0.009006451536771114
         ],
         "yaxis": "y6"
        },
        {
         "colorbar": {
          "title": {
           "text": "Objective Value"
          }
         },
         "colorscale": [
          [
           0,
           "rgb(247,251,255)"
          ],
          [
           0.125,
           "rgb(222,235,247)"
          ],
          [
           0.25,
           "rgb(198,219,239)"
          ],
          [
           0.375,
           "rgb(158,202,225)"
          ],
          [
           0.5,
           "rgb(107,174,214)"
          ],
          [
           0.625,
           "rgb(66,146,198)"
          ],
          [
           0.75,
           "rgb(33,113,181)"
          ],
          [
           0.875,
           "rgb(8,81,156)"
          ],
          [
           1,
           "rgb(8,48,107)"
          ]
         ],
         "connectgaps": true,
         "contours": {
          "coloring": "heatmap"
         },
         "hoverinfo": "none",
         "line": {
          "smoothing": 1.3
         },
         "reversescale": false,
         "showscale": false,
         "type": "contour",
         "x": [
          "LeakyReLU",
          "ReLU"
         ],
         "xaxis": "x11",
         "y": [
          0.9,
          1,
          2,
          3,
          3.1
         ],
         "yaxis": "y11",
         "z": [
          [
           null,
           null
          ],
          [
           0.8745,
           0.8619
          ],
          [
           0.8801,
           null
          ],
          [
           0.846,
           null
          ],
          [
           null,
           null
          ]
         ]
        },
        {
         "marker": {
          "color": "black",
          "line": {
           "color": "Grey",
           "width": 2
          }
         },
         "mode": "markers",
         "showlegend": false,
         "type": "scatter",
         "x": [
          "LeakyReLU",
          "LeakyReLU",
          "LeakyReLU",
          "LeakyReLU",
          "LeakyReLU",
          "LeakyReLU",
          "LeakyReLU",
          "ReLU",
          "LeakyReLU",
          "LeakyReLU",
          "LeakyReLU",
          "LeakyReLU",
          "LeakyReLU",
          "LeakyReLU",
          "LeakyReLU",
          "LeakyReLU",
          "LeakyReLU",
          "LeakyReLU",
          "LeakyReLU",
          "LeakyReLU",
          "LeakyReLU",
          "LeakyReLU",
          "LeakyReLU",
          "LeakyReLU",
          "LeakyReLU",
          "LeakyReLU",
          "LeakyReLU",
          "LeakyReLU",
          "LeakyReLU",
          "LeakyReLU",
          "LeakyReLU",
          "LeakyReLU",
          "LeakyReLU",
          "LeakyReLU",
          "LeakyReLU",
          "LeakyReLU",
          "LeakyReLU",
          "LeakyReLU",
          "LeakyReLU",
          "LeakyReLU",
          "LeakyReLU",
          "LeakyReLU",
          "LeakyReLU",
          "LeakyReLU",
          "LeakyReLU",
          "LeakyReLU",
          "LeakyReLU",
          "LeakyReLU",
          "LeakyReLU",
          "LeakyReLU",
          "LeakyReLU",
          "LeakyReLU",
          "LeakyReLU"
         ],
         "xaxis": "x11",
         "y": [
          1,
          3,
          3,
          3,
          1,
          2,
          1,
          1,
          2,
          2,
          2,
          2,
          2,
          1,
          1,
          2,
          2,
          1,
          1,
          2,
          2,
          2,
          2,
          2,
          1,
          1,
          2,
          2,
          2,
          2,
          2,
          1,
          1,
          1,
          2,
          2,
          2,
          2,
          2,
          2,
          2,
          2,
          2,
          2,
          2,
          2,
          2,
          2,
          2,
          2,
          2,
          2,
          2
         ],
         "yaxis": "y11"
        },
        {
         "colorbar": {
          "title": {
           "text": "Objective Value"
          }
         },
         "colorscale": [
          [
           0,
           "rgb(247,251,255)"
          ],
          [
           0.125,
           "rgb(222,235,247)"
          ],
          [
           0.25,
           "rgb(198,219,239)"
          ],
          [
           0.375,
           "rgb(158,202,225)"
          ],
          [
           0.5,
           "rgb(107,174,214)"
          ],
          [
           0.625,
           "rgb(66,146,198)"
          ],
          [
           0.75,
           "rgb(33,113,181)"
          ],
          [
           0.875,
           "rgb(8,81,156)"
          ],
          [
           1,
           "rgb(8,48,107)"
          ]
         ],
         "connectgaps": true,
         "contours": {
          "coloring": "heatmap"
         },
         "hoverinfo": "none",
         "line": {
          "smoothing": 1.3
         },
         "reversescale": false,
         "showscale": false,
         "type": "contour",
         "x": [
          "LeakyReLU",
          "ReLU"
         ],
         "xaxis": "x16",
         "y": [
          81.6,
          93,
          95,
          107,
          123,
          130,
          131,
          134,
          135,
          139,
          144,
          145,
          147,
          149,
          150,
          151,
          152,
          153,
          156,
          157,
          159,
          161,
          163,
          166,
          167,
          174,
          185,
          191,
          195,
          201,
          202,
          205,
          207,
          210,
          228,
          231,
          233,
          236,
          244,
          256,
          298,
          303,
          305,
          309,
          321,
          332.4
         ],
         "yaxis": "y16",
         "z": [
          [
           null,
           null
          ],
          [
           0.8741,
           null
          ],
          [
           0.873,
           null
          ],
          [
           0.8805,
           null
          ],
          [
           0.8641,
           null
          ],
          [
           0.8786,
           null
          ],
          [
           0.87,
           null
          ],
          [
           0.8785,
           null
          ],
          [
           0.8724,
           null
          ],
          [
           0.8785,
           null
          ],
          [
           0.8778,
           null
          ],
          [
           0.8728,
           null
          ],
          [
           0.8781,
           null
          ],
          [
           0.8811,
           null
          ],
          [
           0.8752,
           null
          ],
          [
           0.8744,
           null
          ],
          [
           0.8759,
           null
          ],
          [
           0.8779,
           null
          ],
          [
           0.8737,
           null
          ],
          [
           0.8799,
           null
          ],
          [
           0.873,
           null
          ],
          [
           0.8788,
           null
          ],
          [
           0.8815,
           null
          ],
          [
           0.8698,
           null
          ],
          [
           0.8793,
           null
          ],
          [
           0.8817,
           null
          ],
          [
           0.8772,
           null
          ],
          [
           0.846,
           null
          ],
          [
           0.8785,
           null
          ],
          [
           0.875,
           null
          ],
          [
           0.8755,
           null
          ],
          [
           0.8681,
           null
          ],
          [
           0.8745,
           null
          ],
          [
           0.8793,
           null
          ],
          [
           0.8638,
           null
          ],
          [
           0.869,
           null
          ],
          [
           0.8095,
           null
          ],
          [
           0.8792,
           null
          ],
          [
           0.8698,
           null
          ],
          [
           null,
           0.8619
          ],
          [
           0.8654,
           null
          ],
          [
           0.8783,
           null
          ],
          [
           0.8681,
           null
          ],
          [
           0.8801,
           null
          ],
          [
           0.8746,
           null
          ],
          [
           null,
           null
          ]
         ]
        },
        {
         "marker": {
          "color": "black",
          "line": {
           "color": "Grey",
           "width": 2
          }
         },
         "mode": "markers",
         "showlegend": false,
         "type": "scatter",
         "x": [
          "LeakyReLU",
          "LeakyReLU",
          "LeakyReLU",
          "LeakyReLU",
          "LeakyReLU",
          "LeakyReLU",
          "LeakyReLU",
          "ReLU",
          "LeakyReLU",
          "LeakyReLU",
          "LeakyReLU",
          "LeakyReLU",
          "LeakyReLU",
          "LeakyReLU",
          "LeakyReLU",
          "LeakyReLU",
          "LeakyReLU",
          "LeakyReLU",
          "LeakyReLU",
          "LeakyReLU",
          "LeakyReLU",
          "LeakyReLU",
          "LeakyReLU",
          "LeakyReLU",
          "LeakyReLU",
          "LeakyReLU",
          "LeakyReLU",
          "LeakyReLU",
          "LeakyReLU",
          "LeakyReLU",
          "LeakyReLU",
          "LeakyReLU",
          "LeakyReLU",
          "LeakyReLU",
          "LeakyReLU",
          "LeakyReLU",
          "LeakyReLU",
          "LeakyReLU",
          "LeakyReLU",
          "LeakyReLU",
          "LeakyReLU",
          "LeakyReLU",
          "LeakyReLU",
          "LeakyReLU",
          "LeakyReLU",
          "LeakyReLU",
          "LeakyReLU",
          "LeakyReLU",
          "LeakyReLU",
          "LeakyReLU",
          "LeakyReLU",
          "LeakyReLU",
          "LeakyReLU"
         ],
         "xaxis": "x16",
         "y": [
          244,
          233,
          174,
          191,
          298,
          231,
          205,
          256,
          305,
          228,
          135,
          321,
          152,
          150,
          156,
          161,
          159,
          210,
          202,
          147,
          149,
          144,
          145,
          95,
          123,
          135,
          166,
          166,
          163,
          107,
          145,
          201,
          156,
          207,
          151,
          157,
          153,
          185,
          130,
          131,
          93,
          161,
          159,
          174,
          139,
          210,
          167,
          210,
          134,
          195,
          236,
          303,
          309
         ],
         "yaxis": "y16"
        },
        {
         "colorbar": {
          "title": {
           "text": "Objective Value"
          }
         },
         "colorscale": [
          [
           0,
           "rgb(247,251,255)"
          ],
          [
           0.125,
           "rgb(222,235,247)"
          ],
          [
           0.25,
           "rgb(198,219,239)"
          ],
          [
           0.375,
           "rgb(158,202,225)"
          ],
          [
           0.5,
           "rgb(107,174,214)"
          ],
          [
           0.625,
           "rgb(66,146,198)"
          ],
          [
           0.75,
           "rgb(33,113,181)"
          ],
          [
           0.875,
           "rgb(8,81,156)"
          ],
          [
           1,
           "rgb(8,48,107)"
          ]
         ],
         "connectgaps": true,
         "contours": {
          "coloring": "heatmap"
         },
         "hoverinfo": "none",
         "line": {
          "smoothing": 1.3
         },
         "reversescale": false,
         "showscale": false,
         "type": "contour",
         "x": [
          "LeakyReLU",
          "ReLU"
         ],
         "xaxis": "x21",
         "y": [
          2.4499999999999993,
          10,
          14,
          16,
          22,
          28,
          30,
          31,
          35,
          36,
          37,
          45,
          46,
          50,
          52,
          63,
          64,
          79,
          84,
          85,
          91,
          92,
          98,
          99,
          101,
          105,
          106,
          107,
          108,
          109,
          113,
          117,
          118,
          127,
          129,
          154,
          161,
          168.55
         ],
         "yaxis": "y21",
         "z": [
          [
           null,
           null
          ],
          [
           0.8638,
           null
          ],
          [
           0.8659,
           null
          ],
          [
           0.8733,
           null
          ],
          [
           0.8765,
           null
          ],
          [
           0.8778,
           null
          ],
          [
           0.8781,
           null
          ],
          [
           0.8758,
           null
          ],
          [
           0.8815,
           null
          ],
          [
           0.873,
           null
          ],
          [
           0.8811,
           null
          ],
          [
           0.8758,
           null
          ],
          [
           0.8698,
           null
          ],
          [
           0.8728,
           null
          ],
          [
           0.8746,
           null
          ],
          [
           0.8792,
           null
          ],
          [
           0.8759,
           null
          ],
          [
           0.8786,
           null
          ],
          [
           0.8681,
           null
          ],
          [
           0.8805,
           null
          ],
          [
           0.869,
           null
          ],
          [
           0.8551,
           null
          ],
          [
           0.87,
           null
          ],
          [
           0.8741,
           null
          ],
          [
           0.8772,
           null
          ],
          [
           0.846,
           null
          ],
          [
           0.873,
           null
          ],
          [
           0.8817,
           null
          ],
          [
           0.8785,
           null
          ],
          [
           0.8785,
           null
          ],
          [
           0.8799,
           null
          ],
          [
           0.8793,
           null
          ],
          [
           0.8793,
           null
          ],
          [
           0.8095,
           null
          ],
          [
           0.8785,
           null
          ],
          [
           0.8801,
           null
          ],
          [
           0.8783,
           null
          ],
          [
           null,
           null
          ]
         ]
        },
        {
         "marker": {
          "color": "black",
          "line": {
           "color": "Grey",
           "width": 2
          }
         },
         "mode": "markers",
         "showlegend": false,
         "type": "scatter",
         "x": [
          "LeakyReLU",
          "LeakyReLU",
          "LeakyReLU",
          "LeakyReLU",
          "LeakyReLU",
          "LeakyReLU",
          "LeakyReLU",
          "LeakyReLU",
          "LeakyReLU",
          "LeakyReLU",
          "LeakyReLU",
          "LeakyReLU",
          "LeakyReLU",
          "LeakyReLU",
          "LeakyReLU",
          "LeakyReLU",
          "LeakyReLU",
          "LeakyReLU",
          "LeakyReLU",
          "LeakyReLU",
          "LeakyReLU",
          "LeakyReLU",
          "LeakyReLU",
          "LeakyReLU",
          "LeakyReLU",
          "LeakyReLU",
          "LeakyReLU",
          "LeakyReLU",
          "LeakyReLU",
          "LeakyReLU",
          "LeakyReLU",
          "LeakyReLU",
          "LeakyReLU",
          "LeakyReLU",
          "LeakyReLU",
          "LeakyReLU",
          "LeakyReLU",
          "LeakyReLU",
          "LeakyReLU",
          "LeakyReLU"
         ],
         "xaxis": "x21",
         "y": [
          127,
          92,
          105,
          91,
          84,
          10,
          22,
          52,
          64,
          14,
          16,
          30,
          37,
          28,
          31,
          36,
          45,
          46,
          35,
          85,
          50,
          99,
          113,
          99,
          101,
          79,
          98,
          99,
          108,
          106,
          107,
          109,
          117,
          118,
          117,
          108,
          129,
          63,
          161,
          154
         ],
         "yaxis": "y21"
        },
        {
         "colorbar": {
          "title": {
           "text": "Objective Value"
          }
         },
         "colorscale": [
          [
           0,
           "rgb(247,251,255)"
          ],
          [
           0.125,
           "rgb(222,235,247)"
          ],
          [
           0.25,
           "rgb(198,219,239)"
          ],
          [
           0.375,
           "rgb(158,202,225)"
          ],
          [
           0.5,
           "rgb(107,174,214)"
          ],
          [
           0.625,
           "rgb(66,146,198)"
          ],
          [
           0.75,
           "rgb(33,113,181)"
          ],
          [
           0.875,
           "rgb(8,81,156)"
          ],
          [
           1,
           "rgb(8,48,107)"
          ]
         ],
         "connectgaps": true,
         "contours": {
          "coloring": "heatmap"
         },
         "hoverinfo": "none",
         "line": {
          "smoothing": 1.3
         },
         "reversescale": false,
         "showscale": false,
         "type": "contour",
         "x": [
          0.0000765894531868334,
          0.00010304276838080714,
          0.0007318474839444056,
          0.0007335202102024708,
          0.0008035247960214514,
          0.0008851099503370642,
          0.002029102197231178,
          0.005111216837452078,
          0.005113767556783974,
          0.005283968285379495,
          0.005356488570376725,
          0.005581704012076503,
          0.005956133364604813,
          0.0063881601499668145,
          0.007300630044708924,
          0.007382675520322863,
          0.0073894661941148725,
          0.0077044536807523815,
          0.0077463265016339015,
          0.00799729648496317,
          0.008082851768479863,
          0.008220383972921816,
          0.008315749501463222,
          0.008469115913671214,
          0.008469731806373013,
          0.008534797952559592,
          0.008557810702823953,
          0.008824948586059728,
          0.009006451536771114,
          0.009204642568755533,
          0.009289913441378833,
          0.00947473091173592,
          0.009662025288483504,
          0.010014857826559235,
          0.010385424372005988,
          0.01039400755371694,
          0.010593912232359115,
          0.011536014212655226,
          0.011589412713603905,
          0.011666611834733347,
          0.012134366954537306,
          0.012313188504684307,
          0.012368908391012014,
          0.012397719194273307,
          0.012699854107899934,
          0.012763495827976118,
          0.012808894182187213,
          0.01323377952238283,
          0.014825217760804905,
          0.014971252242458943,
          0.015372986857453516,
          0.015673918679270937,
          0.02641953490757494,
          0.03890348451146671,
          0.05234040167309258
         ],
         "xaxis": "x2",
         "y": [
          "LeakyReLU",
          "ReLU"
         ],
         "yaxis": "y2",
         "z": [
          [
           null,
           0.8095,
           0.8551,
           0.8681,
           0.8654,
           0.869,
           0.8698,
           0.8765,
           0.846,
           0.8759,
           0.8638,
           0.875,
           0.8799,
           0.8698,
           0.8785,
           0.8785,
           0.8758,
           0.8817,
           0.8785,
           0.8746,
           0.8745,
           0.8793,
           0.8793,
           0.8783,
           0.8808,
           0.8781,
           0.8755,
           0.8792,
           0.8801,
           0.8659,
           0.8788,
           0.873,
           0.8752,
           0.8805,
           0.8803,
           0.8815,
           0.8728,
           0.8733,
           0.8741,
           0.8779,
           0.87,
           0.8772,
           0.8641,
           0.8744,
           0.8811,
           0.8786,
           0.8737,
           0.8778,
           0.8758,
           0.873,
           0.8819,
           0.8724,
           0.8681,
           null,
           null
          ],
          [
           null,
           null,
           null,
           null,
           null,
           null,
           null,
           null,
           null,
           null,
           null,
           null,
           null,
           null,
           null,
           null,
           null,
           null,
           null,
           null,
           null,
           null,
           null,
           null,
           null,
           null,
           null,
           null,
           null,
           null,
           null,
           null,
           null,
           null,
           null,
           null,
           null,
           null,
           null,
           null,
           null,
           null,
           null,
           null,
           null,
           null,
           null,
           null,
           null,
           null,
           null,
           null,
           null,
           0.8619,
           null
          ]
         ]
        },
        {
         "marker": {
          "color": "black",
          "line": {
           "color": "Grey",
           "width": 2
          }
         },
         "mode": "markers",
         "showlegend": false,
         "type": "scatter",
         "x": [
          0.002029102197231178,
          0.00010304276838080714,
          0.0007318474839444056,
          0.005113767556783974,
          0.0008035247960214514,
          0.0008851099503370642,
          0.02641953490757494,
          0.03890348451146671,
          0.0007335202102024708,
          0.005356488570376725,
          0.005111216837452078,
          0.00799729648496317,
          0.005283968285379495,
          0.009662025288483504,
          0.008469731806373013,
          0.009204642568755533,
          0.011536014212655226,
          0.015372986857453516,
          0.008557810702823953,
          0.008534797952559592,
          0.012699854107899934,
          0.01323377952238283,
          0.014825217760804905,
          0.014971252242458943,
          0.012368908391012014,
          0.015673918679270937,
          0.0073894661941148725,
          0.0063881601499668145,
          0.01039400755371694,
          0.010014857826559235,
          0.010593912232359115,
          0.005581704012076503,
          0.012808894182187213,
          0.008082851768479863,
          0.012397719194273307,
          0.005956133364604813,
          0.011666611834733347,
          0.012313188504684307,
          0.012763495827976118,
          0.012134366954537306,
          0.011589412713603905,
          0.009289913441378833,
          0.00947473091173592,
          0.0077044536807523815,
          0.007300630044708924,
          0.010385424372005988,
          0.008315749501463222,
          0.008220383972921816,
          0.007382675520322863,
          0.0077463265016339015,
          0.008824948586059728,
          0.008469115913671214,
          0.009006451536771114
         ],
         "xaxis": "x2",
         "y": [
          "LeakyReLU",
          "LeakyReLU",
          "LeakyReLU",
          "LeakyReLU",
          "LeakyReLU",
          "LeakyReLU",
          "LeakyReLU",
          "ReLU",
          "LeakyReLU",
          "LeakyReLU",
          "LeakyReLU",
          "LeakyReLU",
          "LeakyReLU",
          "LeakyReLU",
          "LeakyReLU",
          "LeakyReLU",
          "LeakyReLU",
          "LeakyReLU",
          "LeakyReLU",
          "LeakyReLU",
          "LeakyReLU",
          "LeakyReLU",
          "LeakyReLU",
          "LeakyReLU",
          "LeakyReLU",
          "LeakyReLU",
          "LeakyReLU",
          "LeakyReLU",
          "LeakyReLU",
          "LeakyReLU",
          "LeakyReLU",
          "LeakyReLU",
          "LeakyReLU",
          "LeakyReLU",
          "LeakyReLU",
          "LeakyReLU",
          "LeakyReLU",
          "LeakyReLU",
          "LeakyReLU",
          "LeakyReLU",
          "LeakyReLU",
          "LeakyReLU",
          "LeakyReLU",
          "LeakyReLU",
          "LeakyReLU",
          "LeakyReLU",
          "LeakyReLU",
          "LeakyReLU",
          "LeakyReLU",
          "LeakyReLU",
          "LeakyReLU",
          "LeakyReLU",
          "LeakyReLU"
         ],
         "yaxis": "y2"
        },
        {
         "type": "scatter",
         "xaxis": "x7",
         "yaxis": "y7"
        },
        {
         "colorbar": {
          "title": {
           "text": "Objective Value"
          }
         },
         "colorscale": [
          [
           0,
           "rgb(247,251,255)"
          ],
          [
           0.125,
           "rgb(222,235,247)"
          ],
          [
           0.25,
           "rgb(198,219,239)"
          ],
          [
           0.375,
           "rgb(158,202,225)"
          ],
          [
           0.5,
           "rgb(107,174,214)"
          ],
          [
           0.625,
           "rgb(66,146,198)"
          ],
          [
           0.75,
           "rgb(33,113,181)"
          ],
          [
           0.875,
           "rgb(8,81,156)"
          ],
          [
           1,
           "rgb(8,48,107)"
          ]
         ],
         "connectgaps": true,
         "contours": {
          "coloring": "heatmap"
         },
         "hoverinfo": "none",
         "line": {
          "smoothing": 1.3
         },
         "reversescale": false,
         "showscale": false,
         "type": "contour",
         "x": [
          0.0000765894531868334,
          0.00010304276838080714,
          0.0007318474839444056,
          0.0007335202102024708,
          0.0008035247960214514,
          0.0008851099503370642,
          0.002029102197231178,
          0.005111216837452078,
          0.005113767556783974,
          0.005283968285379495,
          0.005356488570376725,
          0.005581704012076503,
          0.005956133364604813,
          0.0063881601499668145,
          0.007300630044708924,
          0.007382675520322863,
          0.0073894661941148725,
          0.0077044536807523815,
          0.0077463265016339015,
          0.00799729648496317,
          0.008082851768479863,
          0.008220383972921816,
          0.008315749501463222,
          0.008469115913671214,
          0.008469731806373013,
          0.008534797952559592,
          0.008557810702823953,
          0.008824948586059728,
          0.009006451536771114,
          0.009204642568755533,
          0.009289913441378833,
          0.00947473091173592,
          0.009662025288483504,
          0.010014857826559235,
          0.010385424372005988,
          0.01039400755371694,
          0.010593912232359115,
          0.011536014212655226,
          0.011589412713603905,
          0.011666611834733347,
          0.012134366954537306,
          0.012313188504684307,
          0.012368908391012014,
          0.012397719194273307,
          0.012699854107899934,
          0.012763495827976118,
          0.012808894182187213,
          0.01323377952238283,
          0.014825217760804905,
          0.014971252242458943,
          0.015372986857453516,
          0.015673918679270937,
          0.02641953490757494,
          0.03890348451146671,
          0.05234040167309258
         ],
         "xaxis": "x12",
         "y": [
          0.9,
          1,
          2,
          3,
          3.1
         ],
         "yaxis": "y12",
         "z": [
          [
           null,
           null,
           null,
           null,
           null,
           null,
           null,
           null,
           null,
           null,
           null,
           null,
           null,
           null,
           null,
           null,
           null,
           null,
           null,
           null,
           null,
           null,
           null,
           null,
           null,
           null,
           null,
           null,
           null,
           null,
           null,
           null,
           null,
           null,
           null,
           null,
           null,
           null,
           null,
           null,
           null,
           null,
           null,
           null,
           null,
           null,
           null,
           null,
           null,
           null,
           null,
           null,
           null,
           null,
           null
          ],
          [
           null,
           null,
           null,
           null,
           0.8654,
           null,
           0.8698,
           null,
           null,
           null,
           null,
           0.875,
           null,
           null,
           null,
           null,
           null,
           null,
           null,
           null,
           0.8745,
           null,
           null,
           null,
           0.8808,
           null,
           0.8755,
           null,
           null,
           null,
           null,
           null,
           0.8752,
           null,
           null,
           null,
           null,
           null,
           null,
           null,
           null,
           null,
           0.8641,
           null,
           null,
           null,
           0.8737,
           null,
           null,
           null,
           0.8819,
           0.8724,
           0.8681,
           0.8619,
           null
          ],
          [
           null,
           null,
           null,
           0.8681,
           null,
           0.869,
           null,
           0.8765,
           null,
           0.8759,
           0.8638,
           null,
           0.8799,
           0.8698,
           0.8785,
           0.8785,
           0.8758,
           0.8817,
           0.8785,
           0.8746,
           null,
           0.8793,
           0.8793,
           0.8783,
           null,
           0.8781,
           null,
           0.8792,
           0.8801,
           0.8659,
           0.8788,
           0.873,
           null,
           0.8805,
           0.8803,
           0.8815,
           0.8728,
           0.8733,
           0.8741,
           0.8779,
           0.87,
           0.8772,
           null,
           0.8744,
           0.8811,
           0.8786,
           null,
           0.8778,
           0.8758,
           0.873,
           null,
           null,
           null,
           null,
           null
          ],
          [
           null,
           0.8095,
           0.8551,
           null,
           null,
           null,
           null,
           null,
           0.846,
           null,
           null,
           null,
           null,
           null,
           null,
           null,
           null,
           null,
           null,
           null,
           null,
           null,
           null,
           null,
           null,
           null,
           null,
           null,
           null,
           null,
           null,
           null,
           null,
           null,
           null,
           null,
           null,
           null,
           null,
           null,
           null,
           null,
           null,
           null,
           null,
           null,
           null,
           null,
           null,
           null,
           null,
           null,
           null,
           null,
           null
          ],
          [
           null,
           null,
           null,
           null,
           null,
           null,
           null,
           null,
           null,
           null,
           null,
           null,
           null,
           null,
           null,
           null,
           null,
           null,
           null,
           null,
           null,
           null,
           null,
           null,
           null,
           null,
           null,
           null,
           null,
           null,
           null,
           null,
           null,
           null,
           null,
           null,
           null,
           null,
           null,
           null,
           null,
           null,
           null,
           null,
           null,
           null,
           null,
           null,
           null,
           null,
           null,
           null,
           null,
           null,
           null
          ]
         ]
        },
        {
         "marker": {
          "color": "black",
          "line": {
           "color": "Grey",
           "width": 2
          }
         },
         "mode": "markers",
         "showlegend": false,
         "type": "scatter",
         "x": [
          0.002029102197231178,
          0.00010304276838080714,
          0.0007318474839444056,
          0.005113767556783974,
          0.0008035247960214514,
          0.0008851099503370642,
          0.02641953490757494,
          0.03890348451146671,
          0.0007335202102024708,
          0.005356488570376725,
          0.005111216837452078,
          0.00799729648496317,
          0.005283968285379495,
          0.009662025288483504,
          0.008469731806373013,
          0.009204642568755533,
          0.011536014212655226,
          0.015372986857453516,
          0.008557810702823953,
          0.008534797952559592,
          0.012699854107899934,
          0.01323377952238283,
          0.014825217760804905,
          0.014971252242458943,
          0.012368908391012014,
          0.015673918679270937,
          0.0073894661941148725,
          0.0063881601499668145,
          0.01039400755371694,
          0.010014857826559235,
          0.010593912232359115,
          0.005581704012076503,
          0.012808894182187213,
          0.008082851768479863,
          0.012397719194273307,
          0.005956133364604813,
          0.011666611834733347,
          0.012313188504684307,
          0.012763495827976118,
          0.012134366954537306,
          0.011589412713603905,
          0.009289913441378833,
          0.00947473091173592,
          0.0077044536807523815,
          0.007300630044708924,
          0.010385424372005988,
          0.008315749501463222,
          0.008220383972921816,
          0.007382675520322863,
          0.0077463265016339015,
          0.008824948586059728,
          0.008469115913671214,
          0.009006451536771114
         ],
         "xaxis": "x12",
         "y": [
          1,
          3,
          3,
          3,
          1,
          2,
          1,
          1,
          2,
          2,
          2,
          2,
          2,
          1,
          1,
          2,
          2,
          1,
          1,
          2,
          2,
          2,
          2,
          2,
          1,
          1,
          2,
          2,
          2,
          2,
          2,
          1,
          1,
          1,
          2,
          2,
          2,
          2,
          2,
          2,
          2,
          2,
          2,
          2,
          2,
          2,
          2,
          2,
          2,
          2,
          2,
          2,
          2
         ],
         "yaxis": "y12"
        },
        {
         "colorbar": {
          "title": {
           "text": "Objective Value"
          }
         },
         "colorscale": [
          [
           0,
           "rgb(247,251,255)"
          ],
          [
           0.125,
           "rgb(222,235,247)"
          ],
          [
           0.25,
           "rgb(198,219,239)"
          ],
          [
           0.375,
           "rgb(158,202,225)"
          ],
          [
           0.5,
           "rgb(107,174,214)"
          ],
          [
           0.625,
           "rgb(66,146,198)"
          ],
          [
           0.75,
           "rgb(33,113,181)"
          ],
          [
           0.875,
           "rgb(8,81,156)"
          ],
          [
           1,
           "rgb(8,48,107)"
          ]
         ],
         "connectgaps": true,
         "contours": {
          "coloring": "heatmap"
         },
         "hoverinfo": "none",
         "line": {
          "smoothing": 1.3
         },
         "reversescale": false,
         "showscale": false,
         "type": "contour",
         "x": [
          0.0000765894531868334,
          0.00010304276838080714,
          0.0007318474839444056,
          0.0007335202102024708,
          0.0008035247960214514,
          0.0008851099503370642,
          0.002029102197231178,
          0.005111216837452078,
          0.005113767556783974,
          0.005283968285379495,
          0.005356488570376725,
          0.005581704012076503,
          0.005956133364604813,
          0.0063881601499668145,
          0.007300630044708924,
          0.007382675520322863,
          0.0073894661941148725,
          0.0077044536807523815,
          0.0077463265016339015,
          0.00799729648496317,
          0.008082851768479863,
          0.008220383972921816,
          0.008315749501463222,
          0.008469115913671214,
          0.008469731806373013,
          0.008534797952559592,
          0.008557810702823953,
          0.008824948586059728,
          0.009006451536771114,
          0.009204642568755533,
          0.009289913441378833,
          0.00947473091173592,
          0.009662025288483504,
          0.010014857826559235,
          0.010385424372005988,
          0.01039400755371694,
          0.010593912232359115,
          0.011536014212655226,
          0.011589412713603905,
          0.011666611834733347,
          0.012134366954537306,
          0.012313188504684307,
          0.012368908391012014,
          0.012397719194273307,
          0.012699854107899934,
          0.012763495827976118,
          0.012808894182187213,
          0.01323377952238283,
          0.014825217760804905,
          0.014971252242458943,
          0.015372986857453516,
          0.015673918679270937,
          0.02641953490757494,
          0.03890348451146671,
          0.05234040167309258
         ],
         "xaxis": "x17",
         "y": [
          81.6,
          93,
          95,
          107,
          123,
          130,
          131,
          134,
          135,
          139,
          144,
          145,
          147,
          149,
          150,
          151,
          152,
          153,
          156,
          157,
          159,
          161,
          163,
          166,
          167,
          174,
          185,
          191,
          195,
          201,
          202,
          205,
          207,
          210,
          228,
          231,
          233,
          236,
          244,
          256,
          298,
          303,
          305,
          309,
          321,
          332.4
         ],
         "yaxis": "y17",
         "z": [
          [
           null,
           null,
           null,
           null,
           null,
           null,
           null,
           null,
           null,
           null,
           null,
           null,
           null,
           null,
           null,
           null,
           null,
           null,
           null,
           null,
           null,
           null,
           null,
           null,
           null,
           null,
           null,
           null,
           null,
           null,
           null,
           null,
           null,
           null,
           null,
           null,
           null,
           null,
           null,
           null,
           null,
           null,
           null,
           null,
           null,
           null,
           null,
           null,
           null,
           null,
           null,
           null,
           null,
           null,
           null
          ],
          [
           null,
           null,
           null,
           null,
           null,
           null,
           null,
           null,
           null,
           null,
           null,
           null,
           null,
           null,
           null,
           null,
           null,
           null,
           null,
           null,
           null,
           null,
           null,
           null,
           null,
           null,
           null,
           null,
           null,
           null,
           null,
           null,
           null,
           null,
           null,
           null,
           null,
           null,
           0.8741,
           null,
           null,
           null,
           null,
           null,
           null,
           null,
           null,
           null,
           null,
           null,
           null,
           null,
           null,
           null,
           null
          ],
          [
           null,
           null,
           null,
           null,
           null,
           null,
           null,
           null,
           null,
           null,
           null,
           null,
           null,
           null,
           null,
           null,
           null,
           null,
           null,
           null,
           null,
           null,
           null,
           null,
           null,
           null,
           null,
           null,
           null,
           null,
           null,
           null,
           null,
           null,
           null,
           null,
           null,
           null,
           null,
           null,
           null,
           null,
           null,
           null,
           null,
           null,
           null,
           null,
           null,
           0.873,
           null,
           null,
           null,
           null,
           null
          ],
          [
           null,
           null,
           null,
           null,
           null,
           null,
           null,
           null,
           null,
           null,
           null,
           null,
           null,
           null,
           null,
           null,
           null,
           null,
           null,
           null,
           null,
           null,
           null,
           null,
           null,
           null,
           null,
           null,
           null,
           null,
           null,
           null,
           null,
           0.8805,
           null,
           null,
           null,
           null,
           null,
           null,
           null,
           null,
           null,
           null,
           null,
           null,
           null,
           null,
           null,
           null,
           null,
           null,
           null,
           null,
           null
          ],
          [
           null,
           null,
           null,
           null,
           null,
           null,
           null,
           null,
           null,
           null,
           null,
           null,
           null,
           null,
           null,
           null,
           null,
           null,
           null,
           null,
           null,
           null,
           null,
           null,
           null,
           null,
           null,
           null,
           null,
           null,
           null,
           null,
           null,
           null,
           null,
           null,
           null,
           null,
           null,
           null,
           null,
           null,
           0.8641,
           null,
           null,
           null,
           null,
           null,
           null,
           null,
           null,
           null,
           null,
           null,
           null
          ],
          [
           null,
           null,
           null,
           null,
           null,
           null,
           null,
           null,
           null,
           null,
           null,
           null,
           null,
           null,
           null,
           null,
           null,
           null,
           null,
           null,
           null,
           null,
           null,
           null,
           null,
           null,
           null,
           null,
           null,
           null,
           null,
           null,
           null,
           null,
           null,
           null,
           null,
           null,
           null,
           null,
           null,
           null,
           null,
           null,
           null,
           0.8786,
           null,
           null,
           null,
           null,
           null,
           null,
           null,
           null,
           null
          ],
          [
           null,
           null,
           null,
           null,
           null,
           null,
           null,
           null,
           null,
           null,
           null,
           null,
           null,
           null,
           null,
           null,
           null,
           null,
           null,
           null,
           null,
           null,
           null,
           null,
           null,
           null,
           null,
           null,
           null,
           null,
           null,
           null,
           null,
           null,
           null,
           null,
           null,
           null,
           null,
           null,
           0.87,
           null,
           null,
           null,
           null,
           null,
           null,
           null,
           null,
           null,
           null,
           null,
           null,
           null,
           null
          ],
          [
           null,
           null,
           null,
           null,
           null,
           null,
           null,
           null,
           null,
           null,
           null,
           null,
           null,
           null,
           null,
           0.8785,
           null,
           null,
           null,
           null,
           null,
           null,
           null,
           null,
           null,
           null,
           null,
           null,
           null,
           null,
           null,
           null,
           null,
           null,
           null,
           null,
           null,
           null,
           null,
           null,
           null,
           null,
           null,
           null,
           null,
           null,
           null,
           null,
           null,
           null,
           null,
           null,
           null,
           null,
           null
          ],
          [
           null,
           null,
           null,
           null,
           null,
           null,
           null,
           0.8765,
           null,
           null,
           null,
           null,
           null,
           null,
           null,
           null,
           null,
           null,
           null,
           null,
           null,
           null,
           null,
           null,
           null,
           null,
           null,
           null,
           null,
           null,
           null,
           null,
           null,
           null,
           null,
           null,
           null,
           null,
           null,
           null,
           null,
           null,
           null,
           null,
           null,
           null,
           null,
           null,
           null,
           null,
           null,
           0.8724,
           null,
           null,
           null
          ],
          [
           null,
           null,
           null,
           null,
           null,
           null,
           null,
           null,
           null,
           null,
           null,
           null,
           null,
           null,
           0.8785,
           null,
           null,
           null,
           null,
           null,
           null,
           null,
           null,
           null,
           null,
           null,
           null,
           null,
           null,
           null,
           null,
           null,
           null,
           null,
           null,
           null,
           null,
           null,
           null,
           null,
           null,
           null,
           null,
           null,
           null,
           null,
           null,
           null,
           null,
           null,
           null,
           null,
           null,
           null,
           null
          ],
          [
           null,
           null,
           null,
           null,
           null,
           null,
           null,
           null,
           null,
           null,
           null,
           null,
           null,
           null,
           null,
           null,
           null,
           null,
           null,
           null,
           null,
           null,
           null,
           null,
           null,
           null,
           null,
           null,
           null,
           null,
           null,
           null,
           null,
           null,
           null,
           null,
           null,
           null,
           null,
           null,
           null,
           null,
           null,
           null,
           null,
           null,
           null,
           0.8778,
           null,
           null,
           null,
           null,
           null,
           null,
           null
          ],
          [
           null,
           null,
           null,
           null,
           null,
           null,
           null,
           null,
           null,
           null,
           null,
           null,
           null,
           null,
           null,
           null,
           null,
           null,
           null,
           null,
           null,
           null,
           null,
           null,
           null,
           null,
           null,
           null,
           null,
           null,
           null,
           null,
           null,
           null,
           null,
           null,
           0.8728,
           null,
           null,
           null,
           null,
           null,
           null,
           null,
           null,
           null,
           null,
           null,
           0.8758,
           null,
           null,
           null,
           null,
           null,
           null
          ],
          [
           null,
           null,
           null,
           null,
           null,
           null,
           null,
           null,
           null,
           null,
           null,
           null,
           null,
           null,
           null,
           null,
           null,
           null,
           null,
           null,
           null,
           null,
           null,
           null,
           null,
           0.8781,
           null,
           null,
           null,
           null,
           null,
           null,
           null,
           null,
           null,
           null,
           null,
           null,
           null,
           null,
           null,
           null,
           null,
           null,
           null,
           null,
           null,
           null,
           null,
           null,
           null,
           null,
           null,
           null,
           null
          ],
          [
           null,
           null,
           null,
           null,
           null,
           null,
           null,
           null,
           null,
           null,
           null,
           null,
           null,
           null,
           null,
           null,
           null,
           null,
           null,
           null,
           null,
           null,
           null,
           null,
           null,
           null,
           null,
           null,
           null,
           null,
           null,
           null,
           null,
           null,
           null,
           null,
           null,
           null,
           null,
           null,
           null,
           null,
           null,
           null,
           0.8811,
           null,
           null,
           null,
           null,
           null,
           null,
           null,
           null,
           null,
           null
          ],
          [
           null,
           null,
           null,
           null,
           null,
           null,
           null,
           null,
           null,
           null,
           null,
           null,
           null,
           null,
           null,
           null,
           null,
           null,
           null,
           null,
           null,
           null,
           null,
           null,
           null,
           null,
           null,
           null,
           null,
           null,
           null,
           null,
           0.8752,
           null,
           null,
           null,
           null,
           null,
           null,
           null,
           null,
           null,
           null,
           null,
           null,
           null,
           null,
           null,
           null,
           null,
           null,
           null,
           null,
           null,
           null
          ],
          [
           null,
           null,
           null,
           null,
           null,
           null,
           null,
           null,
           null,
           null,
           null,
           null,
           null,
           null,
           null,
           null,
           null,
           null,
           null,
           null,
           null,
           null,
           null,
           null,
           null,
           null,
           null,
           null,
           null,
           null,
           null,
           null,
           null,
           null,
           null,
           null,
           null,
           null,
           null,
           null,
           null,
           null,
           null,
           0.8744,
           null,
           null,
           null,
           null,
           null,
           null,
           null,
           null,
           null,
           null,
           null
          ],
          [
           null,
           null,
           null,
           null,
           null,
           null,
           null,
           null,
           null,
           0.8759,
           null,
           null,
           null,
           null,
           null,
           null,
           null,
           null,
           null,
           null,
           null,
           null,
           null,
           null,
           null,
           null,
           null,
           null,
           null,
           null,
           null,
           null,
           null,
           null,
           null,
           null,
           null,
           null,
           null,
           null,
           null,
           null,
           null,
           null,
           null,
           null,
           null,
           null,
           null,
           null,
           null,
           null,
           null,
           null,
           null
          ],
          [
           null,
           null,
           null,
           null,
           null,
           null,
           null,
           null,
           null,
           null,
           null,
           null,
           null,
           null,
           null,
           null,
           null,
           null,
           null,
           null,
           null,
           null,
           null,
           null,
           null,
           null,
           null,
           null,
           null,
           null,
           null,
           null,
           null,
           null,
           null,
           null,
           null,
           null,
           null,
           0.8779,
           null,
           null,
           null,
           null,
           null,
           null,
           null,
           null,
           null,
           null,
           null,
           null,
           null,
           null,
           null
          ],
          [
           null,
           null,
           null,
           null,
           null,
           null,
           null,
           null,
           null,
           null,
           null,
           null,
           null,
           null,
           null,
           null,
           null,
           null,
           null,
           null,
           null,
           null,
           null,
           null,
           0.8808,
           null,
           null,
           null,
           null,
           null,
           null,
           null,
           null,
           null,
           null,
           null,
           null,
           null,
           null,
           null,
           null,
           null,
           null,
           null,
           null,
           null,
           0.8737,
           null,
           null,
           null,
           null,
           null,
           null,
           null,
           null
          ],
          [
           null,
           null,
           null,
           null,
           null,
           null,
           null,
           null,
           null,
           null,
           null,
           null,
           0.8799,
           null,
           null,
           null,
           null,
           null,
           null,
           null,
           null,
           null,
           null,
           null,
           null,
           null,
           null,
           null,
           null,
           null,
           null,
           null,
           null,
           null,
           null,
           null,
           null,
           null,
           null,
           null,
           null,
           null,
           null,
           null,
           null,
           null,
           null,
           null,
           null,
           null,
           null,
           null,
           null,
           null,
           null
          ],
          [
           null,
           null,
           null,
           null,
           null,
           null,
           null,
           null,
           null,
           null,
           null,
           null,
           null,
           null,
           null,
           null,
           null,
           null,
           null,
           null,
           null,
           null,
           null,
           null,
           null,
           null,
           null,
           null,
           null,
           null,
           null,
           0.873,
           null,
           null,
           null,
           null,
           null,
           0.8733,
           null,
           null,
           null,
           null,
           null,
           null,
           null,
           null,
           null,
           null,
           null,
           null,
           null,
           null,
           null,
           null,
           null
          ],
          [
           null,
           null,
           null,
           null,
           null,
           null,
           null,
           null,
           null,
           null,
           null,
           null,
           null,
           null,
           null,
           null,
           null,
           null,
           null,
           null,
           null,
           null,
           null,
           null,
           null,
           null,
           null,
           null,
           null,
           0.8659,
           0.8788,
           null,
           null,
           null,
           null,
           null,
           null,
           null,
           null,
           null,
           null,
           null,
           null,
           null,
           null,
           null,
           null,
           null,
           null,
           null,
           null,
           null,
           null,
           null,
           null
          ],
          [
           null,
           null,
           null,
           null,
           null,
           null,
           null,
           null,
           null,
           null,
           null,
           null,
           null,
           null,
           null,
           null,
           null,
           null,
           null,
           null,
           null,
           null,
           null,
           null,
           null,
           null,
           null,
           null,
           null,
           null,
           null,
           null,
           null,
           null,
           null,
           0.8815,
           null,
           null,
           null,
           null,
           null,
           null,
           null,
           null,
           null,
           null,
           null,
           null,
           null,
           null,
           null,
           null,
           null,
           null,
           null
          ],
          [
           null,
           null,
           null,
           null,
           null,
           null,
           null,
           null,
           null,
           null,
           null,
           null,
           null,
           0.8698,
           null,
           null,
           0.8758,
           null,
           null,
           null,
           null,
           null,
           null,
           null,
           null,
           null,
           null,
           null,
           null,
           null,
           null,
           null,
           null,
           null,
           null,
           null,
           null,
           null,
           null,
           null,
           null,
           null,
           null,
           null,
           null,
           null,
           null,
           null,
           null,
           null,
           null,
           null,
           null,
           null,
           null
          ],
          [
           null,
           null,
           null,
           null,
           null,
           null,
           null,
           null,
           null,
           null,
           null,
           null,
           null,
           null,
           null,
           null,
           null,
           null,
           null,
           null,
           null,
           null,
           0.8793,
           null,
           null,
           null,
           null,
           null,
           null,
           null,
           null,
           null,
           null,
           null,
           null,
           null,
           null,
           null,
           null,
           null,
           null,
           null,
           null,
           null,
           null,
           null,
           null,
           null,
           null,
           null,
           null,
           null,
           null,
           null,
           null
          ],
          [
           null,
           null,
           0.8551,
           null,
           null,
           null,
           null,
           null,
           null,
           null,
           null,
           null,
           null,
           null,
           null,
           null,
           null,
           0.8817,
           null,
           null,
           null,
           null,
           null,
           null,
           null,
           null,
           null,
           null,
           null,
           null,
           null,
           null,
           null,
           null,
           null,
           null,
           null,
           null,
           null,
           null,
           null,
           null,
           null,
           null,
           null,
           null,
           null,
           null,
           null,
           null,
           null,
           null,
           null,
           null,
           null
          ],
          [
           null,
           null,
           null,
           null,
           null,
           null,
           null,
           null,
           null,
           null,
           null,
           null,
           null,
           null,
           null,
           null,
           null,
           null,
           null,
           null,
           null,
           null,
           null,
           null,
           null,
           null,
           null,
           null,
           null,
           null,
           null,
           null,
           null,
           null,
           null,
           null,
           null,
           null,
           null,
           null,
           null,
           0.8772,
           null,
           null,
           null,
           null,
           null,
           null,
           null,
           null,
           null,
           null,
           null,
           null,
           null
          ],
          [
           null,
           null,
           null,
           null,
           null,
           null,
           null,
           null,
           0.846,
           null,
           null,
           null,
           null,
           null,
           null,
           null,
           null,
           null,
           null,
           null,
           null,
           null,
           null,
           null,
           null,
           null,
           null,
           null,
           null,
           null,
           null,
           null,
           null,
           null,
           null,
           null,
           null,
           null,
           null,
           null,
           null,
           null,
           null,
           null,
           null,
           null,
           null,
           null,
           null,
           null,
           null,
           null,
           null,
           null,
           null
          ],
          [
           null,
           null,
           null,
           null,
           null,
           null,
           null,
           null,
           null,
           null,
           null,
           null,
           null,
           null,
           null,
           null,
           null,
           null,
           0.8785,
           null,
           null,
           null,
           null,
           null,
           null,
           null,
           null,
           null,
           null,
           null,
           null,
           null,
           null,
           null,
           null,
           null,
           null,
           null,
           null,
           null,
           null,
           null,
           null,
           null,
           null,
           null,
           null,
           null,
           null,
           null,
           null,
           null,
           null,
           null,
           null
          ],
          [
           null,
           null,
           null,
           null,
           null,
           null,
           null,
           null,
           null,
           null,
           null,
           0.875,
           null,
           null,
           null,
           null,
           null,
           null,
           null,
           null,
           null,
           null,
           null,
           null,
           null,
           null,
           null,
           null,
           null,
           null,
           null,
           null,
           null,
           null,
           null,
           null,
           null,
           null,
           null,
           null,
           null,
           null,
           null,
           null,
           null,
           null,
           null,
           null,
           null,
           null,
           null,
           null,
           null,
           null,
           null
          ],
          [
           null,
           null,
           null,
           null,
           null,
           null,
           null,
           null,
           null,
           null,
           null,
           null,
           null,
           null,
           null,
           null,
           null,
           null,
           null,
           null,
           null,
           null,
           null,
           null,
           null,
           null,
           0.8755,
           null,
           null,
           null,
           null,
           null,
           null,
           null,
           null,
           null,
           null,
           null,
           null,
           null,
           null,
           null,
           null,
           null,
           null,
           null,
           null,
           null,
           null,
           null,
           null,
           null,
           null,
           null,
           null
          ],
          [
           null,
           null,
           null,
           null,
           null,
           null,
           null,
           null,
           null,
           null,
           null,
           null,
           null,
           null,
           null,
           null,
           null,
           null,
           null,
           null,
           null,
           null,
           null,
           null,
           null,
           null,
           null,
           null,
           null,
           null,
           null,
           null,
           null,
           null,
           null,
           null,
           null,
           null,
           null,
           null,
           null,
           null,
           null,
           null,
           null,
           null,
           null,
           null,
           null,
           null,
           null,
           null,
           0.8681,
           null,
           null
          ],
          [
           null,
           null,
           null,
           null,
           null,
           null,
           null,
           null,
           null,
           null,
           null,
           null,
           null,
           null,
           null,
           null,
           null,
           null,
           null,
           null,
           0.8745,
           null,
           null,
           null,
           null,
           null,
           null,
           null,
           null,
           null,
           null,
           null,
           null,
           null,
           null,
           null,
           null,
           null,
           null,
           null,
           null,
           null,
           null,
           null,
           null,
           null,
           null,
           null,
           null,
           null,
           null,
           null,
           null,
           null,
           null
          ],
          [
           null,
           null,
           null,
           null,
           null,
           null,
           null,
           null,
           null,
           null,
           null,
           null,
           null,
           null,
           null,
           null,
           null,
           null,
           null,
           null,
           null,
           0.8793,
           null,
           null,
           null,
           null,
           null,
           null,
           null,
           null,
           null,
           null,
           null,
           null,
           0.8803,
           null,
           null,
           null,
           null,
           null,
           null,
           null,
           null,
           null,
           null,
           null,
           null,
           null,
           null,
           null,
           0.8819,
           null,
           null,
           null,
           null
          ],
          [
           null,
           null,
           null,
           null,
           null,
           null,
           null,
           null,
           null,
           null,
           0.8638,
           null,
           null,
           null,
           null,
           null,
           null,
           null,
           null,
           null,
           null,
           null,
           null,
           null,
           null,
           null,
           null,
           null,
           null,
           null,
           null,
           null,
           null,
           null,
           null,
           null,
           null,
           null,
           null,
           null,
           null,
           null,
           null,
           null,
           null,
           null,
           null,
           null,
           null,
           null,
           null,
           null,
           null,
           null,
           null
          ],
          [
           null,
           null,
           null,
           null,
           null,
           0.869,
           null,
           null,
           null,
           null,
           null,
           null,
           null,
           null,
           null,
           null,
           null,
           null,
           null,
           null,
           null,
           null,
           null,
           null,
           null,
           null,
           null,
           null,
           null,
           null,
           null,
           null,
           null,
           null,
           null,
           null,
           null,
           null,
           null,
           null,
           null,
           null,
           null,
           null,
           null,
           null,
           null,
           null,
           null,
           null,
           null,
           null,
           null,
           null,
           null
          ],
          [
           null,
           0.8095,
           null,
           null,
           null,
           null,
           null,
           null,
           null,
           null,
           null,
           null,
           null,
           null,
           null,
           null,
           null,
           null,
           null,
           null,
           null,
           null,
           null,
           null,
           null,
           null,
           null,
           null,
           null,
           null,
           null,
           null,
           null,
           null,
           null,
           null,
           null,
           null,
           null,
           null,
           null,
           null,
           null,
           null,
           null,
           null,
           null,
           null,
           null,
           null,
           null,
           null,
           null,
           null,
           null
          ],
          [
           null,
           null,
           null,
           null,
           null,
           null,
           null,
           null,
           null,
           null,
           null,
           null,
           null,
           null,
           null,
           null,
           null,
           null,
           null,
           null,
           null,
           null,
           null,
           null,
           null,
           null,
           null,
           0.8792,
           null,
           null,
           null,
           null,
           null,
           null,
           null,
           null,
           null,
           null,
           null,
           null,
           null,
           null,
           null,
           null,
           null,
           null,
           null,
           null,
           null,
           null,
           null,
           null,
           null,
           null,
           null
          ],
          [
           null,
           null,
           null,
           null,
           null,
           null,
           0.8698,
           null,
           null,
           null,
           null,
           null,
           null,
           null,
           null,
           null,
           null,
           null,
           null,
           null,
           null,
           null,
           null,
           null,
           null,
           null,
           null,
           null,
           null,
           null,
           null,
           null,
           null,
           null,
           null,
           null,
           null,
           null,
           null,
           null,
           null,
           null,
           null,
           null,
           null,
           null,
           null,
           null,
           null,
           null,
           null,
           null,
           null,
           null,
           null
          ],
          [
           null,
           null,
           null,
           null,
           null,
           null,
           null,
           null,
           null,
           null,
           null,
           null,
           null,
           null,
           null,
           null,
           null,
           null,
           null,
           null,
           null,
           null,
           null,
           null,
           null,
           null,
           null,
           null,
           null,
           null,
           null,
           null,
           null,
           null,
           null,
           null,
           null,
           null,
           null,
           null,
           null,
           null,
           null,
           null,
           null,
           null,
           null,
           null,
           null,
           null,
           null,
           null,
           null,
           0.8619,
           null
          ],
          [
           null,
           null,
           null,
           null,
           0.8654,
           null,
           null,
           null,
           null,
           null,
           null,
           null,
           null,
           null,
           null,
           null,
           null,
           null,
           null,
           null,
           null,
           null,
           null,
           null,
           null,
           null,
           null,
           null,
           null,
           null,
           null,
           null,
           null,
           null,
           null,
           null,
           null,
           null,
           null,
           null,
           null,
           null,
           null,
           null,
           null,
           null,
           null,
           null,
           null,
           null,
           null,
           null,
           null,
           null,
           null
          ],
          [
           null,
           null,
           null,
           null,
           null,
           null,
           null,
           null,
           null,
           null,
           null,
           null,
           null,
           null,
           null,
           null,
           null,
           null,
           null,
           null,
           null,
           null,
           null,
           0.8783,
           null,
           null,
           null,
           null,
           null,
           null,
           null,
           null,
           null,
           null,
           null,
           null,
           null,
           null,
           null,
           null,
           null,
           null,
           null,
           null,
           null,
           null,
           null,
           null,
           null,
           null,
           null,
           null,
           null,
           null,
           null
          ],
          [
           null,
           null,
           null,
           0.8681,
           null,
           null,
           null,
           null,
           null,
           null,
           null,
           null,
           null,
           null,
           null,
           null,
           null,
           null,
           null,
           null,
           null,
           null,
           null,
           null,
           null,
           null,
           null,
           null,
           null,
           null,
           null,
           null,
           null,
           null,
           null,
           null,
           null,
           null,
           null,
           null,
           null,
           null,
           null,
           null,
           null,
           null,
           null,
           null,
           null,
           null,
           null,
           null,
           null,
           null,
           null
          ],
          [
           null,
           null,
           null,
           null,
           null,
           null,
           null,
           null,
           null,
           null,
           null,
           null,
           null,
           null,
           null,
           null,
           null,
           null,
           null,
           null,
           null,
           null,
           null,
           null,
           null,
           null,
           null,
           null,
           0.8801,
           null,
           null,
           null,
           null,
           null,
           null,
           null,
           null,
           null,
           null,
           null,
           null,
           null,
           null,
           null,
           null,
           null,
           null,
           null,
           null,
           null,
           null,
           null,
           null,
           null,
           null
          ],
          [
           null,
           null,
           null,
           null,
           null,
           null,
           null,
           null,
           null,
           null,
           null,
           null,
           null,
           null,
           null,
           null,
           null,
           null,
           null,
           0.8746,
           null,
           null,
           null,
           null,
           null,
           null,
           null,
           null,
           null,
           null,
           null,
           null,
           null,
           null,
           null,
           null,
           null,
           null,
           null,
           null,
           null,
           null,
           null,
           null,
           null,
           null,
           null,
           null,
           null,
           null,
           null,
           null,
           null,
           null,
           null
          ],
          [
           null,
           null,
           null,
           null,
           null,
           null,
           null,
           null,
           null,
           null,
           null,
           null,
           null,
           null,
           null,
           null,
           null,
           null,
           null,
           null,
           null,
           null,
           null,
           null,
           null,
           null,
           null,
           null,
           null,
           null,
           null,
           null,
           null,
           null,
           null,
           null,
           null,
           null,
           null,
           null,
           null,
           null,
           null,
           null,
           null,
           null,
           null,
           null,
           null,
           null,
           null,
           null,
           null,
           null,
           null
          ]
         ]
        },
        {
         "marker": {
          "color": "black",
          "line": {
           "color": "Grey",
           "width": 2
          }
         },
         "mode": "markers",
         "showlegend": false,
         "type": "scatter",
         "x": [
          0.002029102197231178,
          0.00010304276838080714,
          0.0007318474839444056,
          0.005113767556783974,
          0.0008035247960214514,
          0.0008851099503370642,
          0.02641953490757494,
          0.03890348451146671,
          0.0007335202102024708,
          0.005356488570376725,
          0.005111216837452078,
          0.00799729648496317,
          0.005283968285379495,
          0.009662025288483504,
          0.008469731806373013,
          0.009204642568755533,
          0.011536014212655226,
          0.015372986857453516,
          0.008557810702823953,
          0.008534797952559592,
          0.012699854107899934,
          0.01323377952238283,
          0.014825217760804905,
          0.014971252242458943,
          0.012368908391012014,
          0.015673918679270937,
          0.0073894661941148725,
          0.0063881601499668145,
          0.01039400755371694,
          0.010014857826559235,
          0.010593912232359115,
          0.005581704012076503,
          0.012808894182187213,
          0.008082851768479863,
          0.012397719194273307,
          0.005956133364604813,
          0.011666611834733347,
          0.012313188504684307,
          0.012763495827976118,
          0.012134366954537306,
          0.011589412713603905,
          0.009289913441378833,
          0.00947473091173592,
          0.0077044536807523815,
          0.007300630044708924,
          0.010385424372005988,
          0.008315749501463222,
          0.008220383972921816,
          0.007382675520322863,
          0.0077463265016339015,
          0.008824948586059728,
          0.008469115913671214,
          0.009006451536771114
         ],
         "xaxis": "x17",
         "y": [
          244,
          233,
          174,
          191,
          298,
          231,
          205,
          256,
          305,
          228,
          135,
          321,
          152,
          150,
          156,
          161,
          159,
          210,
          202,
          147,
          149,
          144,
          145,
          95,
          123,
          135,
          166,
          166,
          163,
          107,
          145,
          201,
          156,
          207,
          151,
          157,
          153,
          185,
          130,
          131,
          93,
          161,
          159,
          174,
          139,
          210,
          167,
          210,
          134,
          195,
          236,
          303,
          309
         ],
         "yaxis": "y17"
        },
        {
         "colorbar": {
          "title": {
           "text": "Objective Value"
          }
         },
         "colorscale": [
          [
           0,
           "rgb(247,251,255)"
          ],
          [
           0.125,
           "rgb(222,235,247)"
          ],
          [
           0.25,
           "rgb(198,219,239)"
          ],
          [
           0.375,
           "rgb(158,202,225)"
          ],
          [
           0.5,
           "rgb(107,174,214)"
          ],
          [
           0.625,
           "rgb(66,146,198)"
          ],
          [
           0.75,
           "rgb(33,113,181)"
          ],
          [
           0.875,
           "rgb(8,81,156)"
          ],
          [
           1,
           "rgb(8,48,107)"
          ]
         ],
         "connectgaps": true,
         "contours": {
          "coloring": "heatmap"
         },
         "hoverinfo": "none",
         "line": {
          "smoothing": 1.3
         },
         "reversescale": false,
         "showscale": false,
         "type": "contour",
         "x": [
          0.0000765894531868334,
          0.00010304276838080714,
          0.0007318474839444056,
          0.0007335202102024708,
          0.0008035247960214514,
          0.0008851099503370642,
          0.002029102197231178,
          0.005111216837452078,
          0.005113767556783974,
          0.005283968285379495,
          0.005356488570376725,
          0.005581704012076503,
          0.005956133364604813,
          0.0063881601499668145,
          0.007300630044708924,
          0.007382675520322863,
          0.0073894661941148725,
          0.0077044536807523815,
          0.0077463265016339015,
          0.00799729648496317,
          0.008082851768479863,
          0.008220383972921816,
          0.008315749501463222,
          0.008469115913671214,
          0.008469731806373013,
          0.008534797952559592,
          0.008557810702823953,
          0.008824948586059728,
          0.009006451536771114,
          0.009204642568755533,
          0.009289913441378833,
          0.00947473091173592,
          0.009662025288483504,
          0.010014857826559235,
          0.010385424372005988,
          0.01039400755371694,
          0.010593912232359115,
          0.011536014212655226,
          0.011589412713603905,
          0.011666611834733347,
          0.012134366954537306,
          0.012313188504684307,
          0.012368908391012014,
          0.012397719194273307,
          0.012699854107899934,
          0.012763495827976118,
          0.012808894182187213,
          0.01323377952238283,
          0.014825217760804905,
          0.014971252242458943,
          0.015372986857453516,
          0.015673918679270937,
          0.02641953490757494,
          0.03890348451146671,
          0.05234040167309258
         ],
         "xaxis": "x22",
         "y": [
          2.4499999999999993,
          10,
          14,
          16,
          22,
          28,
          30,
          31,
          35,
          36,
          37,
          45,
          46,
          50,
          52,
          63,
          64,
          79,
          84,
          85,
          91,
          92,
          98,
          99,
          101,
          105,
          106,
          107,
          108,
          109,
          113,
          117,
          118,
          127,
          129,
          154,
          161,
          168.55
         ],
         "yaxis": "y22",
         "z": [
          [
           null,
           null,
           null,
           null,
           null,
           null,
           null,
           null,
           null,
           null,
           null,
           null,
           null,
           null,
           null,
           null,
           null,
           null,
           null,
           null,
           null,
           null,
           null,
           null,
           null,
           null,
           null,
           null,
           null,
           null,
           null,
           null,
           null,
           null,
           null,
           null,
           null,
           null,
           null,
           null,
           null,
           null,
           null,
           null,
           null,
           null,
           null,
           null,
           null,
           null,
           null,
           null,
           null,
           null,
           null
          ],
          [
           null,
           null,
           null,
           null,
           null,
           null,
           null,
           null,
           null,
           null,
           0.8638,
           null,
           null,
           null,
           null,
           null,
           null,
           null,
           null,
           null,
           null,
           null,
           null,
           null,
           null,
           null,
           null,
           null,
           null,
           null,
           null,
           null,
           null,
           null,
           null,
           null,
           null,
           null,
           null,
           null,
           null,
           null,
           null,
           null,
           null,
           null,
           null,
           null,
           null,
           null,
           null,
           null,
           null,
           null,
           null
          ],
          [
           null,
           null,
           null,
           null,
           null,
           null,
           null,
           null,
           null,
           null,
           null,
           null,
           null,
           null,
           null,
           null,
           null,
           null,
           null,
           null,
           null,
           null,
           null,
           null,
           null,
           null,
           null,
           null,
           null,
           0.8659,
           null,
           null,
           null,
           null,
           null,
           null,
           null,
           null,
           null,
           null,
           null,
           null,
           null,
           null,
           null,
           null,
           null,
           null,
           null,
           null,
           null,
           null,
           null,
           null,
           null
          ],
          [
           null,
           null,
           null,
           null,
           null,
           null,
           null,
           null,
           null,
           null,
           null,
           null,
           null,
           null,
           null,
           null,
           null,
           null,
           null,
           null,
           null,
           null,
           null,
           null,
           null,
           null,
           null,
           null,
           null,
           null,
           null,
           null,
           null,
           null,
           null,
           null,
           null,
           0.8733,
           null,
           null,
           null,
           null,
           null,
           null,
           null,
           null,
           null,
           null,
           null,
           null,
           null,
           null,
           null,
           null,
           null
          ],
          [
           null,
           null,
           null,
           null,
           null,
           null,
           null,
           0.8765,
           null,
           null,
           null,
           null,
           null,
           null,
           null,
           null,
           null,
           null,
           null,
           null,
           null,
           null,
           null,
           null,
           null,
           null,
           null,
           null,
           null,
           null,
           null,
           null,
           null,
           null,
           null,
           null,
           null,
           null,
           null,
           null,
           null,
           null,
           null,
           null,
           null,
           null,
           null,
           null,
           null,
           null,
           null,
           null,
           null,
           null,
           null
          ],
          [
           null,
           null,
           null,
           null,
           null,
           null,
           null,
           null,
           null,
           null,
           null,
           null,
           null,
           null,
           null,
           null,
           null,
           null,
           null,
           null,
           null,
           null,
           null,
           null,
           null,
           null,
           null,
           null,
           null,
           null,
           null,
           null,
           null,
           null,
           null,
           null,
           null,
           null,
           null,
           null,
           null,
           null,
           null,
           null,
           null,
           null,
           null,
           0.8778,
           null,
           null,
           null,
           null,
           null,
           null,
           null
          ],
          [
           null,
           null,
           null,
           null,
           null,
           null,
           null,
           null,
           null,
           null,
           null,
           null,
           null,
           null,
           null,
           null,
           null,
           null,
           null,
           null,
           null,
           null,
           null,
           null,
           null,
           0.8781,
           null,
           null,
           null,
           null,
           null,
           null,
           null,
           null,
           null,
           null,
           null,
           null,
           null,
           null,
           null,
           null,
           null,
           null,
           null,
           null,
           null,
           null,
           null,
           null,
           null,
           null,
           null,
           null,
           null
          ],
          [
           null,
           null,
           null,
           null,
           null,
           null,
           null,
           null,
           null,
           null,
           null,
           null,
           null,
           null,
           null,
           null,
           null,
           null,
           null,
           null,
           null,
           null,
           null,
           null,
           null,
           null,
           null,
           null,
           null,
           null,
           null,
           null,
           null,
           null,
           null,
           null,
           null,
           null,
           null,
           null,
           null,
           null,
           null,
           null,
           null,
           null,
           null,
           null,
           0.8758,
           null,
           null,
           null,
           null,
           null,
           null
          ],
          [
           null,
           null,
           null,
           null,
           null,
           null,
           null,
           null,
           null,
           null,
           null,
           null,
           null,
           null,
           null,
           null,
           null,
           null,
           null,
           null,
           null,
           null,
           null,
           null,
           null,
           null,
           null,
           null,
           null,
           null,
           null,
           null,
           null,
           null,
           null,
           0.8815,
           null,
           null,
           null,
           null,
           null,
           null,
           null,
           null,
           null,
           null,
           null,
           null,
           null,
           null,
           null,
           null,
           null,
           null,
           null
          ],
          [
           null,
           null,
           null,
           null,
           null,
           null,
           null,
           null,
           null,
           null,
           null,
           null,
           null,
           null,
           null,
           null,
           null,
           null,
           null,
           null,
           null,
           null,
           null,
           null,
           null,
           null,
           null,
           null,
           null,
           null,
           null,
           null,
           null,
           null,
           null,
           null,
           null,
           null,
           null,
           null,
           null,
           null,
           null,
           null,
           null,
           null,
           null,
           null,
           null,
           0.873,
           null,
           null,
           null,
           null,
           null
          ],
          [
           null,
           null,
           null,
           null,
           null,
           null,
           null,
           null,
           null,
           null,
           null,
           null,
           null,
           null,
           null,
           null,
           null,
           null,
           null,
           null,
           null,
           null,
           null,
           null,
           null,
           null,
           null,
           null,
           null,
           null,
           null,
           null,
           null,
           null,
           null,
           null,
           null,
           null,
           null,
           null,
           null,
           null,
           null,
           null,
           0.8811,
           null,
           null,
           null,
           null,
           null,
           null,
           null,
           null,
           null,
           null
          ],
          [
           null,
           null,
           null,
           null,
           null,
           null,
           null,
           null,
           null,
           null,
           null,
           null,
           null,
           null,
           null,
           null,
           0.8758,
           null,
           null,
           null,
           null,
           null,
           null,
           null,
           null,
           null,
           null,
           null,
           null,
           null,
           null,
           null,
           null,
           null,
           null,
           null,
           null,
           null,
           null,
           null,
           null,
           null,
           null,
           null,
           null,
           null,
           null,
           null,
           null,
           null,
           null,
           null,
           null,
           null,
           null
          ],
          [
           null,
           null,
           null,
           null,
           null,
           null,
           null,
           null,
           null,
           null,
           null,
           null,
           null,
           0.8698,
           null,
           null,
           null,
           null,
           null,
           null,
           null,
           null,
           null,
           null,
           null,
           null,
           null,
           null,
           null,
           null,
           null,
           null,
           null,
           null,
           null,
           null,
           null,
           null,
           null,
           null,
           null,
           null,
           null,
           null,
           null,
           null,
           null,
           null,
           null,
           null,
           null,
           null,
           null,
           null,
           null
          ],
          [
           null,
           null,
           null,
           null,
           null,
           null,
           null,
           null,
           null,
           null,
           null,
           null,
           null,
           null,
           null,
           null,
           null,
           null,
           null,
           null,
           null,
           null,
           null,
           null,
           null,
           null,
           null,
           null,
           null,
           null,
           null,
           null,
           null,
           null,
           null,
           null,
           0.8728,
           null,
           null,
           null,
           null,
           null,
           null,
           null,
           null,
           null,
           null,
           null,
           null,
           null,
           null,
           null,
           null,
           null,
           null
          ],
          [
           null,
           null,
           null,
           null,
           null,
           null,
           null,
           null,
           null,
           null,
           null,
           null,
           null,
           null,
           null,
           null,
           null,
           null,
           null,
           0.8746,
           null,
           null,
           null,
           null,
           null,
           null,
           null,
           null,
           null,
           null,
           null,
           null,
           null,
           null,
           null,
           null,
           null,
           null,
           null,
           null,
           null,
           null,
           null,
           null,
           null,
           null,
           null,
           null,
           null,
           null,
           null,
           null,
           null,
           null,
           null
          ],
          [
           null,
           null,
           null,
           null,
           null,
           null,
           null,
           null,
           null,
           null,
           null,
           null,
           null,
           null,
           null,
           null,
           null,
           null,
           null,
           null,
           null,
           null,
           null,
           null,
           null,
           null,
           null,
           0.8792,
           null,
           null,
           null,
           null,
           null,
           null,
           null,
           null,
           null,
           null,
           null,
           null,
           null,
           null,
           null,
           null,
           null,
           null,
           null,
           null,
           null,
           null,
           null,
           null,
           null,
           null,
           null
          ],
          [
           null,
           null,
           null,
           null,
           null,
           null,
           null,
           null,
           null,
           0.8759,
           null,
           null,
           null,
           null,
           null,
           null,
           null,
           null,
           null,
           null,
           null,
           null,
           null,
           null,
           null,
           null,
           null,
           null,
           null,
           null,
           null,
           null,
           null,
           null,
           null,
           null,
           null,
           null,
           null,
           null,
           null,
           null,
           null,
           null,
           null,
           null,
           null,
           null,
           null,
           null,
           null,
           null,
           null,
           null,
           null
          ],
          [
           null,
           null,
           null,
           null,
           null,
           null,
           null,
           null,
           null,
           null,
           null,
           null,
           null,
           null,
           null,
           null,
           null,
           null,
           null,
           null,
           null,
           null,
           null,
           null,
           null,
           null,
           null,
           null,
           null,
           null,
           null,
           null,
           null,
           null,
           null,
           null,
           null,
           null,
           null,
           null,
           null,
           null,
           null,
           null,
           null,
           0.8786,
           null,
           null,
           null,
           null,
           null,
           null,
           null,
           null,
           null
          ],
          [
           null,
           null,
           null,
           0.8681,
           null,
           null,
           null,
           null,
           null,
           null,
           null,
           null,
           null,
           null,
           null,
           null,
           null,
           null,
           null,
           null,
           null,
           null,
           null,
           null,
           null,
           null,
           null,
           null,
           null,
           null,
           null,
           null,
           null,
           null,
           null,
           null,
           null,
           null,
           null,
           null,
           null,
           null,
           null,
           null,
           null,
           null,
           null,
           null,
           null,
           null,
           null,
           null,
           null,
           null,
           null
          ],
          [
           null,
           null,
           null,
           null,
           null,
           null,
           null,
           null,
           null,
           null,
           null,
           null,
           null,
           null,
           null,
           null,
           null,
           null,
           null,
           null,
           null,
           null,
           null,
           null,
           null,
           null,
           null,
           null,
           null,
           null,
           null,
           null,
           null,
           0.8805,
           null,
           null,
           null,
           null,
           null,
           null,
           null,
           null,
           null,
           null,
           null,
           null,
           null,
           null,
           null,
           null,
           null,
           null,
           null,
           null,
           null
          ],
          [
           null,
           null,
           null,
           null,
           null,
           0.869,
           null,
           null,
           null,
           null,
           null,
           null,
           null,
           null,
           null,
           null,
           null,
           null,
           null,
           null,
           null,
           null,
           null,
           null,
           null,
           null,
           null,
           null,
           null,
           null,
           null,
           null,
           null,
           null,
           null,
           null,
           null,
           null,
           null,
           null,
           null,
           null,
           null,
           null,
           null,
           null,
           null,
           null,
           null,
           null,
           null,
           null,
           null,
           null,
           null
          ],
          [
           null,
           null,
           0.8551,
           null,
           null,
           null,
           null,
           null,
           null,
           null,
           null,
           null,
           null,
           null,
           null,
           null,
           null,
           null,
           null,
           null,
           null,
           null,
           null,
           null,
           null,
           null,
           null,
           null,
           null,
           null,
           null,
           null,
           null,
           null,
           null,
           null,
           null,
           null,
           null,
           null,
           null,
           null,
           null,
           null,
           null,
           null,
           null,
           null,
           null,
           null,
           null,
           null,
           null,
           null,
           null
          ],
          [
           null,
           null,
           null,
           null,
           null,
           null,
           null,
           null,
           null,
           null,
           null,
           null,
           null,
           null,
           null,
           null,
           null,
           null,
           null,
           null,
           null,
           null,
           null,
           null,
           null,
           null,
           null,
           null,
           null,
           null,
           null,
           null,
           null,
           null,
           null,
           null,
           null,
           null,
           null,
           null,
           0.87,
           null,
           null,
           null,
           null,
           null,
           null,
           null,
           null,
           null,
           null,
           null,
           null,
           null,
           null
          ],
          [
           null,
           null,
           null,
           null,
           null,
           null,
           null,
           null,
           null,
           null,
           null,
           null,
           null,
           null,
           null,
           null,
           null,
           null,
           null,
           null,
           null,
           null,
           null,
           null,
           null,
           null,
           null,
           null,
           null,
           null,
           null,
           null,
           null,
           null,
           null,
           null,
           null,
           null,
           0.8741,
           0.8779,
           null,
           null,
           null,
           0.8744,
           null,
           null,
           null,
           null,
           null,
           null,
           null,
           null,
           null,
           null,
           null
          ],
          [
           null,
           null,
           null,
           null,
           null,
           null,
           null,
           null,
           null,
           null,
           null,
           null,
           null,
           null,
           null,
           null,
           null,
           null,
           null,
           null,
           null,
           null,
           null,
           null,
           null,
           null,
           null,
           null,
           null,
           null,
           null,
           null,
           null,
           null,
           null,
           null,
           null,
           null,
           null,
           null,
           null,
           0.8772,
           null,
           null,
           null,
           null,
           null,
           null,
           null,
           null,
           null,
           null,
           null,
           null,
           null
          ],
          [
           null,
           null,
           null,
           null,
           null,
           null,
           null,
           null,
           0.846,
           null,
           null,
           null,
           null,
           null,
           null,
           null,
           null,
           null,
           null,
           null,
           null,
           null,
           null,
           null,
           null,
           null,
           null,
           null,
           null,
           null,
           null,
           null,
           null,
           null,
           null,
           null,
           null,
           null,
           null,
           null,
           null,
           null,
           null,
           null,
           null,
           null,
           null,
           null,
           null,
           null,
           null,
           null,
           null,
           null,
           null
          ],
          [
           null,
           null,
           null,
           null,
           null,
           null,
           null,
           null,
           null,
           null,
           null,
           null,
           null,
           null,
           null,
           null,
           null,
           null,
           null,
           null,
           null,
           null,
           null,
           null,
           null,
           null,
           null,
           null,
           null,
           null,
           null,
           0.873,
           null,
           null,
           null,
           null,
           null,
           null,
           null,
           null,
           null,
           null,
           null,
           null,
           null,
           null,
           null,
           null,
           null,
           null,
           null,
           null,
           null,
           null,
           null
          ],
          [
           null,
           null,
           null,
           null,
           null,
           null,
           null,
           null,
           null,
           null,
           null,
           null,
           null,
           null,
           null,
           null,
           null,
           0.8817,
           null,
           null,
           null,
           null,
           null,
           null,
           null,
           null,
           null,
           null,
           null,
           null,
           null,
           null,
           null,
           null,
           null,
           null,
           null,
           null,
           null,
           null,
           null,
           null,
           null,
           null,
           null,
           null,
           null,
           null,
           null,
           null,
           null,
           null,
           null,
           null,
           null
          ],
          [
           null,
           null,
           null,
           null,
           null,
           null,
           null,
           null,
           null,
           null,
           null,
           null,
           null,
           null,
           null,
           0.8785,
           null,
           null,
           null,
           null,
           null,
           null,
           null,
           null,
           null,
           null,
           null,
           null,
           null,
           null,
           0.8788,
           null,
           null,
           null,
           null,
           null,
           null,
           null,
           null,
           null,
           null,
           null,
           null,
           null,
           null,
           null,
           null,
           null,
           null,
           null,
           null,
           null,
           null,
           null,
           null
          ],
          [
           null,
           null,
           null,
           null,
           null,
           null,
           null,
           null,
           null,
           null,
           null,
           null,
           null,
           null,
           0.8785,
           null,
           null,
           null,
           null,
           null,
           null,
           null,
           null,
           null,
           null,
           null,
           null,
           null,
           null,
           null,
           null,
           null,
           null,
           null,
           null,
           null,
           null,
           null,
           null,
           null,
           null,
           null,
           null,
           null,
           null,
           null,
           null,
           null,
           null,
           null,
           null,
           null,
           null,
           null,
           null
          ],
          [
           null,
           null,
           null,
           null,
           null,
           null,
           null,
           null,
           null,
           null,
           null,
           null,
           0.8799,
           null,
           null,
           null,
           null,
           null,
           null,
           null,
           null,
           null,
           null,
           null,
           null,
           null,
           null,
           null,
           null,
           null,
           null,
           null,
           null,
           null,
           null,
           null,
           null,
           null,
           null,
           null,
           null,
           null,
           null,
           null,
           null,
           null,
           null,
           null,
           null,
           null,
           null,
           null,
           null,
           null,
           null
          ],
          [
           null,
           null,
           null,
           null,
           null,
           null,
           null,
           null,
           null,
           null,
           null,
           null,
           null,
           null,
           null,
           null,
           null,
           null,
           null,
           null,
           null,
           0.8793,
           null,
           null,
           null,
           null,
           null,
           null,
           null,
           null,
           null,
           null,
           null,
           null,
           0.8803,
           null,
           null,
           null,
           null,
           null,
           null,
           null,
           null,
           null,
           null,
           null,
           null,
           null,
           null,
           null,
           null,
           null,
           null,
           null,
           null
          ],
          [
           null,
           null,
           null,
           null,
           null,
           null,
           null,
           null,
           null,
           null,
           null,
           null,
           null,
           null,
           null,
           null,
           null,
           null,
           null,
           null,
           null,
           null,
           0.8793,
           null,
           null,
           null,
           null,
           null,
           null,
           null,
           null,
           null,
           null,
           null,
           null,
           null,
           null,
           null,
           null,
           null,
           null,
           null,
           null,
           null,
           null,
           null,
           null,
           null,
           null,
           null,
           null,
           null,
           null,
           null,
           null
          ],
          [
           null,
           0.8095,
           null,
           null,
           null,
           null,
           null,
           null,
           null,
           null,
           null,
           null,
           null,
           null,
           null,
           null,
           null,
           null,
           null,
           null,
           null,
           null,
           null,
           null,
           null,
           null,
           null,
           null,
           null,
           null,
           null,
           null,
           null,
           null,
           null,
           null,
           null,
           null,
           null,
           null,
           null,
           null,
           null,
           null,
           null,
           null,
           null,
           null,
           null,
           null,
           null,
           null,
           null,
           null,
           null
          ],
          [
           null,
           null,
           null,
           null,
           null,
           null,
           null,
           null,
           null,
           null,
           null,
           null,
           null,
           null,
           null,
           null,
           null,
           null,
           0.8785,
           null,
           null,
           null,
           null,
           null,
           null,
           null,
           null,
           null,
           null,
           null,
           null,
           null,
           null,
           null,
           null,
           null,
           null,
           null,
           null,
           null,
           null,
           null,
           null,
           null,
           null,
           null,
           null,
           null,
           null,
           null,
           null,
           null,
           null,
           null,
           null
          ],
          [
           null,
           null,
           null,
           null,
           null,
           null,
           null,
           null,
           null,
           null,
           null,
           null,
           null,
           null,
           null,
           null,
           null,
           null,
           null,
           null,
           null,
           null,
           null,
           null,
           null,
           null,
           null,
           null,
           0.8801,
           null,
           null,
           null,
           null,
           null,
           null,
           null,
           null,
           null,
           null,
           null,
           null,
           null,
           null,
           null,
           null,
           null,
           null,
           null,
           null,
           null,
           null,
           null,
           null,
           null,
           null
          ],
          [
           null,
           null,
           null,
           null,
           null,
           null,
           null,
           null,
           null,
           null,
           null,
           null,
           null,
           null,
           null,
           null,
           null,
           null,
           null,
           null,
           null,
           null,
           null,
           0.8783,
           null,
           null,
           null,
           null,
           null,
           null,
           null,
           null,
           null,
           null,
           null,
           null,
           null,
           null,
           null,
           null,
           null,
           null,
           null,
           null,
           null,
           null,
           null,
           null,
           null,
           null,
           null,
           null,
           null,
           null,
           null
          ],
          [
           null,
           null,
           null,
           null,
           null,
           null,
           null,
           null,
           null,
           null,
           null,
           null,
           null,
           null,
           null,
           null,
           null,
           null,
           null,
           null,
           null,
           null,
           null,
           null,
           null,
           null,
           null,
           null,
           null,
           null,
           null,
           null,
           null,
           null,
           null,
           null,
           null,
           null,
           null,
           null,
           null,
           null,
           null,
           null,
           null,
           null,
           null,
           null,
           null,
           null,
           null,
           null,
           null,
           null,
           null
          ]
         ]
        },
        {
         "marker": {
          "color": "black",
          "line": {
           "color": "Grey",
           "width": 2
          }
         },
         "mode": "markers",
         "showlegend": false,
         "type": "scatter",
         "x": [
          0.00010304276838080714,
          0.0007318474839444056,
          0.005113767556783974,
          0.0008851099503370642,
          0.0007335202102024708,
          0.005356488570376725,
          0.005111216837452078,
          0.00799729648496317,
          0.005283968285379495,
          0.009204642568755533,
          0.011536014212655226,
          0.008534797952559592,
          0.012699854107899934,
          0.01323377952238283,
          0.014825217760804905,
          0.014971252242458943,
          0.0073894661941148725,
          0.0063881601499668145,
          0.01039400755371694,
          0.010014857826559235,
          0.010593912232359115,
          0.012397719194273307,
          0.005956133364604813,
          0.011666611834733347,
          0.012313188504684307,
          0.012763495827976118,
          0.012134366954537306,
          0.011589412713603905,
          0.009289913441378833,
          0.00947473091173592,
          0.0077044536807523815,
          0.007300630044708924,
          0.010385424372005988,
          0.008315749501463222,
          0.008220383972921816,
          0.007382675520322863,
          0.0077463265016339015,
          0.008824948586059728,
          0.008469115913671214,
          0.009006451536771114
         ],
         "xaxis": "x22",
         "y": [
          127,
          92,
          105,
          91,
          84,
          10,
          22,
          52,
          64,
          14,
          16,
          30,
          37,
          28,
          31,
          36,
          45,
          46,
          35,
          85,
          50,
          99,
          113,
          99,
          101,
          79,
          98,
          99,
          108,
          106,
          107,
          109,
          117,
          118,
          117,
          108,
          129,
          63,
          161,
          154
         ],
         "yaxis": "y22"
        },
        {
         "colorbar": {
          "title": {
           "text": "Objective Value"
          }
         },
         "colorscale": [
          [
           0,
           "rgb(247,251,255)"
          ],
          [
           0.125,
           "rgb(222,235,247)"
          ],
          [
           0.25,
           "rgb(198,219,239)"
          ],
          [
           0.375,
           "rgb(158,202,225)"
          ],
          [
           0.5,
           "rgb(107,174,214)"
          ],
          [
           0.625,
           "rgb(66,146,198)"
          ],
          [
           0.75,
           "rgb(33,113,181)"
          ],
          [
           0.875,
           "rgb(8,81,156)"
          ],
          [
           1,
           "rgb(8,48,107)"
          ]
         ],
         "connectgaps": true,
         "contours": {
          "coloring": "heatmap"
         },
         "hoverinfo": "none",
         "line": {
          "smoothing": 1.3
         },
         "reversescale": false,
         "showscale": false,
         "type": "contour",
         "x": [
          0.9,
          1,
          2,
          3,
          3.1
         ],
         "xaxis": "x3",
         "y": [
          "LeakyReLU",
          "ReLU"
         ],
         "yaxis": "y3",
         "z": [
          [
           null,
           0.8745,
           0.8801,
           0.846,
           null
          ],
          [
           null,
           0.8619,
           null,
           null,
           null
          ]
         ]
        },
        {
         "marker": {
          "color": "black",
          "line": {
           "color": "Grey",
           "width": 2
          }
         },
         "mode": "markers",
         "showlegend": false,
         "type": "scatter",
         "x": [
          1,
          3,
          3,
          3,
          1,
          2,
          1,
          1,
          2,
          2,
          2,
          2,
          2,
          1,
          1,
          2,
          2,
          1,
          1,
          2,
          2,
          2,
          2,
          2,
          1,
          1,
          2,
          2,
          2,
          2,
          2,
          1,
          1,
          1,
          2,
          2,
          2,
          2,
          2,
          2,
          2,
          2,
          2,
          2,
          2,
          2,
          2,
          2,
          2,
          2,
          2,
          2,
          2
         ],
         "xaxis": "x3",
         "y": [
          "LeakyReLU",
          "LeakyReLU",
          "LeakyReLU",
          "LeakyReLU",
          "LeakyReLU",
          "LeakyReLU",
          "LeakyReLU",
          "ReLU",
          "LeakyReLU",
          "LeakyReLU",
          "LeakyReLU",
          "LeakyReLU",
          "LeakyReLU",
          "LeakyReLU",
          "LeakyReLU",
          "LeakyReLU",
          "LeakyReLU",
          "LeakyReLU",
          "LeakyReLU",
          "LeakyReLU",
          "LeakyReLU",
          "LeakyReLU",
          "LeakyReLU",
          "LeakyReLU",
          "LeakyReLU",
          "LeakyReLU",
          "LeakyReLU",
          "LeakyReLU",
          "LeakyReLU",
          "LeakyReLU",
          "LeakyReLU",
          "LeakyReLU",
          "LeakyReLU",
          "LeakyReLU",
          "LeakyReLU",
          "LeakyReLU",
          "LeakyReLU",
          "LeakyReLU",
          "LeakyReLU",
          "LeakyReLU",
          "LeakyReLU",
          "LeakyReLU",
          "LeakyReLU",
          "LeakyReLU",
          "LeakyReLU",
          "LeakyReLU",
          "LeakyReLU",
          "LeakyReLU",
          "LeakyReLU",
          "LeakyReLU",
          "LeakyReLU",
          "LeakyReLU",
          "LeakyReLU"
         ],
         "yaxis": "y3"
        },
        {
         "colorbar": {
          "title": {
           "text": "Objective Value"
          }
         },
         "colorscale": [
          [
           0,
           "rgb(247,251,255)"
          ],
          [
           0.125,
           "rgb(222,235,247)"
          ],
          [
           0.25,
           "rgb(198,219,239)"
          ],
          [
           0.375,
           "rgb(158,202,225)"
          ],
          [
           0.5,
           "rgb(107,174,214)"
          ],
          [
           0.625,
           "rgb(66,146,198)"
          ],
          [
           0.75,
           "rgb(33,113,181)"
          ],
          [
           0.875,
           "rgb(8,81,156)"
          ],
          [
           1,
           "rgb(8,48,107)"
          ]
         ],
         "connectgaps": true,
         "contours": {
          "coloring": "heatmap"
         },
         "hoverinfo": "none",
         "line": {
          "smoothing": 1.3
         },
         "reversescale": false,
         "showscale": false,
         "type": "contour",
         "x": [
          0.9,
          1,
          2,
          3,
          3.1
         ],
         "xaxis": "x8",
         "y": [
          0.0000765894531868334,
          0.00010304276838080714,
          0.0007318474839444056,
          0.0007335202102024708,
          0.0008035247960214514,
          0.0008851099503370642,
          0.002029102197231178,
          0.005111216837452078,
          0.005113767556783974,
          0.005283968285379495,
          0.005356488570376725,
          0.005581704012076503,
          0.005956133364604813,
          0.0063881601499668145,
          0.007300630044708924,
          0.007382675520322863,
          0.0073894661941148725,
          0.0077044536807523815,
          0.0077463265016339015,
          0.00799729648496317,
          0.008082851768479863,
          0.008220383972921816,
          0.008315749501463222,
          0.008469115913671214,
          0.008469731806373013,
          0.008534797952559592,
          0.008557810702823953,
          0.008824948586059728,
          0.009006451536771114,
          0.009204642568755533,
          0.009289913441378833,
          0.00947473091173592,
          0.009662025288483504,
          0.010014857826559235,
          0.010385424372005988,
          0.01039400755371694,
          0.010593912232359115,
          0.011536014212655226,
          0.011589412713603905,
          0.011666611834733347,
          0.012134366954537306,
          0.012313188504684307,
          0.012368908391012014,
          0.012397719194273307,
          0.012699854107899934,
          0.012763495827976118,
          0.012808894182187213,
          0.01323377952238283,
          0.014825217760804905,
          0.014971252242458943,
          0.015372986857453516,
          0.015673918679270937,
          0.02641953490757494,
          0.03890348451146671,
          0.05234040167309258
         ],
         "yaxis": "y8",
         "z": [
          [
           null,
           null,
           null,
           null,
           null
          ],
          [
           null,
           null,
           null,
           0.8095,
           null
          ],
          [
           null,
           null,
           null,
           0.8551,
           null
          ],
          [
           null,
           null,
           0.8681,
           null,
           null
          ],
          [
           null,
           0.8654,
           null,
           null,
           null
          ],
          [
           null,
           null,
           0.869,
           null,
           null
          ],
          [
           null,
           0.8698,
           null,
           null,
           null
          ],
          [
           null,
           null,
           0.8765,
           null,
           null
          ],
          [
           null,
           null,
           null,
           0.846,
           null
          ],
          [
           null,
           null,
           0.8759,
           null,
           null
          ],
          [
           null,
           null,
           0.8638,
           null,
           null
          ],
          [
           null,
           0.875,
           null,
           null,
           null
          ],
          [
           null,
           null,
           0.8799,
           null,
           null
          ],
          [
           null,
           null,
           0.8698,
           null,
           null
          ],
          [
           null,
           null,
           0.8785,
           null,
           null
          ],
          [
           null,
           null,
           0.8785,
           null,
           null
          ],
          [
           null,
           null,
           0.8758,
           null,
           null
          ],
          [
           null,
           null,
           0.8817,
           null,
           null
          ],
          [
           null,
           null,
           0.8785,
           null,
           null
          ],
          [
           null,
           null,
           0.8746,
           null,
           null
          ],
          [
           null,
           0.8745,
           null,
           null,
           null
          ],
          [
           null,
           null,
           0.8793,
           null,
           null
          ],
          [
           null,
           null,
           0.8793,
           null,
           null
          ],
          [
           null,
           null,
           0.8783,
           null,
           null
          ],
          [
           null,
           0.8808,
           null,
           null,
           null
          ],
          [
           null,
           null,
           0.8781,
           null,
           null
          ],
          [
           null,
           0.8755,
           null,
           null,
           null
          ],
          [
           null,
           null,
           0.8792,
           null,
           null
          ],
          [
           null,
           null,
           0.8801,
           null,
           null
          ],
          [
           null,
           null,
           0.8659,
           null,
           null
          ],
          [
           null,
           null,
           0.8788,
           null,
           null
          ],
          [
           null,
           null,
           0.873,
           null,
           null
          ],
          [
           null,
           0.8752,
           null,
           null,
           null
          ],
          [
           null,
           null,
           0.8805,
           null,
           null
          ],
          [
           null,
           null,
           0.8803,
           null,
           null
          ],
          [
           null,
           null,
           0.8815,
           null,
           null
          ],
          [
           null,
           null,
           0.8728,
           null,
           null
          ],
          [
           null,
           null,
           0.8733,
           null,
           null
          ],
          [
           null,
           null,
           0.8741,
           null,
           null
          ],
          [
           null,
           null,
           0.8779,
           null,
           null
          ],
          [
           null,
           null,
           0.87,
           null,
           null
          ],
          [
           null,
           null,
           0.8772,
           null,
           null
          ],
          [
           null,
           0.8641,
           null,
           null,
           null
          ],
          [
           null,
           null,
           0.8744,
           null,
           null
          ],
          [
           null,
           null,
           0.8811,
           null,
           null
          ],
          [
           null,
           null,
           0.8786,
           null,
           null
          ],
          [
           null,
           0.8737,
           null,
           null,
           null
          ],
          [
           null,
           null,
           0.8778,
           null,
           null
          ],
          [
           null,
           null,
           0.8758,
           null,
           null
          ],
          [
           null,
           null,
           0.873,
           null,
           null
          ],
          [
           null,
           0.8819,
           null,
           null,
           null
          ],
          [
           null,
           0.8724,
           null,
           null,
           null
          ],
          [
           null,
           0.8681,
           null,
           null,
           null
          ],
          [
           null,
           0.8619,
           null,
           null,
           null
          ],
          [
           null,
           null,
           null,
           null,
           null
          ]
         ]
        },
        {
         "marker": {
          "color": "black",
          "line": {
           "color": "Grey",
           "width": 2
          }
         },
         "mode": "markers",
         "showlegend": false,
         "type": "scatter",
         "x": [
          1,
          3,
          3,
          3,
          1,
          2,
          1,
          1,
          2,
          2,
          2,
          2,
          2,
          1,
          1,
          2,
          2,
          1,
          1,
          2,
          2,
          2,
          2,
          2,
          1,
          1,
          2,
          2,
          2,
          2,
          2,
          1,
          1,
          1,
          2,
          2,
          2,
          2,
          2,
          2,
          2,
          2,
          2,
          2,
          2,
          2,
          2,
          2,
          2,
          2,
          2,
          2,
          2
         ],
         "xaxis": "x8",
         "y": [
          0.002029102197231178,
          0.00010304276838080714,
          0.0007318474839444056,
          0.005113767556783974,
          0.0008035247960214514,
          0.0008851099503370642,
          0.02641953490757494,
          0.03890348451146671,
          0.0007335202102024708,
          0.005356488570376725,
          0.005111216837452078,
          0.00799729648496317,
          0.005283968285379495,
          0.009662025288483504,
          0.008469731806373013,
          0.009204642568755533,
          0.011536014212655226,
          0.015372986857453516,
          0.008557810702823953,
          0.008534797952559592,
          0.012699854107899934,
          0.01323377952238283,
          0.014825217760804905,
          0.014971252242458943,
          0.012368908391012014,
          0.015673918679270937,
          0.0073894661941148725,
          0.0063881601499668145,
          0.01039400755371694,
          0.010014857826559235,
          0.010593912232359115,
          0.005581704012076503,
          0.012808894182187213,
          0.008082851768479863,
          0.012397719194273307,
          0.005956133364604813,
          0.011666611834733347,
          0.012313188504684307,
          0.012763495827976118,
          0.012134366954537306,
          0.011589412713603905,
          0.009289913441378833,
          0.00947473091173592,
          0.0077044536807523815,
          0.007300630044708924,
          0.010385424372005988,
          0.008315749501463222,
          0.008220383972921816,
          0.007382675520322863,
          0.0077463265016339015,
          0.008824948586059728,
          0.008469115913671214,
          0.009006451536771114
         ],
         "yaxis": "y8"
        },
        {
         "type": "scatter",
         "xaxis": "x13",
         "yaxis": "y13"
        },
        {
         "colorbar": {
          "title": {
           "text": "Objective Value"
          }
         },
         "colorscale": [
          [
           0,
           "rgb(247,251,255)"
          ],
          [
           0.125,
           "rgb(222,235,247)"
          ],
          [
           0.25,
           "rgb(198,219,239)"
          ],
          [
           0.375,
           "rgb(158,202,225)"
          ],
          [
           0.5,
           "rgb(107,174,214)"
          ],
          [
           0.625,
           "rgb(66,146,198)"
          ],
          [
           0.75,
           "rgb(33,113,181)"
          ],
          [
           0.875,
           "rgb(8,81,156)"
          ],
          [
           1,
           "rgb(8,48,107)"
          ]
         ],
         "connectgaps": true,
         "contours": {
          "coloring": "heatmap"
         },
         "hoverinfo": "none",
         "line": {
          "smoothing": 1.3
         },
         "reversescale": false,
         "showscale": false,
         "type": "contour",
         "x": [
          0.9,
          1,
          2,
          3,
          3.1
         ],
         "xaxis": "x18",
         "y": [
          81.6,
          93,
          95,
          107,
          123,
          130,
          131,
          134,
          135,
          139,
          144,
          145,
          147,
          149,
          150,
          151,
          152,
          153,
          156,
          157,
          159,
          161,
          163,
          166,
          167,
          174,
          185,
          191,
          195,
          201,
          202,
          205,
          207,
          210,
          228,
          231,
          233,
          236,
          244,
          256,
          298,
          303,
          305,
          309,
          321,
          332.4
         ],
         "yaxis": "y18",
         "z": [
          [
           null,
           null,
           null,
           null,
           null
          ],
          [
           null,
           null,
           0.8741,
           null,
           null
          ],
          [
           null,
           null,
           0.873,
           null,
           null
          ],
          [
           null,
           null,
           0.8805,
           null,
           null
          ],
          [
           null,
           0.8641,
           null,
           null,
           null
          ],
          [
           null,
           null,
           0.8786,
           null,
           null
          ],
          [
           null,
           null,
           0.87,
           null,
           null
          ],
          [
           null,
           null,
           0.8785,
           null,
           null
          ],
          [
           null,
           0.8724,
           0.8765,
           null,
           null
          ],
          [
           null,
           null,
           0.8785,
           null,
           null
          ],
          [
           null,
           null,
           0.8778,
           null,
           null
          ],
          [
           null,
           null,
           0.8728,
           null,
           null
          ],
          [
           null,
           null,
           0.8781,
           null,
           null
          ],
          [
           null,
           null,
           0.8811,
           null,
           null
          ],
          [
           null,
           0.8752,
           null,
           null,
           null
          ],
          [
           null,
           null,
           0.8744,
           null,
           null
          ],
          [
           null,
           null,
           0.8759,
           null,
           null
          ],
          [
           null,
           null,
           0.8779,
           null,
           null
          ],
          [
           null,
           0.8737,
           null,
           null,
           null
          ],
          [
           null,
           null,
           0.8799,
           null,
           null
          ],
          [
           null,
           null,
           0.873,
           null,
           null
          ],
          [
           null,
           null,
           0.8788,
           null,
           null
          ],
          [
           null,
           null,
           0.8815,
           null,
           null
          ],
          [
           null,
           null,
           0.8698,
           null,
           null
          ],
          [
           null,
           null,
           0.8793,
           null,
           null
          ],
          [
           null,
           null,
           0.8817,
           0.8551,
           null
          ],
          [
           null,
           null,
           0.8772,
           null,
           null
          ],
          [
           null,
           null,
           null,
           0.846,
           null
          ],
          [
           null,
           null,
           0.8785,
           null,
           null
          ],
          [
           null,
           0.875,
           null,
           null,
           null
          ],
          [
           null,
           0.8755,
           null,
           null,
           null
          ],
          [
           null,
           0.8681,
           null,
           null,
           null
          ],
          [
           null,
           0.8745,
           null,
           null,
           null
          ],
          [
           null,
           0.8819,
           0.8793,
           null,
           null
          ],
          [
           null,
           null,
           0.8638,
           null,
           null
          ],
          [
           null,
           null,
           0.869,
           null,
           null
          ],
          [
           null,
           null,
           null,
           0.8095,
           null
          ],
          [
           null,
           null,
           0.8792,
           null,
           null
          ],
          [
           null,
           0.8698,
           null,
           null,
           null
          ],
          [
           null,
           0.8619,
           null,
           null,
           null
          ],
          [
           null,
           0.8654,
           null,
           null,
           null
          ],
          [
           null,
           null,
           0.8783,
           null,
           null
          ],
          [
           null,
           null,
           0.8681,
           null,
           null
          ],
          [
           null,
           null,
           0.8801,
           null,
           null
          ],
          [
           null,
           null,
           0.8746,
           null,
           null
          ],
          [
           null,
           null,
           null,
           null,
           null
          ]
         ]
        },
        {
         "marker": {
          "color": "black",
          "line": {
           "color": "Grey",
           "width": 2
          }
         },
         "mode": "markers",
         "showlegend": false,
         "type": "scatter",
         "x": [
          1,
          3,
          3,
          3,
          1,
          2,
          1,
          1,
          2,
          2,
          2,
          2,
          2,
          1,
          1,
          2,
          2,
          1,
          1,
          2,
          2,
          2,
          2,
          2,
          1,
          1,
          2,
          2,
          2,
          2,
          2,
          1,
          1,
          1,
          2,
          2,
          2,
          2,
          2,
          2,
          2,
          2,
          2,
          2,
          2,
          2,
          2,
          2,
          2,
          2,
          2,
          2,
          2
         ],
         "xaxis": "x18",
         "y": [
          244,
          233,
          174,
          191,
          298,
          231,
          205,
          256,
          305,
          228,
          135,
          321,
          152,
          150,
          156,
          161,
          159,
          210,
          202,
          147,
          149,
          144,
          145,
          95,
          123,
          135,
          166,
          166,
          163,
          107,
          145,
          201,
          156,
          207,
          151,
          157,
          153,
          185,
          130,
          131,
          93,
          161,
          159,
          174,
          139,
          210,
          167,
          210,
          134,
          195,
          236,
          303,
          309
         ],
         "yaxis": "y18"
        },
        {
         "colorbar": {
          "title": {
           "text": "Objective Value"
          }
         },
         "colorscale": [
          [
           0,
           "rgb(247,251,255)"
          ],
          [
           0.125,
           "rgb(222,235,247)"
          ],
          [
           0.25,
           "rgb(198,219,239)"
          ],
          [
           0.375,
           "rgb(158,202,225)"
          ],
          [
           0.5,
           "rgb(107,174,214)"
          ],
          [
           0.625,
           "rgb(66,146,198)"
          ],
          [
           0.75,
           "rgb(33,113,181)"
          ],
          [
           0.875,
           "rgb(8,81,156)"
          ],
          [
           1,
           "rgb(8,48,107)"
          ]
         ],
         "connectgaps": true,
         "contours": {
          "coloring": "heatmap"
         },
         "hoverinfo": "none",
         "line": {
          "smoothing": 1.3
         },
         "reversescale": false,
         "showscale": false,
         "type": "contour",
         "x": [
          0.9,
          1,
          2,
          3,
          3.1
         ],
         "xaxis": "x23",
         "y": [
          2.4499999999999993,
          10,
          14,
          16,
          22,
          28,
          30,
          31,
          35,
          36,
          37,
          45,
          46,
          50,
          52,
          63,
          64,
          79,
          84,
          85,
          91,
          92,
          98,
          99,
          101,
          105,
          106,
          107,
          108,
          109,
          113,
          117,
          118,
          127,
          129,
          154,
          161,
          168.55
         ],
         "yaxis": "y23",
         "z": [
          [
           null,
           null,
           null,
           null,
           null
          ],
          [
           null,
           null,
           0.8638,
           null,
           null
          ],
          [
           null,
           null,
           0.8659,
           null,
           null
          ],
          [
           null,
           null,
           0.8733,
           null,
           null
          ],
          [
           null,
           null,
           0.8765,
           null,
           null
          ],
          [
           null,
           null,
           0.8778,
           null,
           null
          ],
          [
           null,
           null,
           0.8781,
           null,
           null
          ],
          [
           null,
           null,
           0.8758,
           null,
           null
          ],
          [
           null,
           null,
           0.8815,
           null,
           null
          ],
          [
           null,
           null,
           0.873,
           null,
           null
          ],
          [
           null,
           null,
           0.8811,
           null,
           null
          ],
          [
           null,
           null,
           0.8758,
           null,
           null
          ],
          [
           null,
           null,
           0.8698,
           null,
           null
          ],
          [
           null,
           null,
           0.8728,
           null,
           null
          ],
          [
           null,
           null,
           0.8746,
           null,
           null
          ],
          [
           null,
           null,
           0.8792,
           null,
           null
          ],
          [
           null,
           null,
           0.8759,
           null,
           null
          ],
          [
           null,
           null,
           0.8786,
           null,
           null
          ],
          [
           null,
           null,
           0.8681,
           null,
           null
          ],
          [
           null,
           null,
           0.8805,
           null,
           null
          ],
          [
           null,
           null,
           0.869,
           null,
           null
          ],
          [
           null,
           null,
           null,
           0.8551,
           null
          ],
          [
           null,
           null,
           0.87,
           null,
           null
          ],
          [
           null,
           null,
           0.8741,
           null,
           null
          ],
          [
           null,
           null,
           0.8772,
           null,
           null
          ],
          [
           null,
           null,
           null,
           0.846,
           null
          ],
          [
           null,
           null,
           0.873,
           null,
           null
          ],
          [
           null,
           null,
           0.8817,
           null,
           null
          ],
          [
           null,
           null,
           0.8785,
           null,
           null
          ],
          [
           null,
           null,
           0.8785,
           null,
           null
          ],
          [
           null,
           null,
           0.8799,
           null,
           null
          ],
          [
           null,
           null,
           0.8793,
           null,
           null
          ],
          [
           null,
           null,
           0.8793,
           null,
           null
          ],
          [
           null,
           null,
           null,
           0.8095,
           null
          ],
          [
           null,
           null,
           0.8785,
           null,
           null
          ],
          [
           null,
           null,
           0.8801,
           null,
           null
          ],
          [
           null,
           null,
           0.8783,
           null,
           null
          ],
          [
           null,
           null,
           null,
           null,
           null
          ]
         ]
        },
        {
         "marker": {
          "color": "black",
          "line": {
           "color": "Grey",
           "width": 2
          }
         },
         "mode": "markers",
         "showlegend": false,
         "type": "scatter",
         "x": [
          3,
          3,
          3,
          2,
          2,
          2,
          2,
          2,
          2,
          2,
          2,
          2,
          2,
          2,
          2,
          2,
          2,
          2,
          2,
          2,
          2,
          2,
          2,
          2,
          2,
          2,
          2,
          2,
          2,
          2,
          2,
          2,
          2,
          2,
          2,
          2,
          2,
          2,
          2,
          2
         ],
         "xaxis": "x23",
         "y": [
          127,
          92,
          105,
          91,
          84,
          10,
          22,
          52,
          64,
          14,
          16,
          30,
          37,
          28,
          31,
          36,
          45,
          46,
          35,
          85,
          50,
          99,
          113,
          99,
          101,
          79,
          98,
          99,
          108,
          106,
          107,
          109,
          117,
          118,
          117,
          108,
          129,
          63,
          161,
          154
         ],
         "yaxis": "y23"
        },
        {
         "colorbar": {
          "title": {
           "text": "Objective Value"
          }
         },
         "colorscale": [
          [
           0,
           "rgb(247,251,255)"
          ],
          [
           0.125,
           "rgb(222,235,247)"
          ],
          [
           0.25,
           "rgb(198,219,239)"
          ],
          [
           0.375,
           "rgb(158,202,225)"
          ],
          [
           0.5,
           "rgb(107,174,214)"
          ],
          [
           0.625,
           "rgb(66,146,198)"
          ],
          [
           0.75,
           "rgb(33,113,181)"
          ],
          [
           0.875,
           "rgb(8,81,156)"
          ],
          [
           1,
           "rgb(8,48,107)"
          ]
         ],
         "connectgaps": true,
         "contours": {
          "coloring": "heatmap"
         },
         "hoverinfo": "none",
         "line": {
          "smoothing": 1.3
         },
         "reversescale": false,
         "showscale": false,
         "type": "contour",
         "x": [
          81.6,
          93,
          95,
          107,
          123,
          130,
          131,
          134,
          135,
          139,
          144,
          145,
          147,
          149,
          150,
          151,
          152,
          153,
          156,
          157,
          159,
          161,
          163,
          166,
          167,
          174,
          185,
          191,
          195,
          201,
          202,
          205,
          207,
          210,
          228,
          231,
          233,
          236,
          244,
          256,
          298,
          303,
          305,
          309,
          321,
          332.4
         ],
         "xaxis": "x4",
         "y": [
          "LeakyReLU",
          "ReLU"
         ],
         "yaxis": "y4",
         "z": [
          [
           null,
           0.8741,
           0.873,
           0.8805,
           0.8641,
           0.8786,
           0.87,
           0.8785,
           0.8724,
           0.8785,
           0.8778,
           0.8728,
           0.8781,
           0.8811,
           0.8752,
           0.8744,
           0.8759,
           0.8779,
           0.8737,
           0.8799,
           0.873,
           0.8788,
           0.8815,
           0.8698,
           0.8793,
           0.8817,
           0.8772,
           0.846,
           0.8785,
           0.875,
           0.8755,
           0.8681,
           0.8745,
           0.8793,
           0.8638,
           0.869,
           0.8095,
           0.8792,
           0.8698,
           null,
           0.8654,
           0.8783,
           0.8681,
           0.8801,
           0.8746,
           null
          ],
          [
           null,
           null,
           null,
           null,
           null,
           null,
           null,
           null,
           null,
           null,
           null,
           null,
           null,
           null,
           null,
           null,
           null,
           null,
           null,
           null,
           null,
           null,
           null,
           null,
           null,
           null,
           null,
           null,
           null,
           null,
           null,
           null,
           null,
           null,
           null,
           null,
           null,
           null,
           null,
           0.8619,
           null,
           null,
           null,
           null,
           null,
           null
          ]
         ]
        },
        {
         "marker": {
          "color": "black",
          "line": {
           "color": "Grey",
           "width": 2
          }
         },
         "mode": "markers",
         "showlegend": false,
         "type": "scatter",
         "x": [
          244,
          233,
          174,
          191,
          298,
          231,
          205,
          256,
          305,
          228,
          135,
          321,
          152,
          150,
          156,
          161,
          159,
          210,
          202,
          147,
          149,
          144,
          145,
          95,
          123,
          135,
          166,
          166,
          163,
          107,
          145,
          201,
          156,
          207,
          151,
          157,
          153,
          185,
          130,
          131,
          93,
          161,
          159,
          174,
          139,
          210,
          167,
          210,
          134,
          195,
          236,
          303,
          309
         ],
         "xaxis": "x4",
         "y": [
          "LeakyReLU",
          "LeakyReLU",
          "LeakyReLU",
          "LeakyReLU",
          "LeakyReLU",
          "LeakyReLU",
          "LeakyReLU",
          "ReLU",
          "LeakyReLU",
          "LeakyReLU",
          "LeakyReLU",
          "LeakyReLU",
          "LeakyReLU",
          "LeakyReLU",
          "LeakyReLU",
          "LeakyReLU",
          "LeakyReLU",
          "LeakyReLU",
          "LeakyReLU",
          "LeakyReLU",
          "LeakyReLU",
          "LeakyReLU",
          "LeakyReLU",
          "LeakyReLU",
          "LeakyReLU",
          "LeakyReLU",
          "LeakyReLU",
          "LeakyReLU",
          "LeakyReLU",
          "LeakyReLU",
          "LeakyReLU",
          "LeakyReLU",
          "LeakyReLU",
          "LeakyReLU",
          "LeakyReLU",
          "LeakyReLU",
          "LeakyReLU",
          "LeakyReLU",
          "LeakyReLU",
          "LeakyReLU",
          "LeakyReLU",
          "LeakyReLU",
          "LeakyReLU",
          "LeakyReLU",
          "LeakyReLU",
          "LeakyReLU",
          "LeakyReLU",
          "LeakyReLU",
          "LeakyReLU",
          "LeakyReLU",
          "LeakyReLU",
          "LeakyReLU",
          "LeakyReLU"
         ],
         "yaxis": "y4"
        },
        {
         "colorbar": {
          "title": {
           "text": "Objective Value"
          }
         },
         "colorscale": [
          [
           0,
           "rgb(247,251,255)"
          ],
          [
           0.125,
           "rgb(222,235,247)"
          ],
          [
           0.25,
           "rgb(198,219,239)"
          ],
          [
           0.375,
           "rgb(158,202,225)"
          ],
          [
           0.5,
           "rgb(107,174,214)"
          ],
          [
           0.625,
           "rgb(66,146,198)"
          ],
          [
           0.75,
           "rgb(33,113,181)"
          ],
          [
           0.875,
           "rgb(8,81,156)"
          ],
          [
           1,
           "rgb(8,48,107)"
          ]
         ],
         "connectgaps": true,
         "contours": {
          "coloring": "heatmap"
         },
         "hoverinfo": "none",
         "line": {
          "smoothing": 1.3
         },
         "reversescale": false,
         "showscale": false,
         "type": "contour",
         "x": [
          81.6,
          93,
          95,
          107,
          123,
          130,
          131,
          134,
          135,
          139,
          144,
          145,
          147,
          149,
          150,
          151,
          152,
          153,
          156,
          157,
          159,
          161,
          163,
          166,
          167,
          174,
          185,
          191,
          195,
          201,
          202,
          205,
          207,
          210,
          228,
          231,
          233,
          236,
          244,
          256,
          298,
          303,
          305,
          309,
          321,
          332.4
         ],
         "xaxis": "x9",
         "y": [
          0.0000765894531868334,
          0.00010304276838080714,
          0.0007318474839444056,
          0.0007335202102024708,
          0.0008035247960214514,
          0.0008851099503370642,
          0.002029102197231178,
          0.005111216837452078,
          0.005113767556783974,
          0.005283968285379495,
          0.005356488570376725,
          0.005581704012076503,
          0.005956133364604813,
          0.0063881601499668145,
          0.007300630044708924,
          0.007382675520322863,
          0.0073894661941148725,
          0.0077044536807523815,
          0.0077463265016339015,
          0.00799729648496317,
          0.008082851768479863,
          0.008220383972921816,
          0.008315749501463222,
          0.008469115913671214,
          0.008469731806373013,
          0.008534797952559592,
          0.008557810702823953,
          0.008824948586059728,
          0.009006451536771114,
          0.009204642568755533,
          0.009289913441378833,
          0.00947473091173592,
          0.009662025288483504,
          0.010014857826559235,
          0.010385424372005988,
          0.01039400755371694,
          0.010593912232359115,
          0.011536014212655226,
          0.011589412713603905,
          0.011666611834733347,
          0.012134366954537306,
          0.012313188504684307,
          0.012368908391012014,
          0.012397719194273307,
          0.012699854107899934,
          0.012763495827976118,
          0.012808894182187213,
          0.01323377952238283,
          0.014825217760804905,
          0.014971252242458943,
          0.015372986857453516,
          0.015673918679270937,
          0.02641953490757494,
          0.03890348451146671,
          0.05234040167309258
         ],
         "yaxis": "y9",
         "z": [
          [
           null,
           null,
           null,
           null,
           null,
           null,
           null,
           null,
           null,
           null,
           null,
           null,
           null,
           null,
           null,
           null,
           null,
           null,
           null,
           null,
           null,
           null,
           null,
           null,
           null,
           null,
           null,
           null,
           null,
           null,
           null,
           null,
           null,
           null,
           null,
           null,
           null,
           null,
           null,
           null,
           null,
           null,
           null,
           null,
           null,
           null
          ],
          [
           null,
           null,
           null,
           null,
           null,
           null,
           null,
           null,
           null,
           null,
           null,
           null,
           null,
           null,
           null,
           null,
           null,
           null,
           null,
           null,
           null,
           null,
           null,
           null,
           null,
           null,
           null,
           null,
           null,
           null,
           null,
           null,
           null,
           null,
           null,
           null,
           0.8095,
           null,
           null,
           null,
           null,
           null,
           null,
           null,
           null,
           null
          ],
          [
           null,
           null,
           null,
           null,
           null,
           null,
           null,
           null,
           null,
           null,
           null,
           null,
           null,
           null,
           null,
           null,
           null,
           null,
           null,
           null,
           null,
           null,
           null,
           null,
           null,
           0.8551,
           null,
           null,
           null,
           null,
           null,
           null,
           null,
           null,
           null,
           null,
           null,
           null,
           null,
           null,
           null,
           null,
           null,
           null,
           null,
           null
          ],
          [
           null,
           null,
           null,
           null,
           null,
           null,
           null,
           null,
           null,
           null,
           null,
           null,
           null,
           null,
           null,
           null,
           null,
           null,
           null,
           null,
           null,
           null,
           null,
           null,
           null,
           null,
           null,
           null,
           null,
           null,
           null,
           null,
           null,
           null,
           null,
           null,
           null,
           null,
           null,
           null,
           null,
           null,
           0.8681,
           null,
           null,
           null
          ],
          [
           null,
           null,
           null,
           null,
           null,
           null,
           null,
           null,
           null,
           null,
           null,
           null,
           null,
           null,
           null,
           null,
           null,
           null,
           null,
           null,
           null,
           null,
           null,
           null,
           null,
           null,
           null,
           null,
           null,
           null,
           null,
           null,
           null,
           null,
           null,
           null,
           null,
           null,
           null,
           null,
           0.8654,
           null,
           null,
           null,
           null,
           null
          ],
          [
           null,
           null,
           null,
           null,
           null,
           null,
           null,
           null,
           null,
           null,
           null,
           null,
           null,
           null,
           null,
           null,
           null,
           null,
           null,
           null,
           null,
           null,
           null,
           null,
           null,
           null,
           null,
           null,
           null,
           null,
           null,
           null,
           null,
           null,
           null,
           0.869,
           null,
           null,
           null,
           null,
           null,
           null,
           null,
           null,
           null,
           null
          ],
          [
           null,
           null,
           null,
           null,
           null,
           null,
           null,
           null,
           null,
           null,
           null,
           null,
           null,
           null,
           null,
           null,
           null,
           null,
           null,
           null,
           null,
           null,
           null,
           null,
           null,
           null,
           null,
           null,
           null,
           null,
           null,
           null,
           null,
           null,
           null,
           null,
           null,
           null,
           0.8698,
           null,
           null,
           null,
           null,
           null,
           null,
           null
          ],
          [
           null,
           null,
           null,
           null,
           null,
           null,
           null,
           null,
           0.8765,
           null,
           null,
           null,
           null,
           null,
           null,
           null,
           null,
           null,
           null,
           null,
           null,
           null,
           null,
           null,
           null,
           null,
           null,
           null,
           null,
           null,
           null,
           null,
           null,
           null,
           null,
           null,
           null,
           null,
           null,
           null,
           null,
           null,
           null,
           null,
           null,
           null
          ],
          [
           null,
           null,
           null,
           null,
           null,
           null,
           null,
           null,
           null,
           null,
           null,
           null,
           null,
           null,
           null,
           null,
           null,
           null,
           null,
           null,
           null,
           null,
           null,
           null,
           null,
           null,
           null,
           0.846,
           null,
           null,
           null,
           null,
           null,
           null,
           null,
           null,
           null,
           null,
           null,
           null,
           null,
           null,
           null,
           null,
           null,
           null
          ],
          [
           null,
           null,
           null,
           null,
           null,
           null,
           null,
           null,
           null,
           null,
           null,
           null,
           null,
           null,
           null,
           null,
           0.8759,
           null,
           null,
           null,
           null,
           null,
           null,
           null,
           null,
           null,
           null,
           null,
           null,
           null,
           null,
           null,
           null,
           null,
           null,
           null,
           null,
           null,
           null,
           null,
           null,
           null,
           null,
           null,
           null,
           null
          ],
          [
           null,
           null,
           null,
           null,
           null,
           null,
           null,
           null,
           null,
           null,
           null,
           null,
           null,
           null,
           null,
           null,
           null,
           null,
           null,
           null,
           null,
           null,
           null,
           null,
           null,
           null,
           null,
           null,
           null,
           null,
           null,
           null,
           null,
           null,
           0.8638,
           null,
           null,
           null,
           null,
           null,
           null,
           null,
           null,
           null,
           null,
           null
          ],
          [
           null,
           null,
           null,
           null,
           null,
           null,
           null,
           null,
           null,
           null,
           null,
           null,
           null,
           null,
           null,
           null,
           null,
           null,
           null,
           null,
           null,
           null,
           null,
           null,
           null,
           null,
           null,
           null,
           null,
           0.875,
           null,
           null,
           null,
           null,
           null,
           null,
           null,
           null,
           null,
           null,
           null,
           null,
           null,
           null,
           null,
           null
          ],
          [
           null,
           null,
           null,
           null,
           null,
           null,
           null,
           null,
           null,
           null,
           null,
           null,
           null,
           null,
           null,
           null,
           null,
           null,
           null,
           0.8799,
           null,
           null,
           null,
           null,
           null,
           null,
           null,
           null,
           null,
           null,
           null,
           null,
           null,
           null,
           null,
           null,
           null,
           null,
           null,
           null,
           null,
           null,
           null,
           null,
           null,
           null
          ],
          [
           null,
           null,
           null,
           null,
           null,
           null,
           null,
           null,
           null,
           null,
           null,
           null,
           null,
           null,
           null,
           null,
           null,
           null,
           null,
           null,
           null,
           null,
           null,
           0.8698,
           null,
           null,
           null,
           null,
           null,
           null,
           null,
           null,
           null,
           null,
           null,
           null,
           null,
           null,
           null,
           null,
           null,
           null,
           null,
           null,
           null,
           null
          ],
          [
           null,
           null,
           null,
           null,
           null,
           null,
           null,
           null,
           null,
           0.8785,
           null,
           null,
           null,
           null,
           null,
           null,
           null,
           null,
           null,
           null,
           null,
           null,
           null,
           null,
           null,
           null,
           null,
           null,
           null,
           null,
           null,
           null,
           null,
           null,
           null,
           null,
           null,
           null,
           null,
           null,
           null,
           null,
           null,
           null,
           null,
           null
          ],
          [
           null,
           null,
           null,
           null,
           null,
           null,
           null,
           0.8785,
           null,
           null,
           null,
           null,
           null,
           null,
           null,
           null,
           null,
           null,
           null,
           null,
           null,
           null,
           null,
           null,
           null,
           null,
           null,
           null,
           null,
           null,
           null,
           null,
           null,
           null,
           null,
           null,
           null,
           null,
           null,
           null,
           null,
           null,
           null,
           null,
           null,
           null
          ],
          [
           null,
           null,
           null,
           null,
           null,
           null,
           null,
           null,
           null,
           null,
           null,
           null,
           null,
           null,
           null,
           null,
           null,
           null,
           null,
           null,
           null,
           null,
           null,
           0.8758,
           null,
           null,
           null,
           null,
           null,
           null,
           null,
           null,
           null,
           null,
           null,
           null,
           null,
           null,
           null,
           null,
           null,
           null,
           null,
           null,
           null,
           null
          ],
          [
           null,
           null,
           null,
           null,
           null,
           null,
           null,
           null,
           null,
           null,
           null,
           null,
           null,
           null,
           null,
           null,
           null,
           null,
           null,
           null,
           null,
           null,
           null,
           null,
           null,
           0.8817,
           null,
           null,
           null,
           null,
           null,
           null,
           null,
           null,
           null,
           null,
           null,
           null,
           null,
           null,
           null,
           null,
           null,
           null,
           null,
           null
          ],
          [
           null,
           null,
           null,
           null,
           null,
           null,
           null,
           null,
           null,
           null,
           null,
           null,
           null,
           null,
           null,
           null,
           null,
           null,
           null,
           null,
           null,
           null,
           null,
           null,
           null,
           null,
           null,
           null,
           0.8785,
           null,
           null,
           null,
           null,
           null,
           null,
           null,
           null,
           null,
           null,
           null,
           null,
           null,
           null,
           null,
           null,
           null
          ],
          [
           null,
           null,
           null,
           null,
           null,
           null,
           null,
           null,
           null,
           null,
           null,
           null,
           null,
           null,
           null,
           null,
           null,
           null,
           null,
           null,
           null,
           null,
           null,
           null,
           null,
           null,
           null,
           null,
           null,
           null,
           null,
           null,
           null,
           null,
           null,
           null,
           null,
           null,
           null,
           null,
           null,
           null,
           null,
           null,
           0.8746,
           null
          ],
          [
           null,
           null,
           null,
           null,
           null,
           null,
           null,
           null,
           null,
           null,
           null,
           null,
           null,
           null,
           null,
           null,
           null,
           null,
           null,
           null,
           null,
           null,
           null,
           null,
           null,
           null,
           null,
           null,
           null,
           null,
           null,
           null,
           0.8745,
           null,
           null,
           null,
           null,
           null,
           null,
           null,
           null,
           null,
           null,
           null,
           null,
           null
          ],
          [
           null,
           null,
           null,
           null,
           null,
           null,
           null,
           null,
           null,
           null,
           null,
           null,
           null,
           null,
           null,
           null,
           null,
           null,
           null,
           null,
           null,
           null,
           null,
           null,
           null,
           null,
           null,
           null,
           null,
           null,
           null,
           null,
           null,
           0.8793,
           null,
           null,
           null,
           null,
           null,
           null,
           null,
           null,
           null,
           null,
           null,
           null
          ],
          [
           null,
           null,
           null,
           null,
           null,
           null,
           null,
           null,
           null,
           null,
           null,
           null,
           null,
           null,
           null,
           null,
           null,
           null,
           null,
           null,
           null,
           null,
           null,
           null,
           0.8793,
           null,
           null,
           null,
           null,
           null,
           null,
           null,
           null,
           null,
           null,
           null,
           null,
           null,
           null,
           null,
           null,
           null,
           null,
           null,
           null,
           null
          ],
          [
           null,
           null,
           null,
           null,
           null,
           null,
           null,
           null,
           null,
           null,
           null,
           null,
           null,
           null,
           null,
           null,
           null,
           null,
           null,
           null,
           null,
           null,
           null,
           null,
           null,
           null,
           null,
           null,
           null,
           null,
           null,
           null,
           null,
           null,
           null,
           null,
           null,
           null,
           null,
           null,
           null,
           0.8783,
           null,
           null,
           null,
           null
          ],
          [
           null,
           null,
           null,
           null,
           null,
           null,
           null,
           null,
           null,
           null,
           null,
           null,
           null,
           null,
           null,
           null,
           null,
           null,
           0.8808,
           null,
           null,
           null,
           null,
           null,
           null,
           null,
           null,
           null,
           null,
           null,
           null,
           null,
           null,
           null,
           null,
           null,
           null,
           null,
           null,
           null,
           null,
           null,
           null,
           null,
           null,
           null
          ],
          [
           null,
           null,
           null,
           null,
           null,
           null,
           null,
           null,
           null,
           null,
           null,
           null,
           0.8781,
           null,
           null,
           null,
           null,
           null,
           null,
           null,
           null,
           null,
           null,
           null,
           null,
           null,
           null,
           null,
           null,
           null,
           null,
           null,
           null,
           null,
           null,
           null,
           null,
           null,
           null,
           null,
           null,
           null,
           null,
           null,
           null,
           null
          ],
          [
           null,
           null,
           null,
           null,
           null,
           null,
           null,
           null,
           null,
           null,
           null,
           null,
           null,
           null,
           null,
           null,
           null,
           null,
           null,
           null,
           null,
           null,
           null,
           null,
           null,
           null,
           null,
           null,
           null,
           null,
           0.8755,
           null,
           null,
           null,
           null,
           null,
           null,
           null,
           null,
           null,
           null,
           null,
           null,
           null,
           null,
           null
          ],
          [
           null,
           null,
           null,
           null,
           null,
           null,
           null,
           null,
           null,
           null,
           null,
           null,
           null,
           null,
           null,
           null,
           null,
           null,
           null,
           null,
           null,
           null,
           null,
           null,
           null,
           null,
           null,
           null,
           null,
           null,
           null,
           null,
           null,
           null,
           null,
           null,
           null,
           0.8792,
           null,
           null,
           null,
           null,
           null,
           null,
           null,
           null
          ],
          [
           null,
           null,
           null,
           null,
           null,
           null,
           null,
           null,
           null,
           null,
           null,
           null,
           null,
           null,
           null,
           null,
           null,
           null,
           null,
           null,
           null,
           null,
           null,
           null,
           null,
           null,
           null,
           null,
           null,
           null,
           null,
           null,
           null,
           null,
           null,
           null,
           null,
           null,
           null,
           null,
           null,
           null,
           null,
           0.8801,
           null,
           null
          ],
          [
           null,
           null,
           null,
           null,
           null,
           null,
           null,
           null,
           null,
           null,
           null,
           null,
           null,
           null,
           null,
           null,
           null,
           null,
           null,
           null,
           null,
           0.8659,
           null,
           null,
           null,
           null,
           null,
           null,
           null,
           null,
           null,
           null,
           null,
           null,
           null,
           null,
           null,
           null,
           null,
           null,
           null,
           null,
           null,
           null,
           null,
           null
          ],
          [
           null,
           null,
           null,
           null,
           null,
           null,
           null,
           null,
           null,
           null,
           null,
           null,
           null,
           null,
           null,
           null,
           null,
           null,
           null,
           null,
           null,
           0.8788,
           null,
           null,
           null,
           null,
           null,
           null,
           null,
           null,
           null,
           null,
           null,
           null,
           null,
           null,
           null,
           null,
           null,
           null,
           null,
           null,
           null,
           null,
           null,
           null
          ],
          [
           null,
           null,
           null,
           null,
           null,
           null,
           null,
           null,
           null,
           null,
           null,
           null,
           null,
           null,
           null,
           null,
           null,
           null,
           null,
           null,
           0.873,
           null,
           null,
           null,
           null,
           null,
           null,
           null,
           null,
           null,
           null,
           null,
           null,
           null,
           null,
           null,
           null,
           null,
           null,
           null,
           null,
           null,
           null,
           null,
           null,
           null
          ],
          [
           null,
           null,
           null,
           null,
           null,
           null,
           null,
           null,
           null,
           null,
           null,
           null,
           null,
           null,
           0.8752,
           null,
           null,
           null,
           null,
           null,
           null,
           null,
           null,
           null,
           null,
           null,
           null,
           null,
           null,
           null,
           null,
           null,
           null,
           null,
           null,
           null,
           null,
           null,
           null,
           null,
           null,
           null,
           null,
           null,
           null,
           null
          ],
          [
           null,
           null,
           null,
           0.8805,
           null,
           null,
           null,
           null,
           null,
           null,
           null,
           null,
           null,
           null,
           null,
           null,
           null,
           null,
           null,
           null,
           null,
           null,
           null,
           null,
           null,
           null,
           null,
           null,
           null,
           null,
           null,
           null,
           null,
           null,
           null,
           null,
           null,
           null,
           null,
           null,
           null,
           null,
           null,
           null,
           null,
           null
          ],
          [
           null,
           null,
           null,
           null,
           null,
           null,
           null,
           null,
           null,
           null,
           null,
           null,
           null,
           null,
           null,
           null,
           null,
           null,
           null,
           null,
           null,
           null,
           null,
           null,
           null,
           null,
           null,
           null,
           null,
           null,
           null,
           null,
           null,
           0.8803,
           null,
           null,
           null,
           null,
           null,
           null,
           null,
           null,
           null,
           null,
           null,
           null
          ],
          [
           null,
           null,
           null,
           null,
           null,
           null,
           null,
           null,
           null,
           null,
           null,
           null,
           null,
           null,
           null,
           null,
           null,
           null,
           null,
           null,
           null,
           null,
           0.8815,
           null,
           null,
           null,
           null,
           null,
           null,
           null,
           null,
           null,
           null,
           null,
           null,
           null,
           null,
           null,
           null,
           null,
           null,
           null,
           null,
           null,
           null,
           null
          ],
          [
           null,
           null,
           null,
           null,
           null,
           null,
           null,
           null,
           null,
           null,
           null,
           0.8728,
           null,
           null,
           null,
           null,
           null,
           null,
           null,
           null,
           null,
           null,
           null,
           null,
           null,
           null,
           null,
           null,
           null,
           null,
           null,
           null,
           null,
           null,
           null,
           null,
           null,
           null,
           null,
           null,
           null,
           null,
           null,
           null,
           null,
           null
          ],
          [
           null,
           null,
           null,
           null,
           null,
           null,
           null,
           null,
           null,
           null,
           null,
           null,
           null,
           null,
           null,
           null,
           null,
           null,
           null,
           null,
           0.8733,
           null,
           null,
           null,
           null,
           null,
           null,
           null,
           null,
           null,
           null,
           null,
           null,
           null,
           null,
           null,
           null,
           null,
           null,
           null,
           null,
           null,
           null,
           null,
           null,
           null
          ],
          [
           null,
           0.8741,
           null,
           null,
           null,
           null,
           null,
           null,
           null,
           null,
           null,
           null,
           null,
           null,
           null,
           null,
           null,
           null,
           null,
           null,
           null,
           null,
           null,
           null,
           null,
           null,
           null,
           null,
           null,
           null,
           null,
           null,
           null,
           null,
           null,
           null,
           null,
           null,
           null,
           null,
           null,
           null,
           null,
           null,
           null,
           null
          ],
          [
           null,
           null,
           null,
           null,
           null,
           null,
           null,
           null,
           null,
           null,
           null,
           null,
           null,
           null,
           null,
           null,
           null,
           0.8779,
           null,
           null,
           null,
           null,
           null,
           null,
           null,
           null,
           null,
           null,
           null,
           null,
           null,
           null,
           null,
           null,
           null,
           null,
           null,
           null,
           null,
           null,
           null,
           null,
           null,
           null,
           null,
           null
          ],
          [
           null,
           null,
           null,
           null,
           null,
           null,
           0.87,
           null,
           null,
           null,
           null,
           null,
           null,
           null,
           null,
           null,
           null,
           null,
           null,
           null,
           null,
           null,
           null,
           null,
           null,
           null,
           null,
           null,
           null,
           null,
           null,
           null,
           null,
           null,
           null,
           null,
           null,
           null,
           null,
           null,
           null,
           null,
           null,
           null,
           null,
           null
          ],
          [
           null,
           null,
           null,
           null,
           null,
           null,
           null,
           null,
           null,
           null,
           null,
           null,
           null,
           null,
           null,
           null,
           null,
           null,
           null,
           null,
           null,
           null,
           null,
           null,
           null,
           null,
           0.8772,
           null,
           null,
           null,
           null,
           null,
           null,
           null,
           null,
           null,
           null,
           null,
           null,
           null,
           null,
           null,
           null,
           null,
           null,
           null
          ],
          [
           null,
           null,
           null,
           null,
           0.8641,
           null,
           null,
           null,
           null,
           null,
           null,
           null,
           null,
           null,
           null,
           null,
           null,
           null,
           null,
           null,
           null,
           null,
           null,
           null,
           null,
           null,
           null,
           null,
           null,
           null,
           null,
           null,
           null,
           null,
           null,
           null,
           null,
           null,
           null,
           null,
           null,
           null,
           null,
           null,
           null,
           null
          ],
          [
           null,
           null,
           null,
           null,
           null,
           null,
           null,
           null,
           null,
           null,
           null,
           null,
           null,
           null,
           null,
           0.8744,
           null,
           null,
           null,
           null,
           null,
           null,
           null,
           null,
           null,
           null,
           null,
           null,
           null,
           null,
           null,
           null,
           null,
           null,
           null,
           null,
           null,
           null,
           null,
           null,
           null,
           null,
           null,
           null,
           null,
           null
          ],
          [
           null,
           null,
           null,
           null,
           null,
           null,
           null,
           null,
           null,
           null,
           null,
           null,
           null,
           0.8811,
           null,
           null,
           null,
           null,
           null,
           null,
           null,
           null,
           null,
           null,
           null,
           null,
           null,
           null,
           null,
           null,
           null,
           null,
           null,
           null,
           null,
           null,
           null,
           null,
           null,
           null,
           null,
           null,
           null,
           null,
           null,
           null
          ],
          [
           null,
           null,
           null,
           null,
           null,
           0.8786,
           null,
           null,
           null,
           null,
           null,
           null,
           null,
           null,
           null,
           null,
           null,
           null,
           null,
           null,
           null,
           null,
           null,
           null,
           null,
           null,
           null,
           null,
           null,
           null,
           null,
           null,
           null,
           null,
           null,
           null,
           null,
           null,
           null,
           null,
           null,
           null,
           null,
           null,
           null,
           null
          ],
          [
           null,
           null,
           null,
           null,
           null,
           null,
           null,
           null,
           null,
           null,
           null,
           null,
           null,
           null,
           null,
           null,
           null,
           null,
           0.8737,
           null,
           null,
           null,
           null,
           null,
           null,
           null,
           null,
           null,
           null,
           null,
           null,
           null,
           null,
           null,
           null,
           null,
           null,
           null,
           null,
           null,
           null,
           null,
           null,
           null,
           null,
           null
          ],
          [
           null,
           null,
           null,
           null,
           null,
           null,
           null,
           null,
           null,
           null,
           0.8778,
           null,
           null,
           null,
           null,
           null,
           null,
           null,
           null,
           null,
           null,
           null,
           null,
           null,
           null,
           null,
           null,
           null,
           null,
           null,
           null,
           null,
           null,
           null,
           null,
           null,
           null,
           null,
           null,
           null,
           null,
           null,
           null,
           null,
           null,
           null
          ],
          [
           null,
           null,
           null,
           null,
           null,
           null,
           null,
           null,
           null,
           null,
           null,
           0.8758,
           null,
           null,
           null,
           null,
           null,
           null,
           null,
           null,
           null,
           null,
           null,
           null,
           null,
           null,
           null,
           null,
           null,
           null,
           null,
           null,
           null,
           null,
           null,
           null,
           null,
           null,
           null,
           null,
           null,
           null,
           null,
           null,
           null,
           null
          ],
          [
           null,
           null,
           0.873,
           null,
           null,
           null,
           null,
           null,
           null,
           null,
           null,
           null,
           null,
           null,
           null,
           null,
           null,
           null,
           null,
           null,
           null,
           null,
           null,
           null,
           null,
           null,
           null,
           null,
           null,
           null,
           null,
           null,
           null,
           null,
           null,
           null,
           null,
           null,
           null,
           null,
           null,
           null,
           null,
           null,
           null,
           null
          ],
          [
           null,
           null,
           null,
           null,
           null,
           null,
           null,
           null,
           null,
           null,
           null,
           null,
           null,
           null,
           null,
           null,
           null,
           null,
           null,
           null,
           null,
           null,
           null,
           null,
           null,
           null,
           null,
           null,
           null,
           null,
           null,
           null,
           null,
           0.8819,
           null,
           null,
           null,
           null,
           null,
           null,
           null,
           null,
           null,
           null,
           null,
           null
          ],
          [
           null,
           null,
           null,
           null,
           null,
           null,
           null,
           null,
           0.8724,
           null,
           null,
           null,
           null,
           null,
           null,
           null,
           null,
           null,
           null,
           null,
           null,
           null,
           null,
           null,
           null,
           null,
           null,
           null,
           null,
           null,
           null,
           null,
           null,
           null,
           null,
           null,
           null,
           null,
           null,
           null,
           null,
           null,
           null,
           null,
           null,
           null
          ],
          [
           null,
           null,
           null,
           null,
           null,
           null,
           null,
           null,
           null,
           null,
           null,
           null,
           null,
           null,
           null,
           null,
           null,
           null,
           null,
           null,
           null,
           null,
           null,
           null,
           null,
           null,
           null,
           null,
           null,
           null,
           null,
           0.8681,
           null,
           null,
           null,
           null,
           null,
           null,
           null,
           null,
           null,
           null,
           null,
           null,
           null,
           null
          ],
          [
           null,
           null,
           null,
           null,
           null,
           null,
           null,
           null,
           null,
           null,
           null,
           null,
           null,
           null,
           null,
           null,
           null,
           null,
           null,
           null,
           null,
           null,
           null,
           null,
           null,
           null,
           null,
           null,
           null,
           null,
           null,
           null,
           null,
           null,
           null,
           null,
           null,
           null,
           null,
           0.8619,
           null,
           null,
           null,
           null,
           null,
           null
          ],
          [
           null,
           null,
           null,
           null,
           null,
           null,
           null,
           null,
           null,
           null,
           null,
           null,
           null,
           null,
           null,
           null,
           null,
           null,
           null,
           null,
           null,
           null,
           null,
           null,
           null,
           null,
           null,
           null,
           null,
           null,
           null,
           null,
           null,
           null,
           null,
           null,
           null,
           null,
           null,
           null,
           null,
           null,
           null,
           null,
           null,
           null
          ]
         ]
        },
        {
         "marker": {
          "color": "black",
          "line": {
           "color": "Grey",
           "width": 2
          }
         },
         "mode": "markers",
         "showlegend": false,
         "type": "scatter",
         "x": [
          244,
          233,
          174,
          191,
          298,
          231,
          205,
          256,
          305,
          228,
          135,
          321,
          152,
          150,
          156,
          161,
          159,
          210,
          202,
          147,
          149,
          144,
          145,
          95,
          123,
          135,
          166,
          166,
          163,
          107,
          145,
          201,
          156,
          207,
          151,
          157,
          153,
          185,
          130,
          131,
          93,
          161,
          159,
          174,
          139,
          210,
          167,
          210,
          134,
          195,
          236,
          303,
          309
         ],
         "xaxis": "x9",
         "y": [
          0.002029102197231178,
          0.00010304276838080714,
          0.0007318474839444056,
          0.005113767556783974,
          0.0008035247960214514,
          0.0008851099503370642,
          0.02641953490757494,
          0.03890348451146671,
          0.0007335202102024708,
          0.005356488570376725,
          0.005111216837452078,
          0.00799729648496317,
          0.005283968285379495,
          0.009662025288483504,
          0.008469731806373013,
          0.009204642568755533,
          0.011536014212655226,
          0.015372986857453516,
          0.008557810702823953,
          0.008534797952559592,
          0.012699854107899934,
          0.01323377952238283,
          0.014825217760804905,
          0.014971252242458943,
          0.012368908391012014,
          0.015673918679270937,
          0.0073894661941148725,
          0.0063881601499668145,
          0.01039400755371694,
          0.010014857826559235,
          0.010593912232359115,
          0.005581704012076503,
          0.012808894182187213,
          0.008082851768479863,
          0.012397719194273307,
          0.005956133364604813,
          0.011666611834733347,
          0.012313188504684307,
          0.012763495827976118,
          0.012134366954537306,
          0.011589412713603905,
          0.009289913441378833,
          0.00947473091173592,
          0.0077044536807523815,
          0.007300630044708924,
          0.010385424372005988,
          0.008315749501463222,
          0.008220383972921816,
          0.007382675520322863,
          0.0077463265016339015,
          0.008824948586059728,
          0.008469115913671214,
          0.009006451536771114
         ],
         "yaxis": "y9"
        },
        {
         "colorbar": {
          "title": {
           "text": "Objective Value"
          }
         },
         "colorscale": [
          [
           0,
           "rgb(247,251,255)"
          ],
          [
           0.125,
           "rgb(222,235,247)"
          ],
          [
           0.25,
           "rgb(198,219,239)"
          ],
          [
           0.375,
           "rgb(158,202,225)"
          ],
          [
           0.5,
           "rgb(107,174,214)"
          ],
          [
           0.625,
           "rgb(66,146,198)"
          ],
          [
           0.75,
           "rgb(33,113,181)"
          ],
          [
           0.875,
           "rgb(8,81,156)"
          ],
          [
           1,
           "rgb(8,48,107)"
          ]
         ],
         "connectgaps": true,
         "contours": {
          "coloring": "heatmap"
         },
         "hoverinfo": "none",
         "line": {
          "smoothing": 1.3
         },
         "reversescale": false,
         "showscale": false,
         "type": "contour",
         "x": [
          81.6,
          93,
          95,
          107,
          123,
          130,
          131,
          134,
          135,
          139,
          144,
          145,
          147,
          149,
          150,
          151,
          152,
          153,
          156,
          157,
          159,
          161,
          163,
          166,
          167,
          174,
          185,
          191,
          195,
          201,
          202,
          205,
          207,
          210,
          228,
          231,
          233,
          236,
          244,
          256,
          298,
          303,
          305,
          309,
          321,
          332.4
         ],
         "xaxis": "x14",
         "y": [
          0.9,
          1,
          2,
          3,
          3.1
         ],
         "yaxis": "y14",
         "z": [
          [
           null,
           null,
           null,
           null,
           null,
           null,
           null,
           null,
           null,
           null,
           null,
           null,
           null,
           null,
           null,
           null,
           null,
           null,
           null,
           null,
           null,
           null,
           null,
           null,
           null,
           null,
           null,
           null,
           null,
           null,
           null,
           null,
           null,
           null,
           null,
           null,
           null,
           null,
           null,
           null,
           null,
           null,
           null,
           null,
           null,
           null
          ],
          [
           null,
           null,
           null,
           null,
           0.8641,
           null,
           null,
           null,
           0.8724,
           null,
           null,
           null,
           null,
           null,
           0.8752,
           null,
           null,
           null,
           0.8737,
           null,
           null,
           null,
           null,
           null,
           null,
           null,
           null,
           null,
           null,
           0.875,
           0.8755,
           0.8681,
           0.8745,
           0.8819,
           null,
           null,
           null,
           null,
           0.8698,
           0.8619,
           0.8654,
           null,
           null,
           null,
           null,
           null
          ],
          [
           null,
           0.8741,
           0.873,
           0.8805,
           null,
           0.8786,
           0.87,
           0.8785,
           0.8765,
           0.8785,
           0.8778,
           0.8728,
           0.8781,
           0.8811,
           null,
           0.8744,
           0.8759,
           0.8779,
           null,
           0.8799,
           0.873,
           0.8788,
           0.8815,
           0.8698,
           0.8793,
           0.8817,
           0.8772,
           null,
           0.8785,
           null,
           null,
           null,
           null,
           0.8793,
           0.8638,
           0.869,
           null,
           0.8792,
           null,
           null,
           null,
           0.8783,
           0.8681,
           0.8801,
           0.8746,
           null
          ],
          [
           null,
           null,
           null,
           null,
           null,
           null,
           null,
           null,
           null,
           null,
           null,
           null,
           null,
           null,
           null,
           null,
           null,
           null,
           null,
           null,
           null,
           null,
           null,
           null,
           null,
           0.8551,
           null,
           0.846,
           null,
           null,
           null,
           null,
           null,
           null,
           null,
           null,
           0.8095,
           null,
           null,
           null,
           null,
           null,
           null,
           null,
           null,
           null
          ],
          [
           null,
           null,
           null,
           null,
           null,
           null,
           null,
           null,
           null,
           null,
           null,
           null,
           null,
           null,
           null,
           null,
           null,
           null,
           null,
           null,
           null,
           null,
           null,
           null,
           null,
           null,
           null,
           null,
           null,
           null,
           null,
           null,
           null,
           null,
           null,
           null,
           null,
           null,
           null,
           null,
           null,
           null,
           null,
           null,
           null,
           null
          ]
         ]
        },
        {
         "marker": {
          "color": "black",
          "line": {
           "color": "Grey",
           "width": 2
          }
         },
         "mode": "markers",
         "showlegend": false,
         "type": "scatter",
         "x": [
          244,
          233,
          174,
          191,
          298,
          231,
          205,
          256,
          305,
          228,
          135,
          321,
          152,
          150,
          156,
          161,
          159,
          210,
          202,
          147,
          149,
          144,
          145,
          95,
          123,
          135,
          166,
          166,
          163,
          107,
          145,
          201,
          156,
          207,
          151,
          157,
          153,
          185,
          130,
          131,
          93,
          161,
          159,
          174,
          139,
          210,
          167,
          210,
          134,
          195,
          236,
          303,
          309
         ],
         "xaxis": "x14",
         "y": [
          1,
          3,
          3,
          3,
          1,
          2,
          1,
          1,
          2,
          2,
          2,
          2,
          2,
          1,
          1,
          2,
          2,
          1,
          1,
          2,
          2,
          2,
          2,
          2,
          1,
          1,
          2,
          2,
          2,
          2,
          2,
          1,
          1,
          1,
          2,
          2,
          2,
          2,
          2,
          2,
          2,
          2,
          2,
          2,
          2,
          2,
          2,
          2,
          2,
          2,
          2,
          2,
          2
         ],
         "yaxis": "y14"
        },
        {
         "type": "scatter",
         "xaxis": "x19",
         "yaxis": "y19"
        },
        {
         "colorbar": {
          "title": {
           "text": "Objective Value"
          }
         },
         "colorscale": [
          [
           0,
           "rgb(247,251,255)"
          ],
          [
           0.125,
           "rgb(222,235,247)"
          ],
          [
           0.25,
           "rgb(198,219,239)"
          ],
          [
           0.375,
           "rgb(158,202,225)"
          ],
          [
           0.5,
           "rgb(107,174,214)"
          ],
          [
           0.625,
           "rgb(66,146,198)"
          ],
          [
           0.75,
           "rgb(33,113,181)"
          ],
          [
           0.875,
           "rgb(8,81,156)"
          ],
          [
           1,
           "rgb(8,48,107)"
          ]
         ],
         "connectgaps": true,
         "contours": {
          "coloring": "heatmap"
         },
         "hoverinfo": "none",
         "line": {
          "smoothing": 1.3
         },
         "reversescale": false,
         "showscale": false,
         "type": "contour",
         "x": [
          81.6,
          93,
          95,
          107,
          123,
          130,
          131,
          134,
          135,
          139,
          144,
          145,
          147,
          149,
          150,
          151,
          152,
          153,
          156,
          157,
          159,
          161,
          163,
          166,
          167,
          174,
          185,
          191,
          195,
          201,
          202,
          205,
          207,
          210,
          228,
          231,
          233,
          236,
          244,
          256,
          298,
          303,
          305,
          309,
          321,
          332.4
         ],
         "xaxis": "x24",
         "y": [
          2.4499999999999993,
          10,
          14,
          16,
          22,
          28,
          30,
          31,
          35,
          36,
          37,
          45,
          46,
          50,
          52,
          63,
          64,
          79,
          84,
          85,
          91,
          92,
          98,
          99,
          101,
          105,
          106,
          107,
          108,
          109,
          113,
          117,
          118,
          127,
          129,
          154,
          161,
          168.55
         ],
         "yaxis": "y24",
         "z": [
          [
           null,
           null,
           null,
           null,
           null,
           null,
           null,
           null,
           null,
           null,
           null,
           null,
           null,
           null,
           null,
           null,
           null,
           null,
           null,
           null,
           null,
           null,
           null,
           null,
           null,
           null,
           null,
           null,
           null,
           null,
           null,
           null,
           null,
           null,
           null,
           null,
           null,
           null,
           null,
           null,
           null,
           null,
           null,
           null,
           null,
           null
          ],
          [
           null,
           null,
           null,
           null,
           null,
           null,
           null,
           null,
           null,
           null,
           null,
           null,
           null,
           null,
           null,
           null,
           null,
           null,
           null,
           null,
           null,
           null,
           null,
           null,
           null,
           null,
           null,
           null,
           null,
           null,
           null,
           null,
           null,
           null,
           0.8638,
           null,
           null,
           null,
           null,
           null,
           null,
           null,
           null,
           null,
           null,
           null
          ],
          [
           null,
           null,
           null,
           null,
           null,
           null,
           null,
           null,
           null,
           null,
           null,
           null,
           null,
           null,
           null,
           null,
           null,
           null,
           null,
           null,
           null,
           0.8659,
           null,
           null,
           null,
           null,
           null,
           null,
           null,
           null,
           null,
           null,
           null,
           null,
           null,
           null,
           null,
           null,
           null,
           null,
           null,
           null,
           null,
           null,
           null,
           null
          ],
          [
           null,
           null,
           null,
           null,
           null,
           null,
           null,
           null,
           null,
           null,
           null,
           null,
           null,
           null,
           null,
           null,
           null,
           null,
           null,
           null,
           0.8733,
           null,
           null,
           null,
           null,
           null,
           null,
           null,
           null,
           null,
           null,
           null,
           null,
           null,
           null,
           null,
           null,
           null,
           null,
           null,
           null,
           null,
           null,
           null,
           null,
           null
          ],
          [
           null,
           null,
           null,
           null,
           null,
           null,
           null,
           null,
           0.8765,
           null,
           null,
           null,
           null,
           null,
           null,
           null,
           null,
           null,
           null,
           null,
           null,
           null,
           null,
           null,
           null,
           null,
           null,
           null,
           null,
           null,
           null,
           null,
           null,
           null,
           null,
           null,
           null,
           null,
           null,
           null,
           null,
           null,
           null,
           null,
           null,
           null
          ],
          [
           null,
           null,
           null,
           null,
           null,
           null,
           null,
           null,
           null,
           null,
           0.8778,
           null,
           null,
           null,
           null,
           null,
           null,
           null,
           null,
           null,
           null,
           null,
           null,
           null,
           null,
           null,
           null,
           null,
           null,
           null,
           null,
           null,
           null,
           null,
           null,
           null,
           null,
           null,
           null,
           null,
           null,
           null,
           null,
           null,
           null,
           null
          ],
          [
           null,
           null,
           null,
           null,
           null,
           null,
           null,
           null,
           null,
           null,
           null,
           null,
           0.8781,
           null,
           null,
           null,
           null,
           null,
           null,
           null,
           null,
           null,
           null,
           null,
           null,
           null,
           null,
           null,
           null,
           null,
           null,
           null,
           null,
           null,
           null,
           null,
           null,
           null,
           null,
           null,
           null,
           null,
           null,
           null,
           null,
           null
          ],
          [
           null,
           null,
           null,
           null,
           null,
           null,
           null,
           null,
           null,
           null,
           null,
           0.8758,
           null,
           null,
           null,
           null,
           null,
           null,
           null,
           null,
           null,
           null,
           null,
           null,
           null,
           null,
           null,
           null,
           null,
           null,
           null,
           null,
           null,
           null,
           null,
           null,
           null,
           null,
           null,
           null,
           null,
           null,
           null,
           null,
           null,
           null
          ],
          [
           null,
           null,
           null,
           null,
           null,
           null,
           null,
           null,
           null,
           null,
           null,
           null,
           null,
           null,
           null,
           null,
           null,
           null,
           null,
           null,
           null,
           null,
           0.8815,
           null,
           null,
           null,
           null,
           null,
           null,
           null,
           null,
           null,
           null,
           null,
           null,
           null,
           null,
           null,
           null,
           null,
           null,
           null,
           null,
           null,
           null,
           null
          ],
          [
           null,
           null,
           0.873,
           null,
           null,
           null,
           null,
           null,
           null,
           null,
           null,
           null,
           null,
           null,
           null,
           null,
           null,
           null,
           null,
           null,
           null,
           null,
           null,
           null,
           null,
           null,
           null,
           null,
           null,
           null,
           null,
           null,
           null,
           null,
           null,
           null,
           null,
           null,
           null,
           null,
           null,
           null,
           null,
           null,
           null,
           null
          ],
          [
           null,
           null,
           null,
           null,
           null,
           null,
           null,
           null,
           null,
           null,
           null,
           null,
           null,
           0.8811,
           null,
           null,
           null,
           null,
           null,
           null,
           null,
           null,
           null,
           null,
           null,
           null,
           null,
           null,
           null,
           null,
           null,
           null,
           null,
           null,
           null,
           null,
           null,
           null,
           null,
           null,
           null,
           null,
           null,
           null,
           null,
           null
          ],
          [
           null,
           null,
           null,
           null,
           null,
           null,
           null,
           null,
           null,
           null,
           null,
           null,
           null,
           null,
           null,
           null,
           null,
           null,
           null,
           null,
           null,
           null,
           null,
           0.8758,
           null,
           null,
           null,
           null,
           null,
           null,
           null,
           null,
           null,
           null,
           null,
           null,
           null,
           null,
           null,
           null,
           null,
           null,
           null,
           null,
           null,
           null
          ],
          [
           null,
           null,
           null,
           null,
           null,
           null,
           null,
           null,
           null,
           null,
           null,
           null,
           null,
           null,
           null,
           null,
           null,
           null,
           null,
           null,
           null,
           null,
           null,
           0.8698,
           null,
           null,
           null,
           null,
           null,
           null,
           null,
           null,
           null,
           null,
           null,
           null,
           null,
           null,
           null,
           null,
           null,
           null,
           null,
           null,
           null,
           null
          ],
          [
           null,
           null,
           null,
           null,
           null,
           null,
           null,
           null,
           null,
           null,
           null,
           0.8728,
           null,
           null,
           null,
           null,
           null,
           null,
           null,
           null,
           null,
           null,
           null,
           null,
           null,
           null,
           null,
           null,
           null,
           null,
           null,
           null,
           null,
           null,
           null,
           null,
           null,
           null,
           null,
           null,
           null,
           null,
           null,
           null,
           null,
           null
          ],
          [
           null,
           null,
           null,
           null,
           null,
           null,
           null,
           null,
           null,
           null,
           null,
           null,
           null,
           null,
           null,
           null,
           null,
           null,
           null,
           null,
           null,
           null,
           null,
           null,
           null,
           null,
           null,
           null,
           null,
           null,
           null,
           null,
           null,
           null,
           null,
           null,
           null,
           null,
           null,
           null,
           null,
           null,
           null,
           null,
           0.8746,
           null
          ],
          [
           null,
           null,
           null,
           null,
           null,
           null,
           null,
           null,
           null,
           null,
           null,
           null,
           null,
           null,
           null,
           null,
           null,
           null,
           null,
           null,
           null,
           null,
           null,
           null,
           null,
           null,
           null,
           null,
           null,
           null,
           null,
           null,
           null,
           null,
           null,
           null,
           null,
           0.8792,
           null,
           null,
           null,
           null,
           null,
           null,
           null,
           null
          ],
          [
           null,
           null,
           null,
           null,
           null,
           null,
           null,
           null,
           null,
           null,
           null,
           null,
           null,
           null,
           null,
           null,
           0.8759,
           null,
           null,
           null,
           null,
           null,
           null,
           null,
           null,
           null,
           null,
           null,
           null,
           null,
           null,
           null,
           null,
           null,
           null,
           null,
           null,
           null,
           null,
           null,
           null,
           null,
           null,
           null,
           null,
           null
          ],
          [
           null,
           null,
           null,
           null,
           null,
           0.8786,
           null,
           null,
           null,
           null,
           null,
           null,
           null,
           null,
           null,
           null,
           null,
           null,
           null,
           null,
           null,
           null,
           null,
           null,
           null,
           null,
           null,
           null,
           null,
           null,
           null,
           null,
           null,
           null,
           null,
           null,
           null,
           null,
           null,
           null,
           null,
           null,
           null,
           null,
           null,
           null
          ],
          [
           null,
           null,
           null,
           null,
           null,
           null,
           null,
           null,
           null,
           null,
           null,
           null,
           null,
           null,
           null,
           null,
           null,
           null,
           null,
           null,
           null,
           null,
           null,
           null,
           null,
           null,
           null,
           null,
           null,
           null,
           null,
           null,
           null,
           null,
           null,
           null,
           null,
           null,
           null,
           null,
           null,
           null,
           0.8681,
           null,
           null,
           null
          ],
          [
           null,
           null,
           null,
           0.8805,
           null,
           null,
           null,
           null,
           null,
           null,
           null,
           null,
           null,
           null,
           null,
           null,
           null,
           null,
           null,
           null,
           null,
           null,
           null,
           null,
           null,
           null,
           null,
           null,
           null,
           null,
           null,
           null,
           null,
           null,
           null,
           null,
           null,
           null,
           null,
           null,
           null,
           null,
           null,
           null,
           null,
           null
          ],
          [
           null,
           null,
           null,
           null,
           null,
           null,
           null,
           null,
           null,
           null,
           null,
           null,
           null,
           null,
           null,
           null,
           null,
           null,
           null,
           null,
           null,
           null,
           null,
           null,
           null,
           null,
           null,
           null,
           null,
           null,
           null,
           null,
           null,
           null,
           null,
           0.869,
           null,
           null,
           null,
           null,
           null,
           null,
           null,
           null,
           null,
           null
          ],
          [
           null,
           null,
           null,
           null,
           null,
           null,
           null,
           null,
           null,
           null,
           null,
           null,
           null,
           null,
           null,
           null,
           null,
           null,
           null,
           null,
           null,
           null,
           null,
           null,
           null,
           0.8551,
           null,
           null,
           null,
           null,
           null,
           null,
           null,
           null,
           null,
           null,
           null,
           null,
           null,
           null,
           null,
           null,
           null,
           null,
           null,
           null
          ],
          [
           null,
           null,
           null,
           null,
           null,
           null,
           0.87,
           null,
           null,
           null,
           null,
           null,
           null,
           null,
           null,
           null,
           null,
           null,
           null,
           null,
           null,
           null,
           null,
           null,
           null,
           null,
           null,
           null,
           null,
           null,
           null,
           null,
           null,
           null,
           null,
           null,
           null,
           null,
           null,
           null,
           null,
           null,
           null,
           null,
           null,
           null
          ],
          [
           null,
           0.8741,
           null,
           null,
           null,
           null,
           null,
           null,
           null,
           null,
           null,
           null,
           null,
           null,
           null,
           0.8744,
           null,
           0.8779,
           null,
           null,
           null,
           null,
           null,
           null,
           null,
           null,
           null,
           null,
           null,
           null,
           null,
           null,
           null,
           null,
           null,
           null,
           null,
           null,
           null,
           null,
           null,
           null,
           null,
           null,
           null,
           null
          ],
          [
           null,
           null,
           null,
           null,
           null,
           null,
           null,
           null,
           null,
           null,
           null,
           null,
           null,
           null,
           null,
           null,
           null,
           null,
           null,
           null,
           null,
           null,
           null,
           null,
           null,
           null,
           0.8772,
           null,
           null,
           null,
           null,
           null,
           null,
           null,
           null,
           null,
           null,
           null,
           null,
           null,
           null,
           null,
           null,
           null,
           null,
           null
          ],
          [
           null,
           null,
           null,
           null,
           null,
           null,
           null,
           null,
           null,
           null,
           null,
           null,
           null,
           null,
           null,
           null,
           null,
           null,
           null,
           null,
           null,
           null,
           null,
           null,
           null,
           null,
           null,
           0.846,
           null,
           null,
           null,
           null,
           null,
           null,
           null,
           null,
           null,
           null,
           null,
           null,
           null,
           null,
           null,
           null,
           null,
           null
          ],
          [
           null,
           null,
           null,
           null,
           null,
           null,
           null,
           null,
           null,
           null,
           null,
           null,
           null,
           null,
           null,
           null,
           null,
           null,
           null,
           null,
           0.873,
           null,
           null,
           null,
           null,
           null,
           null,
           null,
           null,
           null,
           null,
           null,
           null,
           null,
           null,
           null,
           null,
           null,
           null,
           null,
           null,
           null,
           null,
           null,
           null,
           null
          ],
          [
           null,
           null,
           null,
           null,
           null,
           null,
           null,
           null,
           null,
           null,
           null,
           null,
           null,
           null,
           null,
           null,
           null,
           null,
           null,
           null,
           null,
           null,
           null,
           null,
           null,
           0.8817,
           null,
           null,
           null,
           null,
           null,
           null,
           null,
           null,
           null,
           null,
           null,
           null,
           null,
           null,
           null,
           null,
           null,
           null,
           null,
           null
          ],
          [
           null,
           null,
           null,
           null,
           null,
           null,
           null,
           0.8785,
           null,
           null,
           null,
           null,
           null,
           null,
           null,
           null,
           null,
           null,
           null,
           null,
           null,
           0.8788,
           null,
           null,
           null,
           null,
           null,
           null,
           null,
           null,
           null,
           null,
           null,
           null,
           null,
           null,
           null,
           null,
           null,
           null,
           null,
           null,
           null,
           null,
           null,
           null
          ],
          [
           null,
           null,
           null,
           null,
           null,
           null,
           null,
           null,
           null,
           0.8785,
           null,
           null,
           null,
           null,
           null,
           null,
           null,
           null,
           null,
           null,
           null,
           null,
           null,
           null,
           null,
           null,
           null,
           null,
           null,
           null,
           null,
           null,
           null,
           null,
           null,
           null,
           null,
           null,
           null,
           null,
           null,
           null,
           null,
           null,
           null,
           null
          ],
          [
           null,
           null,
           null,
           null,
           null,
           null,
           null,
           null,
           null,
           null,
           null,
           null,
           null,
           null,
           null,
           null,
           null,
           null,
           null,
           0.8799,
           null,
           null,
           null,
           null,
           null,
           null,
           null,
           null,
           null,
           null,
           null,
           null,
           null,
           null,
           null,
           null,
           null,
           null,
           null,
           null,
           null,
           null,
           null,
           null,
           null,
           null
          ],
          [
           null,
           null,
           null,
           null,
           null,
           null,
           null,
           null,
           null,
           null,
           null,
           null,
           null,
           null,
           null,
           null,
           null,
           null,
           null,
           null,
           null,
           null,
           null,
           null,
           null,
           null,
           null,
           null,
           null,
           null,
           null,
           null,
           null,
           0.8793,
           null,
           null,
           null,
           null,
           null,
           null,
           null,
           null,
           null,
           null,
           null,
           null
          ],
          [
           null,
           null,
           null,
           null,
           null,
           null,
           null,
           null,
           null,
           null,
           null,
           null,
           null,
           null,
           null,
           null,
           null,
           null,
           null,
           null,
           null,
           null,
           null,
           null,
           0.8793,
           null,
           null,
           null,
           null,
           null,
           null,
           null,
           null,
           null,
           null,
           null,
           null,
           null,
           null,
           null,
           null,
           null,
           null,
           null,
           null,
           null
          ],
          [
           null,
           null,
           null,
           null,
           null,
           null,
           null,
           null,
           null,
           null,
           null,
           null,
           null,
           null,
           null,
           null,
           null,
           null,
           null,
           null,
           null,
           null,
           null,
           null,
           null,
           null,
           null,
           null,
           null,
           null,
           null,
           null,
           null,
           null,
           null,
           null,
           0.8095,
           null,
           null,
           null,
           null,
           null,
           null,
           null,
           null,
           null
          ],
          [
           null,
           null,
           null,
           null,
           null,
           null,
           null,
           null,
           null,
           null,
           null,
           null,
           null,
           null,
           null,
           null,
           null,
           null,
           null,
           null,
           null,
           null,
           null,
           null,
           null,
           null,
           null,
           null,
           0.8785,
           null,
           null,
           null,
           null,
           null,
           null,
           null,
           null,
           null,
           null,
           null,
           null,
           null,
           null,
           null,
           null,
           null
          ],
          [
           null,
           null,
           null,
           null,
           null,
           null,
           null,
           null,
           null,
           null,
           null,
           null,
           null,
           null,
           null,
           null,
           null,
           null,
           null,
           null,
           null,
           null,
           null,
           null,
           null,
           null,
           null,
           null,
           null,
           null,
           null,
           null,
           null,
           null,
           null,
           null,
           null,
           null,
           null,
           null,
           null,
           null,
           null,
           0.8801,
           null,
           null
          ],
          [
           null,
           null,
           null,
           null,
           null,
           null,
           null,
           null,
           null,
           null,
           null,
           null,
           null,
           null,
           null,
           null,
           null,
           null,
           null,
           null,
           null,
           null,
           null,
           null,
           null,
           null,
           null,
           null,
           null,
           null,
           null,
           null,
           null,
           null,
           null,
           null,
           null,
           null,
           null,
           null,
           null,
           0.8783,
           null,
           null,
           null,
           null
          ],
          [
           null,
           null,
           null,
           null,
           null,
           null,
           null,
           null,
           null,
           null,
           null,
           null,
           null,
           null,
           null,
           null,
           null,
           null,
           null,
           null,
           null,
           null,
           null,
           null,
           null,
           null,
           null,
           null,
           null,
           null,
           null,
           null,
           null,
           null,
           null,
           null,
           null,
           null,
           null,
           null,
           null,
           null,
           null,
           null,
           null,
           null
          ]
         ]
        },
        {
         "marker": {
          "color": "black",
          "line": {
           "color": "Grey",
           "width": 2
          }
         },
         "mode": "markers",
         "showlegend": false,
         "type": "scatter",
         "x": [
          233,
          174,
          191,
          231,
          305,
          228,
          135,
          321,
          152,
          161,
          159,
          147,
          149,
          144,
          145,
          95,
          166,
          166,
          163,
          107,
          145,
          151,
          157,
          153,
          185,
          130,
          131,
          93,
          161,
          159,
          174,
          139,
          210,
          167,
          210,
          134,
          195,
          236,
          303,
          309
         ],
         "xaxis": "x24",
         "y": [
          127,
          92,
          105,
          91,
          84,
          10,
          22,
          52,
          64,
          14,
          16,
          30,
          37,
          28,
          31,
          36,
          45,
          46,
          35,
          85,
          50,
          99,
          113,
          99,
          101,
          79,
          98,
          99,
          108,
          106,
          107,
          109,
          117,
          118,
          117,
          108,
          129,
          63,
          161,
          154
         ],
         "yaxis": "y24"
        },
        {
         "colorbar": {
          "title": {
           "text": "Objective Value"
          }
         },
         "colorscale": [
          [
           0,
           "rgb(247,251,255)"
          ],
          [
           0.125,
           "rgb(222,235,247)"
          ],
          [
           0.25,
           "rgb(198,219,239)"
          ],
          [
           0.375,
           "rgb(158,202,225)"
          ],
          [
           0.5,
           "rgb(107,174,214)"
          ],
          [
           0.625,
           "rgb(66,146,198)"
          ],
          [
           0.75,
           "rgb(33,113,181)"
          ],
          [
           0.875,
           "rgb(8,81,156)"
          ],
          [
           1,
           "rgb(8,48,107)"
          ]
         ],
         "connectgaps": true,
         "contours": {
          "coloring": "heatmap"
         },
         "hoverinfo": "none",
         "line": {
          "smoothing": 1.3
         },
         "reversescale": false,
         "showscale": false,
         "type": "contour",
         "x": [
          2.4499999999999993,
          10,
          14,
          16,
          22,
          28,
          30,
          31,
          35,
          36,
          37,
          45,
          46,
          50,
          52,
          63,
          64,
          79,
          84,
          85,
          91,
          92,
          98,
          99,
          101,
          105,
          106,
          107,
          108,
          109,
          113,
          117,
          118,
          127,
          129,
          154,
          161,
          168.55
         ],
         "xaxis": "x5",
         "y": [
          "LeakyReLU",
          "ReLU"
         ],
         "yaxis": "y5",
         "z": [
          [
           null,
           0.8638,
           0.8659,
           0.8733,
           0.8765,
           0.8778,
           0.8781,
           0.8758,
           0.8815,
           0.873,
           0.8811,
           0.8758,
           0.8698,
           0.8728,
           0.8746,
           0.8792,
           0.8759,
           0.8786,
           0.8681,
           0.8805,
           0.869,
           0.8551,
           0.87,
           0.8741,
           0.8772,
           0.846,
           0.873,
           0.8817,
           0.8785,
           0.8785,
           0.8799,
           0.8793,
           0.8793,
           0.8095,
           0.8785,
           0.8801,
           0.8783,
           null
          ],
          [
           null,
           null,
           null,
           null,
           null,
           null,
           null,
           null,
           null,
           null,
           null,
           null,
           null,
           null,
           null,
           null,
           null,
           null,
           null,
           null,
           null,
           null,
           null,
           null,
           null,
           null,
           null,
           null,
           null,
           null,
           null,
           null,
           null,
           null,
           null,
           null,
           null,
           null
          ]
         ]
        },
        {
         "marker": {
          "color": "black",
          "line": {
           "color": "Grey",
           "width": 2
          }
         },
         "mode": "markers",
         "showlegend": false,
         "type": "scatter",
         "x": [
          127,
          92,
          105,
          91,
          84,
          10,
          22,
          52,
          64,
          14,
          16,
          30,
          37,
          28,
          31,
          36,
          45,
          46,
          35,
          85,
          50,
          99,
          113,
          99,
          101,
          79,
          98,
          99,
          108,
          106,
          107,
          109,
          117,
          118,
          117,
          108,
          129,
          63,
          161,
          154
         ],
         "xaxis": "x5",
         "y": [
          "LeakyReLU",
          "LeakyReLU",
          "LeakyReLU",
          "LeakyReLU",
          "LeakyReLU",
          "LeakyReLU",
          "LeakyReLU",
          "LeakyReLU",
          "LeakyReLU",
          "LeakyReLU",
          "LeakyReLU",
          "LeakyReLU",
          "LeakyReLU",
          "LeakyReLU",
          "LeakyReLU",
          "LeakyReLU",
          "LeakyReLU",
          "LeakyReLU",
          "LeakyReLU",
          "LeakyReLU",
          "LeakyReLU",
          "LeakyReLU",
          "LeakyReLU",
          "LeakyReLU",
          "LeakyReLU",
          "LeakyReLU",
          "LeakyReLU",
          "LeakyReLU",
          "LeakyReLU",
          "LeakyReLU",
          "LeakyReLU",
          "LeakyReLU",
          "LeakyReLU",
          "LeakyReLU",
          "LeakyReLU",
          "LeakyReLU",
          "LeakyReLU",
          "LeakyReLU",
          "LeakyReLU",
          "LeakyReLU"
         ],
         "yaxis": "y5"
        },
        {
         "colorbar": {
          "title": {
           "text": "Objective Value"
          }
         },
         "colorscale": [
          [
           0,
           "rgb(247,251,255)"
          ],
          [
           0.125,
           "rgb(222,235,247)"
          ],
          [
           0.25,
           "rgb(198,219,239)"
          ],
          [
           0.375,
           "rgb(158,202,225)"
          ],
          [
           0.5,
           "rgb(107,174,214)"
          ],
          [
           0.625,
           "rgb(66,146,198)"
          ],
          [
           0.75,
           "rgb(33,113,181)"
          ],
          [
           0.875,
           "rgb(8,81,156)"
          ],
          [
           1,
           "rgb(8,48,107)"
          ]
         ],
         "connectgaps": true,
         "contours": {
          "coloring": "heatmap"
         },
         "hoverinfo": "none",
         "line": {
          "smoothing": 1.3
         },
         "reversescale": false,
         "showscale": false,
         "type": "contour",
         "x": [
          2.4499999999999993,
          10,
          14,
          16,
          22,
          28,
          30,
          31,
          35,
          36,
          37,
          45,
          46,
          50,
          52,
          63,
          64,
          79,
          84,
          85,
          91,
          92,
          98,
          99,
          101,
          105,
          106,
          107,
          108,
          109,
          113,
          117,
          118,
          127,
          129,
          154,
          161,
          168.55
         ],
         "xaxis": "x10",
         "y": [
          0.0000765894531868334,
          0.00010304276838080714,
          0.0007318474839444056,
          0.0007335202102024708,
          0.0008035247960214514,
          0.0008851099503370642,
          0.002029102197231178,
          0.005111216837452078,
          0.005113767556783974,
          0.005283968285379495,
          0.005356488570376725,
          0.005581704012076503,
          0.005956133364604813,
          0.0063881601499668145,
          0.007300630044708924,
          0.007382675520322863,
          0.0073894661941148725,
          0.0077044536807523815,
          0.0077463265016339015,
          0.00799729648496317,
          0.008082851768479863,
          0.008220383972921816,
          0.008315749501463222,
          0.008469115913671214,
          0.008469731806373013,
          0.008534797952559592,
          0.008557810702823953,
          0.008824948586059728,
          0.009006451536771114,
          0.009204642568755533,
          0.009289913441378833,
          0.00947473091173592,
          0.009662025288483504,
          0.010014857826559235,
          0.010385424372005988,
          0.01039400755371694,
          0.010593912232359115,
          0.011536014212655226,
          0.011589412713603905,
          0.011666611834733347,
          0.012134366954537306,
          0.012313188504684307,
          0.012368908391012014,
          0.012397719194273307,
          0.012699854107899934,
          0.012763495827976118,
          0.012808894182187213,
          0.01323377952238283,
          0.014825217760804905,
          0.014971252242458943,
          0.015372986857453516,
          0.015673918679270937,
          0.02641953490757494,
          0.03890348451146671,
          0.05234040167309258
         ],
         "yaxis": "y10",
         "z": [
          [
           null,
           null,
           null,
           null,
           null,
           null,
           null,
           null,
           null,
           null,
           null,
           null,
           null,
           null,
           null,
           null,
           null,
           null,
           null,
           null,
           null,
           null,
           null,
           null,
           null,
           null,
           null,
           null,
           null,
           null,
           null,
           null,
           null,
           null,
           null,
           null,
           null,
           null
          ],
          [
           null,
           null,
           null,
           null,
           null,
           null,
           null,
           null,
           null,
           null,
           null,
           null,
           null,
           null,
           null,
           null,
           null,
           null,
           null,
           null,
           null,
           null,
           null,
           null,
           null,
           null,
           null,
           null,
           null,
           null,
           null,
           null,
           null,
           0.8095,
           null,
           null,
           null,
           null
          ],
          [
           null,
           null,
           null,
           null,
           null,
           null,
           null,
           null,
           null,
           null,
           null,
           null,
           null,
           null,
           null,
           null,
           null,
           null,
           null,
           null,
           null,
           0.8551,
           null,
           null,
           null,
           null,
           null,
           null,
           null,
           null,
           null,
           null,
           null,
           null,
           null,
           null,
           null,
           null
          ],
          [
           null,
           null,
           null,
           null,
           null,
           null,
           null,
           null,
           null,
           null,
           null,
           null,
           null,
           null,
           null,
           null,
           null,
           null,
           0.8681,
           null,
           null,
           null,
           null,
           null,
           null,
           null,
           null,
           null,
           null,
           null,
           null,
           null,
           null,
           null,
           null,
           null,
           null,
           null
          ],
          [
           null,
           null,
           null,
           null,
           null,
           null,
           null,
           null,
           null,
           null,
           null,
           null,
           null,
           null,
           null,
           null,
           null,
           null,
           null,
           null,
           null,
           null,
           null,
           null,
           null,
           null,
           null,
           null,
           null,
           null,
           null,
           null,
           null,
           null,
           null,
           null,
           null,
           null
          ],
          [
           null,
           null,
           null,
           null,
           null,
           null,
           null,
           null,
           null,
           null,
           null,
           null,
           null,
           null,
           null,
           null,
           null,
           null,
           null,
           null,
           0.869,
           null,
           null,
           null,
           null,
           null,
           null,
           null,
           null,
           null,
           null,
           null,
           null,
           null,
           null,
           null,
           null,
           null
          ],
          [
           null,
           null,
           null,
           null,
           null,
           null,
           null,
           null,
           null,
           null,
           null,
           null,
           null,
           null,
           null,
           null,
           null,
           null,
           null,
           null,
           null,
           null,
           null,
           null,
           null,
           null,
           null,
           null,
           null,
           null,
           null,
           null,
           null,
           null,
           null,
           null,
           null,
           null
          ],
          [
           null,
           null,
           null,
           null,
           0.8765,
           null,
           null,
           null,
           null,
           null,
           null,
           null,
           null,
           null,
           null,
           null,
           null,
           null,
           null,
           null,
           null,
           null,
           null,
           null,
           null,
           null,
           null,
           null,
           null,
           null,
           null,
           null,
           null,
           null,
           null,
           null,
           null,
           null
          ],
          [
           null,
           null,
           null,
           null,
           null,
           null,
           null,
           null,
           null,
           null,
           null,
           null,
           null,
           null,
           null,
           null,
           null,
           null,
           null,
           null,
           null,
           null,
           null,
           null,
           null,
           0.846,
           null,
           null,
           null,
           null,
           null,
           null,
           null,
           null,
           null,
           null,
           null,
           null
          ],
          [
           null,
           null,
           null,
           null,
           null,
           null,
           null,
           null,
           null,
           null,
           null,
           null,
           null,
           null,
           null,
           null,
           0.8759,
           null,
           null,
           null,
           null,
           null,
           null,
           null,
           null,
           null,
           null,
           null,
           null,
           null,
           null,
           null,
           null,
           null,
           null,
           null,
           null,
           null
          ],
          [
           null,
           0.8638,
           null,
           null,
           null,
           null,
           null,
           null,
           null,
           null,
           null,
           null,
           null,
           null,
           null,
           null,
           null,
           null,
           null,
           null,
           null,
           null,
           null,
           null,
           null,
           null,
           null,
           null,
           null,
           null,
           null,
           null,
           null,
           null,
           null,
           null,
           null,
           null
          ],
          [
           null,
           null,
           null,
           null,
           null,
           null,
           null,
           null,
           null,
           null,
           null,
           null,
           null,
           null,
           null,
           null,
           null,
           null,
           null,
           null,
           null,
           null,
           null,
           null,
           null,
           null,
           null,
           null,
           null,
           null,
           null,
           null,
           null,
           null,
           null,
           null,
           null,
           null
          ],
          [
           null,
           null,
           null,
           null,
           null,
           null,
           null,
           null,
           null,
           null,
           null,
           null,
           null,
           null,
           null,
           null,
           null,
           null,
           null,
           null,
           null,
           null,
           null,
           null,
           null,
           null,
           null,
           null,
           null,
           null,
           0.8799,
           null,
           null,
           null,
           null,
           null,
           null,
           null
          ],
          [
           null,
           null,
           null,
           null,
           null,
           null,
           null,
           null,
           null,
           null,
           null,
           null,
           0.8698,
           null,
           null,
           null,
           null,
           null,
           null,
           null,
           null,
           null,
           null,
           null,
           null,
           null,
           null,
           null,
           null,
           null,
           null,
           null,
           null,
           null,
           null,
           null,
           null,
           null
          ],
          [
           null,
           null,
           null,
           null,
           null,
           null,
           null,
           null,
           null,
           null,
           null,
           null,
           null,
           null,
           null,
           null,
           null,
           null,
           null,
           null,
           null,
           null,
           null,
           null,
           null,
           null,
           null,
           null,
           null,
           0.8785,
           null,
           null,
           null,
           null,
           null,
           null,
           null,
           null
          ],
          [
           null,
           null,
           null,
           null,
           null,
           null,
           null,
           null,
           null,
           null,
           null,
           null,
           null,
           null,
           null,
           null,
           null,
           null,
           null,
           null,
           null,
           null,
           null,
           null,
           null,
           null,
           null,
           null,
           0.8785,
           null,
           null,
           null,
           null,
           null,
           null,
           null,
           null,
           null
          ],
          [
           null,
           null,
           null,
           null,
           null,
           null,
           null,
           null,
           null,
           null,
           null,
           0.8758,
           null,
           null,
           null,
           null,
           null,
           null,
           null,
           null,
           null,
           null,
           null,
           null,
           null,
           null,
           null,
           null,
           null,
           null,
           null,
           null,
           null,
           null,
           null,
           null,
           null,
           null
          ],
          [
           null,
           null,
           null,
           null,
           null,
           null,
           null,
           null,
           null,
           null,
           null,
           null,
           null,
           null,
           null,
           null,
           null,
           null,
           null,
           null,
           null,
           null,
           null,
           null,
           null,
           null,
           null,
           0.8817,
           null,
           null,
           null,
           null,
           null,
           null,
           null,
           null,
           null,
           null
          ],
          [
           null,
           null,
           null,
           null,
           null,
           null,
           null,
           null,
           null,
           null,
           null,
           null,
           null,
           null,
           null,
           null,
           null,
           null,
           null,
           null,
           null,
           null,
           null,
           null,
           null,
           null,
           null,
           null,
           null,
           null,
           null,
           null,
           null,
           null,
           0.8785,
           null,
           null,
           null
          ],
          [
           null,
           null,
           null,
           null,
           null,
           null,
           null,
           null,
           null,
           null,
           null,
           null,
           null,
           null,
           0.8746,
           null,
           null,
           null,
           null,
           null,
           null,
           null,
           null,
           null,
           null,
           null,
           null,
           null,
           null,
           null,
           null,
           null,
           null,
           null,
           null,
           null,
           null,
           null
          ],
          [
           null,
           null,
           null,
           null,
           null,
           null,
           null,
           null,
           null,
           null,
           null,
           null,
           null,
           null,
           null,
           null,
           null,
           null,
           null,
           null,
           null,
           null,
           null,
           null,
           null,
           null,
           null,
           null,
           null,
           null,
           null,
           null,
           null,
           null,
           null,
           null,
           null,
           null
          ],
          [
           null,
           null,
           null,
           null,
           null,
           null,
           null,
           null,
           null,
           null,
           null,
           null,
           null,
           null,
           null,
           null,
           null,
           null,
           null,
           null,
           null,
           null,
           null,
           null,
           null,
           null,
           null,
           null,
           null,
           null,
           null,
           0.8793,
           null,
           null,
           null,
           null,
           null,
           null
          ],
          [
           null,
           null,
           null,
           null,
           null,
           null,
           null,
           null,
           null,
           null,
           null,
           null,
           null,
           null,
           null,
           null,
           null,
           null,
           null,
           null,
           null,
           null,
           null,
           null,
           null,
           null,
           null,
           null,
           null,
           null,
           null,
           null,
           0.8793,
           null,
           null,
           null,
           null,
           null
          ],
          [
           null,
           null,
           null,
           null,
           null,
           null,
           null,
           null,
           null,
           null,
           null,
           null,
           null,
           null,
           null,
           null,
           null,
           null,
           null,
           null,
           null,
           null,
           null,
           null,
           null,
           null,
           null,
           null,
           null,
           null,
           null,
           null,
           null,
           null,
           null,
           null,
           0.8783,
           null
          ],
          [
           null,
           null,
           null,
           null,
           null,
           null,
           null,
           null,
           null,
           null,
           null,
           null,
           null,
           null,
           null,
           null,
           null,
           null,
           null,
           null,
           null,
           null,
           null,
           null,
           null,
           null,
           null,
           null,
           null,
           null,
           null,
           null,
           null,
           null,
           null,
           null,
           null,
           null
          ],
          [
           null,
           null,
           null,
           null,
           null,
           null,
           0.8781,
           null,
           null,
           null,
           null,
           null,
           null,
           null,
           null,
           null,
           null,
           null,
           null,
           null,
           null,
           null,
           null,
           null,
           null,
           null,
           null,
           null,
           null,
           null,
           null,
           null,
           null,
           null,
           null,
           null,
           null,
           null
          ],
          [
           null,
           null,
           null,
           null,
           null,
           null,
           null,
           null,
           null,
           null,
           null,
           null,
           null,
           null,
           null,
           null,
           null,
           null,
           null,
           null,
           null,
           null,
           null,
           null,
           null,
           null,
           null,
           null,
           null,
           null,
           null,
           null,
           null,
           null,
           null,
           null,
           null,
           null
          ],
          [
           null,
           null,
           null,
           null,
           null,
           null,
           null,
           null,
           null,
           null,
           null,
           null,
           null,
           null,
           null,
           0.8792,
           null,
           null,
           null,
           null,
           null,
           null,
           null,
           null,
           null,
           null,
           null,
           null,
           null,
           null,
           null,
           null,
           null,
           null,
           null,
           null,
           null,
           null
          ],
          [
           null,
           null,
           null,
           null,
           null,
           null,
           null,
           null,
           null,
           null,
           null,
           null,
           null,
           null,
           null,
           null,
           null,
           null,
           null,
           null,
           null,
           null,
           null,
           null,
           null,
           null,
           null,
           null,
           null,
           null,
           null,
           null,
           null,
           null,
           null,
           0.8801,
           null,
           null
          ],
          [
           null,
           null,
           0.8659,
           null,
           null,
           null,
           null,
           null,
           null,
           null,
           null,
           null,
           null,
           null,
           null,
           null,
           null,
           null,
           null,
           null,
           null,
           null,
           null,
           null,
           null,
           null,
           null,
           null,
           null,
           null,
           null,
           null,
           null,
           null,
           null,
           null,
           null,
           null
          ],
          [
           null,
           null,
           null,
           null,
           null,
           null,
           null,
           null,
           null,
           null,
           null,
           null,
           null,
           null,
           null,
           null,
           null,
           null,
           null,
           null,
           null,
           null,
           null,
           null,
           null,
           null,
           null,
           null,
           0.8788,
           null,
           null,
           null,
           null,
           null,
           null,
           null,
           null,
           null
          ],
          [
           null,
           null,
           null,
           null,
           null,
           null,
           null,
           null,
           null,
           null,
           null,
           null,
           null,
           null,
           null,
           null,
           null,
           null,
           null,
           null,
           null,
           null,
           null,
           null,
           null,
           null,
           0.873,
           null,
           null,
           null,
           null,
           null,
           null,
           null,
           null,
           null,
           null,
           null
          ],
          [
           null,
           null,
           null,
           null,
           null,
           null,
           null,
           null,
           null,
           null,
           null,
           null,
           null,
           null,
           null,
           null,
           null,
           null,
           null,
           null,
           null,
           null,
           null,
           null,
           null,
           null,
           null,
           null,
           null,
           null,
           null,
           null,
           null,
           null,
           null,
           null,
           null,
           null
          ],
          [
           null,
           null,
           null,
           null,
           null,
           null,
           null,
           null,
           null,
           null,
           null,
           null,
           null,
           null,
           null,
           null,
           null,
           null,
           null,
           0.8805,
           null,
           null,
           null,
           null,
           null,
           null,
           null,
           null,
           null,
           null,
           null,
           null,
           null,
           null,
           null,
           null,
           null,
           null
          ],
          [
           null,
           null,
           null,
           null,
           null,
           null,
           null,
           null,
           null,
           null,
           null,
           null,
           null,
           null,
           null,
           null,
           null,
           null,
           null,
           null,
           null,
           null,
           null,
           null,
           null,
           null,
           null,
           null,
           null,
           null,
           null,
           0.8803,
           null,
           null,
           null,
           null,
           null,
           null
          ],
          [
           null,
           null,
           null,
           null,
           null,
           null,
           null,
           null,
           0.8815,
           null,
           null,
           null,
           null,
           null,
           null,
           null,
           null,
           null,
           null,
           null,
           null,
           null,
           null,
           null,
           null,
           null,
           null,
           null,
           null,
           null,
           null,
           null,
           null,
           null,
           null,
           null,
           null,
           null
          ],
          [
           null,
           null,
           null,
           null,
           null,
           null,
           null,
           null,
           null,
           null,
           null,
           null,
           null,
           0.8728,
           null,
           null,
           null,
           null,
           null,
           null,
           null,
           null,
           null,
           null,
           null,
           null,
           null,
           null,
           null,
           null,
           null,
           null,
           null,
           null,
           null,
           null,
           null,
           null
          ],
          [
           null,
           null,
           null,
           0.8733,
           null,
           null,
           null,
           null,
           null,
           null,
           null,
           null,
           null,
           null,
           null,
           null,
           null,
           null,
           null,
           null,
           null,
           null,
           null,
           null,
           null,
           null,
           null,
           null,
           null,
           null,
           null,
           null,
           null,
           null,
           null,
           null,
           null,
           null
          ],
          [
           null,
           null,
           null,
           null,
           null,
           null,
           null,
           null,
           null,
           null,
           null,
           null,
           null,
           null,
           null,
           null,
           null,
           null,
           null,
           null,
           null,
           null,
           null,
           0.8741,
           null,
           null,
           null,
           null,
           null,
           null,
           null,
           null,
           null,
           null,
           null,
           null,
           null,
           null
          ],
          [
           null,
           null,
           null,
           null,
           null,
           null,
           null,
           null,
           null,
           null,
           null,
           null,
           null,
           null,
           null,
           null,
           null,
           null,
           null,
           null,
           null,
           null,
           null,
           0.8779,
           null,
           null,
           null,
           null,
           null,
           null,
           null,
           null,
           null,
           null,
           null,
           null,
           null,
           null
          ],
          [
           null,
           null,
           null,
           null,
           null,
           null,
           null,
           null,
           null,
           null,
           null,
           null,
           null,
           null,
           null,
           null,
           null,
           null,
           null,
           null,
           null,
           null,
           0.87,
           null,
           null,
           null,
           null,
           null,
           null,
           null,
           null,
           null,
           null,
           null,
           null,
           null,
           null,
           null
          ],
          [
           null,
           null,
           null,
           null,
           null,
           null,
           null,
           null,
           null,
           null,
           null,
           null,
           null,
           null,
           null,
           null,
           null,
           null,
           null,
           null,
           null,
           null,
           null,
           null,
           0.8772,
           null,
           null,
           null,
           null,
           null,
           null,
           null,
           null,
           null,
           null,
           null,
           null,
           null
          ],
          [
           null,
           null,
           null,
           null,
           null,
           null,
           null,
           null,
           null,
           null,
           null,
           null,
           null,
           null,
           null,
           null,
           null,
           null,
           null,
           null,
           null,
           null,
           null,
           null,
           null,
           null,
           null,
           null,
           null,
           null,
           null,
           null,
           null,
           null,
           null,
           null,
           null,
           null
          ],
          [
           null,
           null,
           null,
           null,
           null,
           null,
           null,
           null,
           null,
           null,
           null,
           null,
           null,
           null,
           null,
           null,
           null,
           null,
           null,
           null,
           null,
           null,
           null,
           0.8744,
           null,
           null,
           null,
           null,
           null,
           null,
           null,
           null,
           null,
           null,
           null,
           null,
           null,
           null
          ],
          [
           null,
           null,
           null,
           null,
           null,
           null,
           null,
           null,
           null,
           null,
           0.8811,
           null,
           null,
           null,
           null,
           null,
           null,
           null,
           null,
           null,
           null,
           null,
           null,
           null,
           null,
           null,
           null,
           null,
           null,
           null,
           null,
           null,
           null,
           null,
           null,
           null,
           null,
           null
          ],
          [
           null,
           null,
           null,
           null,
           null,
           null,
           null,
           null,
           null,
           null,
           null,
           null,
           null,
           null,
           null,
           null,
           null,
           0.8786,
           null,
           null,
           null,
           null,
           null,
           null,
           null,
           null,
           null,
           null,
           null,
           null,
           null,
           null,
           null,
           null,
           null,
           null,
           null,
           null
          ],
          [
           null,
           null,
           null,
           null,
           null,
           null,
           null,
           null,
           null,
           null,
           null,
           null,
           null,
           null,
           null,
           null,
           null,
           null,
           null,
           null,
           null,
           null,
           null,
           null,
           null,
           null,
           null,
           null,
           null,
           null,
           null,
           null,
           null,
           null,
           null,
           null,
           null,
           null
          ],
          [
           null,
           null,
           null,
           null,
           null,
           0.8778,
           null,
           null,
           null,
           null,
           null,
           null,
           null,
           null,
           null,
           null,
           null,
           null,
           null,
           null,
           null,
           null,
           null,
           null,
           null,
           null,
           null,
           null,
           null,
           null,
           null,
           null,
           null,
           null,
           null,
           null,
           null,
           null
          ],
          [
           null,
           null,
           null,
           null,
           null,
           null,
           null,
           0.8758,
           null,
           null,
           null,
           null,
           null,
           null,
           null,
           null,
           null,
           null,
           null,
           null,
           null,
           null,
           null,
           null,
           null,
           null,
           null,
           null,
           null,
           null,
           null,
           null,
           null,
           null,
           null,
           null,
           null,
           null
          ],
          [
           null,
           null,
           null,
           null,
           null,
           null,
           null,
           null,
           null,
           0.873,
           null,
           null,
           null,
           null,
           null,
           null,
           null,
           null,
           null,
           null,
           null,
           null,
           null,
           null,
           null,
           null,
           null,
           null,
           null,
           null,
           null,
           null,
           null,
           null,
           null,
           null,
           null,
           null
          ],
          [
           null,
           null,
           null,
           null,
           null,
           null,
           null,
           null,
           null,
           null,
           null,
           null,
           null,
           null,
           null,
           null,
           null,
           null,
           null,
           null,
           null,
           null,
           null,
           null,
           null,
           null,
           null,
           null,
           null,
           null,
           null,
           null,
           null,
           null,
           null,
           null,
           null,
           null
          ],
          [
           null,
           null,
           null,
           null,
           null,
           null,
           null,
           null,
           null,
           null,
           null,
           null,
           null,
           null,
           null,
           null,
           null,
           null,
           null,
           null,
           null,
           null,
           null,
           null,
           null,
           null,
           null,
           null,
           null,
           null,
           null,
           null,
           null,
           null,
           null,
           null,
           null,
           null
          ],
          [
           null,
           null,
           null,
           null,
           null,
           null,
           null,
           null,
           null,
           null,
           null,
           null,
           null,
           null,
           null,
           null,
           null,
           null,
           null,
           null,
           null,
           null,
           null,
           null,
           null,
           null,
           null,
           null,
           null,
           null,
           null,
           null,
           null,
           null,
           null,
           null,
           null,
           null
          ],
          [
           null,
           null,
           null,
           null,
           null,
           null,
           null,
           null,
           null,
           null,
           null,
           null,
           null,
           null,
           null,
           null,
           null,
           null,
           null,
           null,
           null,
           null,
           null,
           null,
           null,
           null,
           null,
           null,
           null,
           null,
           null,
           null,
           null,
           null,
           null,
           null,
           null,
           null
          ],
          [
           null,
           null,
           null,
           null,
           null,
           null,
           null,
           null,
           null,
           null,
           null,
           null,
           null,
           null,
           null,
           null,
           null,
           null,
           null,
           null,
           null,
           null,
           null,
           null,
           null,
           null,
           null,
           null,
           null,
           null,
           null,
           null,
           null,
           null,
           null,
           null,
           null,
           null
          ]
         ]
        },
        {
         "marker": {
          "color": "black",
          "line": {
           "color": "Grey",
           "width": 2
          }
         },
         "mode": "markers",
         "showlegend": false,
         "type": "scatter",
         "x": [
          127,
          92,
          105,
          91,
          84,
          10,
          22,
          52,
          64,
          14,
          16,
          30,
          37,
          28,
          31,
          36,
          45,
          46,
          35,
          85,
          50,
          99,
          113,
          99,
          101,
          79,
          98,
          99,
          108,
          106,
          107,
          109,
          117,
          118,
          117,
          108,
          129,
          63,
          161,
          154
         ],
         "xaxis": "x10",
         "y": [
          0.00010304276838080714,
          0.0007318474839444056,
          0.005113767556783974,
          0.0008851099503370642,
          0.0007335202102024708,
          0.005356488570376725,
          0.005111216837452078,
          0.00799729648496317,
          0.005283968285379495,
          0.009204642568755533,
          0.011536014212655226,
          0.008534797952559592,
          0.012699854107899934,
          0.01323377952238283,
          0.014825217760804905,
          0.014971252242458943,
          0.0073894661941148725,
          0.0063881601499668145,
          0.01039400755371694,
          0.010014857826559235,
          0.010593912232359115,
          0.012397719194273307,
          0.005956133364604813,
          0.011666611834733347,
          0.012313188504684307,
          0.012763495827976118,
          0.012134366954537306,
          0.011589412713603905,
          0.009289913441378833,
          0.00947473091173592,
          0.0077044536807523815,
          0.007300630044708924,
          0.010385424372005988,
          0.008315749501463222,
          0.008220383972921816,
          0.007382675520322863,
          0.0077463265016339015,
          0.008824948586059728,
          0.008469115913671214,
          0.009006451536771114
         ],
         "yaxis": "y10"
        },
        {
         "colorbar": {
          "title": {
           "text": "Objective Value"
          }
         },
         "colorscale": [
          [
           0,
           "rgb(247,251,255)"
          ],
          [
           0.125,
           "rgb(222,235,247)"
          ],
          [
           0.25,
           "rgb(198,219,239)"
          ],
          [
           0.375,
           "rgb(158,202,225)"
          ],
          [
           0.5,
           "rgb(107,174,214)"
          ],
          [
           0.625,
           "rgb(66,146,198)"
          ],
          [
           0.75,
           "rgb(33,113,181)"
          ],
          [
           0.875,
           "rgb(8,81,156)"
          ],
          [
           1,
           "rgb(8,48,107)"
          ]
         ],
         "connectgaps": true,
         "contours": {
          "coloring": "heatmap"
         },
         "hoverinfo": "none",
         "line": {
          "smoothing": 1.3
         },
         "reversescale": false,
         "showscale": false,
         "type": "contour",
         "x": [
          2.4499999999999993,
          10,
          14,
          16,
          22,
          28,
          30,
          31,
          35,
          36,
          37,
          45,
          46,
          50,
          52,
          63,
          64,
          79,
          84,
          85,
          91,
          92,
          98,
          99,
          101,
          105,
          106,
          107,
          108,
          109,
          113,
          117,
          118,
          127,
          129,
          154,
          161,
          168.55
         ],
         "xaxis": "x15",
         "y": [
          0.9,
          1,
          2,
          3,
          3.1
         ],
         "yaxis": "y15",
         "z": [
          [
           null,
           null,
           null,
           null,
           null,
           null,
           null,
           null,
           null,
           null,
           null,
           null,
           null,
           null,
           null,
           null,
           null,
           null,
           null,
           null,
           null,
           null,
           null,
           null,
           null,
           null,
           null,
           null,
           null,
           null,
           null,
           null,
           null,
           null,
           null,
           null,
           null,
           null
          ],
          [
           null,
           null,
           null,
           null,
           null,
           null,
           null,
           null,
           null,
           null,
           null,
           null,
           null,
           null,
           null,
           null,
           null,
           null,
           null,
           null,
           null,
           null,
           null,
           null,
           null,
           null,
           null,
           null,
           null,
           null,
           null,
           null,
           null,
           null,
           null,
           null,
           null,
           null
          ],
          [
           null,
           0.8638,
           0.8659,
           0.8733,
           0.8765,
           0.8778,
           0.8781,
           0.8758,
           0.8815,
           0.873,
           0.8811,
           0.8758,
           0.8698,
           0.8728,
           0.8746,
           0.8792,
           0.8759,
           0.8786,
           0.8681,
           0.8805,
           0.869,
           null,
           0.87,
           0.8741,
           0.8772,
           null,
           0.873,
           0.8817,
           0.8785,
           0.8785,
           0.8799,
           0.8793,
           0.8793,
           null,
           0.8785,
           0.8801,
           0.8783,
           null
          ],
          [
           null,
           null,
           null,
           null,
           null,
           null,
           null,
           null,
           null,
           null,
           null,
           null,
           null,
           null,
           null,
           null,
           null,
           null,
           null,
           null,
           null,
           0.8551,
           null,
           null,
           null,
           0.846,
           null,
           null,
           null,
           null,
           null,
           null,
           null,
           0.8095,
           null,
           null,
           null,
           null
          ],
          [
           null,
           null,
           null,
           null,
           null,
           null,
           null,
           null,
           null,
           null,
           null,
           null,
           null,
           null,
           null,
           null,
           null,
           null,
           null,
           null,
           null,
           null,
           null,
           null,
           null,
           null,
           null,
           null,
           null,
           null,
           null,
           null,
           null,
           null,
           null,
           null,
           null,
           null
          ]
         ]
        },
        {
         "marker": {
          "color": "black",
          "line": {
           "color": "Grey",
           "width": 2
          }
         },
         "mode": "markers",
         "showlegend": false,
         "type": "scatter",
         "x": [
          127,
          92,
          105,
          91,
          84,
          10,
          22,
          52,
          64,
          14,
          16,
          30,
          37,
          28,
          31,
          36,
          45,
          46,
          35,
          85,
          50,
          99,
          113,
          99,
          101,
          79,
          98,
          99,
          108,
          106,
          107,
          109,
          117,
          118,
          117,
          108,
          129,
          63,
          161,
          154
         ],
         "xaxis": "x15",
         "y": [
          3,
          3,
          3,
          2,
          2,
          2,
          2,
          2,
          2,
          2,
          2,
          2,
          2,
          2,
          2,
          2,
          2,
          2,
          2,
          2,
          2,
          2,
          2,
          2,
          2,
          2,
          2,
          2,
          2,
          2,
          2,
          2,
          2,
          2,
          2,
          2,
          2,
          2,
          2,
          2
         ],
         "yaxis": "y15"
        },
        {
         "colorbar": {
          "title": {
           "text": "Objective Value"
          }
         },
         "colorscale": [
          [
           0,
           "rgb(247,251,255)"
          ],
          [
           0.125,
           "rgb(222,235,247)"
          ],
          [
           0.25,
           "rgb(198,219,239)"
          ],
          [
           0.375,
           "rgb(158,202,225)"
          ],
          [
           0.5,
           "rgb(107,174,214)"
          ],
          [
           0.625,
           "rgb(66,146,198)"
          ],
          [
           0.75,
           "rgb(33,113,181)"
          ],
          [
           0.875,
           "rgb(8,81,156)"
          ],
          [
           1,
           "rgb(8,48,107)"
          ]
         ],
         "connectgaps": true,
         "contours": {
          "coloring": "heatmap"
         },
         "hoverinfo": "none",
         "line": {
          "smoothing": 1.3
         },
         "reversescale": false,
         "showscale": false,
         "type": "contour",
         "x": [
          2.4499999999999993,
          10,
          14,
          16,
          22,
          28,
          30,
          31,
          35,
          36,
          37,
          45,
          46,
          50,
          52,
          63,
          64,
          79,
          84,
          85,
          91,
          92,
          98,
          99,
          101,
          105,
          106,
          107,
          108,
          109,
          113,
          117,
          118,
          127,
          129,
          154,
          161,
          168.55
         ],
         "xaxis": "x20",
         "y": [
          81.6,
          93,
          95,
          107,
          123,
          130,
          131,
          134,
          135,
          139,
          144,
          145,
          147,
          149,
          150,
          151,
          152,
          153,
          156,
          157,
          159,
          161,
          163,
          166,
          167,
          174,
          185,
          191,
          195,
          201,
          202,
          205,
          207,
          210,
          228,
          231,
          233,
          236,
          244,
          256,
          298,
          303,
          305,
          309,
          321,
          332.4
         ],
         "yaxis": "y20",
         "z": [
          [
           null,
           null,
           null,
           null,
           null,
           null,
           null,
           null,
           null,
           null,
           null,
           null,
           null,
           null,
           null,
           null,
           null,
           null,
           null,
           null,
           null,
           null,
           null,
           null,
           null,
           null,
           null,
           null,
           null,
           null,
           null,
           null,
           null,
           null,
           null,
           null,
           null,
           null
          ],
          [
           null,
           null,
           null,
           null,
           null,
           null,
           null,
           null,
           null,
           null,
           null,
           null,
           null,
           null,
           null,
           null,
           null,
           null,
           null,
           null,
           null,
           null,
           null,
           0.8741,
           null,
           null,
           null,
           null,
           null,
           null,
           null,
           null,
           null,
           null,
           null,
           null,
           null,
           null
          ],
          [
           null,
           null,
           null,
           null,
           null,
           null,
           null,
           null,
           null,
           0.873,
           null,
           null,
           null,
           null,
           null,
           null,
           null,
           null,
           null,
           null,
           null,
           null,
           null,
           null,
           null,
           null,
           null,
           null,
           null,
           null,
           null,
           null,
           null,
           null,
           null,
           null,
           null,
           null
          ],
          [
           null,
           null,
           null,
           null,
           null,
           null,
           null,
           null,
           null,
           null,
           null,
           null,
           null,
           null,
           null,
           null,
           null,
           null,
           null,
           0.8805,
           null,
           null,
           null,
           null,
           null,
           null,
           null,
           null,
           null,
           null,
           null,
           null,
           null,
           null,
           null,
           null,
           null,
           null
          ],
          [
           null,
           null,
           null,
           null,
           null,
           null,
           null,
           null,
           null,
           null,
           null,
           null,
           null,
           null,
           null,
           null,
           null,
           null,
           null,
           null,
           null,
           null,
           null,
           null,
           null,
           null,
           null,
           null,
           null,
           null,
           null,
           null,
           null,
           null,
           null,
           null,
           null,
           null
          ],
          [
           null,
           null,
           null,
           null,
           null,
           null,
           null,
           null,
           null,
           null,
           null,
           null,
           null,
           null,
           null,
           null,
           null,
           0.8786,
           null,
           null,
           null,
           null,
           null,
           null,
           null,
           null,
           null,
           null,
           null,
           null,
           null,
           null,
           null,
           null,
           null,
           null,
           null,
           null
          ],
          [
           null,
           null,
           null,
           null,
           null,
           null,
           null,
           null,
           null,
           null,
           null,
           null,
           null,
           null,
           null,
           null,
           null,
           null,
           null,
           null,
           null,
           null,
           0.87,
           null,
           null,
           null,
           null,
           null,
           null,
           null,
           null,
           null,
           null,
           null,
           null,
           null,
           null,
           null
          ],
          [
           null,
           null,
           null,
           null,
           null,
           null,
           null,
           null,
           null,
           null,
           null,
           null,
           null,
           null,
           null,
           null,
           null,
           null,
           null,
           null,
           null,
           null,
           null,
           null,
           null,
           null,
           null,
           null,
           0.8785,
           null,
           null,
           null,
           null,
           null,
           null,
           null,
           null,
           null
          ],
          [
           null,
           null,
           null,
           null,
           0.8765,
           null,
           null,
           null,
           null,
           null,
           null,
           null,
           null,
           null,
           null,
           null,
           null,
           null,
           null,
           null,
           null,
           null,
           null,
           null,
           null,
           null,
           null,
           null,
           null,
           null,
           null,
           null,
           null,
           null,
           null,
           null,
           null,
           null
          ],
          [
           null,
           null,
           null,
           null,
           null,
           null,
           null,
           null,
           null,
           null,
           null,
           null,
           null,
           null,
           null,
           null,
           null,
           null,
           null,
           null,
           null,
           null,
           null,
           null,
           null,
           null,
           null,
           null,
           null,
           0.8785,
           null,
           null,
           null,
           null,
           null,
           null,
           null,
           null
          ],
          [
           null,
           null,
           null,
           null,
           null,
           0.8778,
           null,
           null,
           null,
           null,
           null,
           null,
           null,
           null,
           null,
           null,
           null,
           null,
           null,
           null,
           null,
           null,
           null,
           null,
           null,
           null,
           null,
           null,
           null,
           null,
           null,
           null,
           null,
           null,
           null,
           null,
           null,
           null
          ],
          [
           null,
           null,
           null,
           null,
           null,
           null,
           null,
           0.8758,
           null,
           null,
           null,
           null,
           null,
           0.8728,
           null,
           null,
           null,
           null,
           null,
           null,
           null,
           null,
           null,
           null,
           null,
           null,
           null,
           null,
           null,
           null,
           null,
           null,
           null,
           null,
           null,
           null,
           null,
           null
          ],
          [
           null,
           null,
           null,
           null,
           null,
           null,
           0.8781,
           null,
           null,
           null,
           null,
           null,
           null,
           null,
           null,
           null,
           null,
           null,
           null,
           null,
           null,
           null,
           null,
           null,
           null,
           null,
           null,
           null,
           null,
           null,
           null,
           null,
           null,
           null,
           null,
           null,
           null,
           null
          ],
          [
           null,
           null,
           null,
           null,
           null,
           null,
           null,
           null,
           null,
           null,
           0.8811,
           null,
           null,
           null,
           null,
           null,
           null,
           null,
           null,
           null,
           null,
           null,
           null,
           null,
           null,
           null,
           null,
           null,
           null,
           null,
           null,
           null,
           null,
           null,
           null,
           null,
           null,
           null
          ],
          [
           null,
           null,
           null,
           null,
           null,
           null,
           null,
           null,
           null,
           null,
           null,
           null,
           null,
           null,
           null,
           null,
           null,
           null,
           null,
           null,
           null,
           null,
           null,
           null,
           null,
           null,
           null,
           null,
           null,
           null,
           null,
           null,
           null,
           null,
           null,
           null,
           null,
           null
          ],
          [
           null,
           null,
           null,
           null,
           null,
           null,
           null,
           null,
           null,
           null,
           null,
           null,
           null,
           null,
           null,
           null,
           null,
           null,
           null,
           null,
           null,
           null,
           null,
           0.8744,
           null,
           null,
           null,
           null,
           null,
           null,
           null,
           null,
           null,
           null,
           null,
           null,
           null,
           null
          ],
          [
           null,
           null,
           null,
           null,
           null,
           null,
           null,
           null,
           null,
           null,
           null,
           null,
           null,
           null,
           null,
           null,
           0.8759,
           null,
           null,
           null,
           null,
           null,
           null,
           null,
           null,
           null,
           null,
           null,
           null,
           null,
           null,
           null,
           null,
           null,
           null,
           null,
           null,
           null
          ],
          [
           null,
           null,
           null,
           null,
           null,
           null,
           null,
           null,
           null,
           null,
           null,
           null,
           null,
           null,
           null,
           null,
           null,
           null,
           null,
           null,
           null,
           null,
           null,
           0.8779,
           null,
           null,
           null,
           null,
           null,
           null,
           null,
           null,
           null,
           null,
           null,
           null,
           null,
           null
          ],
          [
           null,
           null,
           null,
           null,
           null,
           null,
           null,
           null,
           null,
           null,
           null,
           null,
           null,
           null,
           null,
           null,
           null,
           null,
           null,
           null,
           null,
           null,
           null,
           null,
           null,
           null,
           null,
           null,
           null,
           null,
           null,
           null,
           null,
           null,
           null,
           null,
           null,
           null
          ],
          [
           null,
           null,
           null,
           null,
           null,
           null,
           null,
           null,
           null,
           null,
           null,
           null,
           null,
           null,
           null,
           null,
           null,
           null,
           null,
           null,
           null,
           null,
           null,
           null,
           null,
           null,
           null,
           null,
           null,
           null,
           0.8799,
           null,
           null,
           null,
           null,
           null,
           null,
           null
          ],
          [
           null,
           null,
           null,
           0.8733,
           null,
           null,
           null,
           null,
           null,
           null,
           null,
           null,
           null,
           null,
           null,
           null,
           null,
           null,
           null,
           null,
           null,
           null,
           null,
           null,
           null,
           null,
           0.873,
           null,
           null,
           null,
           null,
           null,
           null,
           null,
           null,
           null,
           null,
           null
          ],
          [
           null,
           null,
           0.8659,
           null,
           null,
           null,
           null,
           null,
           null,
           null,
           null,
           null,
           null,
           null,
           null,
           null,
           null,
           null,
           null,
           null,
           null,
           null,
           null,
           null,
           null,
           null,
           null,
           null,
           0.8788,
           null,
           null,
           null,
           null,
           null,
           null,
           null,
           null,
           null
          ],
          [
           null,
           null,
           null,
           null,
           null,
           null,
           null,
           null,
           0.8815,
           null,
           null,
           null,
           null,
           null,
           null,
           null,
           null,
           null,
           null,
           null,
           null,
           null,
           null,
           null,
           null,
           null,
           null,
           null,
           null,
           null,
           null,
           null,
           null,
           null,
           null,
           null,
           null,
           null
          ],
          [
           null,
           null,
           null,
           null,
           null,
           null,
           null,
           null,
           null,
           null,
           null,
           0.8758,
           0.8698,
           null,
           null,
           null,
           null,
           null,
           null,
           null,
           null,
           null,
           null,
           null,
           null,
           null,
           null,
           null,
           null,
           null,
           null,
           null,
           null,
           null,
           null,
           null,
           null,
           null
          ],
          [
           null,
           null,
           null,
           null,
           null,
           null,
           null,
           null,
           null,
           null,
           null,
           null,
           null,
           null,
           null,
           null,
           null,
           null,
           null,
           null,
           null,
           null,
           null,
           null,
           null,
           null,
           null,
           null,
           null,
           null,
           null,
           null,
           0.8793,
           null,
           null,
           null,
           null,
           null
          ],
          [
           null,
           null,
           null,
           null,
           null,
           null,
           null,
           null,
           null,
           null,
           null,
           null,
           null,
           null,
           null,
           null,
           null,
           null,
           null,
           null,
           null,
           0.8551,
           null,
           null,
           null,
           null,
           null,
           0.8817,
           null,
           null,
           null,
           null,
           null,
           null,
           null,
           null,
           null,
           null
          ],
          [
           null,
           null,
           null,
           null,
           null,
           null,
           null,
           null,
           null,
           null,
           null,
           null,
           null,
           null,
           null,
           null,
           null,
           null,
           null,
           null,
           null,
           null,
           null,
           null,
           0.8772,
           null,
           null,
           null,
           null,
           null,
           null,
           null,
           null,
           null,
           null,
           null,
           null,
           null
          ],
          [
           null,
           null,
           null,
           null,
           null,
           null,
           null,
           null,
           null,
           null,
           null,
           null,
           null,
           null,
           null,
           null,
           null,
           null,
           null,
           null,
           null,
           null,
           null,
           null,
           null,
           0.846,
           null,
           null,
           null,
           null,
           null,
           null,
           null,
           null,
           null,
           null,
           null,
           null
          ],
          [
           null,
           null,
           null,
           null,
           null,
           null,
           null,
           null,
           null,
           null,
           null,
           null,
           null,
           null,
           null,
           null,
           null,
           null,
           null,
           null,
           null,
           null,
           null,
           null,
           null,
           null,
           null,
           null,
           null,
           null,
           null,
           null,
           null,
           null,
           0.8785,
           null,
           null,
           null
          ],
          [
           null,
           null,
           null,
           null,
           null,
           null,
           null,
           null,
           null,
           null,
           null,
           null,
           null,
           null,
           null,
           null,
           null,
           null,
           null,
           null,
           null,
           null,
           null,
           null,
           null,
           null,
           null,
           null,
           null,
           null,
           null,
           null,
           null,
           null,
           null,
           null,
           null,
           null
          ],
          [
           null,
           null,
           null,
           null,
           null,
           null,
           null,
           null,
           null,
           null,
           null,
           null,
           null,
           null,
           null,
           null,
           null,
           null,
           null,
           null,
           null,
           null,
           null,
           null,
           null,
           null,
           null,
           null,
           null,
           null,
           null,
           null,
           null,
           null,
           null,
           null,
           null,
           null
          ],
          [
           null,
           null,
           null,
           null,
           null,
           null,
           null,
           null,
           null,
           null,
           null,
           null,
           null,
           null,
           null,
           null,
           null,
           null,
           null,
           null,
           null,
           null,
           null,
           null,
           null,
           null,
           null,
           null,
           null,
           null,
           null,
           null,
           null,
           null,
           null,
           null,
           null,
           null
          ],
          [
           null,
           null,
           null,
           null,
           null,
           null,
           null,
           null,
           null,
           null,
           null,
           null,
           null,
           null,
           null,
           null,
           null,
           null,
           null,
           null,
           null,
           null,
           null,
           null,
           null,
           null,
           null,
           null,
           null,
           null,
           null,
           null,
           null,
           null,
           null,
           null,
           null,
           null
          ],
          [
           null,
           null,
           null,
           null,
           null,
           null,
           null,
           null,
           null,
           null,
           null,
           null,
           null,
           null,
           null,
           null,
           null,
           null,
           null,
           null,
           null,
           null,
           null,
           null,
           null,
           null,
           null,
           null,
           null,
           null,
           null,
           0.8793,
           null,
           null,
           null,
           null,
           null,
           null
          ],
          [
           null,
           0.8638,
           null,
           null,
           null,
           null,
           null,
           null,
           null,
           null,
           null,
           null,
           null,
           null,
           null,
           null,
           null,
           null,
           null,
           null,
           null,
           null,
           null,
           null,
           null,
           null,
           null,
           null,
           null,
           null,
           null,
           null,
           null,
           null,
           null,
           null,
           null,
           null
          ],
          [
           null,
           null,
           null,
           null,
           null,
           null,
           null,
           null,
           null,
           null,
           null,
           null,
           null,
           null,
           null,
           null,
           null,
           null,
           null,
           null,
           0.869,
           null,
           null,
           null,
           null,
           null,
           null,
           null,
           null,
           null,
           null,
           null,
           null,
           null,
           null,
           null,
           null,
           null
          ],
          [
           null,
           null,
           null,
           null,
           null,
           null,
           null,
           null,
           null,
           null,
           null,
           null,
           null,
           null,
           null,
           null,
           null,
           null,
           null,
           null,
           null,
           null,
           null,
           null,
           null,
           null,
           null,
           null,
           null,
           null,
           null,
           null,
           null,
           0.8095,
           null,
           null,
           null,
           null
          ],
          [
           null,
           null,
           null,
           null,
           null,
           null,
           null,
           null,
           null,
           null,
           null,
           null,
           null,
           null,
           null,
           0.8792,
           null,
           null,
           null,
           null,
           null,
           null,
           null,
           null,
           null,
           null,
           null,
           null,
           null,
           null,
           null,
           null,
           null,
           null,
           null,
           null,
           null,
           null
          ],
          [
           null,
           null,
           null,
           null,
           null,
           null,
           null,
           null,
           null,
           null,
           null,
           null,
           null,
           null,
           null,
           null,
           null,
           null,
           null,
           null,
           null,
           null,
           null,
           null,
           null,
           null,
           null,
           null,
           null,
           null,
           null,
           null,
           null,
           null,
           null,
           null,
           null,
           null
          ],
          [
           null,
           null,
           null,
           null,
           null,
           null,
           null,
           null,
           null,
           null,
           null,
           null,
           null,
           null,
           null,
           null,
           null,
           null,
           null,
           null,
           null,
           null,
           null,
           null,
           null,
           null,
           null,
           null,
           null,
           null,
           null,
           null,
           null,
           null,
           null,
           null,
           null,
           null
          ],
          [
           null,
           null,
           null,
           null,
           null,
           null,
           null,
           null,
           null,
           null,
           null,
           null,
           null,
           null,
           null,
           null,
           null,
           null,
           null,
           null,
           null,
           null,
           null,
           null,
           null,
           null,
           null,
           null,
           null,
           null,
           null,
           null,
           null,
           null,
           null,
           null,
           null,
           null
          ],
          [
           null,
           null,
           null,
           null,
           null,
           null,
           null,
           null,
           null,
           null,
           null,
           null,
           null,
           null,
           null,
           null,
           null,
           null,
           null,
           null,
           null,
           null,
           null,
           null,
           null,
           null,
           null,
           null,
           null,
           null,
           null,
           null,
           null,
           null,
           null,
           null,
           0.8783,
           null
          ],
          [
           null,
           null,
           null,
           null,
           null,
           null,
           null,
           null,
           null,
           null,
           null,
           null,
           null,
           null,
           null,
           null,
           null,
           null,
           0.8681,
           null,
           null,
           null,
           null,
           null,
           null,
           null,
           null,
           null,
           null,
           null,
           null,
           null,
           null,
           null,
           null,
           null,
           null,
           null
          ],
          [
           null,
           null,
           null,
           null,
           null,
           null,
           null,
           null,
           null,
           null,
           null,
           null,
           null,
           null,
           null,
           null,
           null,
           null,
           null,
           null,
           null,
           null,
           null,
           null,
           null,
           null,
           null,
           null,
           null,
           null,
           null,
           null,
           null,
           null,
           null,
           0.8801,
           null,
           null
          ],
          [
           null,
           null,
           null,
           null,
           null,
           null,
           null,
           null,
           null,
           null,
           null,
           null,
           null,
           null,
           0.8746,
           null,
           null,
           null,
           null,
           null,
           null,
           null,
           null,
           null,
           null,
           null,
           null,
           null,
           null,
           null,
           null,
           null,
           null,
           null,
           null,
           null,
           null,
           null
          ],
          [
           null,
           null,
           null,
           null,
           null,
           null,
           null,
           null,
           null,
           null,
           null,
           null,
           null,
           null,
           null,
           null,
           null,
           null,
           null,
           null,
           null,
           null,
           null,
           null,
           null,
           null,
           null,
           null,
           null,
           null,
           null,
           null,
           null,
           null,
           null,
           null,
           null,
           null
          ]
         ]
        },
        {
         "marker": {
          "color": "black",
          "line": {
           "color": "Grey",
           "width": 2
          }
         },
         "mode": "markers",
         "showlegend": false,
         "type": "scatter",
         "x": [
          127,
          92,
          105,
          91,
          84,
          10,
          22,
          52,
          64,
          14,
          16,
          30,
          37,
          28,
          31,
          36,
          45,
          46,
          35,
          85,
          50,
          99,
          113,
          99,
          101,
          79,
          98,
          99,
          108,
          106,
          107,
          109,
          117,
          118,
          117,
          108,
          129,
          63,
          161,
          154
         ],
         "xaxis": "x20",
         "y": [
          233,
          174,
          191,
          231,
          305,
          228,
          135,
          321,
          152,
          161,
          159,
          147,
          149,
          144,
          145,
          95,
          166,
          166,
          163,
          107,
          145,
          151,
          157,
          153,
          185,
          130,
          131,
          93,
          161,
          159,
          174,
          139,
          210,
          167,
          210,
          134,
          195,
          236,
          303,
          309
         ],
         "yaxis": "y20"
        },
        {
         "type": "scatter",
         "xaxis": "x25",
         "yaxis": "y25"
        }
       ],
       "layout": {
        "template": {
         "data": {
          "bar": [
           {
            "error_x": {
             "color": "#2a3f5f"
            },
            "error_y": {
             "color": "#2a3f5f"
            },
            "marker": {
             "line": {
              "color": "#E5ECF6",
              "width": 0.5
             },
             "pattern": {
              "fillmode": "overlay",
              "size": 10,
              "solidity": 0.2
             }
            },
            "type": "bar"
           }
          ],
          "barpolar": [
           {
            "marker": {
             "line": {
              "color": "#E5ECF6",
              "width": 0.5
             },
             "pattern": {
              "fillmode": "overlay",
              "size": 10,
              "solidity": 0.2
             }
            },
            "type": "barpolar"
           }
          ],
          "carpet": [
           {
            "aaxis": {
             "endlinecolor": "#2a3f5f",
             "gridcolor": "white",
             "linecolor": "white",
             "minorgridcolor": "white",
             "startlinecolor": "#2a3f5f"
            },
            "baxis": {
             "endlinecolor": "#2a3f5f",
             "gridcolor": "white",
             "linecolor": "white",
             "minorgridcolor": "white",
             "startlinecolor": "#2a3f5f"
            },
            "type": "carpet"
           }
          ],
          "choropleth": [
           {
            "colorbar": {
             "outlinewidth": 0,
             "ticks": ""
            },
            "type": "choropleth"
           }
          ],
          "contour": [
           {
            "colorbar": {
             "outlinewidth": 0,
             "ticks": ""
            },
            "colorscale": [
             [
              0,
              "#0d0887"
             ],
             [
              0.1111111111111111,
              "#46039f"
             ],
             [
              0.2222222222222222,
              "#7201a8"
             ],
             [
              0.3333333333333333,
              "#9c179e"
             ],
             [
              0.4444444444444444,
              "#bd3786"
             ],
             [
              0.5555555555555556,
              "#d8576b"
             ],
             [
              0.6666666666666666,
              "#ed7953"
             ],
             [
              0.7777777777777778,
              "#fb9f3a"
             ],
             [
              0.8888888888888888,
              "#fdca26"
             ],
             [
              1,
              "#f0f921"
             ]
            ],
            "type": "contour"
           }
          ],
          "contourcarpet": [
           {
            "colorbar": {
             "outlinewidth": 0,
             "ticks": ""
            },
            "type": "contourcarpet"
           }
          ],
          "heatmap": [
           {
            "colorbar": {
             "outlinewidth": 0,
             "ticks": ""
            },
            "colorscale": [
             [
              0,
              "#0d0887"
             ],
             [
              0.1111111111111111,
              "#46039f"
             ],
             [
              0.2222222222222222,
              "#7201a8"
             ],
             [
              0.3333333333333333,
              "#9c179e"
             ],
             [
              0.4444444444444444,
              "#bd3786"
             ],
             [
              0.5555555555555556,
              "#d8576b"
             ],
             [
              0.6666666666666666,
              "#ed7953"
             ],
             [
              0.7777777777777778,
              "#fb9f3a"
             ],
             [
              0.8888888888888888,
              "#fdca26"
             ],
             [
              1,
              "#f0f921"
             ]
            ],
            "type": "heatmap"
           }
          ],
          "heatmapgl": [
           {
            "colorbar": {
             "outlinewidth": 0,
             "ticks": ""
            },
            "colorscale": [
             [
              0,
              "#0d0887"
             ],
             [
              0.1111111111111111,
              "#46039f"
             ],
             [
              0.2222222222222222,
              "#7201a8"
             ],
             [
              0.3333333333333333,
              "#9c179e"
             ],
             [
              0.4444444444444444,
              "#bd3786"
             ],
             [
              0.5555555555555556,
              "#d8576b"
             ],
             [
              0.6666666666666666,
              "#ed7953"
             ],
             [
              0.7777777777777778,
              "#fb9f3a"
             ],
             [
              0.8888888888888888,
              "#fdca26"
             ],
             [
              1,
              "#f0f921"
             ]
            ],
            "type": "heatmapgl"
           }
          ],
          "histogram": [
           {
            "marker": {
             "pattern": {
              "fillmode": "overlay",
              "size": 10,
              "solidity": 0.2
             }
            },
            "type": "histogram"
           }
          ],
          "histogram2d": [
           {
            "colorbar": {
             "outlinewidth": 0,
             "ticks": ""
            },
            "colorscale": [
             [
              0,
              "#0d0887"
             ],
             [
              0.1111111111111111,
              "#46039f"
             ],
             [
              0.2222222222222222,
              "#7201a8"
             ],
             [
              0.3333333333333333,
              "#9c179e"
             ],
             [
              0.4444444444444444,
              "#bd3786"
             ],
             [
              0.5555555555555556,
              "#d8576b"
             ],
             [
              0.6666666666666666,
              "#ed7953"
             ],
             [
              0.7777777777777778,
              "#fb9f3a"
             ],
             [
              0.8888888888888888,
              "#fdca26"
             ],
             [
              1,
              "#f0f921"
             ]
            ],
            "type": "histogram2d"
           }
          ],
          "histogram2dcontour": [
           {
            "colorbar": {
             "outlinewidth": 0,
             "ticks": ""
            },
            "colorscale": [
             [
              0,
              "#0d0887"
             ],
             [
              0.1111111111111111,
              "#46039f"
             ],
             [
              0.2222222222222222,
              "#7201a8"
             ],
             [
              0.3333333333333333,
              "#9c179e"
             ],
             [
              0.4444444444444444,
              "#bd3786"
             ],
             [
              0.5555555555555556,
              "#d8576b"
             ],
             [
              0.6666666666666666,
              "#ed7953"
             ],
             [
              0.7777777777777778,
              "#fb9f3a"
             ],
             [
              0.8888888888888888,
              "#fdca26"
             ],
             [
              1,
              "#f0f921"
             ]
            ],
            "type": "histogram2dcontour"
           }
          ],
          "mesh3d": [
           {
            "colorbar": {
             "outlinewidth": 0,
             "ticks": ""
            },
            "type": "mesh3d"
           }
          ],
          "parcoords": [
           {
            "line": {
             "colorbar": {
              "outlinewidth": 0,
              "ticks": ""
             }
            },
            "type": "parcoords"
           }
          ],
          "pie": [
           {
            "automargin": true,
            "type": "pie"
           }
          ],
          "scatter": [
           {
            "fillpattern": {
             "fillmode": "overlay",
             "size": 10,
             "solidity": 0.2
            },
            "type": "scatter"
           }
          ],
          "scatter3d": [
           {
            "line": {
             "colorbar": {
              "outlinewidth": 0,
              "ticks": ""
             }
            },
            "marker": {
             "colorbar": {
              "outlinewidth": 0,
              "ticks": ""
             }
            },
            "type": "scatter3d"
           }
          ],
          "scattercarpet": [
           {
            "marker": {
             "colorbar": {
              "outlinewidth": 0,
              "ticks": ""
             }
            },
            "type": "scattercarpet"
           }
          ],
          "scattergeo": [
           {
            "marker": {
             "colorbar": {
              "outlinewidth": 0,
              "ticks": ""
             }
            },
            "type": "scattergeo"
           }
          ],
          "scattergl": [
           {
            "marker": {
             "colorbar": {
              "outlinewidth": 0,
              "ticks": ""
             }
            },
            "type": "scattergl"
           }
          ],
          "scattermapbox": [
           {
            "marker": {
             "colorbar": {
              "outlinewidth": 0,
              "ticks": ""
             }
            },
            "type": "scattermapbox"
           }
          ],
          "scatterpolar": [
           {
            "marker": {
             "colorbar": {
              "outlinewidth": 0,
              "ticks": ""
             }
            },
            "type": "scatterpolar"
           }
          ],
          "scatterpolargl": [
           {
            "marker": {
             "colorbar": {
              "outlinewidth": 0,
              "ticks": ""
             }
            },
            "type": "scatterpolargl"
           }
          ],
          "scatterternary": [
           {
            "marker": {
             "colorbar": {
              "outlinewidth": 0,
              "ticks": ""
             }
            },
            "type": "scatterternary"
           }
          ],
          "surface": [
           {
            "colorbar": {
             "outlinewidth": 0,
             "ticks": ""
            },
            "colorscale": [
             [
              0,
              "#0d0887"
             ],
             [
              0.1111111111111111,
              "#46039f"
             ],
             [
              0.2222222222222222,
              "#7201a8"
             ],
             [
              0.3333333333333333,
              "#9c179e"
             ],
             [
              0.4444444444444444,
              "#bd3786"
             ],
             [
              0.5555555555555556,
              "#d8576b"
             ],
             [
              0.6666666666666666,
              "#ed7953"
             ],
             [
              0.7777777777777778,
              "#fb9f3a"
             ],
             [
              0.8888888888888888,
              "#fdca26"
             ],
             [
              1,
              "#f0f921"
             ]
            ],
            "type": "surface"
           }
          ],
          "table": [
           {
            "cells": {
             "fill": {
              "color": "#EBF0F8"
             },
             "line": {
              "color": "white"
             }
            },
            "header": {
             "fill": {
              "color": "#C8D4E3"
             },
             "line": {
              "color": "white"
             }
            },
            "type": "table"
           }
          ]
         },
         "layout": {
          "annotationdefaults": {
           "arrowcolor": "#2a3f5f",
           "arrowhead": 0,
           "arrowwidth": 1
          },
          "autotypenumbers": "strict",
          "coloraxis": {
           "colorbar": {
            "outlinewidth": 0,
            "ticks": ""
           }
          },
          "colorscale": {
           "diverging": [
            [
             0,
             "#8e0152"
            ],
            [
             0.1,
             "#c51b7d"
            ],
            [
             0.2,
             "#de77ae"
            ],
            [
             0.3,
             "#f1b6da"
            ],
            [
             0.4,
             "#fde0ef"
            ],
            [
             0.5,
             "#f7f7f7"
            ],
            [
             0.6,
             "#e6f5d0"
            ],
            [
             0.7,
             "#b8e186"
            ],
            [
             0.8,
             "#7fbc41"
            ],
            [
             0.9,
             "#4d9221"
            ],
            [
             1,
             "#276419"
            ]
           ],
           "sequential": [
            [
             0,
             "#0d0887"
            ],
            [
             0.1111111111111111,
             "#46039f"
            ],
            [
             0.2222222222222222,
             "#7201a8"
            ],
            [
             0.3333333333333333,
             "#9c179e"
            ],
            [
             0.4444444444444444,
             "#bd3786"
            ],
            [
             0.5555555555555556,
             "#d8576b"
            ],
            [
             0.6666666666666666,
             "#ed7953"
            ],
            [
             0.7777777777777778,
             "#fb9f3a"
            ],
            [
             0.8888888888888888,
             "#fdca26"
            ],
            [
             1,
             "#f0f921"
            ]
           ],
           "sequentialminus": [
            [
             0,
             "#0d0887"
            ],
            [
             0.1111111111111111,
             "#46039f"
            ],
            [
             0.2222222222222222,
             "#7201a8"
            ],
            [
             0.3333333333333333,
             "#9c179e"
            ],
            [
             0.4444444444444444,
             "#bd3786"
            ],
            [
             0.5555555555555556,
             "#d8576b"
            ],
            [
             0.6666666666666666,
             "#ed7953"
            ],
            [
             0.7777777777777778,
             "#fb9f3a"
            ],
            [
             0.8888888888888888,
             "#fdca26"
            ],
            [
             1,
             "#f0f921"
            ]
           ]
          },
          "colorway": [
           "#636efa",
           "#EF553B",
           "#00cc96",
           "#ab63fa",
           "#FFA15A",
           "#19d3f3",
           "#FF6692",
           "#B6E880",
           "#FF97FF",
           "#FECB52"
          ],
          "font": {
           "color": "#2a3f5f"
          },
          "geo": {
           "bgcolor": "white",
           "lakecolor": "white",
           "landcolor": "#E5ECF6",
           "showlakes": true,
           "showland": true,
           "subunitcolor": "white"
          },
          "hoverlabel": {
           "align": "left"
          },
          "hovermode": "closest",
          "mapbox": {
           "style": "light"
          },
          "paper_bgcolor": "white",
          "plot_bgcolor": "#E5ECF6",
          "polar": {
           "angularaxis": {
            "gridcolor": "white",
            "linecolor": "white",
            "ticks": ""
           },
           "bgcolor": "#E5ECF6",
           "radialaxis": {
            "gridcolor": "white",
            "linecolor": "white",
            "ticks": ""
           }
          },
          "scene": {
           "xaxis": {
            "backgroundcolor": "#E5ECF6",
            "gridcolor": "white",
            "gridwidth": 2,
            "linecolor": "white",
            "showbackground": true,
            "ticks": "",
            "zerolinecolor": "white"
           },
           "yaxis": {
            "backgroundcolor": "#E5ECF6",
            "gridcolor": "white",
            "gridwidth": 2,
            "linecolor": "white",
            "showbackground": true,
            "ticks": "",
            "zerolinecolor": "white"
           },
           "zaxis": {
            "backgroundcolor": "#E5ECF6",
            "gridcolor": "white",
            "gridwidth": 2,
            "linecolor": "white",
            "showbackground": true,
            "ticks": "",
            "zerolinecolor": "white"
           }
          },
          "shapedefaults": {
           "line": {
            "color": "#2a3f5f"
           }
          },
          "ternary": {
           "aaxis": {
            "gridcolor": "white",
            "linecolor": "white",
            "ticks": ""
           },
           "baxis": {
            "gridcolor": "white",
            "linecolor": "white",
            "ticks": ""
           },
           "bgcolor": "#E5ECF6",
           "caxis": {
            "gridcolor": "white",
            "linecolor": "white",
            "ticks": ""
           }
          },
          "title": {
           "x": 0.05
          },
          "xaxis": {
           "automargin": true,
           "gridcolor": "white",
           "linecolor": "white",
           "ticks": "",
           "title": {
            "standoff": 15
           },
           "zerolinecolor": "white",
           "zerolinewidth": 2
          },
          "yaxis": {
           "automargin": true,
           "gridcolor": "white",
           "linecolor": "white",
           "ticks": "",
           "title": {
            "standoff": 15
           },
           "zerolinecolor": "white",
           "zerolinewidth": 2
          }
         }
        },
        "title": {
         "text": "Contour Plot"
        },
        "xaxis": {
         "anchor": "y",
         "domain": [
          0,
          0.16799999999999998
         ],
         "matches": "x21",
         "range": [
          -0.05,
          1.05
         ],
         "showticklabels": false,
         "type": "category"
        },
        "xaxis10": {
         "anchor": "y10",
         "domain": [
          0.832,
          1
         ],
         "matches": "x25",
         "range": [
          2.4499999999999993,
          168.55
         ],
         "showticklabels": false
        },
        "xaxis11": {
         "anchor": "y11",
         "domain": [
          0,
          0.16799999999999998
         ],
         "matches": "x21",
         "range": [
          -0.05,
          1.05
         ],
         "showticklabels": false,
         "type": "category"
        },
        "xaxis12": {
         "anchor": "y12",
         "domain": [
          0.208,
          0.376
         ],
         "matches": "x22",
         "range": [
          -4.115831031126154,
          -1.281162948800871
         ],
         "showticklabels": false,
         "type": "log"
        },
        "xaxis13": {
         "anchor": "y13",
         "domain": [
          0.416,
          0.584
         ],
         "matches": "x23",
         "range": [
          0.9,
          3.1
         ],
         "showticklabels": false
        },
        "xaxis14": {
         "anchor": "y14",
         "domain": [
          0.624,
          0.792
         ],
         "matches": "x24",
         "range": [
          81.6,
          332.4
         ],
         "showticklabels": false
        },
        "xaxis15": {
         "anchor": "y15",
         "domain": [
          0.832,
          1
         ],
         "matches": "x25",
         "range": [
          2.4499999999999993,
          168.55
         ],
         "showticklabels": false
        },
        "xaxis16": {
         "anchor": "y16",
         "domain": [
          0,
          0.16799999999999998
         ],
         "matches": "x21",
         "range": [
          -0.05,
          1.05
         ],
         "showticklabels": false,
         "type": "category"
        },
        "xaxis17": {
         "anchor": "y17",
         "domain": [
          0.208,
          0.376
         ],
         "matches": "x22",
         "range": [
          -4.115831031126154,
          -1.281162948800871
         ],
         "showticklabels": false,
         "type": "log"
        },
        "xaxis18": {
         "anchor": "y18",
         "domain": [
          0.416,
          0.584
         ],
         "matches": "x23",
         "range": [
          0.9,
          3.1
         ],
         "showticklabels": false
        },
        "xaxis19": {
         "anchor": "y19",
         "domain": [
          0.624,
          0.792
         ],
         "matches": "x24",
         "range": [
          81.6,
          332.4
         ],
         "showticklabels": false
        },
        "xaxis2": {
         "anchor": "y2",
         "domain": [
          0.208,
          0.376
         ],
         "matches": "x22",
         "range": [
          -4.115831031126154,
          -1.281162948800871
         ],
         "showticklabels": false,
         "type": "log"
        },
        "xaxis20": {
         "anchor": "y20",
         "domain": [
          0.832,
          1
         ],
         "matches": "x25",
         "range": [
          2.4499999999999993,
          168.55
         ],
         "showticklabels": false
        },
        "xaxis21": {
         "anchor": "y21",
         "domain": [
          0,
          0.16799999999999998
         ],
         "range": [
          -0.05,
          1.05
         ],
         "title": {
          "text": "activation"
         },
         "type": "category"
        },
        "xaxis22": {
         "anchor": "y22",
         "domain": [
          0.208,
          0.376
         ],
         "range": [
          -4.115831031126154,
          -1.281162948800871
         ],
         "title": {
          "text": "lr"
         },
         "type": "log"
        },
        "xaxis23": {
         "anchor": "y23",
         "domain": [
          0.416,
          0.584
         ],
         "range": [
          0.9,
          3.1
         ],
         "title": {
          "text": "n_layers"
         }
        },
        "xaxis24": {
         "anchor": "y24",
         "domain": [
          0.624,
          0.792
         ],
         "range": [
          81.6,
          332.4
         ],
         "title": {
          "text": "n_units_l0"
         }
        },
        "xaxis25": {
         "anchor": "y25",
         "domain": [
          0.832,
          1
         ],
         "range": [
          2.4499999999999993,
          168.55
         ],
         "title": {
          "text": "n_units_l1"
         }
        },
        "xaxis3": {
         "anchor": "y3",
         "domain": [
          0.416,
          0.584
         ],
         "matches": "x23",
         "range": [
          0.9,
          3.1
         ],
         "showticklabels": false
        },
        "xaxis4": {
         "anchor": "y4",
         "domain": [
          0.624,
          0.792
         ],
         "matches": "x24",
         "range": [
          81.6,
          332.4
         ],
         "showticklabels": false
        },
        "xaxis5": {
         "anchor": "y5",
         "domain": [
          0.832,
          1
         ],
         "matches": "x25",
         "range": [
          2.4499999999999993,
          168.55
         ],
         "showticklabels": false
        },
        "xaxis6": {
         "anchor": "y6",
         "domain": [
          0,
          0.16799999999999998
         ],
         "matches": "x21",
         "range": [
          -0.05,
          1.05
         ],
         "showticklabels": false,
         "type": "category"
        },
        "xaxis7": {
         "anchor": "y7",
         "domain": [
          0.208,
          0.376
         ],
         "matches": "x22",
         "range": [
          -4.115831031126154,
          -1.281162948800871
         ],
         "showticklabels": false,
         "type": "log"
        },
        "xaxis8": {
         "anchor": "y8",
         "domain": [
          0.416,
          0.584
         ],
         "matches": "x23",
         "range": [
          0.9,
          3.1
         ],
         "showticklabels": false
        },
        "xaxis9": {
         "anchor": "y9",
         "domain": [
          0.624,
          0.792
         ],
         "matches": "x24",
         "range": [
          81.6,
          332.4
         ],
         "showticklabels": false
        },
        "yaxis": {
         "anchor": "x",
         "domain": [
          0.848,
          1
         ],
         "range": [
          -0.05,
          1.05
         ],
         "title": {
          "text": "activation"
         },
         "type": "category"
        },
        "yaxis10": {
         "anchor": "x10",
         "domain": [
          0.6359999999999999,
          0.7879999999999999
         ],
         "matches": "y6",
         "range": [
          -4.115831031126154,
          -1.281162948800871
         ],
         "showticklabels": false,
         "type": "log"
        },
        "yaxis11": {
         "anchor": "x11",
         "domain": [
          0.424,
          0.576
         ],
         "range": [
          0.9,
          3.1
         ],
         "title": {
          "text": "n_layers"
         }
        },
        "yaxis12": {
         "anchor": "x12",
         "domain": [
          0.424,
          0.576
         ],
         "matches": "y11",
         "range": [
          0.9,
          3.1
         ],
         "showticklabels": false
        },
        "yaxis13": {
         "anchor": "x13",
         "domain": [
          0.424,
          0.576
         ],
         "matches": "y11",
         "range": [
          0.9,
          3.1
         ],
         "showticklabels": false
        },
        "yaxis14": {
         "anchor": "x14",
         "domain": [
          0.424,
          0.576
         ],
         "matches": "y11",
         "range": [
          0.9,
          3.1
         ],
         "showticklabels": false
        },
        "yaxis15": {
         "anchor": "x15",
         "domain": [
          0.424,
          0.576
         ],
         "matches": "y11",
         "range": [
          0.9,
          3.1
         ],
         "showticklabels": false
        },
        "yaxis16": {
         "anchor": "x16",
         "domain": [
          0.212,
          0.364
         ],
         "range": [
          81.6,
          332.4
         ],
         "title": {
          "text": "n_units_l0"
         }
        },
        "yaxis17": {
         "anchor": "x17",
         "domain": [
          0.212,
          0.364
         ],
         "matches": "y16",
         "range": [
          81.6,
          332.4
         ],
         "showticklabels": false
        },
        "yaxis18": {
         "anchor": "x18",
         "domain": [
          0.212,
          0.364
         ],
         "matches": "y16",
         "range": [
          81.6,
          332.4
         ],
         "showticklabels": false
        },
        "yaxis19": {
         "anchor": "x19",
         "domain": [
          0.212,
          0.364
         ],
         "matches": "y16",
         "range": [
          81.6,
          332.4
         ],
         "showticklabels": false
        },
        "yaxis2": {
         "anchor": "x2",
         "domain": [
          0.848,
          1
         ],
         "matches": "y",
         "range": [
          -0.05,
          1.05
         ],
         "showticklabels": false,
         "type": "category"
        },
        "yaxis20": {
         "anchor": "x20",
         "domain": [
          0.212,
          0.364
         ],
         "matches": "y16",
         "range": [
          81.6,
          332.4
         ],
         "showticklabels": false
        },
        "yaxis21": {
         "anchor": "x21",
         "domain": [
          0,
          0.152
         ],
         "range": [
          2.4499999999999993,
          168.55
         ],
         "title": {
          "text": "n_units_l1"
         }
        },
        "yaxis22": {
         "anchor": "x22",
         "domain": [
          0,
          0.152
         ],
         "matches": "y21",
         "range": [
          2.4499999999999993,
          168.55
         ],
         "showticklabels": false
        },
        "yaxis23": {
         "anchor": "x23",
         "domain": [
          0,
          0.152
         ],
         "matches": "y21",
         "range": [
          2.4499999999999993,
          168.55
         ],
         "showticklabels": false
        },
        "yaxis24": {
         "anchor": "x24",
         "domain": [
          0,
          0.152
         ],
         "matches": "y21",
         "range": [
          2.4499999999999993,
          168.55
         ],
         "showticklabels": false
        },
        "yaxis25": {
         "anchor": "x25",
         "domain": [
          0,
          0.152
         ],
         "matches": "y21",
         "range": [
          2.4499999999999993,
          168.55
         ],
         "showticklabels": false
        },
        "yaxis3": {
         "anchor": "x3",
         "domain": [
          0.848,
          1
         ],
         "matches": "y",
         "range": [
          -0.05,
          1.05
         ],
         "showticklabels": false,
         "type": "category"
        },
        "yaxis4": {
         "anchor": "x4",
         "domain": [
          0.848,
          1
         ],
         "matches": "y",
         "range": [
          -0.05,
          1.05
         ],
         "showticklabels": false,
         "type": "category"
        },
        "yaxis5": {
         "anchor": "x5",
         "domain": [
          0.848,
          1
         ],
         "matches": "y",
         "range": [
          -0.05,
          1.05
         ],
         "showticklabels": false,
         "type": "category"
        },
        "yaxis6": {
         "anchor": "x6",
         "domain": [
          0.6359999999999999,
          0.7879999999999999
         ],
         "range": [
          -4.115831031126154,
          -1.281162948800871
         ],
         "title": {
          "text": "lr"
         },
         "type": "log"
        },
        "yaxis7": {
         "anchor": "x7",
         "domain": [
          0.6359999999999999,
          0.7879999999999999
         ],
         "matches": "y6",
         "range": [
          -4.115831031126154,
          -1.281162948800871
         ],
         "showticklabels": false,
         "type": "log"
        },
        "yaxis8": {
         "anchor": "x8",
         "domain": [
          0.6359999999999999,
          0.7879999999999999
         ],
         "matches": "y6",
         "range": [
          -4.115831031126154,
          -1.281162948800871
         ],
         "showticklabels": false,
         "type": "log"
        },
        "yaxis9": {
         "anchor": "x9",
         "domain": [
          0.6359999999999999,
          0.7879999999999999
         ],
         "matches": "y6",
         "range": [
          -4.115831031126154,
          -1.281162948800871
         ],
         "showticklabels": false,
         "type": "log"
        }
       }
      }
     },
     "metadata": {},
     "output_type": "display_data"
    }
   ],
   "source": [
    "optuna.visualization.plot_contour(study, [\"n_layers\", \"n_units_l0\", \"n_units_l1\", \"lr\", \"activation\"])"
   ]
  },
  {
   "cell_type": "markdown",
   "metadata": {},
   "source": [
    "##### Interpretation of contour grid plot of study:\n",
    "This visualization shows us how the pairs of hyperparameters influent on the results of training.\n",
    "I do not realy see interesting patterns"
   ]
  },
  {
   "cell_type": "code",
   "execution_count": 40,
   "metadata": {},
   "outputs": [
    {
     "data": {
      "application/vnd.plotly.v1+json": {
       "config": {
        "plotlyServerURL": "https://plot.ly"
       },
       "data": [
        {
         "marker": {
          "maxdisplayed": 10
         },
         "mode": "lines+markers",
         "name": "Trial0",
         "type": "scatter",
         "x": [
          0,
          1,
          2,
          3,
          4,
          5,
          6,
          7,
          8,
          9
         ],
         "y": [
          0.8143,
          0.8365,
          0.8451,
          0.8539,
          0.8628,
          0.8589,
          0.8661,
          0.8733,
          0.872,
          0.8698
         ]
        },
        {
         "marker": {
          "maxdisplayed": 10
         },
         "mode": "lines+markers",
         "name": "Trial10",
         "type": "scatter",
         "x": [
          0,
          1,
          2,
          3,
          4,
          5,
          6,
          7,
          8,
          9
         ],
         "y": [
          0.3279,
          0.6302,
          0.6999,
          0.7232,
          0.7568,
          0.7698,
          0.7856,
          0.7982,
          0.8017,
          0.8095
         ]
        },
        {
         "marker": {
          "maxdisplayed": 10
         },
         "mode": "lines+markers",
         "name": "Trial11",
         "type": "scatter",
         "x": [
          0,
          1,
          2,
          3,
          4,
          5,
          6,
          7,
          8,
          9
         ],
         "y": [
          0.718,
          0.798,
          0.8248,
          0.8327,
          0.84,
          0.8438,
          0.8503,
          0.8476,
          0.8556,
          0.8551
         ]
        },
        {
         "marker": {
          "maxdisplayed": 10
         },
         "mode": "lines+markers",
         "name": "Trial12",
         "type": "scatter",
         "x": [
          0,
          1,
          2,
          3,
          4,
          5,
          6,
          7,
          8,
          9
         ],
         "y": [
          0.5234,
          0.723,
          0.7464,
          0.7434,
          0.7976,
          0.8006,
          0.8364,
          0.836,
          0.8239,
          0.8453
         ]
        },
        {
         "marker": {
          "maxdisplayed": 10
         },
         "mode": "lines+markers",
         "name": "Trial13",
         "type": "scatter",
         "x": [
          0,
          1,
          2,
          3,
          4,
          5,
          6,
          7,
          8,
          9
         ],
         "y": [
          0.6828,
          0.791,
          0.7927,
          0.8115,
          0.8266,
          0.8281,
          0.8355,
          0.8457,
          0.8364,
          0.846
         ]
        },
        {
         "marker": {
          "maxdisplayed": 10
         },
         "mode": "lines+markers",
         "name": "Trial14",
         "type": "scatter",
         "x": [
          0,
          1,
          2,
          3,
          4,
          5,
          6,
          7,
          8,
          9
         ],
         "y": [
          0.7951,
          0.8145,
          0.8362,
          0.8409,
          0.8451,
          0.8526,
          0.8575,
          0.8618,
          0.8609,
          0.8654
         ]
        },
        {
         "marker": {
          "maxdisplayed": 10
         },
         "mode": "lines+markers",
         "name": "Trial15",
         "type": "scatter",
         "x": [
          0,
          1,
          2,
          3,
          4,
          5,
          6,
          7,
          8,
          9
         ],
         "y": [
          0.7596,
          0.8051,
          0.8302,
          0.8382,
          0.8445,
          0.8461,
          0.8454,
          0.8607,
          0.8627,
          0.869
         ]
        },
        {
         "marker": {
          "maxdisplayed": 10
         },
         "mode": "lines+markers",
         "name": "Trial16",
         "type": "scatter",
         "x": [
          0,
          1,
          2,
          3,
          4,
          5,
          6,
          7,
          8,
          9
         ],
         "y": [
          0.7361,
          0.7817,
          0.799,
          0.8068,
          0.8162,
          0.8253,
          0.8237,
          0.8266,
          0.8314,
          0.8319
         ]
        },
        {
         "marker": {
          "maxdisplayed": 10
         },
         "mode": "lines+markers",
         "name": "Trial17",
         "type": "scatter",
         "x": [
          0,
          1,
          2,
          3,
          4,
          5,
          6,
          7,
          8,
          9
         ],
         "y": [
          0.7131,
          0.7784,
          0.8067,
          0.8278,
          0.8361,
          0.8455,
          0.8472,
          0.8456,
          0.8547,
          0.8521
         ]
        },
        {
         "marker": {
          "maxdisplayed": 10
         },
         "mode": "lines+markers",
         "name": "Trial18",
         "type": "scatter",
         "x": [
          0,
          1,
          2,
          3,
          4,
          5,
          6,
          7,
          8,
          9
         ],
         "y": [
          0.8322,
          0.8471,
          0.8468,
          0.8572,
          0.8619,
          0.862,
          0.8611,
          0.8637,
          0.8662,
          0.8681
         ]
        },
        {
         "marker": {
          "maxdisplayed": 10
         },
         "mode": "lines+markers",
         "name": "Trial19",
         "type": "scatter",
         "x": [
          0,
          1,
          2
         ],
         "y": [
          0.7756,
          0.8201,
          0.8284
         ]
        },
        {
         "marker": {
          "maxdisplayed": 10
         },
         "mode": "lines+markers",
         "name": "Trial20",
         "type": "scatter",
         "x": [
          0
         ],
         "y": [
          0.3127
         ]
        },
        {
         "marker": {
          "maxdisplayed": 10
         },
         "mode": "lines+markers",
         "name": "Trial21",
         "type": "scatter",
         "x": [
          0
         ],
         "y": [
          0.5664
         ]
        },
        {
         "marker": {
          "maxdisplayed": 10
         },
         "mode": "lines+markers",
         "name": "Trial22",
         "type": "scatter",
         "x": [
          0,
          1,
          2,
          3,
          4,
          5,
          6,
          7,
          8,
          9
         ],
         "y": [
          0.7932,
          0.8319,
          0.8502,
          0.8547,
          0.8543,
          0.8524,
          0.8557,
          0.8608,
          0.8655,
          0.8619
         ]
        },
        {
         "marker": {
          "maxdisplayed": 10
         },
         "mode": "lines+markers",
         "name": "Trial23",
         "type": "scatter",
         "x": [
          0,
          1
         ],
         "y": [
          0.756,
          0.8021
         ]
        },
        {
         "marker": {
          "maxdisplayed": 10
         },
         "mode": "lines+markers",
         "name": "Trial24",
         "type": "scatter",
         "x": [
          0,
          1,
          2,
          3,
          4,
          5,
          6,
          7,
          8,
          9
         ],
         "y": [
          0.7646,
          0.8144,
          0.8349,
          0.8454,
          0.8514,
          0.8576,
          0.8578,
          0.8643,
          0.8657,
          0.8681
         ]
        },
        {
         "marker": {
          "maxdisplayed": 10
         },
         "mode": "lines+markers",
         "name": "Trial25",
         "type": "scatter",
         "x": [
          0,
          1,
          2,
          3
         ],
         "y": [
          0.7837,
          0.8162,
          0.8315,
          0.8348
         ]
        },
        {
         "marker": {
          "maxdisplayed": 10
         },
         "mode": "lines+markers",
         "name": "Trial26",
         "type": "scatter",
         "x": [
          0,
          1
         ],
         "y": [
          0.768,
          0.7933
         ]
        },
        {
         "marker": {
          "maxdisplayed": 10
         },
         "mode": "lines+markers",
         "name": "Trial27",
         "type": "scatter",
         "x": [
          0
         ],
         "y": [
          0.6384
         ]
        },
        {
         "marker": {
          "maxdisplayed": 10
         },
         "mode": "lines+markers",
         "name": "Trial28",
         "type": "scatter",
         "x": [
          0,
          1,
          2,
          3,
          4,
          5,
          6,
          7,
          8,
          9
         ],
         "y": [
          0.794,
          0.8301,
          0.839,
          0.861,
          0.8559,
          0.8675,
          0.8741,
          0.8662,
          0.8776,
          0.8638
         ]
        },
        {
         "marker": {
          "maxdisplayed": 10
         },
         "mode": "lines+markers",
         "name": "Trial29",
         "type": "scatter",
         "x": [
          0,
          1,
          2,
          3,
          4,
          5,
          6,
          7,
          8,
          9
         ],
         "y": [
          0.7896,
          0.8207,
          0.8379,
          0.8562,
          0.8651,
          0.8677,
          0.8664,
          0.8718,
          0.8747,
          0.8765
         ]
        },
        {
         "marker": {
          "maxdisplayed": 10
         },
         "mode": "lines+markers",
         "name": "Trial30",
         "type": "scatter",
         "x": [
          0
         ],
         "y": [
          0.7553
         ]
        },
        {
         "marker": {
          "maxdisplayed": 10
         },
         "mode": "lines+markers",
         "name": "Trial31",
         "type": "scatter",
         "x": [
          0,
          1,
          2,
          3,
          4,
          5,
          6,
          7,
          8,
          9
         ],
         "y": [
          0.8316,
          0.8549,
          0.8654,
          0.8692,
          0.8711,
          0.8795,
          0.8815,
          0.8807,
          0.8837,
          0.8746
         ]
        },
        {
         "marker": {
          "maxdisplayed": 10
         },
         "mode": "lines+markers",
         "name": "Trial32",
         "type": "scatter",
         "x": [
          0,
          1,
          2,
          3,
          4,
          5,
          6,
          7,
          8,
          9
         ],
         "y": [
          0.82,
          0.8347,
          0.8589,
          0.862,
          0.8672,
          0.8701,
          0.8718,
          0.8703,
          0.8719,
          0.8759
         ]
        },
        {
         "marker": {
          "maxdisplayed": 10
         },
         "mode": "lines+markers",
         "name": "Trial33",
         "type": "scatter",
         "x": [
          0
         ],
         "y": [
          0.6876
         ]
        },
        {
         "marker": {
          "maxdisplayed": 10
         },
         "mode": "lines+markers",
         "name": "Trial34",
         "type": "scatter",
         "x": [
          0,
          1,
          2,
          3,
          4,
          5,
          6,
          7,
          8,
          9
         ],
         "y": [
          0.8331,
          0.8391,
          0.8542,
          0.865,
          0.8665,
          0.8745,
          0.8706,
          0.8778,
          0.8758,
          0.8752
         ]
        },
        {
         "marker": {
          "maxdisplayed": 10
         },
         "mode": "lines+markers",
         "name": "Trial35",
         "type": "scatter",
         "x": [
          0,
          1,
          2,
          3,
          4,
          5,
          6,
          7,
          8,
          9
         ],
         "y": [
          0.8251,
          0.8471,
          0.8663,
          0.8436,
          0.8617,
          0.8748,
          0.8748,
          0.8754,
          0.8798,
          0.8808
         ]
        },
        {
         "marker": {
          "maxdisplayed": 10
         },
         "mode": "lines+markers",
         "name": "Trial36",
         "type": "scatter",
         "x": [
          0,
          1,
          2,
          3,
          4,
          5,
          6,
          7,
          8,
          9
         ],
         "y": [
          0.8117,
          0.8383,
          0.8535,
          0.8538,
          0.8689,
          0.8733,
          0.8719,
          0.8672,
          0.8702,
          0.8659
         ]
        },
        {
         "marker": {
          "maxdisplayed": 10
         },
         "mode": "lines+markers",
         "name": "Trial37",
         "type": "scatter",
         "x": [
          0,
          1,
          2,
          3,
          4,
          5,
          6,
          7,
          8,
          9
         ],
         "y": [
          0.8023,
          0.8423,
          0.8484,
          0.8568,
          0.8614,
          0.8665,
          0.8608,
          0.8673,
          0.8745,
          0.8733
         ]
        },
        {
         "marker": {
          "maxdisplayed": 10
         },
         "mode": "lines+markers",
         "name": "Trial38",
         "type": "scatter",
         "x": [
          0,
          1,
          2,
          3,
          4,
          5,
          6,
          7,
          8,
          9
         ],
         "y": [
          0.8291,
          0.8576,
          0.8654,
          0.8655,
          0.8624,
          0.8728,
          0.8665,
          0.8723,
          0.8742,
          0.8819
         ]
        },
        {
         "marker": {
          "maxdisplayed": 10
         },
         "mode": "lines+markers",
         "name": "Trial39",
         "type": "scatter",
         "x": [
          0,
          1,
          2,
          3,
          4,
          5,
          6,
          7,
          8,
          9
         ],
         "y": [
          0.829,
          0.8533,
          0.8641,
          0.8647,
          0.8728,
          0.8789,
          0.869,
          0.8821,
          0.8803,
          0.8755
         ]
        },
        {
         "marker": {
          "maxdisplayed": 10
         },
         "mode": "lines+markers",
         "name": "Trial40",
         "type": "scatter",
         "x": [
          0,
          1,
          2,
          3,
          4,
          5,
          6,
          7,
          8,
          9
         ],
         "y": [
          0.8216,
          0.8357,
          0.8505,
          0.8658,
          0.8721,
          0.8669,
          0.8684,
          0.874,
          0.8604,
          0.8781
         ]
        },
        {
         "marker": {
          "maxdisplayed": 10
         },
         "mode": "lines+markers",
         "name": "Trial41",
         "type": "scatter",
         "x": [
          0,
          1,
          2,
          3,
          4,
          5,
          6,
          7,
          8,
          9
         ],
         "y": [
          0.8308,
          0.8533,
          0.856,
          0.8651,
          0.8687,
          0.8708,
          0.8753,
          0.8799,
          0.8725,
          0.8811
         ]
        },
        {
         "marker": {
          "maxdisplayed": 10
         },
         "mode": "lines+markers",
         "name": "Trial42",
         "type": "scatter",
         "x": [
          0,
          1,
          2,
          3,
          4,
          5,
          6,
          7,
          8,
          9
         ],
         "y": [
          0.8307,
          0.8474,
          0.8649,
          0.8573,
          0.8597,
          0.8596,
          0.8723,
          0.8719,
          0.8721,
          0.8778
         ]
        },
        {
         "marker": {
          "maxdisplayed": 10
         },
         "mode": "lines+markers",
         "name": "Trial43",
         "type": "scatter",
         "x": [
          0,
          1,
          2,
          3,
          4,
          5,
          6,
          7,
          8,
          9
         ],
         "y": [
          0.8269,
          0.8434,
          0.8555,
          0.8658,
          0.873,
          0.8692,
          0.8743,
          0.8759,
          0.8732,
          0.8758
         ]
        },
        {
         "marker": {
          "maxdisplayed": 10
         },
         "mode": "lines+markers",
         "name": "Trial44",
         "type": "scatter",
         "x": [
          0,
          1,
          2,
          3,
          4,
          5,
          6,
          7,
          8,
          9
         ],
         "y": [
          0.8247,
          0.8498,
          0.846,
          0.8604,
          0.8653,
          0.8562,
          0.8684,
          0.8713,
          0.8756,
          0.873
         ]
        },
        {
         "marker": {
          "maxdisplayed": 10
         },
         "mode": "lines+markers",
         "name": "Trial45",
         "type": "scatter",
         "x": [
          0,
          1,
          2,
          3
         ],
         "y": [
          0.821,
          0.8512,
          0.8444,
          0.8532
         ]
        },
        {
         "marker": {
          "maxdisplayed": 10
         },
         "mode": "lines+markers",
         "name": "Trial46",
         "type": "scatter",
         "x": [
          0,
          1,
          2,
          3,
          4,
          5,
          6,
          7,
          8,
          9
         ],
         "y": [
          0.8247,
          0.847,
          0.8543,
          0.8668,
          0.8531,
          0.8642,
          0.8722,
          0.8573,
          0.8759,
          0.8641
         ]
        },
        {
         "marker": {
          "maxdisplayed": 10
         },
         "mode": "lines+markers",
         "name": "Trial47",
         "type": "scatter",
         "x": [
          0,
          1
         ],
         "y": [
          0.8011,
          0.8265
         ]
        },
        {
         "marker": {
          "maxdisplayed": 10
         },
         "mode": "lines+markers",
         "name": "Trial48",
         "type": "scatter",
         "x": [
          0,
          1,
          2,
          3,
          4,
          5,
          6,
          7,
          8,
          9
         ],
         "y": [
          0.8225,
          0.838,
          0.8515,
          0.8635,
          0.868,
          0.8681,
          0.8712,
          0.8739,
          0.8763,
          0.8724
         ]
        },
        {
         "marker": {
          "maxdisplayed": 10
         },
         "mode": "lines+markers",
         "name": "Trial49",
         "type": "scatter",
         "x": [
          0,
          1
         ],
         "y": [
          0.8219,
          0.8218
         ]
        },
        {
         "marker": {
          "maxdisplayed": 10
         },
         "mode": "lines+markers",
         "name": "Trial50",
         "type": "scatter",
         "x": [
          0,
          1,
          2,
          3,
          4,
          5,
          6,
          7
         ],
         "y": [
          0.824,
          0.846,
          0.8597,
          0.86,
          0.8677,
          0.8694,
          0.8694,
          0.8676
         ]
        },
        {
         "marker": {
          "maxdisplayed": 10
         },
         "mode": "lines+markers",
         "name": "Trial51",
         "type": "scatter",
         "x": [
          0,
          1,
          2,
          3
         ],
         "y": [
          0.8331,
          0.8466,
          0.8517,
          0.8557
         ]
        },
        {
         "marker": {
          "maxdisplayed": 10
         },
         "mode": "lines+markers",
         "name": "Trial52",
         "type": "scatter",
         "x": [
          0,
          1,
          2
         ],
         "y": [
          0.8238,
          0.842,
          0.8483
         ]
        },
        {
         "marker": {
          "maxdisplayed": 10
         },
         "mode": "lines+markers",
         "name": "Trial53",
         "type": "scatter",
         "x": [
          0
         ],
         "y": [
          0.7638
         ]
        },
        {
         "marker": {
          "maxdisplayed": 10
         },
         "mode": "lines+markers",
         "name": "Trial54",
         "type": "scatter",
         "x": [
          0
         ],
         "y": [
          0.6755
         ]
        },
        {
         "marker": {
          "maxdisplayed": 10
         },
         "mode": "lines+markers",
         "name": "Trial55",
         "type": "scatter",
         "x": [
          0
         ],
         "y": [
          0.6831
         ]
        },
        {
         "marker": {
          "maxdisplayed": 10
         },
         "mode": "lines+markers",
         "name": "Trial56",
         "type": "scatter",
         "x": [
          0
         ],
         "y": [
          0.7883
         ]
        },
        {
         "marker": {
          "maxdisplayed": 10
         },
         "mode": "lines+markers",
         "name": "Trial57",
         "type": "scatter",
         "x": [
          0
         ],
         "y": [
          0.7666
         ]
        },
        {
         "marker": {
          "maxdisplayed": 10
         },
         "mode": "lines+markers",
         "name": "Trial58",
         "type": "scatter",
         "x": [
          0,
          1,
          2,
          3
         ],
         "y": [
          0.8269,
          0.8457,
          0.8553,
          0.8419
         ]
        },
        {
         "marker": {
          "maxdisplayed": 10
         },
         "mode": "lines+markers",
         "name": "Trial59",
         "type": "scatter",
         "x": [
          0
         ],
         "y": [
          0.8148
         ]
        },
        {
         "marker": {
          "maxdisplayed": 10
         },
         "mode": "lines+markers",
         "name": "Trial60",
         "type": "scatter",
         "x": [
          0
         ],
         "y": [
          0.8146
         ]
        },
        {
         "marker": {
          "maxdisplayed": 10
         },
         "mode": "lines+markers",
         "name": "Trial61",
         "type": "scatter",
         "x": [
          0
         ],
         "y": [
          0.7845
         ]
        },
        {
         "marker": {
          "maxdisplayed": 10
         },
         "mode": "lines+markers",
         "name": "Trial62",
         "type": "scatter",
         "x": [
          0
         ],
         "y": [
          0.8064
         ]
        },
        {
         "marker": {
          "maxdisplayed": 10
         },
         "mode": "lines+markers",
         "name": "Trial63",
         "type": "scatter",
         "x": [
          0
         ],
         "y": [
          0.8054
         ]
        },
        {
         "marker": {
          "maxdisplayed": 10
         },
         "mode": "lines+markers",
         "name": "Trial64",
         "type": "scatter",
         "x": [
          0,
          1,
          2,
          3
         ],
         "y": [
          0.8283,
          0.8437,
          0.8512,
          0.8553
         ]
        },
        {
         "marker": {
          "maxdisplayed": 10
         },
         "mode": "lines+markers",
         "name": "Trial65",
         "type": "scatter",
         "x": [
          0
         ],
         "y": [
          0.8029
         ]
        },
        {
         "marker": {
          "maxdisplayed": 10
         },
         "mode": "lines+markers",
         "name": "Trial66",
         "type": "scatter",
         "x": [
          0
         ],
         "y": [
          0.7923
         ]
        },
        {
         "marker": {
          "maxdisplayed": 10
         },
         "mode": "lines+markers",
         "name": "Trial67",
         "type": "scatter",
         "x": [
          0
         ],
         "y": [
          0.7636
         ]
        },
        {
         "marker": {
          "maxdisplayed": 10
         },
         "mode": "lines+markers",
         "name": "Trial68",
         "type": "scatter",
         "x": [
          0
         ],
         "y": [
          0.8098
         ]
        },
        {
         "marker": {
          "maxdisplayed": 10
         },
         "mode": "lines+markers",
         "name": "Trial69",
         "type": "scatter",
         "x": [
          0
         ],
         "y": [
          0.8054
         ]
        },
        {
         "marker": {
          "maxdisplayed": 10
         },
         "mode": "lines+markers",
         "name": "Trial70",
         "type": "scatter",
         "x": [
          0
         ],
         "y": [
          0.762
         ]
        },
        {
         "marker": {
          "maxdisplayed": 10
         },
         "mode": "lines+markers",
         "name": "Trial71",
         "type": "scatter",
         "x": [
          0
         ],
         "y": [
          0.8145
         ]
        },
        {
         "marker": {
          "maxdisplayed": 10
         },
         "mode": "lines+markers",
         "name": "Trial72",
         "type": "scatter",
         "x": [
          0
         ],
         "y": [
          0.7954
         ]
        },
        {
         "marker": {
          "maxdisplayed": 10
         },
         "mode": "lines+markers",
         "name": "Trial73",
         "type": "scatter",
         "x": [
          0
         ],
         "y": [
          0.7603
         ]
        },
        {
         "marker": {
          "maxdisplayed": 10
         },
         "mode": "lines+markers",
         "name": "Trial74",
         "type": "scatter",
         "x": [
          0
         ],
         "y": [
          0.7343
         ]
        },
        {
         "marker": {
          "maxdisplayed": 10
         },
         "mode": "lines+markers",
         "name": "Trial75",
         "type": "scatter",
         "x": [
          0,
          1,
          2,
          3,
          4,
          5,
          6,
          7,
          8,
          9
         ],
         "y": [
          0.8244,
          0.8403,
          0.8595,
          0.8647,
          0.8586,
          0.8746,
          0.8783,
          0.8707,
          0.8739,
          0.8758
         ]
        },
        {
         "marker": {
          "maxdisplayed": 10
         },
         "mode": "lines+markers",
         "name": "Trial76",
         "type": "scatter",
         "x": [
          0,
          1,
          2,
          3,
          4,
          5,
          6,
          7,
          8,
          9
         ],
         "y": [
          0.8202,
          0.8488,
          0.8525,
          0.865,
          0.8687,
          0.8708,
          0.8735,
          0.8787,
          0.8729,
          0.8698
         ]
        },
        {
         "marker": {
          "maxdisplayed": 10
         },
         "mode": "lines+markers",
         "name": "Trial77",
         "type": "scatter",
         "x": [
          0,
          1,
          2,
          3,
          4,
          5,
          6,
          7,
          8,
          9
         ],
         "y": [
          0.8237,
          0.8521,
          0.8594,
          0.869,
          0.8726,
          0.8699,
          0.8812,
          0.8669,
          0.8775,
          0.8815
         ]
        },
        {
         "marker": {
          "maxdisplayed": 10
         },
         "mode": "lines+markers",
         "name": "Trial78",
         "type": "scatter",
         "x": [
          0
         ],
         "y": [
          0.8122
         ]
        },
        {
         "marker": {
          "maxdisplayed": 10
         },
         "mode": "lines+markers",
         "name": "Trial79",
         "type": "scatter",
         "x": [
          0
         ],
         "y": [
          0.8016
         ]
        },
        {
         "marker": {
          "maxdisplayed": 10
         },
         "mode": "lines+markers",
         "name": "Trial80",
         "type": "scatter",
         "x": [
          0
         ],
         "y": [
          0.8073
         ]
        },
        {
         "marker": {
          "maxdisplayed": 10
         },
         "mode": "lines+markers",
         "name": "Trial81",
         "type": "scatter",
         "x": [
          0
         ],
         "y": [
          0.8099
         ]
        },
        {
         "marker": {
          "maxdisplayed": 10
         },
         "mode": "lines+markers",
         "name": "Trial82",
         "type": "scatter",
         "x": [
          0
         ],
         "y": [
          0.8154
         ]
        },
        {
         "marker": {
          "maxdisplayed": 10
         },
         "mode": "lines+markers",
         "name": "Trial83",
         "type": "scatter",
         "x": [
          0
         ],
         "y": [
          0.8095
         ]
        },
        {
         "marker": {
          "maxdisplayed": 10
         },
         "mode": "lines+markers",
         "name": "Trial84",
         "type": "scatter",
         "x": [
          0,
          1,
          2,
          3,
          4,
          5,
          6,
          7,
          8,
          9
         ],
         "y": [
          0.822,
          0.8601,
          0.85,
          0.8576,
          0.8655,
          0.876,
          0.8748,
          0.8732,
          0.864,
          0.8805
         ]
        },
        {
         "marker": {
          "maxdisplayed": 10
         },
         "mode": "lines+markers",
         "name": "Trial85",
         "type": "scatter",
         "x": [
          0
         ],
         "y": [
          0.8106
         ]
        },
        {
         "marker": {
          "maxdisplayed": 10
         },
         "mode": "lines+markers",
         "name": "Trial86",
         "type": "scatter",
         "x": [
          0
         ],
         "y": [
          0.8204
         ]
        },
        {
         "marker": {
          "maxdisplayed": 10
         },
         "mode": "lines+markers",
         "name": "Trial87",
         "type": "scatter",
         "x": [
          0
         ],
         "y": [
          0.8193
         ]
        },
        {
         "marker": {
          "maxdisplayed": 10
         },
         "mode": "lines+markers",
         "name": "Trial88",
         "type": "scatter",
         "x": [
          0
         ],
         "y": [
          0.8116
         ]
        },
        {
         "marker": {
          "maxdisplayed": 10
         },
         "mode": "lines+markers",
         "name": "Trial89",
         "type": "scatter",
         "x": [
          0,
          1,
          2,
          3,
          4,
          5,
          6,
          7,
          8,
          9
         ],
         "y": [
          0.8265,
          0.8414,
          0.8615,
          0.8639,
          0.8672,
          0.8682,
          0.8736,
          0.8759,
          0.8791,
          0.8728
         ]
        },
        {
         "marker": {
          "maxdisplayed": 10
         },
         "mode": "lines+markers",
         "name": "Trial90",
         "type": "scatter",
         "x": [
          0
         ],
         "y": [
          0.8085
         ]
        },
        {
         "marker": {
          "maxdisplayed": 10
         },
         "mode": "lines+markers",
         "name": "Trial91",
         "type": "scatter",
         "x": [
          0
         ],
         "y": [
          0.8074
         ]
        },
        {
         "marker": {
          "maxdisplayed": 10
         },
         "mode": "lines+markers",
         "name": "Trial92",
         "type": "scatter",
         "x": [
          0
         ],
         "y": [
          0.7721
         ]
        },
        {
         "marker": {
          "maxdisplayed": 10
         },
         "mode": "lines+markers",
         "name": "Trial93",
         "type": "scatter",
         "x": [
          0
         ],
         "y": [
          0.8046
         ]
        },
        {
         "marker": {
          "maxdisplayed": 10
         },
         "mode": "lines+markers",
         "name": "Trial94",
         "type": "scatter",
         "x": [
          0
         ],
         "y": [
          0.7699
         ]
        },
        {
         "marker": {
          "maxdisplayed": 10
         },
         "mode": "lines+markers",
         "name": "Trial95",
         "type": "scatter",
         "x": [
          0
         ],
         "y": [
          0.7899
         ]
        },
        {
         "marker": {
          "maxdisplayed": 10
         },
         "mode": "lines+markers",
         "name": "Trial96",
         "type": "scatter",
         "x": [
          0
         ],
         "y": [
          0.7681
         ]
        },
        {
         "marker": {
          "maxdisplayed": 10
         },
         "mode": "lines+markers",
         "name": "Trial97",
         "type": "scatter",
         "x": [
          0
         ],
         "y": [
          0.7884
         ]
        },
        {
         "marker": {
          "maxdisplayed": 10
         },
         "mode": "lines+markers",
         "name": "Trial98",
         "type": "scatter",
         "x": [
          0,
          1,
          2,
          3
         ],
         "y": [
          0.8256,
          0.8461,
          0.8517,
          0.8542
         ]
        },
        {
         "marker": {
          "maxdisplayed": 10
         },
         "mode": "lines+markers",
         "name": "Trial99",
         "type": "scatter",
         "x": [
          0,
          1,
          2,
          3,
          4,
          5,
          6,
          7,
          8,
          9
         ],
         "y": [
          0.8316,
          0.8404,
          0.8614,
          0.8564,
          0.8686,
          0.8728,
          0.8729,
          0.8681,
          0.8726,
          0.875
         ]
        },
        {
         "marker": {
          "maxdisplayed": 10
         },
         "mode": "lines+markers",
         "name": "Trial100",
         "type": "scatter",
         "x": [
          0,
          1,
          2,
          3,
          4,
          5,
          6,
          7,
          8,
          9
         ],
         "y": [
          0.8274,
          0.8436,
          0.8589,
          0.8585,
          0.8682,
          0.8732,
          0.8703,
          0.8797,
          0.8744,
          0.8737
         ]
        },
        {
         "marker": {
          "maxdisplayed": 10
         },
         "mode": "lines+markers",
         "name": "Trial101",
         "type": "scatter",
         "x": [
          0,
          1,
          2,
          3,
          4,
          5,
          6,
          7,
          8,
          9
         ],
         "y": [
          0.8371,
          0.8532,
          0.861,
          0.8729,
          0.8641,
          0.8723,
          0.8678,
          0.8669,
          0.8784,
          0.8745
         ]
        },
        {
         "marker": {
          "maxdisplayed": 10
         },
         "mode": "lines+markers",
         "name": "Trial102",
         "type": "scatter",
         "x": [
          0
         ],
         "y": [
          0.812
         ]
        },
        {
         "marker": {
          "maxdisplayed": 10
         },
         "mode": "lines+markers",
         "name": "Trial103",
         "type": "scatter",
         "x": [
          0,
          1,
          2,
          3,
          4,
          5,
          6,
          7,
          8,
          9
         ],
         "y": [
          0.8235,
          0.8518,
          0.8628,
          0.8564,
          0.869,
          0.8689,
          0.8764,
          0.8758,
          0.8798,
          0.8744
         ]
        },
        {
         "marker": {
          "maxdisplayed": 10
         },
         "mode": "lines+markers",
         "name": "Trial104",
         "type": "scatter",
         "x": [
          0,
          1,
          2,
          3,
          4,
          5,
          6,
          7,
          8,
          9
         ],
         "y": [
          0.8279,
          0.8481,
          0.8622,
          0.8639,
          0.8726,
          0.8677,
          0.8682,
          0.8813,
          0.8761,
          0.8799
         ]
        },
        {
         "marker": {
          "maxdisplayed": 10
         },
         "mode": "lines+markers",
         "name": "Trial105",
         "type": "scatter",
         "x": [
          0
         ],
         "y": [
          0.8202
         ]
        },
        {
         "marker": {
          "maxdisplayed": 10
         },
         "mode": "lines+markers",
         "name": "Trial106",
         "type": "scatter",
         "x": [
          0,
          1,
          2,
          3,
          4,
          5,
          6,
          7,
          8,
          9
         ],
         "y": [
          0.8349,
          0.8519,
          0.8631,
          0.8648,
          0.8724,
          0.8714,
          0.8694,
          0.872,
          0.8809,
          0.8779
         ]
        },
        {
         "marker": {
          "maxdisplayed": 10
         },
         "mode": "lines+markers",
         "name": "Trial107",
         "type": "scatter",
         "x": [
          0,
          1,
          2,
          3,
          4,
          5,
          6,
          7,
          8,
          9
         ],
         "y": [
          0.8295,
          0.8502,
          0.858,
          0.8659,
          0.8689,
          0.8713,
          0.8772,
          0.8463,
          0.8719,
          0.8772
         ]
        },
        {
         "marker": {
          "maxdisplayed": 10
         },
         "mode": "lines+markers",
         "name": "Trial108",
         "type": "scatter",
         "x": [
          0,
          1,
          2,
          3,
          4,
          5,
          6,
          7,
          8,
          9
         ],
         "y": [
          0.8245,
          0.8465,
          0.8639,
          0.8708,
          0.8634,
          0.8653,
          0.8664,
          0.8766,
          0.8768,
          0.8786
         ]
        },
        {
         "marker": {
          "maxdisplayed": 10
         },
         "mode": "lines+markers",
         "name": "Trial109",
         "type": "scatter",
         "x": [
          0,
          1,
          2,
          3,
          4,
          5,
          6,
          7,
          8,
          9
         ],
         "y": [
          0.829,
          0.8513,
          0.855,
          0.8651,
          0.8754,
          0.8667,
          0.8727,
          0.8698,
          0.8761,
          0.87
         ]
        },
        {
         "marker": {
          "maxdisplayed": 10
         },
         "mode": "lines+markers",
         "name": "Trial110",
         "type": "scatter",
         "x": [
          0,
          1,
          2,
          3,
          4
         ],
         "y": [
          0.8322,
          0.8523,
          0.8589,
          0.862,
          0.863
         ]
        },
        {
         "marker": {
          "maxdisplayed": 10
         },
         "mode": "lines+markers",
         "name": "Trial111",
         "type": "scatter",
         "x": [
          0,
          1,
          2,
          3,
          4
         ],
         "y": [
          0.8245,
          0.849,
          0.864,
          0.863,
          0.8574
         ]
        },
        {
         "marker": {
          "maxdisplayed": 10
         },
         "mode": "lines+markers",
         "name": "Trial112",
         "type": "scatter",
         "x": [
          0,
          1,
          2,
          3,
          4,
          5,
          6,
          7,
          8,
          9
         ],
         "y": [
          0.828,
          0.8524,
          0.8554,
          0.8618,
          0.8664,
          0.8707,
          0.8707,
          0.8779,
          0.8782,
          0.8741
         ]
        },
        {
         "marker": {
          "maxdisplayed": 10
         },
         "mode": "lines+markers",
         "name": "Trial113",
         "type": "scatter",
         "x": [
          0
         ],
         "y": [
          0.6991
         ]
        },
        {
         "marker": {
          "maxdisplayed": 10
         },
         "mode": "lines+markers",
         "name": "Trial114",
         "type": "scatter",
         "x": [
          0
         ],
         "y": [
          0.6702
         ]
        },
        {
         "marker": {
          "maxdisplayed": 10
         },
         "mode": "lines+markers",
         "name": "Trial115",
         "type": "scatter",
         "x": [
          0
         ],
         "y": [
          0.7347
         ]
        },
        {
         "marker": {
          "maxdisplayed": 10
         },
         "mode": "lines+markers",
         "name": "Trial116",
         "type": "scatter",
         "x": [
          0
         ],
         "y": [
          0.6444
         ]
        },
        {
         "marker": {
          "maxdisplayed": 10
         },
         "mode": "lines+markers",
         "name": "Trial117",
         "type": "scatter",
         "x": [
          0
         ],
         "y": [
          0.7593
         ]
        },
        {
         "marker": {
          "maxdisplayed": 10
         },
         "mode": "lines+markers",
         "name": "Trial118",
         "type": "scatter",
         "x": [
          0,
          1,
          2,
          3
         ],
         "y": [
          0.83,
          0.858,
          0.8606,
          0.8529
         ]
        },
        {
         "marker": {
          "maxdisplayed": 10
         },
         "mode": "lines+markers",
         "name": "Trial119",
         "type": "scatter",
         "x": [
          0,
          1,
          2,
          3,
          4,
          5,
          6
         ],
         "y": [
          0.8343,
          0.8496,
          0.8584,
          0.8692,
          0.8683,
          0.8655,
          0.8689
         ]
        },
        {
         "marker": {
          "maxdisplayed": 10
         },
         "mode": "lines+markers",
         "name": "Trial120",
         "type": "scatter",
         "x": [
          0
         ],
         "y": [
          0.8215
         ]
        },
        {
         "marker": {
          "maxdisplayed": 10
         },
         "mode": "lines+markers",
         "name": "Trial121",
         "type": "scatter",
         "x": [
          0
         ],
         "y": [
          0.6585
         ]
        },
        {
         "marker": {
          "maxdisplayed": 10
         },
         "mode": "lines+markers",
         "name": "Trial122",
         "type": "scatter",
         "x": [
          0
         ],
         "y": [
          0.648
         ]
        },
        {
         "marker": {
          "maxdisplayed": 10
         },
         "mode": "lines+markers",
         "name": "Trial123",
         "type": "scatter",
         "x": [
          0,
          1,
          2
         ],
         "y": [
          0.8276,
          0.8504,
          0.852
         ]
        },
        {
         "marker": {
          "maxdisplayed": 10
         },
         "mode": "lines+markers",
         "name": "Trial124",
         "type": "scatter",
         "x": [
          0
         ],
         "y": [
          0.8187
         ]
        },
        {
         "marker": {
          "maxdisplayed": 10
         },
         "mode": "lines+markers",
         "name": "Trial125",
         "type": "scatter",
         "x": [
          0
         ],
         "y": [
          0.8233
         ]
        },
        {
         "marker": {
          "maxdisplayed": 10
         },
         "mode": "lines+markers",
         "name": "Trial126",
         "type": "scatter",
         "x": [
          0
         ],
         "y": [
          0.8238
         ]
        },
        {
         "marker": {
          "maxdisplayed": 10
         },
         "mode": "lines+markers",
         "name": "Trial127",
         "type": "scatter",
         "x": [
          0
         ],
         "y": [
          0.8243
         ]
        },
        {
         "marker": {
          "maxdisplayed": 10
         },
         "mode": "lines+markers",
         "name": "Trial128",
         "type": "scatter",
         "x": [
          0
         ],
         "y": [
          0.8212
         ]
        },
        {
         "marker": {
          "maxdisplayed": 10
         },
         "mode": "lines+markers",
         "name": "Trial129",
         "type": "scatter",
         "x": [
          0,
          1,
          2,
          3,
          4,
          5,
          6,
          7,
          8,
          9
         ],
         "y": [
          0.8346,
          0.8481,
          0.8652,
          0.8673,
          0.8688,
          0.8712,
          0.8792,
          0.8714,
          0.8802,
          0.8788
         ]
        },
        {
         "marker": {
          "maxdisplayed": 10
         },
         "mode": "lines+markers",
         "name": "Trial130",
         "type": "scatter",
         "x": [
          0,
          1,
          2,
          3,
          4,
          5,
          6,
          7,
          8,
          9
         ],
         "y": [
          0.8281,
          0.8579,
          0.8558,
          0.8723,
          0.8721,
          0.8766,
          0.8736,
          0.8813,
          0.877,
          0.873
         ]
        },
        {
         "marker": {
          "maxdisplayed": 10
         },
         "mode": "lines+markers",
         "name": "Trial131",
         "type": "scatter",
         "x": [
          0
         ],
         "y": [
          0.8139
         ]
        },
        {
         "marker": {
          "maxdisplayed": 10
         },
         "mode": "lines+markers",
         "name": "Trial132",
         "type": "scatter",
         "x": [
          0
         ],
         "y": [
          0.8166
         ]
        },
        {
         "marker": {
          "maxdisplayed": 10
         },
         "mode": "lines+markers",
         "name": "Trial133",
         "type": "scatter",
         "x": [
          0
         ],
         "y": [
          0.8238
         ]
        },
        {
         "marker": {
          "maxdisplayed": 10
         },
         "mode": "lines+markers",
         "name": "Trial134",
         "type": "scatter",
         "x": [
          0
         ],
         "y": [
          0.8145
         ]
        },
        {
         "marker": {
          "maxdisplayed": 10
         },
         "mode": "lines+markers",
         "name": "Trial135",
         "type": "scatter",
         "x": [
          0,
          1,
          2,
          3,
          4
         ],
         "y": [
          0.8253,
          0.8465,
          0.86,
          0.8626,
          0.8634
         ]
        },
        {
         "marker": {
          "maxdisplayed": 10
         },
         "mode": "lines+markers",
         "name": "Trial136",
         "type": "scatter",
         "x": [
          0,
          1,
          2,
          3,
          4,
          5,
          6,
          7,
          8,
          9
         ],
         "y": [
          0.8312,
          0.849,
          0.867,
          0.8669,
          0.8648,
          0.8715,
          0.8763,
          0.8742,
          0.8859,
          0.8817
         ]
        },
        {
         "marker": {
          "maxdisplayed": 10
         },
         "mode": "lines+markers",
         "name": "Trial137",
         "type": "scatter",
         "x": [
          0,
          1,
          2,
          3,
          4,
          5,
          6,
          7,
          8,
          9
         ],
         "y": [
          0.8248,
          0.8491,
          0.8552,
          0.8669,
          0.8633,
          0.8736,
          0.8724,
          0.8825,
          0.8815,
          0.8785
         ]
        },
        {
         "marker": {
          "maxdisplayed": 10
         },
         "mode": "lines+markers",
         "name": "Trial138",
         "type": "scatter",
         "x": [
          0
         ],
         "y": [
          0.8112
         ]
        },
        {
         "marker": {
          "maxdisplayed": 10
         },
         "mode": "lines+markers",
         "name": "Trial139",
         "type": "scatter",
         "x": [
          0
         ],
         "y": [
          0.8088
         ]
        },
        {
         "marker": {
          "maxdisplayed": 10
         },
         "mode": "lines+markers",
         "name": "Trial140",
         "type": "scatter",
         "x": [
          0
         ],
         "y": [
          0.812
         ]
        },
        {
         "marker": {
          "maxdisplayed": 10
         },
         "mode": "lines+markers",
         "name": "Trial141",
         "type": "scatter",
         "x": [
          0
         ],
         "y": [
          0.7875
         ]
        },
        {
         "marker": {
          "maxdisplayed": 10
         },
         "mode": "lines+markers",
         "name": "Trial142",
         "type": "scatter",
         "x": [
          0
         ],
         "y": [
          0.82
         ]
        },
        {
         "marker": {
          "maxdisplayed": 10
         },
         "mode": "lines+markers",
         "name": "Trial143",
         "type": "scatter",
         "x": [
          0
         ],
         "y": [
          0.8209
         ]
        },
        {
         "marker": {
          "maxdisplayed": 10
         },
         "mode": "lines+markers",
         "name": "Trial144",
         "type": "scatter",
         "x": [
          0
         ],
         "y": [
          0.8119
         ]
        },
        {
         "marker": {
          "maxdisplayed": 10
         },
         "mode": "lines+markers",
         "name": "Trial145",
         "type": "scatter",
         "x": [
          0
         ],
         "y": [
          0.8149
         ]
        },
        {
         "marker": {
          "maxdisplayed": 10
         },
         "mode": "lines+markers",
         "name": "Trial146",
         "type": "scatter",
         "x": [
          0
         ],
         "y": [
          0.8234
         ]
        },
        {
         "marker": {
          "maxdisplayed": 10
         },
         "mode": "lines+markers",
         "name": "Trial147",
         "type": "scatter",
         "x": [
          0
         ],
         "y": [
          0.8131
         ]
        },
        {
         "marker": {
          "maxdisplayed": 10
         },
         "mode": "lines+markers",
         "name": "Trial148",
         "type": "scatter",
         "x": [
          0
         ],
         "y": [
          0.8167
         ]
        },
        {
         "marker": {
          "maxdisplayed": 10
         },
         "mode": "lines+markers",
         "name": "Trial149",
         "type": "scatter",
         "x": [
          0
         ],
         "y": [
          0.8086
         ]
        },
        {
         "marker": {
          "maxdisplayed": 10
         },
         "mode": "lines+markers",
         "name": "Trial150",
         "type": "scatter",
         "x": [
          0
         ],
         "y": [
          0.822
         ]
        },
        {
         "marker": {
          "maxdisplayed": 10
         },
         "mode": "lines+markers",
         "name": "Trial151",
         "type": "scatter",
         "x": [
          0
         ],
         "y": [
          0.8217
         ]
        },
        {
         "marker": {
          "maxdisplayed": 10
         },
         "mode": "lines+markers",
         "name": "Trial152",
         "type": "scatter",
         "x": [
          0,
          1,
          2,
          3,
          4,
          5,
          6,
          7,
          8
         ],
         "y": [
          0.8268,
          0.854,
          0.856,
          0.8683,
          0.8658,
          0.8743,
          0.8727,
          0.8675,
          0.8716
         ]
        },
        {
         "marker": {
          "maxdisplayed": 10
         },
         "mode": "lines+markers",
         "name": "Trial153",
         "type": "scatter",
         "x": [
          0
         ],
         "y": [
          0.8001
         ]
        },
        {
         "marker": {
          "maxdisplayed": 10
         },
         "mode": "lines+markers",
         "name": "Trial154",
         "type": "scatter",
         "x": [
          0
         ],
         "y": [
          0.8223
         ]
        },
        {
         "marker": {
          "maxdisplayed": 10
         },
         "mode": "lines+markers",
         "name": "Trial155",
         "type": "scatter",
         "x": [
          0
         ],
         "y": [
          0.8184
         ]
        },
        {
         "marker": {
          "maxdisplayed": 10
         },
         "mode": "lines+markers",
         "name": "Trial156",
         "type": "scatter",
         "x": [
          0
         ],
         "y": [
          0.8203
         ]
        },
        {
         "marker": {
          "maxdisplayed": 10
         },
         "mode": "lines+markers",
         "name": "Trial157",
         "type": "scatter",
         "x": [
          0
         ],
         "y": [
          0.7936
         ]
        },
        {
         "marker": {
          "maxdisplayed": 10
         },
         "mode": "lines+markers",
         "name": "Trial158",
         "type": "scatter",
         "x": [
          0,
          1,
          2
         ],
         "y": [
          0.8265,
          0.8531,
          0.8457
         ]
        },
        {
         "marker": {
          "maxdisplayed": 10
         },
         "mode": "lines+markers",
         "name": "Trial159",
         "type": "scatter",
         "x": [
          0
         ],
         "y": [
          0.8164
         ]
        },
        {
         "marker": {
          "maxdisplayed": 10
         },
         "mode": "lines+markers",
         "name": "Trial160",
         "type": "scatter",
         "x": [
          0,
          1,
          2,
          3
         ],
         "y": [
          0.8273,
          0.8462,
          0.8563,
          0.8595
         ]
        },
        {
         "marker": {
          "maxdisplayed": 10
         },
         "mode": "lines+markers",
         "name": "Trial161",
         "type": "scatter",
         "x": [
          0
         ],
         "y": [
          0.8156
         ]
        },
        {
         "marker": {
          "maxdisplayed": 10
         },
         "mode": "lines+markers",
         "name": "Trial162",
         "type": "scatter",
         "x": [
          0,
          1,
          2,
          3
         ],
         "y": [
          0.8256,
          0.8537,
          0.8623,
          0.8624
         ]
        },
        {
         "marker": {
          "maxdisplayed": 10
         },
         "mode": "lines+markers",
         "name": "Trial163",
         "type": "scatter",
         "x": [
          0
         ],
         "y": [
          0.818
         ]
        },
        {
         "marker": {
          "maxdisplayed": 10
         },
         "mode": "lines+markers",
         "name": "Trial164",
         "type": "scatter",
         "x": [
          0
         ],
         "y": [
          0.8225
         ]
        },
        {
         "marker": {
          "maxdisplayed": 10
         },
         "mode": "lines+markers",
         "name": "Trial165",
         "type": "scatter",
         "x": [
          0
         ],
         "y": [
          0.8118
         ]
        },
        {
         "marker": {
          "maxdisplayed": 10
         },
         "mode": "lines+markers",
         "name": "Trial166",
         "type": "scatter",
         "x": [
          0
         ],
         "y": [
          0.6716
         ]
        },
        {
         "marker": {
          "maxdisplayed": 10
         },
         "mode": "lines+markers",
         "name": "Trial167",
         "type": "scatter",
         "x": [
          0
         ],
         "y": [
          0.798
         ]
        },
        {
         "marker": {
          "maxdisplayed": 10
         },
         "mode": "lines+markers",
         "name": "Trial168",
         "type": "scatter",
         "x": [
          0,
          1,
          2,
          3,
          4,
          5,
          6,
          7,
          8
         ],
         "y": [
          0.8268,
          0.8562,
          0.8498,
          0.8692,
          0.8632,
          0.8741,
          0.8608,
          0.8652,
          0.8728
         ]
        },
        {
         "marker": {
          "maxdisplayed": 10
         },
         "mode": "lines+markers",
         "name": "Trial169",
         "type": "scatter",
         "x": [
          0
         ],
         "y": [
          0.8023
         ]
        },
        {
         "marker": {
          "maxdisplayed": 10
         },
         "mode": "lines+markers",
         "name": "Trial170",
         "type": "scatter",
         "x": [
          0,
          1,
          2,
          3,
          4,
          5,
          6,
          7,
          8,
          9
         ],
         "y": [
          0.8383,
          0.8498,
          0.8642,
          0.8539,
          0.8714,
          0.8727,
          0.8564,
          0.8823,
          0.8811,
          0.8803
         ]
        },
        {
         "marker": {
          "maxdisplayed": 10
         },
         "mode": "lines+markers",
         "name": "Trial171",
         "type": "scatter",
         "x": [
          0,
          1,
          2,
          3,
          4,
          5,
          6,
          7,
          8,
          9
         ],
         "y": [
          0.8248,
          0.8582,
          0.858,
          0.8674,
          0.8662,
          0.8748,
          0.8712,
          0.8716,
          0.8771,
          0.8793
         ]
        },
        {
         "marker": {
          "maxdisplayed": 10
         },
         "mode": "lines+markers",
         "name": "Trial172",
         "type": "scatter",
         "x": [
          0
         ],
         "y": [
          0.8211
         ]
        },
        {
         "marker": {
          "maxdisplayed": 10
         },
         "mode": "lines+markers",
         "name": "Trial173",
         "type": "scatter",
         "x": [
          0
         ],
         "y": [
          0.8212
         ]
        },
        {
         "marker": {
          "maxdisplayed": 10
         },
         "mode": "lines+markers",
         "name": "Trial174",
         "type": "scatter",
         "x": [
          0,
          1,
          2
         ],
         "y": [
          0.8259,
          0.8481,
          0.8462
         ]
        },
        {
         "marker": {
          "maxdisplayed": 10
         },
         "mode": "lines+markers",
         "name": "Trial175",
         "type": "scatter",
         "x": [
          0,
          1,
          2,
          3,
          4,
          5,
          6,
          7,
          8,
          9
         ],
         "y": [
          0.8364,
          0.858,
          0.8555,
          0.8674,
          0.8742,
          0.8618,
          0.875,
          0.8755,
          0.8752,
          0.8793
         ]
        },
        {
         "marker": {
          "maxdisplayed": 10
         },
         "mode": "lines+markers",
         "name": "Trial176",
         "type": "scatter",
         "x": [
          0
         ],
         "y": [
          0.8174
         ]
        },
        {
         "marker": {
          "maxdisplayed": 10
         },
         "mode": "lines+markers",
         "name": "Trial177",
         "type": "scatter",
         "x": [
          0
         ],
         "y": [
          0.8088
         ]
        },
        {
         "marker": {
          "maxdisplayed": 10
         },
         "mode": "lines+markers",
         "name": "Trial178",
         "type": "scatter",
         "x": [
          0,
          1,
          2,
          3
         ],
         "y": [
          0.8391,
          0.8475,
          0.8617,
          0.8604
         ]
        },
        {
         "marker": {
          "maxdisplayed": 10
         },
         "mode": "lines+markers",
         "name": "Trial179",
         "type": "scatter",
         "x": [
          0,
          1,
          2,
          3,
          4
         ],
         "y": [
          0.8261,
          0.8574,
          0.858,
          0.865,
          0.8574
         ]
        },
        {
         "marker": {
          "maxdisplayed": 10
         },
         "mode": "lines+markers",
         "name": "Trial180",
         "type": "scatter",
         "x": [
          0,
          1
         ],
         "y": [
          0.8275,
          0.8397
         ]
        },
        {
         "marker": {
          "maxdisplayed": 10
         },
         "mode": "lines+markers",
         "name": "Trial181",
         "type": "scatter",
         "x": [
          0
         ],
         "y": [
          0.8244
         ]
        },
        {
         "marker": {
          "maxdisplayed": 10
         },
         "mode": "lines+markers",
         "name": "Trial182",
         "type": "scatter",
         "x": [
          0,
          1
         ],
         "y": [
          0.8323,
          0.8462
         ]
        },
        {
         "marker": {
          "maxdisplayed": 10
         },
         "mode": "lines+markers",
         "name": "Trial183",
         "type": "scatter",
         "x": [
          0,
          1,
          2,
          3,
          4,
          5,
          6,
          7,
          8
         ],
         "y": [
          0.8271,
          0.8504,
          0.8652,
          0.8569,
          0.8655,
          0.8719,
          0.8746,
          0.873,
          0.8707
         ]
        },
        {
         "marker": {
          "maxdisplayed": 10
         },
         "mode": "lines+markers",
         "name": "Trial184",
         "type": "scatter",
         "x": [
          0
         ],
         "y": [
          0.7996
         ]
        },
        {
         "marker": {
          "maxdisplayed": 10
         },
         "mode": "lines+markers",
         "name": "Trial185",
         "type": "scatter",
         "x": [
          0,
          1,
          2
         ],
         "y": [
          0.8294,
          0.8503,
          0.8548
         ]
        },
        {
         "marker": {
          "maxdisplayed": 10
         },
         "mode": "lines+markers",
         "name": "Trial186",
         "type": "scatter",
         "x": [
          0
         ],
         "y": [
          0.8225
         ]
        },
        {
         "marker": {
          "maxdisplayed": 10
         },
         "mode": "lines+markers",
         "name": "Trial187",
         "type": "scatter",
         "x": [
          0
         ],
         "y": [
          0.8214
         ]
        },
        {
         "marker": {
          "maxdisplayed": 10
         },
         "mode": "lines+markers",
         "name": "Trial188",
         "type": "scatter",
         "x": [
          0
         ],
         "y": [
          0.8229
         ]
        },
        {
         "marker": {
          "maxdisplayed": 10
         },
         "mode": "lines+markers",
         "name": "Trial189",
         "type": "scatter",
         "x": [
          0,
          1
         ],
         "y": [
          0.8289,
          0.8435
         ]
        },
        {
         "marker": {
          "maxdisplayed": 10
         },
         "mode": "lines+markers",
         "name": "Trial190",
         "type": "scatter",
         "x": [
          0
         ],
         "y": [
          0.8196
         ]
        },
        {
         "marker": {
          "maxdisplayed": 10
         },
         "mode": "lines+markers",
         "name": "Trial191",
         "type": "scatter",
         "x": [
          0
         ],
         "y": [
          0.8139
         ]
        },
        {
         "marker": {
          "maxdisplayed": 10
         },
         "mode": "lines+markers",
         "name": "Trial192",
         "type": "scatter",
         "x": [
          0
         ],
         "y": [
          0.8186
         ]
        },
        {
         "marker": {
          "maxdisplayed": 10
         },
         "mode": "lines+markers",
         "name": "Trial193",
         "type": "scatter",
         "x": [
          0,
          1,
          2,
          3,
          4,
          5
         ],
         "y": [
          0.8268,
          0.8475,
          0.8617,
          0.8641,
          0.8673,
          0.8641
         ]
        },
        {
         "marker": {
          "maxdisplayed": 10
         },
         "mode": "lines+markers",
         "name": "Trial194",
         "type": "scatter",
         "x": [
          0,
          1
         ],
         "y": [
          0.8283,
          0.8454
         ]
        },
        {
         "marker": {
          "maxdisplayed": 10
         },
         "mode": "lines+markers",
         "name": "Trial195",
         "type": "scatter",
         "x": [
          0,
          1,
          2,
          3,
          4,
          5,
          6,
          7,
          8,
          9
         ],
         "y": [
          0.8274,
          0.8477,
          0.8594,
          0.867,
          0.8711,
          0.8705,
          0.8795,
          0.8786,
          0.8807,
          0.8785
         ]
        },
        {
         "marker": {
          "maxdisplayed": 10
         },
         "mode": "lines+markers",
         "name": "Trial196",
         "type": "scatter",
         "x": [
          0,
          1
         ],
         "y": [
          0.8265,
          0.8447
         ]
        },
        {
         "marker": {
          "maxdisplayed": 10
         },
         "mode": "lines+markers",
         "name": "Trial197",
         "type": "scatter",
         "x": [
          0,
          1,
          2,
          3
         ],
         "y": [
          0.8278,
          0.8508,
          0.861,
          0.8633
         ]
        },
        {
         "marker": {
          "maxdisplayed": 10
         },
         "mode": "lines+markers",
         "name": "Trial198",
         "type": "scatter",
         "x": [
          0
         ],
         "y": [
          0.8244
         ]
        },
        {
         "marker": {
          "maxdisplayed": 10
         },
         "mode": "lines+markers",
         "name": "Trial199",
         "type": "scatter",
         "x": [
          0,
          1,
          2
         ],
         "y": [
          0.8407,
          0.8502,
          0.855
         ]
        },
        {
         "marker": {
          "maxdisplayed": 10
         },
         "mode": "lines+markers",
         "name": "Trial200",
         "type": "scatter",
         "x": [
          0,
          1,
          2,
          3,
          4,
          5,
          6,
          7,
          8,
          9
         ],
         "y": [
          0.8297,
          0.8585,
          0.8659,
          0.871,
          0.8711,
          0.8774,
          0.8758,
          0.8773,
          0.878,
          0.8785
         ]
        },
        {
         "marker": {
          "maxdisplayed": 10
         },
         "mode": "lines+markers",
         "name": "Trial201",
         "type": "scatter",
         "x": [
          0
         ],
         "y": [
          0.8001
         ]
        },
        {
         "marker": {
          "maxdisplayed": 10
         },
         "mode": "lines+markers",
         "name": "Trial202",
         "type": "scatter",
         "x": [
          0
         ],
         "y": [
          0.8196
         ]
        },
        {
         "marker": {
          "maxdisplayed": 10
         },
         "mode": "lines+markers",
         "name": "Trial203",
         "type": "scatter",
         "x": [
          0
         ],
         "y": [
          0.8237
         ]
        },
        {
         "marker": {
          "maxdisplayed": 10
         },
         "mode": "lines+markers",
         "name": "Trial204",
         "type": "scatter",
         "x": [
          0
         ],
         "y": [
          0.8233
         ]
        },
        {
         "marker": {
          "maxdisplayed": 10
         },
         "mode": "lines+markers",
         "name": "Trial205",
         "type": "scatter",
         "x": [
          0
         ],
         "y": [
          0.7157
         ]
        },
        {
         "marker": {
          "maxdisplayed": 10
         },
         "mode": "lines+markers",
         "name": "Trial206",
         "type": "scatter",
         "x": [
          0
         ],
         "y": [
          0.7074
         ]
        },
        {
         "marker": {
          "maxdisplayed": 10
         },
         "mode": "lines+markers",
         "name": "Trial207",
         "type": "scatter",
         "x": [
          0
         ],
         "y": [
          0.7427
         ]
        },
        {
         "marker": {
          "maxdisplayed": 10
         },
         "mode": "lines+markers",
         "name": "Trial208",
         "type": "scatter",
         "x": [
          0
         ],
         "y": [
          0.8214
         ]
        },
        {
         "marker": {
          "maxdisplayed": 10
         },
         "mode": "lines+markers",
         "name": "Trial209",
         "type": "scatter",
         "x": [
          0
         ],
         "y": [
          0.8176
         ]
        },
        {
         "marker": {
          "maxdisplayed": 10
         },
         "mode": "lines+markers",
         "name": "Trial210",
         "type": "scatter",
         "x": [
          0
         ],
         "y": [
          0.8241
         ]
        },
        {
         "marker": {
          "maxdisplayed": 10
         },
         "mode": "lines+markers",
         "name": "Trial211",
         "type": "scatter",
         "x": [
          0
         ],
         "y": [
          0.7994
         ]
        },
        {
         "marker": {
          "maxdisplayed": 10
         },
         "mode": "lines+markers",
         "name": "Trial212",
         "type": "scatter",
         "x": [
          0
         ],
         "y": [
          0.7936
         ]
        },
        {
         "marker": {
          "maxdisplayed": 10
         },
         "mode": "lines+markers",
         "name": "Trial213",
         "type": "scatter",
         "x": [
          0,
          1
         ],
         "y": [
          0.8277,
          0.8414
         ]
        },
        {
         "marker": {
          "maxdisplayed": 10
         },
         "mode": "lines+markers",
         "name": "Trial214",
         "type": "scatter",
         "x": [
          0
         ],
         "y": [
          0.8136
         ]
        },
        {
         "marker": {
          "maxdisplayed": 10
         },
         "mode": "lines+markers",
         "name": "Trial215",
         "type": "scatter",
         "x": [
          0
         ],
         "y": [
          0.8011
         ]
        },
        {
         "marker": {
          "maxdisplayed": 10
         },
         "mode": "lines+markers",
         "name": "Trial216",
         "type": "scatter",
         "x": [
          0,
          1,
          2,
          3,
          4,
          5,
          6,
          7,
          8,
          9
         ],
         "y": [
          0.8263,
          0.8544,
          0.8615,
          0.8701,
          0.8715,
          0.8751,
          0.8755,
          0.8761,
          0.8744,
          0.8792
         ]
        },
        {
         "marker": {
          "maxdisplayed": 10
         },
         "mode": "lines+markers",
         "name": "Trial217",
         "type": "scatter",
         "x": [
          0,
          1,
          2,
          3,
          4,
          5,
          6,
          7,
          8,
          9
         ],
         "y": [
          0.831,
          0.8509,
          0.8605,
          0.8702,
          0.8677,
          0.8754,
          0.8744,
          0.8792,
          0.8755,
          0.8783
         ]
        },
        {
         "marker": {
          "maxdisplayed": 10
         },
         "mode": "lines+markers",
         "name": "Trial218",
         "type": "scatter",
         "x": [
          0
         ],
         "y": [
          0.8204
         ]
        },
        {
         "marker": {
          "maxdisplayed": 10
         },
         "mode": "lines+markers",
         "name": "Trial219",
         "type": "scatter",
         "x": [
          0
         ],
         "y": [
          0.8005
         ]
        },
        {
         "marker": {
          "maxdisplayed": 10
         },
         "mode": "lines+markers",
         "name": "Trial220",
         "type": "scatter",
         "x": [
          0
         ],
         "y": [
          0.8225
         ]
        },
        {
         "marker": {
          "maxdisplayed": 10
         },
         "mode": "lines+markers",
         "name": "Trial221",
         "type": "scatter",
         "x": [
          0
         ],
         "y": [
          0.818
         ]
        },
        {
         "marker": {
          "maxdisplayed": 10
         },
         "mode": "lines+markers",
         "name": "Trial222",
         "type": "scatter",
         "x": [
          0
         ],
         "y": [
          0.8249
         ]
        },
        {
         "marker": {
          "maxdisplayed": 10
         },
         "mode": "lines+markers",
         "name": "Trial223",
         "type": "scatter",
         "x": [
          0
         ],
         "y": [
          0.8143
         ]
        },
        {
         "marker": {
          "maxdisplayed": 10
         },
         "mode": "lines+markers",
         "name": "Trial224",
         "type": "scatter",
         "x": [
          0
         ],
         "y": [
          0.7927
         ]
        },
        {
         "marker": {
          "maxdisplayed": 10
         },
         "mode": "lines+markers",
         "name": "Trial225",
         "type": "scatter",
         "x": [
          0,
          1,
          2,
          3,
          4,
          5,
          6,
          7,
          8,
          9
         ],
         "y": [
          0.8264,
          0.8476,
          0.8644,
          0.8669,
          0.8744,
          0.8767,
          0.8756,
          0.8766,
          0.8786,
          0.8801
         ]
        },
        {
         "marker": {
          "maxdisplayed": 10
         },
         "mode": "lines+markers",
         "name": "Trial226",
         "type": "scatter",
         "x": [
          0,
          1,
          2
         ],
         "y": [
          0.8276,
          0.8476,
          0.8543
         ]
        },
        {
         "marker": {
          "maxdisplayed": 10
         },
         "mode": "lines+markers",
         "name": "Trial227",
         "type": "scatter",
         "x": [
          0
         ],
         "y": [
          0.8076
         ]
        },
        {
         "marker": {
          "maxdisplayed": 10
         },
         "mode": "lines+markers",
         "name": "Trial228",
         "type": "scatter",
         "x": [
          0,
          1,
          2,
          3,
          4,
          5
         ],
         "y": [
          0.8369,
          0.8546,
          0.8621,
          0.869,
          0.8675,
          0.874
         ]
        },
        {
         "marker": {
          "maxdisplayed": 10
         },
         "mode": "lines+markers",
         "name": "Trial229",
         "type": "scatter",
         "x": [
          0
         ],
         "y": [
          0.8031
         ]
        },
        {
         "marker": {
          "maxdisplayed": 10
         },
         "mode": "lines+markers",
         "name": "Trial230",
         "type": "scatter",
         "x": [
          0
         ],
         "y": [
          0.8223
         ]
        },
        {
         "marker": {
          "maxdisplayed": 10
         },
         "mode": "lines+markers",
         "name": "Trial231",
         "type": "scatter",
         "x": [
          0
         ],
         "y": [
          0.8217
         ]
        },
        {
         "marker": {
          "maxdisplayed": 10
         },
         "mode": "lines+markers",
         "name": "Trial232",
         "type": "scatter",
         "x": [
          0,
          1,
          2,
          3,
          4
         ],
         "y": [
          0.8329,
          0.8566,
          0.8614,
          0.8736,
          0.8738
         ]
        },
        {
         "marker": {
          "maxdisplayed": 10
         },
         "mode": "lines+markers",
         "name": "Trial233",
         "type": "scatter",
         "x": [
          0,
          1,
          2
         ],
         "y": [
          0.835,
          0.8514,
          0.8524
         ]
        },
        {
         "marker": {
          "maxdisplayed": 10
         },
         "mode": "lines+markers",
         "name": "Trial234",
         "type": "scatter",
         "x": [
          0
         ],
         "y": [
          0.8238
         ]
        },
        {
         "marker": {
          "maxdisplayed": 10
         },
         "mode": "lines+markers",
         "name": "Trial235",
         "type": "scatter",
         "x": [
          0
         ],
         "y": [
          0.826
         ]
        },
        {
         "marker": {
          "maxdisplayed": 10
         },
         "mode": "lines+markers",
         "name": "Trial236",
         "type": "scatter",
         "x": [
          0,
          1
         ],
         "y": [
          0.8296,
          0.8362
         ]
        },
        {
         "marker": {
          "maxdisplayed": 10
         },
         "mode": "lines+markers",
         "name": "Trial237",
         "type": "scatter",
         "x": [
          0
         ],
         "y": [
          0.8223
         ]
        },
        {
         "marker": {
          "maxdisplayed": 10
         },
         "mode": "lines+markers",
         "name": "Trial238",
         "type": "scatter",
         "x": [
          0,
          1,
          2
         ],
         "y": [
          0.8409,
          0.8597,
          0.8667
         ]
        },
        {
         "marker": {
          "maxdisplayed": 10
         },
         "mode": "lines+markers",
         "name": "Trial239",
         "type": "scatter",
         "x": [
          0,
          1
         ],
         "y": [
          0.8402,
          0.8431
         ]
        },
        {
         "marker": {
          "maxdisplayed": 10
         },
         "mode": "lines+markers",
         "name": "Trial240",
         "type": "scatter",
         "x": [
          0,
          1,
          2
         ],
         "y": [
          0.8329,
          0.8543,
          0.8702
         ]
        },
        {
         "marker": {
          "maxdisplayed": 10
         },
         "mode": "lines+markers",
         "name": "Trial241",
         "type": "scatter",
         "x": [
          0,
          1
         ],
         "y": [
          0.8358,
          0.843
         ]
        },
        {
         "marker": {
          "maxdisplayed": 10
         },
         "mode": "lines+markers",
         "name": "Trial242",
         "type": "scatter",
         "x": [
          0
         ],
         "y": [
          0.8175
         ]
        },
        {
         "marker": {
          "maxdisplayed": 10
         },
         "mode": "lines+markers",
         "name": "Trial243",
         "type": "scatter",
         "x": [
          0,
          1
         ],
         "y": [
          0.8335,
          0.85
         ]
        },
        {
         "marker": {
          "maxdisplayed": 10
         },
         "mode": "lines+markers",
         "name": "Trial244",
         "type": "scatter",
         "x": [
          0
         ],
         "y": [
          0.826
         ]
        },
        {
         "marker": {
          "maxdisplayed": 10
         },
         "mode": "lines+markers",
         "name": "Trial245",
         "type": "scatter",
         "x": [
          0
         ],
         "y": [
          0.8164
         ]
        }
       ],
       "layout": {
        "showlegend": false,
        "template": {
         "data": {
          "bar": [
           {
            "error_x": {
             "color": "#2a3f5f"
            },
            "error_y": {
             "color": "#2a3f5f"
            },
            "marker": {
             "line": {
              "color": "#E5ECF6",
              "width": 0.5
             },
             "pattern": {
              "fillmode": "overlay",
              "size": 10,
              "solidity": 0.2
             }
            },
            "type": "bar"
           }
          ],
          "barpolar": [
           {
            "marker": {
             "line": {
              "color": "#E5ECF6",
              "width": 0.5
             },
             "pattern": {
              "fillmode": "overlay",
              "size": 10,
              "solidity": 0.2
             }
            },
            "type": "barpolar"
           }
          ],
          "carpet": [
           {
            "aaxis": {
             "endlinecolor": "#2a3f5f",
             "gridcolor": "white",
             "linecolor": "white",
             "minorgridcolor": "white",
             "startlinecolor": "#2a3f5f"
            },
            "baxis": {
             "endlinecolor": "#2a3f5f",
             "gridcolor": "white",
             "linecolor": "white",
             "minorgridcolor": "white",
             "startlinecolor": "#2a3f5f"
            },
            "type": "carpet"
           }
          ],
          "choropleth": [
           {
            "colorbar": {
             "outlinewidth": 0,
             "ticks": ""
            },
            "type": "choropleth"
           }
          ],
          "contour": [
           {
            "colorbar": {
             "outlinewidth": 0,
             "ticks": ""
            },
            "colorscale": [
             [
              0,
              "#0d0887"
             ],
             [
              0.1111111111111111,
              "#46039f"
             ],
             [
              0.2222222222222222,
              "#7201a8"
             ],
             [
              0.3333333333333333,
              "#9c179e"
             ],
             [
              0.4444444444444444,
              "#bd3786"
             ],
             [
              0.5555555555555556,
              "#d8576b"
             ],
             [
              0.6666666666666666,
              "#ed7953"
             ],
             [
              0.7777777777777778,
              "#fb9f3a"
             ],
             [
              0.8888888888888888,
              "#fdca26"
             ],
             [
              1,
              "#f0f921"
             ]
            ],
            "type": "contour"
           }
          ],
          "contourcarpet": [
           {
            "colorbar": {
             "outlinewidth": 0,
             "ticks": ""
            },
            "type": "contourcarpet"
           }
          ],
          "heatmap": [
           {
            "colorbar": {
             "outlinewidth": 0,
             "ticks": ""
            },
            "colorscale": [
             [
              0,
              "#0d0887"
             ],
             [
              0.1111111111111111,
              "#46039f"
             ],
             [
              0.2222222222222222,
              "#7201a8"
             ],
             [
              0.3333333333333333,
              "#9c179e"
             ],
             [
              0.4444444444444444,
              "#bd3786"
             ],
             [
              0.5555555555555556,
              "#d8576b"
             ],
             [
              0.6666666666666666,
              "#ed7953"
             ],
             [
              0.7777777777777778,
              "#fb9f3a"
             ],
             [
              0.8888888888888888,
              "#fdca26"
             ],
             [
              1,
              "#f0f921"
             ]
            ],
            "type": "heatmap"
           }
          ],
          "heatmapgl": [
           {
            "colorbar": {
             "outlinewidth": 0,
             "ticks": ""
            },
            "colorscale": [
             [
              0,
              "#0d0887"
             ],
             [
              0.1111111111111111,
              "#46039f"
             ],
             [
              0.2222222222222222,
              "#7201a8"
             ],
             [
              0.3333333333333333,
              "#9c179e"
             ],
             [
              0.4444444444444444,
              "#bd3786"
             ],
             [
              0.5555555555555556,
              "#d8576b"
             ],
             [
              0.6666666666666666,
              "#ed7953"
             ],
             [
              0.7777777777777778,
              "#fb9f3a"
             ],
             [
              0.8888888888888888,
              "#fdca26"
             ],
             [
              1,
              "#f0f921"
             ]
            ],
            "type": "heatmapgl"
           }
          ],
          "histogram": [
           {
            "marker": {
             "pattern": {
              "fillmode": "overlay",
              "size": 10,
              "solidity": 0.2
             }
            },
            "type": "histogram"
           }
          ],
          "histogram2d": [
           {
            "colorbar": {
             "outlinewidth": 0,
             "ticks": ""
            },
            "colorscale": [
             [
              0,
              "#0d0887"
             ],
             [
              0.1111111111111111,
              "#46039f"
             ],
             [
              0.2222222222222222,
              "#7201a8"
             ],
             [
              0.3333333333333333,
              "#9c179e"
             ],
             [
              0.4444444444444444,
              "#bd3786"
             ],
             [
              0.5555555555555556,
              "#d8576b"
             ],
             [
              0.6666666666666666,
              "#ed7953"
             ],
             [
              0.7777777777777778,
              "#fb9f3a"
             ],
             [
              0.8888888888888888,
              "#fdca26"
             ],
             [
              1,
              "#f0f921"
             ]
            ],
            "type": "histogram2d"
           }
          ],
          "histogram2dcontour": [
           {
            "colorbar": {
             "outlinewidth": 0,
             "ticks": ""
            },
            "colorscale": [
             [
              0,
              "#0d0887"
             ],
             [
              0.1111111111111111,
              "#46039f"
             ],
             [
              0.2222222222222222,
              "#7201a8"
             ],
             [
              0.3333333333333333,
              "#9c179e"
             ],
             [
              0.4444444444444444,
              "#bd3786"
             ],
             [
              0.5555555555555556,
              "#d8576b"
             ],
             [
              0.6666666666666666,
              "#ed7953"
             ],
             [
              0.7777777777777778,
              "#fb9f3a"
             ],
             [
              0.8888888888888888,
              "#fdca26"
             ],
             [
              1,
              "#f0f921"
             ]
            ],
            "type": "histogram2dcontour"
           }
          ],
          "mesh3d": [
           {
            "colorbar": {
             "outlinewidth": 0,
             "ticks": ""
            },
            "type": "mesh3d"
           }
          ],
          "parcoords": [
           {
            "line": {
             "colorbar": {
              "outlinewidth": 0,
              "ticks": ""
             }
            },
            "type": "parcoords"
           }
          ],
          "pie": [
           {
            "automargin": true,
            "type": "pie"
           }
          ],
          "scatter": [
           {
            "fillpattern": {
             "fillmode": "overlay",
             "size": 10,
             "solidity": 0.2
            },
            "type": "scatter"
           }
          ],
          "scatter3d": [
           {
            "line": {
             "colorbar": {
              "outlinewidth": 0,
              "ticks": ""
             }
            },
            "marker": {
             "colorbar": {
              "outlinewidth": 0,
              "ticks": ""
             }
            },
            "type": "scatter3d"
           }
          ],
          "scattercarpet": [
           {
            "marker": {
             "colorbar": {
              "outlinewidth": 0,
              "ticks": ""
             }
            },
            "type": "scattercarpet"
           }
          ],
          "scattergeo": [
           {
            "marker": {
             "colorbar": {
              "outlinewidth": 0,
              "ticks": ""
             }
            },
            "type": "scattergeo"
           }
          ],
          "scattergl": [
           {
            "marker": {
             "colorbar": {
              "outlinewidth": 0,
              "ticks": ""
             }
            },
            "type": "scattergl"
           }
          ],
          "scattermapbox": [
           {
            "marker": {
             "colorbar": {
              "outlinewidth": 0,
              "ticks": ""
             }
            },
            "type": "scattermapbox"
           }
          ],
          "scatterpolar": [
           {
            "marker": {
             "colorbar": {
              "outlinewidth": 0,
              "ticks": ""
             }
            },
            "type": "scatterpolar"
           }
          ],
          "scatterpolargl": [
           {
            "marker": {
             "colorbar": {
              "outlinewidth": 0,
              "ticks": ""
             }
            },
            "type": "scatterpolargl"
           }
          ],
          "scatterternary": [
           {
            "marker": {
             "colorbar": {
              "outlinewidth": 0,
              "ticks": ""
             }
            },
            "type": "scatterternary"
           }
          ],
          "surface": [
           {
            "colorbar": {
             "outlinewidth": 0,
             "ticks": ""
            },
            "colorscale": [
             [
              0,
              "#0d0887"
             ],
             [
              0.1111111111111111,
              "#46039f"
             ],
             [
              0.2222222222222222,
              "#7201a8"
             ],
             [
              0.3333333333333333,
              "#9c179e"
             ],
             [
              0.4444444444444444,
              "#bd3786"
             ],
             [
              0.5555555555555556,
              "#d8576b"
             ],
             [
              0.6666666666666666,
              "#ed7953"
             ],
             [
              0.7777777777777778,
              "#fb9f3a"
             ],
             [
              0.8888888888888888,
              "#fdca26"
             ],
             [
              1,
              "#f0f921"
             ]
            ],
            "type": "surface"
           }
          ],
          "table": [
           {
            "cells": {
             "fill": {
              "color": "#EBF0F8"
             },
             "line": {
              "color": "white"
             }
            },
            "header": {
             "fill": {
              "color": "#C8D4E3"
             },
             "line": {
              "color": "white"
             }
            },
            "type": "table"
           }
          ]
         },
         "layout": {
          "annotationdefaults": {
           "arrowcolor": "#2a3f5f",
           "arrowhead": 0,
           "arrowwidth": 1
          },
          "autotypenumbers": "strict",
          "coloraxis": {
           "colorbar": {
            "outlinewidth": 0,
            "ticks": ""
           }
          },
          "colorscale": {
           "diverging": [
            [
             0,
             "#8e0152"
            ],
            [
             0.1,
             "#c51b7d"
            ],
            [
             0.2,
             "#de77ae"
            ],
            [
             0.3,
             "#f1b6da"
            ],
            [
             0.4,
             "#fde0ef"
            ],
            [
             0.5,
             "#f7f7f7"
            ],
            [
             0.6,
             "#e6f5d0"
            ],
            [
             0.7,
             "#b8e186"
            ],
            [
             0.8,
             "#7fbc41"
            ],
            [
             0.9,
             "#4d9221"
            ],
            [
             1,
             "#276419"
            ]
           ],
           "sequential": [
            [
             0,
             "#0d0887"
            ],
            [
             0.1111111111111111,
             "#46039f"
            ],
            [
             0.2222222222222222,
             "#7201a8"
            ],
            [
             0.3333333333333333,
             "#9c179e"
            ],
            [
             0.4444444444444444,
             "#bd3786"
            ],
            [
             0.5555555555555556,
             "#d8576b"
            ],
            [
             0.6666666666666666,
             "#ed7953"
            ],
            [
             0.7777777777777778,
             "#fb9f3a"
            ],
            [
             0.8888888888888888,
             "#fdca26"
            ],
            [
             1,
             "#f0f921"
            ]
           ],
           "sequentialminus": [
            [
             0,
             "#0d0887"
            ],
            [
             0.1111111111111111,
             "#46039f"
            ],
            [
             0.2222222222222222,
             "#7201a8"
            ],
            [
             0.3333333333333333,
             "#9c179e"
            ],
            [
             0.4444444444444444,
             "#bd3786"
            ],
            [
             0.5555555555555556,
             "#d8576b"
            ],
            [
             0.6666666666666666,
             "#ed7953"
            ],
            [
             0.7777777777777778,
             "#fb9f3a"
            ],
            [
             0.8888888888888888,
             "#fdca26"
            ],
            [
             1,
             "#f0f921"
            ]
           ]
          },
          "colorway": [
           "#636efa",
           "#EF553B",
           "#00cc96",
           "#ab63fa",
           "#FFA15A",
           "#19d3f3",
           "#FF6692",
           "#B6E880",
           "#FF97FF",
           "#FECB52"
          ],
          "font": {
           "color": "#2a3f5f"
          },
          "geo": {
           "bgcolor": "white",
           "lakecolor": "white",
           "landcolor": "#E5ECF6",
           "showlakes": true,
           "showland": true,
           "subunitcolor": "white"
          },
          "hoverlabel": {
           "align": "left"
          },
          "hovermode": "closest",
          "mapbox": {
           "style": "light"
          },
          "paper_bgcolor": "white",
          "plot_bgcolor": "#E5ECF6",
          "polar": {
           "angularaxis": {
            "gridcolor": "white",
            "linecolor": "white",
            "ticks": ""
           },
           "bgcolor": "#E5ECF6",
           "radialaxis": {
            "gridcolor": "white",
            "linecolor": "white",
            "ticks": ""
           }
          },
          "scene": {
           "xaxis": {
            "backgroundcolor": "#E5ECF6",
            "gridcolor": "white",
            "gridwidth": 2,
            "linecolor": "white",
            "showbackground": true,
            "ticks": "",
            "zerolinecolor": "white"
           },
           "yaxis": {
            "backgroundcolor": "#E5ECF6",
            "gridcolor": "white",
            "gridwidth": 2,
            "linecolor": "white",
            "showbackground": true,
            "ticks": "",
            "zerolinecolor": "white"
           },
           "zaxis": {
            "backgroundcolor": "#E5ECF6",
            "gridcolor": "white",
            "gridwidth": 2,
            "linecolor": "white",
            "showbackground": true,
            "ticks": "",
            "zerolinecolor": "white"
           }
          },
          "shapedefaults": {
           "line": {
            "color": "#2a3f5f"
           }
          },
          "ternary": {
           "aaxis": {
            "gridcolor": "white",
            "linecolor": "white",
            "ticks": ""
           },
           "baxis": {
            "gridcolor": "white",
            "linecolor": "white",
            "ticks": ""
           },
           "bgcolor": "#E5ECF6",
           "caxis": {
            "gridcolor": "white",
            "linecolor": "white",
            "ticks": ""
           }
          },
          "title": {
           "x": 0.05
          },
          "xaxis": {
           "automargin": true,
           "gridcolor": "white",
           "linecolor": "white",
           "ticks": "",
           "title": {
            "standoff": 15
           },
           "zerolinecolor": "white",
           "zerolinewidth": 2
          },
          "yaxis": {
           "automargin": true,
           "gridcolor": "white",
           "linecolor": "white",
           "ticks": "",
           "title": {
            "standoff": 15
           },
           "zerolinecolor": "white",
           "zerolinewidth": 2
          }
         }
        },
        "title": {
         "text": "Intermediate Values Plot"
        },
        "xaxis": {
         "title": {
          "text": "Step"
         }
        },
        "yaxis": {
         "title": {
          "text": "Intermediate Value"
         }
        }
       }
      }
     },
     "metadata": {},
     "output_type": "display_data"
    }
   ],
   "source": [
    "optuna.visualization.plot_intermediate_values(study)"
   ]
  },
  {
   "cell_type": "markdown",
   "metadata": {},
   "source": [
    "#### Intermediate Values Plot \n",
    "shows the learning performance of the trials after each of 10 epochs\n",
    "\n",
    "some of trials were pruned, some models slightly decrease their performance in the middle of the training.\n",
    "But most of the trials follow the same pattern: they increase their performance after every epoch. This improvements at the beginning are bigger than in the latest epochs. "
   ]
  },
  {
   "cell_type": "markdown",
   "metadata": {},
   "source": [
    "### Let's train the model wir the found optimal hyperparameters"
   ]
  },
  {
   "cell_type": "code",
   "execution_count": 48,
   "metadata": {},
   "outputs": [
    {
     "name": "stderr",
     "output_type": "stream",
     "text": [
      "Epoch 1 Iter 59: loss 0.47094. : 100%|██████████| 59/59 [00:07<00:00,  7.55it/s]\n",
      "Epoch 2 Iter 59: loss 0.32008. : 100%|██████████| 59/59 [00:07<00:00,  7.71it/s]\n",
      "Epoch 3 Iter 59: loss 0.31541. : 100%|██████████| 59/59 [00:07<00:00,  7.81it/s]\n",
      "Epoch 4 Iter 59: loss 0.30993. : 100%|██████████| 59/59 [00:07<00:00,  7.80it/s]\n",
      "Epoch 5 Iter 59: loss 0.32805. : 100%|██████████| 59/59 [00:07<00:00,  7.70it/s]\n",
      "Epoch 6 Iter 59: loss 0.30633. : 100%|██████████| 59/59 [00:07<00:00,  7.81it/s]\n",
      "Epoch 7 Iter 59: loss 0.32251. : 100%|██████████| 59/59 [00:07<00:00,  7.74it/s]\n",
      "Epoch 8 Iter 59: loss 0.30932. : 100%|██████████| 59/59 [00:07<00:00,  7.71it/s]\n",
      "Epoch 9 Iter 59: loss 0.28745. : 100%|██████████| 59/59 [00:07<00:00,  7.88it/s]\n",
      "Epoch 10 Iter 59: loss 0.30027. : 100%|██████████| 59/59 [00:07<00:00,  7.76it/s]\n"
     ]
    }
   ],
   "source": [
    "model_opt = Model(input_dim=784, hidden_layers_dims=[210], output_dim=10, activation=nn.LeakyReLU).to(device)\n",
    "\n",
    "optimizer_opt = torch.optim.Adam(model_opt.parameters(), lr=0.01238)\n",
    "criterion_opt = nn.CrossEntropyLoss()  # already includes a Softmax!\n",
    "\n",
    "loss_list_opt = []\n",
    "acc_list_opt = []\n",
    "\n",
    "norms = [] \n",
    "\n",
    "for epoch in range(NUM_EPOCHS):    \n",
    "    progress_bar = tqdm(train_loader, total=len(train_loader))\n",
    "    for i, (imgs, labels) in enumerate(progress_bar):\n",
    "        # using GPU\n",
    "        imgs, labels = imgs.to(device), labels.to(device)\n",
    "    \n",
    "        # forward pass\n",
    "        flattened_imgs = imgs.flatten(start_dim=1)\n",
    "        preds = model_opt(flattened_imgs)\n",
    "    \n",
    "        # computing error\n",
    "        loss = criterion_opt(preds, labels)\n",
    "        loss_list_opt.append(loss.item())\n",
    "\n",
    "        # computing accuracy\n",
    "        train_acc = (preds.argmax(dim=1) == labels).float().mean()\n",
    "        acc_list_opt.append(train_acc.item())\n",
    "\n",
    "        # removing accumulated gradients\n",
    "        optimizer_opt.zero_grad()\n",
    "    \n",
    "        # backprogating error to compute gradients\n",
    "        loss.backward()\n",
    "\n",
    "        #  calculating the norm of the gradients for the output layer\n",
    "        norm_grad = model_opt.layers[-1].weight.grad.norm()\n",
    "        norms.append(norm_grad.cpu())\n",
    "\n",
    "        # updating arameters\n",
    "        optimizer_opt.step()\n",
    "    \n",
    "        if(i % 100 == 0 or i == len(train_loader) - 1):\n",
    "            progress_bar.set_description(f\"Epoch {epoch + 1} Iter {i + 1}: loss {loss.item():.5f}. \")"
   ]
  },
  {
   "cell_type": "code",
   "execution_count": 49,
   "metadata": {},
   "outputs": [
    {
     "name": "stderr",
     "output_type": "stream",
     "text": [
      "100%|██████████| 10/10 [00:01<00:00,  8.13it/s]"
     ]
    },
    {
     "name": "stdout",
     "output_type": "stream",
     "text": [
      "Test accuracy: 87.79%\n"
     ]
    },
    {
     "name": "stderr",
     "output_type": "stream",
     "text": [
      "\n"
     ]
    }
   ],
   "source": [
    "n_correct_opt = 0\n",
    "\n",
    "y_pred_opt = [] # list of predictionsof the model\n",
    "y_true_opt = [] # list of true labels\n",
    "\n",
    "eval_loss_list = []\n",
    "\n",
    "with torch.no_grad():\n",
    "    progress_bar = tqdm(enumerate(eval_loader), total=len(eval_loader))\n",
    "    for i, (imgs, labels) in progress_bar: \n",
    "        #everything needs to be on the same device\n",
    "        imgs = imgs.to(device)\n",
    "        labels = labels.to(device)\n",
    "        y_true_opt.extend(labels.cpu().numpy()) # Save Truth\n",
    "        \n",
    "        # forward pass\n",
    "        flattened_imgs = imgs.flatten(start_dim=1)\n",
    "        preds = model_opt(flattened_imgs)\n",
    "\n",
    "        \n",
    "        \n",
    "        \n",
    "        pred_labels = torch.argmax(preds, dim=-1)\n",
    "        loss = criterion(preds, labels)\n",
    "        eval_loss_list.append(loss.item())\n",
    "\n",
    "        y_pred_opt.extend(pred_labels.cpu().numpy()) # Save Prediction\n",
    "        cur_correct = len(torch.where(pred_labels == labels)[0])\n",
    "        n_correct_opt = n_correct_opt + cur_correct\n",
    "\n",
    "accuracy_opt = n_correct_opt / len(test_dataset) * 100\n",
    "print(f\"Test accuracy: {round(accuracy_opt, 2)}%\")"
   ]
  },
  {
   "cell_type": "markdown",
   "metadata": {},
   "source": [
    "### Lets compare Confusion matrix of our model with the optimized one"
   ]
  },
  {
   "cell_type": "code",
   "execution_count": 51,
   "metadata": {},
   "outputs": [
    {
     "data": {
      "text/plain": [
       "<AxesSubplot:title={'center':'Optimized Model evaluation Confusion matrix'}>"
      ]
     },
     "execution_count": 51,
     "metadata": {},
     "output_type": "execute_result"
    },
    {
     "data": {
      "image/png": "[encoded data removed]",
      "text/plain": [
       "<Figure size 1872x1224 with 4 Axes>"
      ]
     },
     "metadata": {},
     "output_type": "display_data"
    }
   ],
   "source": [
    "cf_matrix_opt = confusion_matrix(y_true_opt, y_pred_opt)\n",
    "df_cm_opt = pd.DataFrame(cf_matrix_opt/np.sum(cf_matrix_opt) *10, index = [i for i in classes],\n",
    "                     columns = [i for i in classes])\n",
    "\n",
    "# Here we create a figure instance, and two subplots\n",
    "fig = plt.figure(figsize=(26, 17))\n",
    "\n",
    "ax1 = fig.add_subplot(221)\n",
    "ax1.set_title('Old Model evaluation Confusion matrix')\n",
    "ax2 = fig.add_subplot(222)\n",
    "ax2.set_title('Optimized Model evaluation Confusion matrix')\n",
    "# We use ax parameter to tell seaborn which subplot to use for this plot\n",
    "sn.heatmap(data=df_cm, annot=True, ax=ax1)\n",
    "sn.heatmap(data=df_cm_opt, annot=True, ax=ax2)\n",
    "\n"
   ]
  },
  {
   "cell_type": "markdown",
   "metadata": {},
   "source": [
    "We can see that the results of the optimized model are in general better, but with some exeptions. Classification of \"Shirt\" is now much better (49%->71). It has less false-positive results in other classes, but more false negetive classifications in \"T-shirt/top\". Classification of the items from category \"Pullover\" works less good."
   ]
  },
  {
   "cell_type": "markdown",
   "metadata": {},
   "source": [
    "### - Visualize the norm of the gradients for some parameters during training, i.e., how the error decreases for some parameters as the model learns"
   ]
  },
  {
   "cell_type": "markdown",
   "metadata": {},
   "source": [
    "Lets visualize the norms of gradienst of 10 output-neurons during the training.\n",
    "\n",
    "The values are collected during the training after every batch"
   ]
  },
  {
   "cell_type": "code",
   "execution_count": 52,
   "metadata": {},
   "outputs": [
    {
     "data": {
      "text/plain": [
       "[<matplotlib.lines.Line2D at 0x1971eaf1760>]"
      ]
     },
     "execution_count": 52,
     "metadata": {},
     "output_type": "execute_result"
    },
    {
     "data": {
      "image/png": "[encoded data removed]",
      "text/plain": [
       "<Figure size 576x396 with 1 Axes>"
      ]
     },
     "metadata": {},
     "output_type": "display_data"
    }
   ],
   "source": [
    "\n",
    "plt.plot(norms)"
   ]
  },
  {
   "cell_type": "markdown",
   "metadata": {},
   "source": [
    "We can see big pick at the beginnig, then it has small oscelations\n",
    "\n"
   ]
  },
  {
   "cell_type": "markdown",
   "metadata": {},
   "source": []
  }
 ],
 "metadata": {
  "kernelspec": {
   "display_name": "Python 3.8.12 ('cuda_lab')",
   "language": "python",
   "name": "python3"
  },
  "language_info": {
   "codemirror_mode": {
    "name": "ipython",
    "version": 3
   },
   "file_extension": ".py",
   "mimetype": "text/x-python",
   "name": "python",
   "nbconvert_exporter": "python",
   "pygments_lexer": "ipython3",
   "version": "3.8.12"
  },
  "orig_nbformat": 4,
  "vscode": {
   "interpreter": {
    "hash": "694a75713e5c89dd29bcc7590f60e0c14b229ee6352f0e76fedc50c9f94af289"
   }
  }
 },
 "nbformat": 4,
 "nbformat_minor": 2
}
