{
 "cells": [
  {
   "cell_type": "code",
   "execution_count": 11,
   "id": "f0d0daf9-5641-430f-85e9-3d86591ad68f",
   "metadata": {},
   "outputs": [],
   "source": [
    "import importlib\n",
    "import numpy as np\n",
    "import torch.utils.data\n",
    "import matplotlib.pyplot as plt\n",
    "from tqdm import tqdm_notebook as tqdm\n",
    "import torch.nn as nn\n",
    "from torch.autograd import Variable\n",
    "import torch\n",
    "from torchvision import datasets, transforms\n"
   ]
  },
  {
   "cell_type": "code",
   "execution_count": null,
   "id": "60ea7f56-8b81-4968-94aa-b1f8ae2a1157",
   "metadata": {},
   "outputs": [],
   "source": []
  },
  {
   "cell_type": "code",
   "execution_count": 12,
   "id": "9e5e29f7-100c-4a6d-b19a-4e1cf8af8c31",
   "metadata": {},
   "outputs": [],
   "source": [
    "device = torch.device(\"cuda\" if torch.cuda.is_available() else \"cpu\")"
   ]
  },
  {
   "cell_type": "code",
   "execution_count": 13,
   "id": "faa89fa9-9727-427e-a644-6af61032ec24",
   "metadata": {},
   "outputs": [],
   "source": [
    "def show_images(images):\n",
    "    images = torchvision.utils.make_grid(images)\n",
    "    show_image(images)\n",
    "\n",
    "\n",
    "def show_image(img):\n",
    "    plt.imshow(img.permute(1, 2, 0), cmap=\"gray\")\n",
    "    plt.show()"
   ]
  },
  {
   "cell_type": "code",
   "execution_count": 14,
   "id": "7cd03e50-a42d-4877-9643-cd5bf4bfebda",
   "metadata": {},
   "outputs": [],
   "source": [
    "class Flatten(nn.Module):\n",
    "    def forward(self, input):\n",
    "        return input.view(input.size(0), -1)\n",
    "\n",
    "class UnFlatten(nn.Module):\n",
    "    def forward(self, input, size=1024):\n",
    "        return input.view(input.size(0), 1024, 1, 1)\n",
    "\n",
    "class ConvVAE(nn.Module):\n",
    "    def __init__(\n",
    "        self,\n",
    "        image_channels=3,\n",
    "        input_dim=image_size,\n",
    "        h_dim=hidden_size,\n",
    "        latent_size=latent_size,\n",
    "    ):\n",
    "        super(ConvVAE, self).__init__()\n",
    "\n",
    "        self.encoder = nn.Sequential(\n",
    "            nn.Conv2d(image_channels, 32, 4, 2),\n",
    "            nn.LeakyReLU(0.2),\n",
    "            nn.Conv2d(32, 64, 4, 2),\n",
    "            nn.LeakyReLU(0.2),\n",
    "            nn.Conv2d(64, 128, 4, 2),\n",
    "            nn.LeakyReLU(0.2),\n",
    "            nn.Conv2d(128, 256, 4, 2),\n",
    "            nn.LeakyReLU(0.2),\n",
    "            Flatten(),\n",
    "        )\n",
    "        self.encoder_mean = nn.Linear(h_dim, latent_size)\n",
    "        self.encoder_logvar = nn.Linear(h_dim, latent_size)\n",
    "        self.fc = nn.Linear(latent_size, h_dim)\n",
    "        self.decoder = nn.Sequential(\n",
    "            UnFlatten(),\n",
    "            nn.ConvTranspose2d(h_dim, 128, 5, 2),\n",
    "            nn.ReLU(),\n",
    "            nn.ConvTranspose2d(128, 64, 5, 2),\n",
    "            nn.ReLU(),\n",
    "            nn.ConvTranspose2d(64, 32, 6, 2),\n",
    "            nn.ReLU(),\n",
    "            nn.ConvTranspose2d(32, image_channels, 6, 2),\n",
    "            nn.Sigmoid(),\n",
    "        )\n",
    "\n",
    "    def sample(self, log_var, mean):\n",
    "        std = torch.exp(0.5 * log_var)\n",
    "        eps = torch.randn_like(std)\n",
    "        return eps.mul(std).add_(mean)\n",
    "\n",
    "    def forward(self, x):\n",
    "        x = self.encoder(x)\n",
    "        log_var = self.encoder_logvar(x)\n",
    "        mean = self.encoder_mean(x)\n",
    "        z = self.sample(log_var, mean)\n",
    "        x = self.fc(z)\n",
    "        x = self.decoder(x)\n",
    "\n",
    "        return x, mean, log_var\n"
   ]
  },
  {
   "cell_type": "code",
   "execution_count": 15,
   "id": "c3d78fda-bf05-4d3b-9a3b-b4ce50082a5d",
   "metadata": {},
   "outputs": [
    {
     "name": "stdout",
     "output_type": "stream",
     "text": [
      "Using downloaded and verified file: ./train_32x32.mat\n",
      "Using downloaded and verified file: ./test_32x32.mat\n"
     ]
    },
    {
     "ename": "NameError",
     "evalue": "name 'DataLoader' is not defined",
     "output_type": "error",
     "traceback": [
      "\u001b[0;31m---------------------------------------------------------------------------\u001b[0m",
      "\u001b[0;31mNameError\u001b[0m                                 Traceback (most recent call last)",
      "\u001b[0;32m<ipython-input-15-d294c79ebf19>\u001b[0m in \u001b[0;36m<module>\u001b[0;34m\u001b[0m\n\u001b[1;32m     21\u001b[0m \u001b[0;34m\u001b[0m\u001b[0m\n\u001b[1;32m     22\u001b[0m \u001b[0;34m\u001b[0m\u001b[0m\n\u001b[0;32m---> 23\u001b[0;31m \u001b[0mtrainloader\u001b[0m \u001b[0;34m=\u001b[0m \u001b[0mDataLoader\u001b[0m\u001b[0;34m(\u001b[0m\u001b[0mtrain_data\u001b[0m\u001b[0;34m,\u001b[0m \u001b[0mbatch_size\u001b[0m\u001b[0;34m=\u001b[0m\u001b[0mbatch_size\u001b[0m\u001b[0;34m,\u001b[0m \u001b[0mshuffle\u001b[0m\u001b[0;34m=\u001b[0m\u001b[0;32mTrue\u001b[0m\u001b[0;34m,\u001b[0m \u001b[0mnum_workers\u001b[0m\u001b[0;34m=\u001b[0m\u001b[0;36m8\u001b[0m\u001b[0;34m)\u001b[0m\u001b[0;34m\u001b[0m\u001b[0;34m\u001b[0m\u001b[0m\n\u001b[0m\u001b[1;32m     24\u001b[0m \u001b[0mtestloader\u001b[0m \u001b[0;34m=\u001b[0m \u001b[0mDataLoader\u001b[0m\u001b[0;34m(\u001b[0m\u001b[0mtest_data\u001b[0m\u001b[0;34m,\u001b[0m \u001b[0mbatch_size\u001b[0m\u001b[0;34m=\u001b[0m\u001b[0mbatch_size\u001b[0m\u001b[0;34m,\u001b[0m \u001b[0mshuffle\u001b[0m\u001b[0;34m=\u001b[0m\u001b[0;32mTrue\u001b[0m\u001b[0;34m,\u001b[0m \u001b[0mnum_workers\u001b[0m\u001b[0;34m=\u001b[0m\u001b[0;36m8\u001b[0m\u001b[0;34m)\u001b[0m\u001b[0;34m\u001b[0m\u001b[0;34m\u001b[0m\u001b[0m\n\u001b[1;32m     25\u001b[0m \u001b[0;34m\u001b[0m\u001b[0m\n",
      "\u001b[0;31mNameError\u001b[0m: name 'DataLoader' is not defined"
     ]
    }
   ],
   "source": [
    "batch_size = 32  # number of inputs in each batch\n",
    "epochs = 10  # times to run the model on complete data\n",
    "lr = 1e-3  # learning rate\n",
    "train_loss = []\n",
    "\n",
    "image_size = 32  # dimension of the image\n",
    "hidden_size = 1024  # hidden dimension\n",
    "latent_size = 32  # latent vector dimension\n",
    "train_data = datasets.SVHN(\n",
    "    \".\",\n",
    "    split=\"train\",\n",
    "    download=True,\n",
    "    transform=transforms.Compose([transforms.Resize(64), transforms.ToTensor()]),\n",
    ")\n",
    "test_data = datasets.SVHN(\n",
    "    \".\",\n",
    "    split=\"test\",\n",
    "    download=True,\n",
    "    transform=transforms.Compose([transforms.Resize(64), transforms.ToTensor()]),\n",
    ")\n",
    "\n",
    "\n",
    "trainloader = DataLoader(train_data, batch_size=batch_size, shuffle=True, num_workers=8)\n",
    "testloader = DataLoader(test_data, batch_size=batch_size, shuffle=True, num_workers=8)\n",
    "\n",
    "vae = ConvVE().to(device)\n",
    "optimizer = optim.Adam(vae.parameters(), lr=lr)\n",
    "vae.train()\n",
    "for epoch in range(epochs):\n",
    "    for i, (images, _) in enumerate(trainloader):\n",
    "        images = images.to(device)\n",
    "        optimizer.zero_grad()\n",
    "        reconstructed_image, mean, log_var = vae(images)\n",
    "        CE = F.binary_cross_entropy(reconstructed_image, images, reduction=\"sum\")\n",
    "        KLD = -0.5 * torch.sum(1 + log_var - mean.pow(2) - log_var.exp())\n",
    "        loss = CE + KLD\n",
    "        loss.backward()\n",
    "        train_loss.append(loss.item())\n",
    "        optimizer.step()\n",
    "        if i % 100 == 0:\n",
    "            print(\"Loss:\")\n",
    "            print(loss.item() / len(images))"
   ]
  },
  {
   "cell_type": "code",
   "execution_count": null,
   "id": "96cac9f4-97b1-4f3b-9fce-ad8d17e5ce7c",
   "metadata": {},
   "outputs": [],
   "source": []
  },
  {
   "cell_type": "code",
   "execution_count": null,
   "id": "b5d41811-d090-4f8f-b0f4-517d73936d23",
   "metadata": {},
   "outputs": [],
   "source": []
  }
 ],
 "metadata": {
  "kernelspec": {
   "display_name": "Python 3",
   "language": "python",
   "name": "python3"
  },
  "language_info": {
   "codemirror_mode": {
    "name": "ipython",
    "version": 3
   },
   "file_extension": ".py",
   "mimetype": "text/x-python",
   "name": "python",
   "nbconvert_exporter": "python",
   "pygments_lexer": "ipython3",
   "version": "3.8.8"
  }
 },
 "nbformat": 4,
 "nbformat_minor": 5
}
